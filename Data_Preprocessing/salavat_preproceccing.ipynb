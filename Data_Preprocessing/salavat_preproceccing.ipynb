{
 "cells": [
  {
   "cell_type": "code",
   "execution_count": 10,
   "id": "initial_id",
   "metadata": {
    "collapsed": true,
    "ExecuteTime": {
     "end_time": "2023-10-15T12:20:53.317840900Z",
     "start_time": "2023-10-15T12:20:53.307873500Z"
    }
   },
   "outputs": [],
   "source": [
    "import pandas as pd\n",
    "import numpy as np\n",
    "import seaborn as sns\n",
    "import matplotlib.pyplot as plt"
   ]
  },
  {
   "cell_type": "code",
   "execution_count": 11,
   "outputs": [
    {
     "data": {
      "text/plain": "          Km      Vmax    id  activity      X     IR  pot2    ph  temp  dstr  \\\n0     0.0065    1.3763     1         1  2.757  1.071 -0.05  4.00  37.0     3   \n1     0.0554    0.2643     2         1  2.757  1.071 -0.05  4.00  37.0     3   \n2     0.0355     8.363     3         1  2.757  1.071 -0.05  4.00  37.0     3   \n3     0.2277    0.4382     4         1  2.757  1.071 -0.05  4.00  37.0     3   \n4     0.0173    1.0272     5         1  2.757  1.071 -0.05  4.00  37.0     3   \n...      ...       ...   ...       ...    ...    ...   ...   ...   ...   ...   \n1125   0.122  1.51E-06  1198         2  2.280  1.350  1.20  7.00  41.4     3   \n1126   0.027  0.000252  1199         2  2.280  1.350  1.20  3.00  33.0     1   \n1127   0.035  0.000177  1200         2  2.280  1.350  1.20  7.00  33.0     1   \n1128   0.163  4.08E-05  1201         2  1.937  0.853  0.78  4.00  42.4     1   \n1129   102.4    0.0022  1203         3  2.200  0.730  0.83  4.24  47.0     3   \n\n      ...  TPSA2    TPSA      XLogP  MaxEStateIndex.1  MaxEStateIndex.2  \\\n0     ...  40.50   37.30   6.500000          5.992739          6.000000   \n1     ...  40.50   37.30   6.500000          5.992739          6.000000   \n2     ...  52.00   37.30   6.500000          6.000000          5.992739   \n3     ...  52.00   37.30   6.500000          6.000000          5.992739   \n4     ...  40.50   37.30   6.500000          5.992739          6.000000   \n...   ...    ...     ...        ...               ...               ...   \n1125  ...  45.78  132.13  -1.700000          5.992739          0.000000   \n1126  ...  40.50  375.75 -10.800000          5.992739          0.000000   \n1127  ...  40.50  375.75 -10.800000          5.992739          0.000000   \n1128  ...  45.78   30.00  -1.600000          5.992739          0.000000   \n1129  ...  47.40  127.53  59.557822          0.000000          0.000000   \n\n      MinPartialCharge.1  MaxPartialCharge.1  BCUT2D_CHGLO       polym  \\\n0              -0.398299            0.037337     -1.987595    1.000007   \n1              -0.398299            0.037337     -1.987595    1.000007   \n2              -0.254557           -0.254557     -1.987595    1.000007   \n3              -0.254557           -0.254557     -1.987595    1.000007   \n4              -0.398299            0.037337     -1.987595    1.000007   \n...                  ...                 ...           ...         ...   \n1125           -0.398299            0.037337     -2.178395    0.999984   \n1126           -0.398299            0.037337     -2.441399    0.480347   \n1127           -0.398299            0.037337     -2.441399    0.480347   \n1128           -0.398299            0.037337     -2.379344    0.999951   \n1129            0.000000            0.000000     -2.133673  191.458847   \n\n      Complexity  \n0            0.0  \n1            0.0  \n2            0.0  \n3            0.0  \n4            0.0  \n...          ...  \n1125         0.0  \n1126       725.0  \n1127       725.0  \n1128         0.0  \n1129         0.0  \n\n[1130 rows x 48 columns]",
      "text/html": "<div>\n<style scoped>\n    .dataframe tbody tr th:only-of-type {\n        vertical-align: middle;\n    }\n\n    .dataframe tbody tr th {\n        vertical-align: top;\n    }\n\n    .dataframe thead th {\n        text-align: right;\n    }\n</style>\n<table border=\"1\" class=\"dataframe\">\n  <thead>\n    <tr style=\"text-align: right;\">\n      <th></th>\n      <th>Km</th>\n      <th>Vmax</th>\n      <th>id</th>\n      <th>activity</th>\n      <th>X</th>\n      <th>IR</th>\n      <th>pot2</th>\n      <th>ph</th>\n      <th>temp</th>\n      <th>dstr</th>\n      <th>...</th>\n      <th>TPSA2</th>\n      <th>TPSA</th>\n      <th>XLogP</th>\n      <th>MaxEStateIndex.1</th>\n      <th>MaxEStateIndex.2</th>\n      <th>MinPartialCharge.1</th>\n      <th>MaxPartialCharge.1</th>\n      <th>BCUT2D_CHGLO</th>\n      <th>polym</th>\n      <th>Complexity</th>\n    </tr>\n  </thead>\n  <tbody>\n    <tr>\n      <th>0</th>\n      <td>0.0065</td>\n      <td>1.3763</td>\n      <td>1</td>\n      <td>1</td>\n      <td>2.757</td>\n      <td>1.071</td>\n      <td>-0.05</td>\n      <td>4.00</td>\n      <td>37.0</td>\n      <td>3</td>\n      <td>...</td>\n      <td>40.50</td>\n      <td>37.30</td>\n      <td>6.500000</td>\n      <td>5.992739</td>\n      <td>6.000000</td>\n      <td>-0.398299</td>\n      <td>0.037337</td>\n      <td>-1.987595</td>\n      <td>1.000007</td>\n      <td>0.0</td>\n    </tr>\n    <tr>\n      <th>1</th>\n      <td>0.0554</td>\n      <td>0.2643</td>\n      <td>2</td>\n      <td>1</td>\n      <td>2.757</td>\n      <td>1.071</td>\n      <td>-0.05</td>\n      <td>4.00</td>\n      <td>37.0</td>\n      <td>3</td>\n      <td>...</td>\n      <td>40.50</td>\n      <td>37.30</td>\n      <td>6.500000</td>\n      <td>5.992739</td>\n      <td>6.000000</td>\n      <td>-0.398299</td>\n      <td>0.037337</td>\n      <td>-1.987595</td>\n      <td>1.000007</td>\n      <td>0.0</td>\n    </tr>\n    <tr>\n      <th>2</th>\n      <td>0.0355</td>\n      <td>8.363</td>\n      <td>3</td>\n      <td>1</td>\n      <td>2.757</td>\n      <td>1.071</td>\n      <td>-0.05</td>\n      <td>4.00</td>\n      <td>37.0</td>\n      <td>3</td>\n      <td>...</td>\n      <td>52.00</td>\n      <td>37.30</td>\n      <td>6.500000</td>\n      <td>6.000000</td>\n      <td>5.992739</td>\n      <td>-0.254557</td>\n      <td>-0.254557</td>\n      <td>-1.987595</td>\n      <td>1.000007</td>\n      <td>0.0</td>\n    </tr>\n    <tr>\n      <th>3</th>\n      <td>0.2277</td>\n      <td>0.4382</td>\n      <td>4</td>\n      <td>1</td>\n      <td>2.757</td>\n      <td>1.071</td>\n      <td>-0.05</td>\n      <td>4.00</td>\n      <td>37.0</td>\n      <td>3</td>\n      <td>...</td>\n      <td>52.00</td>\n      <td>37.30</td>\n      <td>6.500000</td>\n      <td>6.000000</td>\n      <td>5.992739</td>\n      <td>-0.254557</td>\n      <td>-0.254557</td>\n      <td>-1.987595</td>\n      <td>1.000007</td>\n      <td>0.0</td>\n    </tr>\n    <tr>\n      <th>4</th>\n      <td>0.0173</td>\n      <td>1.0272</td>\n      <td>5</td>\n      <td>1</td>\n      <td>2.757</td>\n      <td>1.071</td>\n      <td>-0.05</td>\n      <td>4.00</td>\n      <td>37.0</td>\n      <td>3</td>\n      <td>...</td>\n      <td>40.50</td>\n      <td>37.30</td>\n      <td>6.500000</td>\n      <td>5.992739</td>\n      <td>6.000000</td>\n      <td>-0.398299</td>\n      <td>0.037337</td>\n      <td>-1.987595</td>\n      <td>1.000007</td>\n      <td>0.0</td>\n    </tr>\n    <tr>\n      <th>...</th>\n      <td>...</td>\n      <td>...</td>\n      <td>...</td>\n      <td>...</td>\n      <td>...</td>\n      <td>...</td>\n      <td>...</td>\n      <td>...</td>\n      <td>...</td>\n      <td>...</td>\n      <td>...</td>\n      <td>...</td>\n      <td>...</td>\n      <td>...</td>\n      <td>...</td>\n      <td>...</td>\n      <td>...</td>\n      <td>...</td>\n      <td>...</td>\n      <td>...</td>\n      <td>...</td>\n    </tr>\n    <tr>\n      <th>1125</th>\n      <td>0.122</td>\n      <td>1.51E-06</td>\n      <td>1198</td>\n      <td>2</td>\n      <td>2.280</td>\n      <td>1.350</td>\n      <td>1.20</td>\n      <td>7.00</td>\n      <td>41.4</td>\n      <td>3</td>\n      <td>...</td>\n      <td>45.78</td>\n      <td>132.13</td>\n      <td>-1.700000</td>\n      <td>5.992739</td>\n      <td>0.000000</td>\n      <td>-0.398299</td>\n      <td>0.037337</td>\n      <td>-2.178395</td>\n      <td>0.999984</td>\n      <td>0.0</td>\n    </tr>\n    <tr>\n      <th>1126</th>\n      <td>0.027</td>\n      <td>0.000252</td>\n      <td>1199</td>\n      <td>2</td>\n      <td>2.280</td>\n      <td>1.350</td>\n      <td>1.20</td>\n      <td>3.00</td>\n      <td>33.0</td>\n      <td>1</td>\n      <td>...</td>\n      <td>40.50</td>\n      <td>375.75</td>\n      <td>-10.800000</td>\n      <td>5.992739</td>\n      <td>0.000000</td>\n      <td>-0.398299</td>\n      <td>0.037337</td>\n      <td>-2.441399</td>\n      <td>0.480347</td>\n      <td>725.0</td>\n    </tr>\n    <tr>\n      <th>1127</th>\n      <td>0.035</td>\n      <td>0.000177</td>\n      <td>1200</td>\n      <td>2</td>\n      <td>2.280</td>\n      <td>1.350</td>\n      <td>1.20</td>\n      <td>7.00</td>\n      <td>33.0</td>\n      <td>1</td>\n      <td>...</td>\n      <td>40.50</td>\n      <td>375.75</td>\n      <td>-10.800000</td>\n      <td>5.992739</td>\n      <td>0.000000</td>\n      <td>-0.398299</td>\n      <td>0.037337</td>\n      <td>-2.441399</td>\n      <td>0.480347</td>\n      <td>725.0</td>\n    </tr>\n    <tr>\n      <th>1128</th>\n      <td>0.163</td>\n      <td>4.08E-05</td>\n      <td>1201</td>\n      <td>2</td>\n      <td>1.937</td>\n      <td>0.853</td>\n      <td>0.78</td>\n      <td>4.00</td>\n      <td>42.4</td>\n      <td>1</td>\n      <td>...</td>\n      <td>45.78</td>\n      <td>30.00</td>\n      <td>-1.600000</td>\n      <td>5.992739</td>\n      <td>0.000000</td>\n      <td>-0.398299</td>\n      <td>0.037337</td>\n      <td>-2.379344</td>\n      <td>0.999951</td>\n      <td>0.0</td>\n    </tr>\n    <tr>\n      <th>1129</th>\n      <td>102.4</td>\n      <td>0.0022</td>\n      <td>1203</td>\n      <td>3</td>\n      <td>2.200</td>\n      <td>0.730</td>\n      <td>0.83</td>\n      <td>4.24</td>\n      <td>47.0</td>\n      <td>3</td>\n      <td>...</td>\n      <td>47.40</td>\n      <td>127.53</td>\n      <td>59.557822</td>\n      <td>0.000000</td>\n      <td>0.000000</td>\n      <td>0.000000</td>\n      <td>0.000000</td>\n      <td>-2.133673</td>\n      <td>191.458847</td>\n      <td>0.0</td>\n    </tr>\n  </tbody>\n</table>\n<p>1130 rows × 48 columns</p>\n</div>"
     },
     "execution_count": 11,
     "metadata": {},
     "output_type": "execute_result"
    }
   ],
   "source": [
    "df = pd.read_csv(\"../Data_Analysis/df_nnz.csv\")\n",
    "df"
   ],
   "metadata": {
    "collapsed": false,
    "ExecuteTime": {
     "end_time": "2023-10-15T12:20:53.347295100Z",
     "start_time": "2023-10-15T12:20:53.316843100Z"
    }
   },
   "id": "c275f9ff4c16c975"
  },
  {
   "cell_type": "code",
   "execution_count": 12,
   "outputs": [
    {
     "data": {
      "text/plain": "Complexity            0.801770\nVSA_EState4           0.797345\nEState_VSA6           0.771681\nSMR_VSA7              0.673451\nPEOE_VSA8             0.657522\nPEOE_VSA7             0.646903\nPEOE_VSA9             0.623009\nEState_VSA4           0.620354\nMinAbsEStateIndex     0.549558\nVSA_EState8           0.528319\nBCUT2D_CHGLO          0.508850\nBalabanJ              0.483186\npolym                 0.461947\nMinEStateIndex        0.459292\nTPSA                  0.454867\nXLogP                 0.452212\nComplexity1           0.447788\nSufrace               0.434513\nMinPartialCharge      0.429204\nKappa2                0.429204\nMolWt                 0.422124\nMcoat                 0.419469\nlgCconst              0.211504\nMaxEStateIndex.2      0.165487\nCconst                0.161062\nlgCmax                0.084071\nlgCmin                0.046903\nlgCcat                0.039823\nMaxPartialCharge.1    0.014159\nMaxEStateIndex.1      0.014159\nMinPartialCharge.1    0.014159\ncryst                 0.013274\nCmin                  0.005310\nlgvolume              0.001770\nTPSA2                 0.000000\nTPSA1                 0.000000\nph                    0.000000\nid                    0.000000\nactivity              0.000000\nX                     0.000000\nIR                    0.000000\ntemp                  0.000000\nVmax                  0.000000\npot2                  0.000000\nCcat                  0.000000\nCmax                  0.000000\ndstr                  0.000000\nKm                    0.000000\ndtype: float64"
     },
     "execution_count": 12,
     "metadata": {},
     "output_type": "execute_result"
    }
   ],
   "source": [
    "# Подсчет количества нулей в столбцах\n",
    "zero_counts = df.isin([0]).mean().sort_values(ascending = False)\n",
    "\n",
    "# Вывод в процентном соотношении\n",
    "zero_counts"
   ],
   "metadata": {
    "collapsed": false,
    "ExecuteTime": {
     "end_time": "2023-10-15T12:20:53.369092900Z",
     "start_time": "2023-10-15T12:20:53.347295100Z"
    }
   },
   "id": "45af9b2c2c9abdaa"
  },
  {
   "cell_type": "code",
   "execution_count": 16,
   "outputs": [],
   "source": [
    "from sklearn.datasets import load_iris\n",
    "from sklearn.neighbors import KNeighborsClassifier\n",
    "from sklearn import  metrics\n",
    "\n",
    "import matplotlib.pyplot as plt"
   ],
   "metadata": {
    "collapsed": false,
    "ExecuteTime": {
     "end_time": "2023-10-15T12:52:31.032149600Z",
     "start_time": "2023-10-15T12:52:31.019456600Z"
    }
   },
   "id": "77d696d1424c4692"
  },
  {
   "cell_type": "code",
   "execution_count": 17,
   "outputs": [],
   "source": [
    "iris = load_iris()"
   ],
   "metadata": {
    "collapsed": false,
    "ExecuteTime": {
     "end_time": "2023-10-15T12:52:35.732719200Z",
     "start_time": "2023-10-15T12:52:35.713783600Z"
    }
   },
   "id": "c34c2062e9844d6c"
  },
  {
   "cell_type": "code",
   "execution_count": 18,
   "outputs": [
    {
     "data": {
      "text/plain": "sklearn.utils._bunch.Bunch"
     },
     "execution_count": 18,
     "metadata": {},
     "output_type": "execute_result"
    }
   ],
   "source": [
    "type(iris)"
   ],
   "metadata": {
    "collapsed": false,
    "ExecuteTime": {
     "end_time": "2023-10-15T12:52:37.673544Z",
     "start_time": "2023-10-15T12:52:37.661579800Z"
    }
   },
   "id": "adb9b40050ecd10b"
  },
  {
   "cell_type": "code",
   "execution_count": 19,
   "outputs": [
    {
     "data": {
      "text/plain": "array([[5.1, 3.5, 1.4, 0.2],\n       [4.9, 3. , 1.4, 0.2],\n       [4.7, 3.2, 1.3, 0.2],\n       [4.6, 3.1, 1.5, 0.2],\n       [5. , 3.6, 1.4, 0.2],\n       [5.4, 3.9, 1.7, 0.4],\n       [4.6, 3.4, 1.4, 0.3],\n       [5. , 3.4, 1.5, 0.2],\n       [4.4, 2.9, 1.4, 0.2],\n       [4.9, 3.1, 1.5, 0.1],\n       [5.4, 3.7, 1.5, 0.2],\n       [4.8, 3.4, 1.6, 0.2],\n       [4.8, 3. , 1.4, 0.1],\n       [4.3, 3. , 1.1, 0.1],\n       [5.8, 4. , 1.2, 0.2],\n       [5.7, 4.4, 1.5, 0.4],\n       [5.4, 3.9, 1.3, 0.4],\n       [5.1, 3.5, 1.4, 0.3],\n       [5.7, 3.8, 1.7, 0.3],\n       [5.1, 3.8, 1.5, 0.3],\n       [5.4, 3.4, 1.7, 0.2],\n       [5.1, 3.7, 1.5, 0.4],\n       [4.6, 3.6, 1. , 0.2],\n       [5.1, 3.3, 1.7, 0.5],\n       [4.8, 3.4, 1.9, 0.2],\n       [5. , 3. , 1.6, 0.2],\n       [5. , 3.4, 1.6, 0.4],\n       [5.2, 3.5, 1.5, 0.2],\n       [5.2, 3.4, 1.4, 0.2],\n       [4.7, 3.2, 1.6, 0.2],\n       [4.8, 3.1, 1.6, 0.2],\n       [5.4, 3.4, 1.5, 0.4],\n       [5.2, 4.1, 1.5, 0.1],\n       [5.5, 4.2, 1.4, 0.2],\n       [4.9, 3.1, 1.5, 0.2],\n       [5. , 3.2, 1.2, 0.2],\n       [5.5, 3.5, 1.3, 0.2],\n       [4.9, 3.6, 1.4, 0.1],\n       [4.4, 3. , 1.3, 0.2],\n       [5.1, 3.4, 1.5, 0.2],\n       [5. , 3.5, 1.3, 0.3],\n       [4.5, 2.3, 1.3, 0.3],\n       [4.4, 3.2, 1.3, 0.2],\n       [5. , 3.5, 1.6, 0.6],\n       [5.1, 3.8, 1.9, 0.4],\n       [4.8, 3. , 1.4, 0.3],\n       [5.1, 3.8, 1.6, 0.2],\n       [4.6, 3.2, 1.4, 0.2],\n       [5.3, 3.7, 1.5, 0.2],\n       [5. , 3.3, 1.4, 0.2],\n       [7. , 3.2, 4.7, 1.4],\n       [6.4, 3.2, 4.5, 1.5],\n       [6.9, 3.1, 4.9, 1.5],\n       [5.5, 2.3, 4. , 1.3],\n       [6.5, 2.8, 4.6, 1.5],\n       [5.7, 2.8, 4.5, 1.3],\n       [6.3, 3.3, 4.7, 1.6],\n       [4.9, 2.4, 3.3, 1. ],\n       [6.6, 2.9, 4.6, 1.3],\n       [5.2, 2.7, 3.9, 1.4],\n       [5. , 2. , 3.5, 1. ],\n       [5.9, 3. , 4.2, 1.5],\n       [6. , 2.2, 4. , 1. ],\n       [6.1, 2.9, 4.7, 1.4],\n       [5.6, 2.9, 3.6, 1.3],\n       [6.7, 3.1, 4.4, 1.4],\n       [5.6, 3. , 4.5, 1.5],\n       [5.8, 2.7, 4.1, 1. ],\n       [6.2, 2.2, 4.5, 1.5],\n       [5.6, 2.5, 3.9, 1.1],\n       [5.9, 3.2, 4.8, 1.8],\n       [6.1, 2.8, 4. , 1.3],\n       [6.3, 2.5, 4.9, 1.5],\n       [6.1, 2.8, 4.7, 1.2],\n       [6.4, 2.9, 4.3, 1.3],\n       [6.6, 3. , 4.4, 1.4],\n       [6.8, 2.8, 4.8, 1.4],\n       [6.7, 3. , 5. , 1.7],\n       [6. , 2.9, 4.5, 1.5],\n       [5.7, 2.6, 3.5, 1. ],\n       [5.5, 2.4, 3.8, 1.1],\n       [5.5, 2.4, 3.7, 1. ],\n       [5.8, 2.7, 3.9, 1.2],\n       [6. , 2.7, 5.1, 1.6],\n       [5.4, 3. , 4.5, 1.5],\n       [6. , 3.4, 4.5, 1.6],\n       [6.7, 3.1, 4.7, 1.5],\n       [6.3, 2.3, 4.4, 1.3],\n       [5.6, 3. , 4.1, 1.3],\n       [5.5, 2.5, 4. , 1.3],\n       [5.5, 2.6, 4.4, 1.2],\n       [6.1, 3. , 4.6, 1.4],\n       [5.8, 2.6, 4. , 1.2],\n       [5. , 2.3, 3.3, 1. ],\n       [5.6, 2.7, 4.2, 1.3],\n       [5.7, 3. , 4.2, 1.2],\n       [5.7, 2.9, 4.2, 1.3],\n       [6.2, 2.9, 4.3, 1.3],\n       [5.1, 2.5, 3. , 1.1],\n       [5.7, 2.8, 4.1, 1.3],\n       [6.3, 3.3, 6. , 2.5],\n       [5.8, 2.7, 5.1, 1.9],\n       [7.1, 3. , 5.9, 2.1],\n       [6.3, 2.9, 5.6, 1.8],\n       [6.5, 3. , 5.8, 2.2],\n       [7.6, 3. , 6.6, 2.1],\n       [4.9, 2.5, 4.5, 1.7],\n       [7.3, 2.9, 6.3, 1.8],\n       [6.7, 2.5, 5.8, 1.8],\n       [7.2, 3.6, 6.1, 2.5],\n       [6.5, 3.2, 5.1, 2. ],\n       [6.4, 2.7, 5.3, 1.9],\n       [6.8, 3. , 5.5, 2.1],\n       [5.7, 2.5, 5. , 2. ],\n       [5.8, 2.8, 5.1, 2.4],\n       [6.4, 3.2, 5.3, 2.3],\n       [6.5, 3. , 5.5, 1.8],\n       [7.7, 3.8, 6.7, 2.2],\n       [7.7, 2.6, 6.9, 2.3],\n       [6. , 2.2, 5. , 1.5],\n       [6.9, 3.2, 5.7, 2.3],\n       [5.6, 2.8, 4.9, 2. ],\n       [7.7, 2.8, 6.7, 2. ],\n       [6.3, 2.7, 4.9, 1.8],\n       [6.7, 3.3, 5.7, 2.1],\n       [7.2, 3.2, 6. , 1.8],\n       [6.2, 2.8, 4.8, 1.8],\n       [6.1, 3. , 4.9, 1.8],\n       [6.4, 2.8, 5.6, 2.1],\n       [7.2, 3. , 5.8, 1.6],\n       [7.4, 2.8, 6.1, 1.9],\n       [7.9, 3.8, 6.4, 2. ],\n       [6.4, 2.8, 5.6, 2.2],\n       [6.3, 2.8, 5.1, 1.5],\n       [6.1, 2.6, 5.6, 1.4],\n       [7.7, 3. , 6.1, 2.3],\n       [6.3, 3.4, 5.6, 2.4],\n       [6.4, 3.1, 5.5, 1.8],\n       [6. , 3. , 4.8, 1.8],\n       [6.9, 3.1, 5.4, 2.1],\n       [6.7, 3.1, 5.6, 2.4],\n       [6.9, 3.1, 5.1, 2.3],\n       [5.8, 2.7, 5.1, 1.9],\n       [6.8, 3.2, 5.9, 2.3],\n       [6.7, 3.3, 5.7, 2.5],\n       [6.7, 3. , 5.2, 2.3],\n       [6.3, 2.5, 5. , 1.9],\n       [6.5, 3. , 5.2, 2. ],\n       [6.2, 3.4, 5.4, 2.3],\n       [5.9, 3. , 5.1, 1.8]])"
     },
     "execution_count": 19,
     "metadata": {},
     "output_type": "execute_result"
    }
   ],
   "source": [
    "iris.data"
   ],
   "metadata": {
    "collapsed": false,
    "ExecuteTime": {
     "end_time": "2023-10-15T12:53:02.869994600Z",
     "start_time": "2023-10-15T12:53:02.852055500Z"
    }
   },
   "id": "addb94c105068f26"
  }
 ],
 "metadata": {
  "kernelspec": {
   "display_name": "Python 3",
   "language": "python",
   "name": "python3"
  },
  "language_info": {
   "codemirror_mode": {
    "name": "ipython",
    "version": 2
   },
   "file_extension": ".py",
   "mimetype": "text/x-python",
   "name": "python",
   "nbconvert_exporter": "python",
   "pygments_lexer": "ipython2",
   "version": "2.7.6"
  }
 },
 "nbformat": 4,
 "nbformat_minor": 5
}
