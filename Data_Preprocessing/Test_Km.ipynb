{
 "cells": [
  {
   "cell_type": "code",
   "execution_count": 29,
   "id": "initial_id",
   "metadata": {
    "collapsed": true,
    "ExecuteTime": {
     "end_time": "2023-10-16T11:06:05.223090600Z",
     "start_time": "2023-10-16T11:06:05.178835900Z"
    }
   },
   "outputs": [],
   "source": [
    "import pandas as pd\n",
    "import numpy as np\n",
    "import seaborn as sns\n",
    "import matplotlib.pyplot as plt\n"
   ]
  },
  {
   "cell_type": "code",
   "execution_count": 30,
   "outputs": [
    {
     "data": {
      "text/plain": "          Km      Vmax    id  activity      X     IR  pot2    ph  temp  dstr  \\\n0     0.0065    1.3763     1         1  2.757  1.071 -0.05  4.00  37.0     3   \n1     0.0554    0.2643     2         1  2.757  1.071 -0.05  4.00  37.0     3   \n2     0.0355     8.363     3         1  2.757  1.071 -0.05  4.00  37.0     3   \n3     0.2277    0.4382     4         1  2.757  1.071 -0.05  4.00  37.0     3   \n4     0.0173    1.0272     5         1  2.757  1.071 -0.05  4.00  37.0     3   \n...      ...       ...   ...       ...    ...    ...   ...   ...   ...   ...   \n1125   0.122  1.51E-06  1198         2  2.280  1.350  1.20  7.00  41.4     3   \n1126   0.027  0.000252  1199         2  2.280  1.350  1.20  3.00  33.0     1   \n1127   0.035  0.000177  1200         2  2.280  1.350  1.20  7.00  33.0     1   \n1128   0.163  4.08E-05  1201         2  1.937  0.853  0.78  4.00  42.4     1   \n1129   102.4    0.0022  1203         3  2.200  0.730  0.83  4.24  47.0     3   \n\n      ...  TPSA2    TPSA      XLogP  MaxEStateIndex.1  MaxEStateIndex.2  \\\n0     ...  40.50   37.30   6.500000          5.992739          6.000000   \n1     ...  40.50   37.30   6.500000          5.992739          6.000000   \n2     ...  52.00   37.30   6.500000          6.000000          5.992739   \n3     ...  52.00   37.30   6.500000          6.000000          5.992739   \n4     ...  40.50   37.30   6.500000          5.992739          6.000000   \n...   ...    ...     ...        ...               ...               ...   \n1125  ...  45.78  132.13  -1.700000          5.992739          0.000000   \n1126  ...  40.50  375.75 -10.800000          5.992739          0.000000   \n1127  ...  40.50  375.75 -10.800000          5.992739          0.000000   \n1128  ...  45.78   30.00  -1.600000          5.992739          0.000000   \n1129  ...  47.40  127.53  59.557822          0.000000          0.000000   \n\n      MinPartialCharge.1  MaxPartialCharge.1  BCUT2D_CHGLO       polym  \\\n0              -0.398299            0.037337     -1.987595    1.000007   \n1              -0.398299            0.037337     -1.987595    1.000007   \n2              -0.254557           -0.254557     -1.987595    1.000007   \n3              -0.254557           -0.254557     -1.987595    1.000007   \n4              -0.398299            0.037337     -1.987595    1.000007   \n...                  ...                 ...           ...         ...   \n1125           -0.398299            0.037337     -2.178395    0.999984   \n1126           -0.398299            0.037337     -2.441399    0.480347   \n1127           -0.398299            0.037337     -2.441399    0.480347   \n1128           -0.398299            0.037337     -2.379344    0.999951   \n1129            0.000000            0.000000     -2.133673  191.458847   \n\n      Complexity  \n0            0.0  \n1            0.0  \n2            0.0  \n3            0.0  \n4            0.0  \n...          ...  \n1125         0.0  \n1126       725.0  \n1127       725.0  \n1128         0.0  \n1129         0.0  \n\n[1130 rows x 48 columns]",
      "text/html": "<div>\n<style scoped>\n    .dataframe tbody tr th:only-of-type {\n        vertical-align: middle;\n    }\n\n    .dataframe tbody tr th {\n        vertical-align: top;\n    }\n\n    .dataframe thead th {\n        text-align: right;\n    }\n</style>\n<table border=\"1\" class=\"dataframe\">\n  <thead>\n    <tr style=\"text-align: right;\">\n      <th></th>\n      <th>Km</th>\n      <th>Vmax</th>\n      <th>id</th>\n      <th>activity</th>\n      <th>X</th>\n      <th>IR</th>\n      <th>pot2</th>\n      <th>ph</th>\n      <th>temp</th>\n      <th>dstr</th>\n      <th>...</th>\n      <th>TPSA2</th>\n      <th>TPSA</th>\n      <th>XLogP</th>\n      <th>MaxEStateIndex.1</th>\n      <th>MaxEStateIndex.2</th>\n      <th>MinPartialCharge.1</th>\n      <th>MaxPartialCharge.1</th>\n      <th>BCUT2D_CHGLO</th>\n      <th>polym</th>\n      <th>Complexity</th>\n    </tr>\n  </thead>\n  <tbody>\n    <tr>\n      <th>0</th>\n      <td>0.0065</td>\n      <td>1.3763</td>\n      <td>1</td>\n      <td>1</td>\n      <td>2.757</td>\n      <td>1.071</td>\n      <td>-0.05</td>\n      <td>4.00</td>\n      <td>37.0</td>\n      <td>3</td>\n      <td>...</td>\n      <td>40.50</td>\n      <td>37.30</td>\n      <td>6.500000</td>\n      <td>5.992739</td>\n      <td>6.000000</td>\n      <td>-0.398299</td>\n      <td>0.037337</td>\n      <td>-1.987595</td>\n      <td>1.000007</td>\n      <td>0.0</td>\n    </tr>\n    <tr>\n      <th>1</th>\n      <td>0.0554</td>\n      <td>0.2643</td>\n      <td>2</td>\n      <td>1</td>\n      <td>2.757</td>\n      <td>1.071</td>\n      <td>-0.05</td>\n      <td>4.00</td>\n      <td>37.0</td>\n      <td>3</td>\n      <td>...</td>\n      <td>40.50</td>\n      <td>37.30</td>\n      <td>6.500000</td>\n      <td>5.992739</td>\n      <td>6.000000</td>\n      <td>-0.398299</td>\n      <td>0.037337</td>\n      <td>-1.987595</td>\n      <td>1.000007</td>\n      <td>0.0</td>\n    </tr>\n    <tr>\n      <th>2</th>\n      <td>0.0355</td>\n      <td>8.363</td>\n      <td>3</td>\n      <td>1</td>\n      <td>2.757</td>\n      <td>1.071</td>\n      <td>-0.05</td>\n      <td>4.00</td>\n      <td>37.0</td>\n      <td>3</td>\n      <td>...</td>\n      <td>52.00</td>\n      <td>37.30</td>\n      <td>6.500000</td>\n      <td>6.000000</td>\n      <td>5.992739</td>\n      <td>-0.254557</td>\n      <td>-0.254557</td>\n      <td>-1.987595</td>\n      <td>1.000007</td>\n      <td>0.0</td>\n    </tr>\n    <tr>\n      <th>3</th>\n      <td>0.2277</td>\n      <td>0.4382</td>\n      <td>4</td>\n      <td>1</td>\n      <td>2.757</td>\n      <td>1.071</td>\n      <td>-0.05</td>\n      <td>4.00</td>\n      <td>37.0</td>\n      <td>3</td>\n      <td>...</td>\n      <td>52.00</td>\n      <td>37.30</td>\n      <td>6.500000</td>\n      <td>6.000000</td>\n      <td>5.992739</td>\n      <td>-0.254557</td>\n      <td>-0.254557</td>\n      <td>-1.987595</td>\n      <td>1.000007</td>\n      <td>0.0</td>\n    </tr>\n    <tr>\n      <th>4</th>\n      <td>0.0173</td>\n      <td>1.0272</td>\n      <td>5</td>\n      <td>1</td>\n      <td>2.757</td>\n      <td>1.071</td>\n      <td>-0.05</td>\n      <td>4.00</td>\n      <td>37.0</td>\n      <td>3</td>\n      <td>...</td>\n      <td>40.50</td>\n      <td>37.30</td>\n      <td>6.500000</td>\n      <td>5.992739</td>\n      <td>6.000000</td>\n      <td>-0.398299</td>\n      <td>0.037337</td>\n      <td>-1.987595</td>\n      <td>1.000007</td>\n      <td>0.0</td>\n    </tr>\n    <tr>\n      <th>...</th>\n      <td>...</td>\n      <td>...</td>\n      <td>...</td>\n      <td>...</td>\n      <td>...</td>\n      <td>...</td>\n      <td>...</td>\n      <td>...</td>\n      <td>...</td>\n      <td>...</td>\n      <td>...</td>\n      <td>...</td>\n      <td>...</td>\n      <td>...</td>\n      <td>...</td>\n      <td>...</td>\n      <td>...</td>\n      <td>...</td>\n      <td>...</td>\n      <td>...</td>\n      <td>...</td>\n    </tr>\n    <tr>\n      <th>1125</th>\n      <td>0.122</td>\n      <td>1.51E-06</td>\n      <td>1198</td>\n      <td>2</td>\n      <td>2.280</td>\n      <td>1.350</td>\n      <td>1.20</td>\n      <td>7.00</td>\n      <td>41.4</td>\n      <td>3</td>\n      <td>...</td>\n      <td>45.78</td>\n      <td>132.13</td>\n      <td>-1.700000</td>\n      <td>5.992739</td>\n      <td>0.000000</td>\n      <td>-0.398299</td>\n      <td>0.037337</td>\n      <td>-2.178395</td>\n      <td>0.999984</td>\n      <td>0.0</td>\n    </tr>\n    <tr>\n      <th>1126</th>\n      <td>0.027</td>\n      <td>0.000252</td>\n      <td>1199</td>\n      <td>2</td>\n      <td>2.280</td>\n      <td>1.350</td>\n      <td>1.20</td>\n      <td>3.00</td>\n      <td>33.0</td>\n      <td>1</td>\n      <td>...</td>\n      <td>40.50</td>\n      <td>375.75</td>\n      <td>-10.800000</td>\n      <td>5.992739</td>\n      <td>0.000000</td>\n      <td>-0.398299</td>\n      <td>0.037337</td>\n      <td>-2.441399</td>\n      <td>0.480347</td>\n      <td>725.0</td>\n    </tr>\n    <tr>\n      <th>1127</th>\n      <td>0.035</td>\n      <td>0.000177</td>\n      <td>1200</td>\n      <td>2</td>\n      <td>2.280</td>\n      <td>1.350</td>\n      <td>1.20</td>\n      <td>7.00</td>\n      <td>33.0</td>\n      <td>1</td>\n      <td>...</td>\n      <td>40.50</td>\n      <td>375.75</td>\n      <td>-10.800000</td>\n      <td>5.992739</td>\n      <td>0.000000</td>\n      <td>-0.398299</td>\n      <td>0.037337</td>\n      <td>-2.441399</td>\n      <td>0.480347</td>\n      <td>725.0</td>\n    </tr>\n    <tr>\n      <th>1128</th>\n      <td>0.163</td>\n      <td>4.08E-05</td>\n      <td>1201</td>\n      <td>2</td>\n      <td>1.937</td>\n      <td>0.853</td>\n      <td>0.78</td>\n      <td>4.00</td>\n      <td>42.4</td>\n      <td>1</td>\n      <td>...</td>\n      <td>45.78</td>\n      <td>30.00</td>\n      <td>-1.600000</td>\n      <td>5.992739</td>\n      <td>0.000000</td>\n      <td>-0.398299</td>\n      <td>0.037337</td>\n      <td>-2.379344</td>\n      <td>0.999951</td>\n      <td>0.0</td>\n    </tr>\n    <tr>\n      <th>1129</th>\n      <td>102.4</td>\n      <td>0.0022</td>\n      <td>1203</td>\n      <td>3</td>\n      <td>2.200</td>\n      <td>0.730</td>\n      <td>0.83</td>\n      <td>4.24</td>\n      <td>47.0</td>\n      <td>3</td>\n      <td>...</td>\n      <td>47.40</td>\n      <td>127.53</td>\n      <td>59.557822</td>\n      <td>0.000000</td>\n      <td>0.000000</td>\n      <td>0.000000</td>\n      <td>0.000000</td>\n      <td>-2.133673</td>\n      <td>191.458847</td>\n      <td>0.0</td>\n    </tr>\n  </tbody>\n</table>\n<p>1130 rows × 48 columns</p>\n</div>"
     },
     "execution_count": 30,
     "metadata": {},
     "output_type": "execute_result"
    }
   ],
   "source": [
    "df = pd.read_csv(\"../Data_Analysis/df_nnz.csv\")\n",
    "df"
   ],
   "metadata": {
    "collapsed": false,
    "ExecuteTime": {
     "end_time": "2023-10-16T11:06:05.241059200Z",
     "start_time": "2023-10-16T11:06:05.179338800Z"
    }
   },
   "id": "932f20cc7041f670"
  },
  {
   "cell_type": "code",
   "execution_count": 31,
   "outputs": [],
   "source": [
    "zero_rows = df.loc[(df == 0).any(axis=1)]"
   ],
   "metadata": {
    "collapsed": false,
    "ExecuteTime": {
     "end_time": "2023-10-16T11:06:05.241059200Z",
     "start_time": "2023-10-16T11:06:05.205134300Z"
    }
   },
   "id": "f2336f876791f882"
  },
  {
   "cell_type": "code",
   "execution_count": 32,
   "outputs": [
    {
     "data": {
      "text/plain": "          Km      Vmax    id  activity      X     IR  pot2    ph  temp  dstr  \\\n0     0.0065    1.3763     1         1  2.757  1.071 -0.05  4.00  37.0     3   \n1     0.0554    0.2643     2         1  2.757  1.071 -0.05  4.00  37.0     3   \n2     0.0355     8.363     3         1  2.757  1.071 -0.05  4.00  37.0     3   \n3     0.2277    0.4382     4         1  2.757  1.071 -0.05  4.00  37.0     3   \n4     0.0173    1.0272     5         1  2.757  1.071 -0.05  4.00  37.0     3   \n...      ...       ...   ...       ...    ...    ...   ...   ...   ...   ...   \n1125   0.122  1.51E-06  1198         2  2.280  1.350  1.20  7.00  41.4     3   \n1126   0.027  0.000252  1199         2  2.280  1.350  1.20  3.00  33.0     1   \n1127   0.035  0.000177  1200         2  2.280  1.350  1.20  7.00  33.0     1   \n1128   0.163  4.08E-05  1201         2  1.937  0.853  0.78  4.00  42.4     1   \n1129   102.4    0.0022  1203         3  2.200  0.730  0.83  4.24  47.0     3   \n\n      ...  TPSA2    TPSA      XLogP  MaxEStateIndex.1  MaxEStateIndex.2  \\\n0     ...  40.50   37.30   6.500000          5.992739          6.000000   \n1     ...  40.50   37.30   6.500000          5.992739          6.000000   \n2     ...  52.00   37.30   6.500000          6.000000          5.992739   \n3     ...  52.00   37.30   6.500000          6.000000          5.992739   \n4     ...  40.50   37.30   6.500000          5.992739          6.000000   \n...   ...    ...     ...        ...               ...               ...   \n1125  ...  45.78  132.13  -1.700000          5.992739          0.000000   \n1126  ...  40.50  375.75 -10.800000          5.992739          0.000000   \n1127  ...  40.50  375.75 -10.800000          5.992739          0.000000   \n1128  ...  45.78   30.00  -1.600000          5.992739          0.000000   \n1129  ...  47.40  127.53  59.557822          0.000000          0.000000   \n\n      MinPartialCharge.1  MaxPartialCharge.1  BCUT2D_CHGLO       polym  \\\n0              -0.398299            0.037337     -1.987595    1.000007   \n1              -0.398299            0.037337     -1.987595    1.000007   \n2              -0.254557           -0.254557     -1.987595    1.000007   \n3              -0.254557           -0.254557     -1.987595    1.000007   \n4              -0.398299            0.037337     -1.987595    1.000007   \n...                  ...                 ...           ...         ...   \n1125           -0.398299            0.037337     -2.178395    0.999984   \n1126           -0.398299            0.037337     -2.441399    0.480347   \n1127           -0.398299            0.037337     -2.441399    0.480347   \n1128           -0.398299            0.037337     -2.379344    0.999951   \n1129            0.000000            0.000000     -2.133673  191.458847   \n\n      Complexity  \n0            0.0  \n1            0.0  \n2            0.0  \n3            0.0  \n4            0.0  \n...          ...  \n1125         0.0  \n1126       725.0  \n1127       725.0  \n1128         0.0  \n1129         0.0  \n\n[1126 rows x 48 columns]",
      "text/html": "<div>\n<style scoped>\n    .dataframe tbody tr th:only-of-type {\n        vertical-align: middle;\n    }\n\n    .dataframe tbody tr th {\n        vertical-align: top;\n    }\n\n    .dataframe thead th {\n        text-align: right;\n    }\n</style>\n<table border=\"1\" class=\"dataframe\">\n  <thead>\n    <tr style=\"text-align: right;\">\n      <th></th>\n      <th>Km</th>\n      <th>Vmax</th>\n      <th>id</th>\n      <th>activity</th>\n      <th>X</th>\n      <th>IR</th>\n      <th>pot2</th>\n      <th>ph</th>\n      <th>temp</th>\n      <th>dstr</th>\n      <th>...</th>\n      <th>TPSA2</th>\n      <th>TPSA</th>\n      <th>XLogP</th>\n      <th>MaxEStateIndex.1</th>\n      <th>MaxEStateIndex.2</th>\n      <th>MinPartialCharge.1</th>\n      <th>MaxPartialCharge.1</th>\n      <th>BCUT2D_CHGLO</th>\n      <th>polym</th>\n      <th>Complexity</th>\n    </tr>\n  </thead>\n  <tbody>\n    <tr>\n      <th>0</th>\n      <td>0.0065</td>\n      <td>1.3763</td>\n      <td>1</td>\n      <td>1</td>\n      <td>2.757</td>\n      <td>1.071</td>\n      <td>-0.05</td>\n      <td>4.00</td>\n      <td>37.0</td>\n      <td>3</td>\n      <td>...</td>\n      <td>40.50</td>\n      <td>37.30</td>\n      <td>6.500000</td>\n      <td>5.992739</td>\n      <td>6.000000</td>\n      <td>-0.398299</td>\n      <td>0.037337</td>\n      <td>-1.987595</td>\n      <td>1.000007</td>\n      <td>0.0</td>\n    </tr>\n    <tr>\n      <th>1</th>\n      <td>0.0554</td>\n      <td>0.2643</td>\n      <td>2</td>\n      <td>1</td>\n      <td>2.757</td>\n      <td>1.071</td>\n      <td>-0.05</td>\n      <td>4.00</td>\n      <td>37.0</td>\n      <td>3</td>\n      <td>...</td>\n      <td>40.50</td>\n      <td>37.30</td>\n      <td>6.500000</td>\n      <td>5.992739</td>\n      <td>6.000000</td>\n      <td>-0.398299</td>\n      <td>0.037337</td>\n      <td>-1.987595</td>\n      <td>1.000007</td>\n      <td>0.0</td>\n    </tr>\n    <tr>\n      <th>2</th>\n      <td>0.0355</td>\n      <td>8.363</td>\n      <td>3</td>\n      <td>1</td>\n      <td>2.757</td>\n      <td>1.071</td>\n      <td>-0.05</td>\n      <td>4.00</td>\n      <td>37.0</td>\n      <td>3</td>\n      <td>...</td>\n      <td>52.00</td>\n      <td>37.30</td>\n      <td>6.500000</td>\n      <td>6.000000</td>\n      <td>5.992739</td>\n      <td>-0.254557</td>\n      <td>-0.254557</td>\n      <td>-1.987595</td>\n      <td>1.000007</td>\n      <td>0.0</td>\n    </tr>\n    <tr>\n      <th>3</th>\n      <td>0.2277</td>\n      <td>0.4382</td>\n      <td>4</td>\n      <td>1</td>\n      <td>2.757</td>\n      <td>1.071</td>\n      <td>-0.05</td>\n      <td>4.00</td>\n      <td>37.0</td>\n      <td>3</td>\n      <td>...</td>\n      <td>52.00</td>\n      <td>37.30</td>\n      <td>6.500000</td>\n      <td>6.000000</td>\n      <td>5.992739</td>\n      <td>-0.254557</td>\n      <td>-0.254557</td>\n      <td>-1.987595</td>\n      <td>1.000007</td>\n      <td>0.0</td>\n    </tr>\n    <tr>\n      <th>4</th>\n      <td>0.0173</td>\n      <td>1.0272</td>\n      <td>5</td>\n      <td>1</td>\n      <td>2.757</td>\n      <td>1.071</td>\n      <td>-0.05</td>\n      <td>4.00</td>\n      <td>37.0</td>\n      <td>3</td>\n      <td>...</td>\n      <td>40.50</td>\n      <td>37.30</td>\n      <td>6.500000</td>\n      <td>5.992739</td>\n      <td>6.000000</td>\n      <td>-0.398299</td>\n      <td>0.037337</td>\n      <td>-1.987595</td>\n      <td>1.000007</td>\n      <td>0.0</td>\n    </tr>\n    <tr>\n      <th>...</th>\n      <td>...</td>\n      <td>...</td>\n      <td>...</td>\n      <td>...</td>\n      <td>...</td>\n      <td>...</td>\n      <td>...</td>\n      <td>...</td>\n      <td>...</td>\n      <td>...</td>\n      <td>...</td>\n      <td>...</td>\n      <td>...</td>\n      <td>...</td>\n      <td>...</td>\n      <td>...</td>\n      <td>...</td>\n      <td>...</td>\n      <td>...</td>\n      <td>...</td>\n      <td>...</td>\n    </tr>\n    <tr>\n      <th>1125</th>\n      <td>0.122</td>\n      <td>1.51E-06</td>\n      <td>1198</td>\n      <td>2</td>\n      <td>2.280</td>\n      <td>1.350</td>\n      <td>1.20</td>\n      <td>7.00</td>\n      <td>41.4</td>\n      <td>3</td>\n      <td>...</td>\n      <td>45.78</td>\n      <td>132.13</td>\n      <td>-1.700000</td>\n      <td>5.992739</td>\n      <td>0.000000</td>\n      <td>-0.398299</td>\n      <td>0.037337</td>\n      <td>-2.178395</td>\n      <td>0.999984</td>\n      <td>0.0</td>\n    </tr>\n    <tr>\n      <th>1126</th>\n      <td>0.027</td>\n      <td>0.000252</td>\n      <td>1199</td>\n      <td>2</td>\n      <td>2.280</td>\n      <td>1.350</td>\n      <td>1.20</td>\n      <td>3.00</td>\n      <td>33.0</td>\n      <td>1</td>\n      <td>...</td>\n      <td>40.50</td>\n      <td>375.75</td>\n      <td>-10.800000</td>\n      <td>5.992739</td>\n      <td>0.000000</td>\n      <td>-0.398299</td>\n      <td>0.037337</td>\n      <td>-2.441399</td>\n      <td>0.480347</td>\n      <td>725.0</td>\n    </tr>\n    <tr>\n      <th>1127</th>\n      <td>0.035</td>\n      <td>0.000177</td>\n      <td>1200</td>\n      <td>2</td>\n      <td>2.280</td>\n      <td>1.350</td>\n      <td>1.20</td>\n      <td>7.00</td>\n      <td>33.0</td>\n      <td>1</td>\n      <td>...</td>\n      <td>40.50</td>\n      <td>375.75</td>\n      <td>-10.800000</td>\n      <td>5.992739</td>\n      <td>0.000000</td>\n      <td>-0.398299</td>\n      <td>0.037337</td>\n      <td>-2.441399</td>\n      <td>0.480347</td>\n      <td>725.0</td>\n    </tr>\n    <tr>\n      <th>1128</th>\n      <td>0.163</td>\n      <td>4.08E-05</td>\n      <td>1201</td>\n      <td>2</td>\n      <td>1.937</td>\n      <td>0.853</td>\n      <td>0.78</td>\n      <td>4.00</td>\n      <td>42.4</td>\n      <td>1</td>\n      <td>...</td>\n      <td>45.78</td>\n      <td>30.00</td>\n      <td>-1.600000</td>\n      <td>5.992739</td>\n      <td>0.000000</td>\n      <td>-0.398299</td>\n      <td>0.037337</td>\n      <td>-2.379344</td>\n      <td>0.999951</td>\n      <td>0.0</td>\n    </tr>\n    <tr>\n      <th>1129</th>\n      <td>102.4</td>\n      <td>0.0022</td>\n      <td>1203</td>\n      <td>3</td>\n      <td>2.200</td>\n      <td>0.730</td>\n      <td>0.83</td>\n      <td>4.24</td>\n      <td>47.0</td>\n      <td>3</td>\n      <td>...</td>\n      <td>47.40</td>\n      <td>127.53</td>\n      <td>59.557822</td>\n      <td>0.000000</td>\n      <td>0.000000</td>\n      <td>0.000000</td>\n      <td>0.000000</td>\n      <td>-2.133673</td>\n      <td>191.458847</td>\n      <td>0.0</td>\n    </tr>\n  </tbody>\n</table>\n<p>1126 rows × 48 columns</p>\n</div>"
     },
     "execution_count": 32,
     "metadata": {},
     "output_type": "execute_result"
    }
   ],
   "source": [
    "zero_rows"
   ],
   "metadata": {
    "collapsed": false,
    "ExecuteTime": {
     "end_time": "2023-10-16T11:06:05.241059200Z",
     "start_time": "2023-10-16T11:06:05.209063200Z"
    }
   },
   "id": "6ebab68bd0ca82c7"
  },
  {
   "cell_type": "code",
   "execution_count": 33,
   "outputs": [
    {
     "data": {
      "text/plain": "count    1130.000000\nmean      128.816550\nstd       477.761816\nmin         0.000000\n25%         0.100000\n50%         0.830000\n75%        16.925000\nmax      7500.000000\nName: Cconst, dtype: float64"
     },
     "execution_count": 33,
     "metadata": {},
     "output_type": "execute_result"
    }
   ],
   "source": [
    "column_description = df['Cconst'].describe()\n",
    "column_description"
   ],
   "metadata": {
    "collapsed": false,
    "ExecuteTime": {
     "end_time": "2023-10-16T11:06:05.241059200Z",
     "start_time": "2023-10-16T11:06:05.223090600Z"
    }
   },
   "id": "638e13466cdcc564"
  },
  {
   "cell_type": "code",
   "execution_count": 34,
   "outputs": [],
   "source": [
    "df['Cconst'] = df['Cconst'].replace(0, np.nan)"
   ],
   "metadata": {
    "collapsed": false,
    "ExecuteTime": {
     "end_time": "2023-10-16T11:06:05.241059200Z",
     "start_time": "2023-10-16T11:06:05.229195100Z"
    }
   },
   "id": "3db3968e99099137"
  },
  {
   "cell_type": "code",
   "execution_count": 35,
   "outputs": [],
   "source": [
    "column_description = df['Cconst'].describe()"
   ],
   "metadata": {
    "collapsed": false,
    "ExecuteTime": {
     "end_time": "2023-10-16T11:06:05.241059200Z",
     "start_time": "2023-10-16T11:06:05.232911400Z"
    }
   },
   "id": "2c166377190edb0a"
  },
  {
   "cell_type": "code",
   "execution_count": 36,
   "outputs": [
    {
     "data": {
      "text/plain": "count     948.000000\nmean      153.547154\nstd       517.998716\nmin         0.010000\n25%         0.500000\n50%         1.825000\n75%        40.000000\nmax      7500.000000\nName: Cconst, dtype: float64"
     },
     "execution_count": 36,
     "metadata": {},
     "output_type": "execute_result"
    }
   ],
   "source": [
    "column_description"
   ],
   "metadata": {
    "collapsed": false,
    "ExecuteTime": {
     "end_time": "2023-10-16T11:06:05.241059200Z",
     "start_time": "2023-10-16T11:06:05.237127900Z"
    }
   },
   "id": "7882ec34311acc0b"
  },
  {
   "cell_type": "code",
   "execution_count": 37,
   "outputs": [],
   "source": [
    "from sklearn.impute import KNNImputer"
   ],
   "metadata": {
    "collapsed": false,
    "ExecuteTime": {
     "end_time": "2023-10-16T11:06:05.944713100Z",
     "start_time": "2023-10-16T11:06:05.241059200Z"
    }
   },
   "id": "b36b96baa629cad7"
  },
  {
   "cell_type": "code",
   "execution_count": 38,
   "outputs": [],
   "source": [
    "selected_column = 'Cconst'"
   ],
   "metadata": {
    "collapsed": false,
    "ExecuteTime": {
     "end_time": "2023-10-16T11:06:05.948393600Z",
     "start_time": "2023-10-16T11:06:05.945895700Z"
    }
   },
   "id": "baf4dd5fee02c4d8"
  },
  {
   "cell_type": "code",
   "execution_count": 39,
   "outputs": [],
   "source": [
    "imputer = KNNImputer(n_neighbors=2)"
   ],
   "metadata": {
    "collapsed": false,
    "ExecuteTime": {
     "end_time": "2023-10-16T11:06:05.951677500Z",
     "start_time": "2023-10-16T11:06:05.948393600Z"
    }
   },
   "id": "52a0dac739da23e4"
  },
  {
   "cell_type": "code",
   "execution_count": 40,
   "outputs": [],
   "source": [
    "df[selected_column] = imputer.fit_transform(df[[selected_column]])"
   ],
   "metadata": {
    "collapsed": false,
    "ExecuteTime": {
     "end_time": "2023-10-16T11:06:31.328926300Z",
     "start_time": "2023-10-16T11:06:31.319538200Z"
    }
   },
   "id": "a5a1647616fabcf0"
  },
  {
   "cell_type": "code",
   "execution_count": 41,
   "outputs": [
    {
     "data": {
      "text/plain": "count    1130.000000\nmean      153.547154\nstd       474.413132\nmin         0.010000\n25%         0.727500\n50%         6.000000\n75%       153.547154\nmax      7500.000000\nName: Cconst, dtype: float64"
     },
     "execution_count": 41,
     "metadata": {},
     "output_type": "execute_result"
    }
   ],
   "source": [
    "column_description = df['Cconst'].describe()\n",
    "column_description"
   ],
   "metadata": {
    "collapsed": false,
    "ExecuteTime": {
     "end_time": "2023-10-16T11:07:04.791991Z",
     "start_time": "2023-10-16T11:07:04.778836800Z"
    }
   },
   "id": "86e2dc9d4a3de39d"
  },
  {
   "cell_type": "code",
   "execution_count": 42,
   "outputs": [
    {
     "data": {
      "text/plain": "Cconst\n153.547154     182\n0.800000        95\n1.000000        60\n10.000000       59\n0.100000        53\n              ... \n0.680000         1\n1045.000000      1\n1.270000         1\n17.000000        1\n0.350000         1\nName: count, Length: 131, dtype: int64"
     },
     "execution_count": 42,
     "metadata": {},
     "output_type": "execute_result"
    }
   ],
   "source": [
    "df['Cconst'].value_counts()"
   ],
   "metadata": {
    "collapsed": false,
    "ExecuteTime": {
     "end_time": "2023-10-16T11:08:59.408507300Z",
     "start_time": "2023-10-16T11:08:59.402018800Z"
    }
   },
   "id": "4a83b24ac37d55f0"
  }
 ],
 "metadata": {
  "kernelspec": {
   "display_name": "Python 3",
   "language": "python",
   "name": "python3"
  },
  "language_info": {
   "codemirror_mode": {
    "name": "ipython",
    "version": 2
   },
   "file_extension": ".py",
   "mimetype": "text/x-python",
   "name": "python",
   "nbconvert_exporter": "python",
   "pygments_lexer": "ipython2",
   "version": "2.7.6"
  }
 },
 "nbformat": 4,
 "nbformat_minor": 5
}
