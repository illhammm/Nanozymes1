{
 "cells": [
  {
   "cell_type": "code",
   "execution_count": 2,
   "id": "085543bb",
   "metadata": {
    "ExecuteTime": {
     "end_time": "2023-10-15T12:16:09.236622500Z",
     "start_time": "2023-10-15T12:16:09.178812400Z"
    }
   },
   "outputs": [],
   "source": [
    "import pandas as pd\n",
    "import numpy as np\n",
    "import seaborn as sns\n",
    "import matplotlib.pyplot as plt"
   ]
  },
  {
   "cell_type": "code",
   "execution_count": 3,
   "id": "a98f320e",
   "metadata": {
    "ExecuteTime": {
     "end_time": "2023-10-15T12:16:09.274866Z",
     "start_time": "2023-10-15T12:16:09.183796Z"
    }
   },
   "outputs": [],
   "source": [
    "df = pd.read_csv(\"../Data_Analysis/df_nnz.csv\")"
   ]
  },
  {
   "cell_type": "code",
   "execution_count": 4,
   "id": "d05f14ff",
   "metadata": {
    "ExecuteTime": {
     "end_time": "2023-10-15T12:16:09.277855800Z",
     "start_time": "2023-10-15T12:16:09.216689400Z"
    }
   },
   "outputs": [
    {
     "data": {
      "text/plain": "          Km      Vmax    id  activity      X     IR  pot2    ph  temp  dstr  \\\n0     0.0065    1.3763     1         1  2.757  1.071 -0.05  4.00  37.0     3   \n1     0.0554    0.2643     2         1  2.757  1.071 -0.05  4.00  37.0     3   \n2     0.0355     8.363     3         1  2.757  1.071 -0.05  4.00  37.0     3   \n3     0.2277    0.4382     4         1  2.757  1.071 -0.05  4.00  37.0     3   \n4     0.0173    1.0272     5         1  2.757  1.071 -0.05  4.00  37.0     3   \n...      ...       ...   ...       ...    ...    ...   ...   ...   ...   ...   \n1125   0.122  1.51E-06  1198         2  2.280  1.350  1.20  7.00  41.4     3   \n1126   0.027  0.000252  1199         2  2.280  1.350  1.20  3.00  33.0     1   \n1127   0.035  0.000177  1200         2  2.280  1.350  1.20  7.00  33.0     1   \n1128   0.163  4.08E-05  1201         2  1.937  0.853  0.78  4.00  42.4     1   \n1129   102.4    0.0022  1203         3  2.200  0.730  0.83  4.24  47.0     3   \n\n      ...  TPSA2    TPSA      XLogP  MaxEStateIndex.1  MaxEStateIndex.2  \\\n0     ...  40.50   37.30   6.500000          5.992739          6.000000   \n1     ...  40.50   37.30   6.500000          5.992739          6.000000   \n2     ...  52.00   37.30   6.500000          6.000000          5.992739   \n3     ...  52.00   37.30   6.500000          6.000000          5.992739   \n4     ...  40.50   37.30   6.500000          5.992739          6.000000   \n...   ...    ...     ...        ...               ...               ...   \n1125  ...  45.78  132.13  -1.700000          5.992739          0.000000   \n1126  ...  40.50  375.75 -10.800000          5.992739          0.000000   \n1127  ...  40.50  375.75 -10.800000          5.992739          0.000000   \n1128  ...  45.78   30.00  -1.600000          5.992739          0.000000   \n1129  ...  47.40  127.53  59.557822          0.000000          0.000000   \n\n      MinPartialCharge.1  MaxPartialCharge.1  BCUT2D_CHGLO       polym  \\\n0              -0.398299            0.037337     -1.987595    1.000007   \n1              -0.398299            0.037337     -1.987595    1.000007   \n2              -0.254557           -0.254557     -1.987595    1.000007   \n3              -0.254557           -0.254557     -1.987595    1.000007   \n4              -0.398299            0.037337     -1.987595    1.000007   \n...                  ...                 ...           ...         ...   \n1125           -0.398299            0.037337     -2.178395    0.999984   \n1126           -0.398299            0.037337     -2.441399    0.480347   \n1127           -0.398299            0.037337     -2.441399    0.480347   \n1128           -0.398299            0.037337     -2.379344    0.999951   \n1129            0.000000            0.000000     -2.133673  191.458847   \n\n      Complexity  \n0            0.0  \n1            0.0  \n2            0.0  \n3            0.0  \n4            0.0  \n...          ...  \n1125         0.0  \n1126       725.0  \n1127       725.0  \n1128         0.0  \n1129         0.0  \n\n[1130 rows x 48 columns]",
      "text/html": "<div>\n<style scoped>\n    .dataframe tbody tr th:only-of-type {\n        vertical-align: middle;\n    }\n\n    .dataframe tbody tr th {\n        vertical-align: top;\n    }\n\n    .dataframe thead th {\n        text-align: right;\n    }\n</style>\n<table border=\"1\" class=\"dataframe\">\n  <thead>\n    <tr style=\"text-align: right;\">\n      <th></th>\n      <th>Km</th>\n      <th>Vmax</th>\n      <th>id</th>\n      <th>activity</th>\n      <th>X</th>\n      <th>IR</th>\n      <th>pot2</th>\n      <th>ph</th>\n      <th>temp</th>\n      <th>dstr</th>\n      <th>...</th>\n      <th>TPSA2</th>\n      <th>TPSA</th>\n      <th>XLogP</th>\n      <th>MaxEStateIndex.1</th>\n      <th>MaxEStateIndex.2</th>\n      <th>MinPartialCharge.1</th>\n      <th>MaxPartialCharge.1</th>\n      <th>BCUT2D_CHGLO</th>\n      <th>polym</th>\n      <th>Complexity</th>\n    </tr>\n  </thead>\n  <tbody>\n    <tr>\n      <th>0</th>\n      <td>0.0065</td>\n      <td>1.3763</td>\n      <td>1</td>\n      <td>1</td>\n      <td>2.757</td>\n      <td>1.071</td>\n      <td>-0.05</td>\n      <td>4.00</td>\n      <td>37.0</td>\n      <td>3</td>\n      <td>...</td>\n      <td>40.50</td>\n      <td>37.30</td>\n      <td>6.500000</td>\n      <td>5.992739</td>\n      <td>6.000000</td>\n      <td>-0.398299</td>\n      <td>0.037337</td>\n      <td>-1.987595</td>\n      <td>1.000007</td>\n      <td>0.0</td>\n    </tr>\n    <tr>\n      <th>1</th>\n      <td>0.0554</td>\n      <td>0.2643</td>\n      <td>2</td>\n      <td>1</td>\n      <td>2.757</td>\n      <td>1.071</td>\n      <td>-0.05</td>\n      <td>4.00</td>\n      <td>37.0</td>\n      <td>3</td>\n      <td>...</td>\n      <td>40.50</td>\n      <td>37.30</td>\n      <td>6.500000</td>\n      <td>5.992739</td>\n      <td>6.000000</td>\n      <td>-0.398299</td>\n      <td>0.037337</td>\n      <td>-1.987595</td>\n      <td>1.000007</td>\n      <td>0.0</td>\n    </tr>\n    <tr>\n      <th>2</th>\n      <td>0.0355</td>\n      <td>8.363</td>\n      <td>3</td>\n      <td>1</td>\n      <td>2.757</td>\n      <td>1.071</td>\n      <td>-0.05</td>\n      <td>4.00</td>\n      <td>37.0</td>\n      <td>3</td>\n      <td>...</td>\n      <td>52.00</td>\n      <td>37.30</td>\n      <td>6.500000</td>\n      <td>6.000000</td>\n      <td>5.992739</td>\n      <td>-0.254557</td>\n      <td>-0.254557</td>\n      <td>-1.987595</td>\n      <td>1.000007</td>\n      <td>0.0</td>\n    </tr>\n    <tr>\n      <th>3</th>\n      <td>0.2277</td>\n      <td>0.4382</td>\n      <td>4</td>\n      <td>1</td>\n      <td>2.757</td>\n      <td>1.071</td>\n      <td>-0.05</td>\n      <td>4.00</td>\n      <td>37.0</td>\n      <td>3</td>\n      <td>...</td>\n      <td>52.00</td>\n      <td>37.30</td>\n      <td>6.500000</td>\n      <td>6.000000</td>\n      <td>5.992739</td>\n      <td>-0.254557</td>\n      <td>-0.254557</td>\n      <td>-1.987595</td>\n      <td>1.000007</td>\n      <td>0.0</td>\n    </tr>\n    <tr>\n      <th>4</th>\n      <td>0.0173</td>\n      <td>1.0272</td>\n      <td>5</td>\n      <td>1</td>\n      <td>2.757</td>\n      <td>1.071</td>\n      <td>-0.05</td>\n      <td>4.00</td>\n      <td>37.0</td>\n      <td>3</td>\n      <td>...</td>\n      <td>40.50</td>\n      <td>37.30</td>\n      <td>6.500000</td>\n      <td>5.992739</td>\n      <td>6.000000</td>\n      <td>-0.398299</td>\n      <td>0.037337</td>\n      <td>-1.987595</td>\n      <td>1.000007</td>\n      <td>0.0</td>\n    </tr>\n    <tr>\n      <th>...</th>\n      <td>...</td>\n      <td>...</td>\n      <td>...</td>\n      <td>...</td>\n      <td>...</td>\n      <td>...</td>\n      <td>...</td>\n      <td>...</td>\n      <td>...</td>\n      <td>...</td>\n      <td>...</td>\n      <td>...</td>\n      <td>...</td>\n      <td>...</td>\n      <td>...</td>\n      <td>...</td>\n      <td>...</td>\n      <td>...</td>\n      <td>...</td>\n      <td>...</td>\n      <td>...</td>\n    </tr>\n    <tr>\n      <th>1125</th>\n      <td>0.122</td>\n      <td>1.51E-06</td>\n      <td>1198</td>\n      <td>2</td>\n      <td>2.280</td>\n      <td>1.350</td>\n      <td>1.20</td>\n      <td>7.00</td>\n      <td>41.4</td>\n      <td>3</td>\n      <td>...</td>\n      <td>45.78</td>\n      <td>132.13</td>\n      <td>-1.700000</td>\n      <td>5.992739</td>\n      <td>0.000000</td>\n      <td>-0.398299</td>\n      <td>0.037337</td>\n      <td>-2.178395</td>\n      <td>0.999984</td>\n      <td>0.0</td>\n    </tr>\n    <tr>\n      <th>1126</th>\n      <td>0.027</td>\n      <td>0.000252</td>\n      <td>1199</td>\n      <td>2</td>\n      <td>2.280</td>\n      <td>1.350</td>\n      <td>1.20</td>\n      <td>3.00</td>\n      <td>33.0</td>\n      <td>1</td>\n      <td>...</td>\n      <td>40.50</td>\n      <td>375.75</td>\n      <td>-10.800000</td>\n      <td>5.992739</td>\n      <td>0.000000</td>\n      <td>-0.398299</td>\n      <td>0.037337</td>\n      <td>-2.441399</td>\n      <td>0.480347</td>\n      <td>725.0</td>\n    </tr>\n    <tr>\n      <th>1127</th>\n      <td>0.035</td>\n      <td>0.000177</td>\n      <td>1200</td>\n      <td>2</td>\n      <td>2.280</td>\n      <td>1.350</td>\n      <td>1.20</td>\n      <td>7.00</td>\n      <td>33.0</td>\n      <td>1</td>\n      <td>...</td>\n      <td>40.50</td>\n      <td>375.75</td>\n      <td>-10.800000</td>\n      <td>5.992739</td>\n      <td>0.000000</td>\n      <td>-0.398299</td>\n      <td>0.037337</td>\n      <td>-2.441399</td>\n      <td>0.480347</td>\n      <td>725.0</td>\n    </tr>\n    <tr>\n      <th>1128</th>\n      <td>0.163</td>\n      <td>4.08E-05</td>\n      <td>1201</td>\n      <td>2</td>\n      <td>1.937</td>\n      <td>0.853</td>\n      <td>0.78</td>\n      <td>4.00</td>\n      <td>42.4</td>\n      <td>1</td>\n      <td>...</td>\n      <td>45.78</td>\n      <td>30.00</td>\n      <td>-1.600000</td>\n      <td>5.992739</td>\n      <td>0.000000</td>\n      <td>-0.398299</td>\n      <td>0.037337</td>\n      <td>-2.379344</td>\n      <td>0.999951</td>\n      <td>0.0</td>\n    </tr>\n    <tr>\n      <th>1129</th>\n      <td>102.4</td>\n      <td>0.0022</td>\n      <td>1203</td>\n      <td>3</td>\n      <td>2.200</td>\n      <td>0.730</td>\n      <td>0.83</td>\n      <td>4.24</td>\n      <td>47.0</td>\n      <td>3</td>\n      <td>...</td>\n      <td>47.40</td>\n      <td>127.53</td>\n      <td>59.557822</td>\n      <td>0.000000</td>\n      <td>0.000000</td>\n      <td>0.000000</td>\n      <td>0.000000</td>\n      <td>-2.133673</td>\n      <td>191.458847</td>\n      <td>0.0</td>\n    </tr>\n  </tbody>\n</table>\n<p>1130 rows × 48 columns</p>\n</div>"
     },
     "execution_count": 4,
     "metadata": {},
     "output_type": "execute_result"
    }
   ],
   "source": [
    "df"
   ]
  },
  {
   "cell_type": "code",
   "execution_count": 5,
   "id": "4f059b67",
   "metadata": {
    "ExecuteTime": {
     "end_time": "2023-10-15T12:16:09.278852200Z",
     "start_time": "2023-10-15T12:16:09.246585100Z"
    }
   },
   "outputs": [
    {
     "name": "stdout",
     "output_type": "stream",
     "text": [
      "<class 'pandas.core.frame.DataFrame'>\n",
      "RangeIndex: 1130 entries, 0 to 1129\n",
      "Data columns (total 48 columns):\n",
      " #   Column              Non-Null Count  Dtype  \n",
      "---  ------              --------------  -----  \n",
      " 0   Km                  1130 non-null   object \n",
      " 1   Vmax                1130 non-null   object \n",
      " 2   id                  1130 non-null   int64  \n",
      " 3   activity            1130 non-null   int64  \n",
      " 4   X                   1130 non-null   float64\n",
      " 5   IR                  1130 non-null   float64\n",
      " 6   pot2                1130 non-null   float64\n",
      " 7   ph                  1127 non-null   float64\n",
      " 8   temp                1129 non-null   float64\n",
      " 9   dstr                1130 non-null   int64  \n",
      " 10  cryst               1130 non-null   float64\n",
      " 11  lgCmin              1130 non-null   float64\n",
      " 12  lgCmax              1130 non-null   float64\n",
      " 13  Cmin                1130 non-null   float64\n",
      " 14  Cmax                1130 non-null   float64\n",
      " 15  lgCconst            1130 non-null   float64\n",
      " 16  Cconst              1130 non-null   float64\n",
      " 17  lgCcat              1130 non-null   float64\n",
      " 18  Ccat                1130 non-null   float64\n",
      " 19  lgvolume            1130 non-null   float64\n",
      " 20  Mcoat               1130 non-null   float64\n",
      " 21  Sufrace             1130 non-null   float64\n",
      " 22  MolWt               1130 non-null   float64\n",
      " 23  PEOE_VSA7           1130 non-null   float64\n",
      " 24  PEOE_VSA9           1130 non-null   float64\n",
      " 25  VSA_EState8         1130 non-null   float64\n",
      " 26  Kappa2              1130 non-null   float64\n",
      " 27  BalabanJ            1130 non-null   float64\n",
      " 28  MinAbsEStateIndex   1130 non-null   float64\n",
      " 29  MinEStateIndex      1130 non-null   float64\n",
      " 30  EState_VSA6         1130 non-null   float64\n",
      " 31  VSA_EState4         1130 non-null   float64\n",
      " 32  PEOE_VSA8           1130 non-null   float64\n",
      " 33  MinPartialCharge    1130 non-null   float64\n",
      " 34  EState_VSA4         1130 non-null   float64\n",
      " 35  SMR_VSA7            1130 non-null   float64\n",
      " 36  Complexity1         1130 non-null   float64\n",
      " 37  TPSA1               1130 non-null   float64\n",
      " 38  TPSA2               1130 non-null   float64\n",
      " 39  TPSA                1130 non-null   float64\n",
      " 40  XLogP               1130 non-null   float64\n",
      " 41  MaxEStateIndex.1    1130 non-null   float64\n",
      " 42  MaxEStateIndex.2    1130 non-null   float64\n",
      " 43  MinPartialCharge.1  1130 non-null   float64\n",
      " 44  MaxPartialCharge.1  1130 non-null   float64\n",
      " 45  BCUT2D_CHGLO        1130 non-null   float64\n",
      " 46  polym               1130 non-null   float64\n",
      " 47  Complexity          1129 non-null   float64\n",
      "dtypes: float64(43), int64(3), object(2)\n",
      "memory usage: 423.9+ KB\n"
     ]
    }
   ],
   "source": [
    "df.info()"
   ]
  },
  {
   "cell_type": "code",
   "execution_count": 6,
   "id": "1359b9b5",
   "metadata": {
    "ExecuteTime": {
     "end_time": "2023-10-15T12:16:09.279849100Z",
     "start_time": "2023-10-15T12:16:09.259915300Z"
    }
   },
   "outputs": [],
   "source": [
    "def to_numeric_column(df, column):\n",
    "    df[column] = pd.to_numeric(df[column], errors='coerce')\n",
    "    return df\n",
    "\n",
    "def counts_quantil(column):\n",
    "    Q1 = column.quantile(0.25)\n",
    "    Q3 = column.quantile(0.75)\n",
    "    IQR = Q3 - Q1\n",
    "    outliers = ((column < (Q1 - 1.5 * IQR)) | (column > (Q3 + 1.5 * IQR)))\n",
    "    num_outliers = outliers.sum()\n",
    "    filtered_data = column[~outliers]\n",
    "\n",
    "    return num_outliers\n",
    "\n",
    "\n",
    "\n",
    "def del_quantil(df, column):\n",
    "    Q1 = df[column].quantile(0.25)\n",
    "    Q3 = df[column].quantile(0.75)\n",
    "    IQR = Q3 - Q1\n",
    "\n",
    "    df = df[~((df[column] < (Q1 - 1.5 * IQR)) | (df[column] > (Q3 + 1.5 * IQR)))]\n",
    "\n",
    "    return df"
   ]
  },
  {
   "cell_type": "code",
   "execution_count": 7,
   "id": "9efa459e",
   "metadata": {
    "ExecuteTime": {
     "end_time": "2023-10-15T12:16:09.292805500Z",
     "start_time": "2023-10-15T12:16:09.277855800Z"
    }
   },
   "outputs": [],
   "source": [
    "df = to_numeric_column(df, 'Vmax')\n",
    "df = to_numeric_column(df, 'Km')"
   ]
  },
  {
   "cell_type": "code",
   "execution_count": 8,
   "id": "0b57c2dc",
   "metadata": {
    "ExecuteTime": {
     "end_time": "2023-10-15T12:16:09.326692200Z",
     "start_time": "2023-10-15T12:16:09.292805500Z"
    }
   },
   "outputs": [
    {
     "name": "stdout",
     "output_type": "stream",
     "text": [
      "<class 'pandas.core.series.Series'>\n",
      "RangeIndex: 1130 entries, 0 to 1129\n",
      "Series name: Vmax\n",
      "Non-Null Count  Dtype  \n",
      "--------------  -----  \n",
      "1059 non-null   float64\n",
      "dtypes: float64(1)\n",
      "memory usage: 9.0 KB\n"
     ]
    }
   ],
   "source": [
    "df['Vmax'].info()"
   ]
  },
  {
   "cell_type": "code",
   "execution_count": 9,
   "id": "2e882fb2",
   "metadata": {
    "ExecuteTime": {
     "end_time": "2023-10-15T12:16:09.368179600Z",
     "start_time": "2023-10-15T12:16:09.306758900Z"
    }
   },
   "outputs": [
    {
     "name": "stdout",
     "output_type": "stream",
     "text": [
      "<class 'pandas.core.series.Series'>\n",
      "RangeIndex: 1130 entries, 0 to 1129\n",
      "Series name: Km\n",
      "Non-Null Count  Dtype  \n",
      "--------------  -----  \n",
      "1120 non-null   float64\n",
      "dtypes: float64(1)\n",
      "memory usage: 9.0 KB\n"
     ]
    }
   ],
   "source": [
    "df['Km'].info()"
   ]
  },
  {
   "cell_type": "code",
   "execution_count": 10,
   "id": "dcda5842",
   "metadata": {
    "ExecuteTime": {
     "end_time": "2023-10-15T12:16:09.413591600Z",
     "start_time": "2023-10-15T12:16:09.323702Z"
    }
   },
   "outputs": [],
   "source": [
    "df = df.dropna(subset=['Vmax', 'Km'], axis =0)\n",
    "df_nan = df.isna().mean().sort_values(ascending = False)"
   ]
  },
  {
   "cell_type": "code",
   "execution_count": 11,
   "id": "adb1d924",
   "metadata": {
    "ExecuteTime": {
     "end_time": "2023-10-15T12:16:09.460331Z",
     "start_time": "2023-10-15T12:16:09.337655300Z"
    }
   },
   "outputs": [],
   "source": [
    "df_colums = ['ph','Complexity','temp']\n",
    "nan_rows = df[df[df_colums].isnull().any(axis=1)]"
   ]
  },
  {
   "cell_type": "code",
   "execution_count": 12,
   "id": "c028e4d2",
   "metadata": {
    "ExecuteTime": {
     "end_time": "2023-10-15T12:16:09.467304100Z",
     "start_time": "2023-10-15T12:16:09.353230Z"
    }
   },
   "outputs": [],
   "source": [
    "df = df.dropna(axis =0)\n",
    "df_nan = df.isna().mean().sort_values(ascending = False)"
   ]
  },
  {
   "cell_type": "code",
   "execution_count": 13,
   "id": "81f62de4",
   "metadata": {
    "ExecuteTime": {
     "end_time": "2023-10-15T12:16:09.509164300Z",
     "start_time": "2023-10-15T12:16:09.368179600Z"
    }
   },
   "outputs": [
    {
     "data": {
      "text/plain": "<Figure size 640x480 with 1 Axes>",
      "image/png": "[encoded data removed]"
     },
     "metadata": {},
     "output_type": "display_data"
    }
   ],
   "source": [
    "df.loc[:, 'Vmax_log'] = np.log10(df['Vmax'])\n",
    "sns.boxplot(x=df['Vmax_log'])\n",
    "plt.show()"
   ]
  },
  {
   "cell_type": "code",
   "execution_count": 14,
   "id": "b291dec4",
   "metadata": {
    "ExecuteTime": {
     "end_time": "2023-10-15T12:16:09.569960800Z",
     "start_time": "2023-10-15T12:16:09.509164300Z"
    }
   },
   "outputs": [
    {
     "name": "stdout",
     "output_type": "stream",
     "text": [
      "128\n",
      "58\n"
     ]
    }
   ],
   "source": [
    "df = del_quantil(df, 'Km')\n",
    "print(counts_quantil(df['Km']))\n",
    "print(counts_quantil(df['Vmax_log']))"
   ]
  },
  {
   "cell_type": "code",
   "execution_count": 15,
   "id": "985e4799",
   "metadata": {
    "ExecuteTime": {
     "end_time": "2023-10-15T12:16:09.570957500Z",
     "start_time": "2023-10-15T12:16:09.529097200Z"
    }
   },
   "outputs": [
    {
     "data": {
      "text/plain": "VSA_EState4           0.808105\nComplexity            0.805721\nEState_VSA6           0.789035\nSMR_VSA7              0.686532\nPEOE_VSA8             0.660310\nPEOE_VSA7             0.654350\nPEOE_VSA9             0.634088\nEState_VSA4           0.624553\nMinAbsEStateIndex     0.558999\nVSA_EState8           0.543504\nBCUT2D_CHGLO          0.516091\nBalabanJ              0.487485\npolym                 0.470799\nMinEStateIndex        0.467223\nTPSA                  0.461263\nXLogP                 0.457688\nSufrace               0.436234\nMinPartialCharge      0.436234\nKappa2                0.436234\nMolWt                 0.430274\nMcoat                 0.424315\nComplexity1           0.344458\nlgCconst              0.221692\nMaxEStateIndex.2      0.177592\nCconst                0.171633\nlgCmax                0.095352\nlgCcat                0.047676\nlgCmin                0.040524\nMinPartialCharge.1    0.016687\nMaxEStateIndex.1      0.016687\nMaxPartialCharge.1    0.016687\ncryst                 0.015495\nCmin                  0.007151\nlgvolume              0.001192\nTPSA1                 0.000000\nTPSA2                 0.000000\nKm                    0.000000\nVmax                  0.000000\nCcat                  0.000000\nCmax                  0.000000\ndstr                  0.000000\ntemp                  0.000000\nph                    0.000000\npot2                  0.000000\nIR                    0.000000\nX                     0.000000\nactivity              0.000000\nid                    0.000000\nVmax_log              0.000000\ndtype: float64"
     },
     "execution_count": 15,
     "metadata": {},
     "output_type": "execute_result"
    }
   ],
   "source": [
    "# Подсчет количества нулей в столбцах\n",
    "zero_counts = df.isin([0]).mean().sort_values(ascending = False)\n",
    "\n",
    "# Вывод в процентном соотношении\n",
    "zero_counts"
   ]
  },
  {
   "cell_type": "code",
   "execution_count": 16,
   "outputs": [
    {
     "data": {
      "text/plain": "cryst\n7.0    477\n6.0     96\n4.0     73\n3.0     33\n2.0     33\n5.0     20\n5.8     15\n6.4     15\n6.8     13\n0.0     13\n5.6      9\n6.6      9\n4.6      8\n5.2      5\n1.0      4\n4.4      4\n6.2      3\n5.4      3\n4.8      3\n2.8      1\n1.4      1\n2.6      1\nName: count, dtype: int64"
     },
     "execution_count": 16,
     "metadata": {},
     "output_type": "execute_result"
    }
   ],
   "source": [
    "df['cryst'].value_counts()"
   ],
   "metadata": {
    "collapsed": false,
    "ExecuteTime": {
     "end_time": "2023-10-15T12:16:09.570957500Z",
     "start_time": "2023-10-15T12:16:09.541057200Z"
    }
   },
   "id": "8d7505caf186d2c7"
  },
  {
   "cell_type": "code",
   "execution_count": 17,
   "outputs": [
    {
     "data": {
      "text/plain": "0.03747015495283029"
     },
     "execution_count": 17,
     "metadata": {},
     "output_type": "execute_result"
    }
   ],
   "source": [
    "df['cryst']. corr(df['EState_VSA6']) "
   ],
   "metadata": {
    "collapsed": false,
    "ExecuteTime": {
     "end_time": "2023-10-15T12:16:09.574943900Z",
     "start_time": "2023-10-15T12:16:09.557004400Z"
    }
   },
   "id": "f02d63594a4fa73f"
  },
  {
   "cell_type": "code",
   "execution_count": 18,
   "outputs": [],
   "source": [
    "# selected_columns = ['PEOE_VSA7', 'PEOE_VSA9','PEOE_VSA8']\n",
    "# result_df = df[df[selected_columns].eq(0).all(axis=1)]\n",
    "# result_df[selected_columns]"
   ],
   "metadata": {
    "collapsed": false,
    "ExecuteTime": {
     "end_time": "2023-10-15T12:16:09.592220100Z",
     "start_time": "2023-10-15T12:16:09.573947500Z"
    }
   },
   "id": "315e55ef3379866e"
  },
  {
   "cell_type": "markdown",
   "source": [
    "Код выше, считает количество строк, код ниже удаляет эти строки"
   ],
   "metadata": {
    "collapsed": false
   },
   "id": "ac1a914fe597194e"
  },
  {
   "cell_type": "code",
   "execution_count": 19,
   "outputs": [],
   "source": [
    "# selected_columns = ['PEOE_VSA7', 'PEOE_VSA9','PEOE_VSA9']\n",
    "# result_df = df[df[selected_columns].eq(0).all(axis=1)]\n",
    "# \n",
    "# # Получите индексы строк для удаления\n",
    "# rows_to_drop = result_df.index\n",
    "# \n",
    "# # Используйте метод drop для удаления строк из основной таблицы df\n",
    "# df = df.drop(rows_to_drop)"
   ],
   "metadata": {
    "collapsed": false,
    "ExecuteTime": {
     "end_time": "2023-10-15T12:16:09.624362400Z",
     "start_time": "2023-10-15T12:16:09.591076100Z"
    }
   },
   "id": "a3aefd5ac5c86554"
  },
  {
   "cell_type": "code",
   "execution_count": 20,
   "outputs": [
    {
     "data": {
      "text/plain": "          Km      Vmax    id  activity      X     IR  pot2   ph  temp  dstr  \\\n0     0.0065  1.376300     1         1  2.757  1.071 -0.05  4.0  37.0     3   \n1     0.0554  0.264300     2         1  2.757  1.071 -0.05  4.0  37.0     3   \n2     0.0355  8.363000     3         1  2.757  1.071 -0.05  4.0  37.0     3   \n3     0.2277  0.438200     4         1  2.757  1.071 -0.05  4.0  37.0     3   \n4     0.0173  1.027200     5         1  2.757  1.071 -0.05  4.0  37.0     3   \n...      ...       ...   ...       ...    ...    ...   ...  ...   ...   ...   \n1124  0.0550  0.000467  1197         2  2.280  1.350  1.20  3.0  41.4     3   \n1125  0.1220  0.000002  1198         2  2.280  1.350  1.20  7.0  41.4     3   \n1126  0.0270  0.000252  1199         2  2.280  1.350  1.20  3.0  33.0     1   \n1127  0.0350  0.000177  1200         2  2.280  1.350  1.20  7.0  33.0     1   \n1128  0.1630  0.000041  1201         2  1.937  0.853  0.78  4.0  42.4     1   \n\n      ...    TPSA  XLogP  MaxEStateIndex.1  MaxEStateIndex.2  \\\n0     ...   37.30    6.5          5.992739          6.000000   \n1     ...   37.30    6.5          5.992739          6.000000   \n2     ...   37.30    6.5          6.000000          5.992739   \n3     ...   37.30    6.5          6.000000          5.992739   \n4     ...   37.30    6.5          5.992739          6.000000   \n...   ...     ...    ...               ...               ...   \n1124  ...  132.13   -1.7          5.992739          0.000000   \n1125  ...  132.13   -1.7          5.992739          0.000000   \n1126  ...  375.75  -10.8          5.992739          0.000000   \n1127  ...  375.75  -10.8          5.992739          0.000000   \n1128  ...   30.00   -1.6          5.992739          0.000000   \n\n      MinPartialCharge.1  MaxPartialCharge.1  BCUT2D_CHGLO     polym  \\\n0              -0.398299            0.037337     -1.987595  1.000007   \n1              -0.398299            0.037337     -1.987595  1.000007   \n2              -0.254557           -0.254557     -1.987595  1.000007   \n3              -0.254557           -0.254557     -1.987595  1.000007   \n4              -0.398299            0.037337     -1.987595  1.000007   \n...                  ...                 ...           ...       ...   \n1124           -0.398299            0.037337     -2.178395  0.999984   \n1125           -0.398299            0.037337     -2.178395  0.999984   \n1126           -0.398299            0.037337     -2.441399  0.480347   \n1127           -0.398299            0.037337     -2.441399  0.480347   \n1128           -0.398299            0.037337     -2.379344  0.999951   \n\n      Complexity  Vmax_log  \n0            0.0  0.138713  \n1            0.0 -0.577903  \n2            0.0  0.922362  \n3            0.0 -0.358328  \n4            0.0  0.011655  \n...          ...       ...  \n1124         0.0 -3.330683  \n1125         0.0 -5.821023  \n1126       725.0 -3.598599  \n1127       725.0 -3.752027  \n1128         0.0 -4.389340  \n\n[839 rows x 49 columns]",
      "text/html": "<div>\n<style scoped>\n    .dataframe tbody tr th:only-of-type {\n        vertical-align: middle;\n    }\n\n    .dataframe tbody tr th {\n        vertical-align: top;\n    }\n\n    .dataframe thead th {\n        text-align: right;\n    }\n</style>\n<table border=\"1\" class=\"dataframe\">\n  <thead>\n    <tr style=\"text-align: right;\">\n      <th></th>\n      <th>Km</th>\n      <th>Vmax</th>\n      <th>id</th>\n      <th>activity</th>\n      <th>X</th>\n      <th>IR</th>\n      <th>pot2</th>\n      <th>ph</th>\n      <th>temp</th>\n      <th>dstr</th>\n      <th>...</th>\n      <th>TPSA</th>\n      <th>XLogP</th>\n      <th>MaxEStateIndex.1</th>\n      <th>MaxEStateIndex.2</th>\n      <th>MinPartialCharge.1</th>\n      <th>MaxPartialCharge.1</th>\n      <th>BCUT2D_CHGLO</th>\n      <th>polym</th>\n      <th>Complexity</th>\n      <th>Vmax_log</th>\n    </tr>\n  </thead>\n  <tbody>\n    <tr>\n      <th>0</th>\n      <td>0.0065</td>\n      <td>1.376300</td>\n      <td>1</td>\n      <td>1</td>\n      <td>2.757</td>\n      <td>1.071</td>\n      <td>-0.05</td>\n      <td>4.0</td>\n      <td>37.0</td>\n      <td>3</td>\n      <td>...</td>\n      <td>37.30</td>\n      <td>6.5</td>\n      <td>5.992739</td>\n      <td>6.000000</td>\n      <td>-0.398299</td>\n      <td>0.037337</td>\n      <td>-1.987595</td>\n      <td>1.000007</td>\n      <td>0.0</td>\n      <td>0.138713</td>\n    </tr>\n    <tr>\n      <th>1</th>\n      <td>0.0554</td>\n      <td>0.264300</td>\n      <td>2</td>\n      <td>1</td>\n      <td>2.757</td>\n      <td>1.071</td>\n      <td>-0.05</td>\n      <td>4.0</td>\n      <td>37.0</td>\n      <td>3</td>\n      <td>...</td>\n      <td>37.30</td>\n      <td>6.5</td>\n      <td>5.992739</td>\n      <td>6.000000</td>\n      <td>-0.398299</td>\n      <td>0.037337</td>\n      <td>-1.987595</td>\n      <td>1.000007</td>\n      <td>0.0</td>\n      <td>-0.577903</td>\n    </tr>\n    <tr>\n      <th>2</th>\n      <td>0.0355</td>\n      <td>8.363000</td>\n      <td>3</td>\n      <td>1</td>\n      <td>2.757</td>\n      <td>1.071</td>\n      <td>-0.05</td>\n      <td>4.0</td>\n      <td>37.0</td>\n      <td>3</td>\n      <td>...</td>\n      <td>37.30</td>\n      <td>6.5</td>\n      <td>6.000000</td>\n      <td>5.992739</td>\n      <td>-0.254557</td>\n      <td>-0.254557</td>\n      <td>-1.987595</td>\n      <td>1.000007</td>\n      <td>0.0</td>\n      <td>0.922362</td>\n    </tr>\n    <tr>\n      <th>3</th>\n      <td>0.2277</td>\n      <td>0.438200</td>\n      <td>4</td>\n      <td>1</td>\n      <td>2.757</td>\n      <td>1.071</td>\n      <td>-0.05</td>\n      <td>4.0</td>\n      <td>37.0</td>\n      <td>3</td>\n      <td>...</td>\n      <td>37.30</td>\n      <td>6.5</td>\n      <td>6.000000</td>\n      <td>5.992739</td>\n      <td>-0.254557</td>\n      <td>-0.254557</td>\n      <td>-1.987595</td>\n      <td>1.000007</td>\n      <td>0.0</td>\n      <td>-0.358328</td>\n    </tr>\n    <tr>\n      <th>4</th>\n      <td>0.0173</td>\n      <td>1.027200</td>\n      <td>5</td>\n      <td>1</td>\n      <td>2.757</td>\n      <td>1.071</td>\n      <td>-0.05</td>\n      <td>4.0</td>\n      <td>37.0</td>\n      <td>3</td>\n      <td>...</td>\n      <td>37.30</td>\n      <td>6.5</td>\n      <td>5.992739</td>\n      <td>6.000000</td>\n      <td>-0.398299</td>\n      <td>0.037337</td>\n      <td>-1.987595</td>\n      <td>1.000007</td>\n      <td>0.0</td>\n      <td>0.011655</td>\n    </tr>\n    <tr>\n      <th>...</th>\n      <td>...</td>\n      <td>...</td>\n      <td>...</td>\n      <td>...</td>\n      <td>...</td>\n      <td>...</td>\n      <td>...</td>\n      <td>...</td>\n      <td>...</td>\n      <td>...</td>\n      <td>...</td>\n      <td>...</td>\n      <td>...</td>\n      <td>...</td>\n      <td>...</td>\n      <td>...</td>\n      <td>...</td>\n      <td>...</td>\n      <td>...</td>\n      <td>...</td>\n      <td>...</td>\n    </tr>\n    <tr>\n      <th>1124</th>\n      <td>0.0550</td>\n      <td>0.000467</td>\n      <td>1197</td>\n      <td>2</td>\n      <td>2.280</td>\n      <td>1.350</td>\n      <td>1.20</td>\n      <td>3.0</td>\n      <td>41.4</td>\n      <td>3</td>\n      <td>...</td>\n      <td>132.13</td>\n      <td>-1.7</td>\n      <td>5.992739</td>\n      <td>0.000000</td>\n      <td>-0.398299</td>\n      <td>0.037337</td>\n      <td>-2.178395</td>\n      <td>0.999984</td>\n      <td>0.0</td>\n      <td>-3.330683</td>\n    </tr>\n    <tr>\n      <th>1125</th>\n      <td>0.1220</td>\n      <td>0.000002</td>\n      <td>1198</td>\n      <td>2</td>\n      <td>2.280</td>\n      <td>1.350</td>\n      <td>1.20</td>\n      <td>7.0</td>\n      <td>41.4</td>\n      <td>3</td>\n      <td>...</td>\n      <td>132.13</td>\n      <td>-1.7</td>\n      <td>5.992739</td>\n      <td>0.000000</td>\n      <td>-0.398299</td>\n      <td>0.037337</td>\n      <td>-2.178395</td>\n      <td>0.999984</td>\n      <td>0.0</td>\n      <td>-5.821023</td>\n    </tr>\n    <tr>\n      <th>1126</th>\n      <td>0.0270</td>\n      <td>0.000252</td>\n      <td>1199</td>\n      <td>2</td>\n      <td>2.280</td>\n      <td>1.350</td>\n      <td>1.20</td>\n      <td>3.0</td>\n      <td>33.0</td>\n      <td>1</td>\n      <td>...</td>\n      <td>375.75</td>\n      <td>-10.8</td>\n      <td>5.992739</td>\n      <td>0.000000</td>\n      <td>-0.398299</td>\n      <td>0.037337</td>\n      <td>-2.441399</td>\n      <td>0.480347</td>\n      <td>725.0</td>\n      <td>-3.598599</td>\n    </tr>\n    <tr>\n      <th>1127</th>\n      <td>0.0350</td>\n      <td>0.000177</td>\n      <td>1200</td>\n      <td>2</td>\n      <td>2.280</td>\n      <td>1.350</td>\n      <td>1.20</td>\n      <td>7.0</td>\n      <td>33.0</td>\n      <td>1</td>\n      <td>...</td>\n      <td>375.75</td>\n      <td>-10.8</td>\n      <td>5.992739</td>\n      <td>0.000000</td>\n      <td>-0.398299</td>\n      <td>0.037337</td>\n      <td>-2.441399</td>\n      <td>0.480347</td>\n      <td>725.0</td>\n      <td>-3.752027</td>\n    </tr>\n    <tr>\n      <th>1128</th>\n      <td>0.1630</td>\n      <td>0.000041</td>\n      <td>1201</td>\n      <td>2</td>\n      <td>1.937</td>\n      <td>0.853</td>\n      <td>0.78</td>\n      <td>4.0</td>\n      <td>42.4</td>\n      <td>1</td>\n      <td>...</td>\n      <td>30.00</td>\n      <td>-1.6</td>\n      <td>5.992739</td>\n      <td>0.000000</td>\n      <td>-0.398299</td>\n      <td>0.037337</td>\n      <td>-2.379344</td>\n      <td>0.999951</td>\n      <td>0.0</td>\n      <td>-4.389340</td>\n    </tr>\n  </tbody>\n</table>\n<p>839 rows × 49 columns</p>\n</div>"
     },
     "execution_count": 20,
     "metadata": {},
     "output_type": "execute_result"
    }
   ],
   "source": [
    "df"
   ],
   "metadata": {
    "collapsed": false,
    "ExecuteTime": {
     "end_time": "2023-10-15T12:16:09.674566Z",
     "start_time": "2023-10-15T12:16:09.604179500Z"
    }
   },
   "id": "3309585a0d60ce77"
  },
  {
   "cell_type": "code",
   "execution_count": 21,
   "outputs": [],
   "source": [
    "df.to_csv('edit_nnz.csv', index=False)"
   ],
   "metadata": {
    "collapsed": false,
    "ExecuteTime": {
     "end_time": "2023-10-15T12:16:09.694367400Z",
     "start_time": "2023-10-15T12:16:09.635325600Z"
    }
   },
   "id": "ac5cb071717b9887"
  },
  {
   "cell_type": "markdown",
   "source": [],
   "metadata": {
    "collapsed": false
   },
   "id": "dc6d6ad7bcac50c0"
  },
  {
   "cell_type": "markdown",
   "source": [],
   "metadata": {
    "collapsed": false
   },
   "id": "cc86b64191d8ab93"
  },
  {
   "cell_type": "markdown",
   "source": [],
   "metadata": {
    "collapsed": false
   },
   "id": "e21248a45b8fa7de"
  }
 ],
 "metadata": {
  "kernelspec": {
   "display_name": "Python 3 (ipykernel)",
   "language": "python",
   "name": "python3"
  },
  "language_info": {
   "codemirror_mode": {
    "name": "ipython",
    "version": 3
   },
   "file_extension": ".py",
   "mimetype": "text/x-python",
   "name": "python",
   "nbconvert_exporter": "python",
   "pygments_lexer": "ipython3",
   "version": "3.11.5"
  }
 },
 "nbformat": 4,
 "nbformat_minor": 5
}
