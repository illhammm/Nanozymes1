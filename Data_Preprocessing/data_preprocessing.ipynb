{
 "cells": [
  {
   "cell_type": "code",
   "execution_count": 1,
   "id": "085543bb",
   "metadata": {
    "ExecuteTime": {
     "end_time": "2023-10-16T10:42:30.983652500Z",
     "start_time": "2023-10-16T10:42:30.983652500Z"
    }
   },
   "outputs": [],
   "source": [
    "import pandas as pd\n",
    "import numpy as np\n",
    "import seaborn as sns\n",
    "import matplotlib.pyplot as plt"
   ]
  },
  {
   "cell_type": "code",
   "execution_count": 2,
   "id": "a98f320e",
   "metadata": {
    "ExecuteTime": {
     "end_time": "2023-10-16T10:42:33.930782400Z",
     "start_time": "2023-10-16T10:42:33.899023700Z"
    }
   },
   "outputs": [],
   "source": [
    "df = pd.read_csv(\"../Data_Analysis/df_nnz.csv\")"
   ]
  },
  {
   "cell_type": "code",
   "execution_count": 3,
   "id": "d05f14ff",
   "metadata": {
    "ExecuteTime": {
     "end_time": "2023-10-16T10:42:37.964564800Z",
     "start_time": "2023-10-16T10:42:37.927162300Z"
    }
   },
   "outputs": [
    {
     "data": {
      "text/plain": "          Km      Vmax    id  activity      X     IR  pot2    ph  temp  dstr  \\\n0     0.0065    1.3763     1         1  2.757  1.071 -0.05  4.00  37.0     3   \n1     0.0554    0.2643     2         1  2.757  1.071 -0.05  4.00  37.0     3   \n2     0.0355     8.363     3         1  2.757  1.071 -0.05  4.00  37.0     3   \n3     0.2277    0.4382     4         1  2.757  1.071 -0.05  4.00  37.0     3   \n4     0.0173    1.0272     5         1  2.757  1.071 -0.05  4.00  37.0     3   \n...      ...       ...   ...       ...    ...    ...   ...   ...   ...   ...   \n1125   0.122  1.51E-06  1198         2  2.280  1.350  1.20  7.00  41.4     3   \n1126   0.027  0.000252  1199         2  2.280  1.350  1.20  3.00  33.0     1   \n1127   0.035  0.000177  1200         2  2.280  1.350  1.20  7.00  33.0     1   \n1128   0.163  4.08E-05  1201         2  1.937  0.853  0.78  4.00  42.4     1   \n1129   102.4    0.0022  1203         3  2.200  0.730  0.83  4.24  47.0     3   \n\n      ...  TPSA2    TPSA      XLogP  MaxEStateIndex.1  MaxEStateIndex.2  \\\n0     ...  40.50   37.30   6.500000          5.992739          6.000000   \n1     ...  40.50   37.30   6.500000          5.992739          6.000000   \n2     ...  52.00   37.30   6.500000          6.000000          5.992739   \n3     ...  52.00   37.30   6.500000          6.000000          5.992739   \n4     ...  40.50   37.30   6.500000          5.992739          6.000000   \n...   ...    ...     ...        ...               ...               ...   \n1125  ...  45.78  132.13  -1.700000          5.992739          0.000000   \n1126  ...  40.50  375.75 -10.800000          5.992739          0.000000   \n1127  ...  40.50  375.75 -10.800000          5.992739          0.000000   \n1128  ...  45.78   30.00  -1.600000          5.992739          0.000000   \n1129  ...  47.40  127.53  59.557822          0.000000          0.000000   \n\n      MinPartialCharge.1  MaxPartialCharge.1  BCUT2D_CHGLO       polym  \\\n0              -0.398299            0.037337     -1.987595    1.000007   \n1              -0.398299            0.037337     -1.987595    1.000007   \n2              -0.254557           -0.254557     -1.987595    1.000007   \n3              -0.254557           -0.254557     -1.987595    1.000007   \n4              -0.398299            0.037337     -1.987595    1.000007   \n...                  ...                 ...           ...         ...   \n1125           -0.398299            0.037337     -2.178395    0.999984   \n1126           -0.398299            0.037337     -2.441399    0.480347   \n1127           -0.398299            0.037337     -2.441399    0.480347   \n1128           -0.398299            0.037337     -2.379344    0.999951   \n1129            0.000000            0.000000     -2.133673  191.458847   \n\n      Complexity  \n0            0.0  \n1            0.0  \n2            0.0  \n3            0.0  \n4            0.0  \n...          ...  \n1125         0.0  \n1126       725.0  \n1127       725.0  \n1128         0.0  \n1129         0.0  \n\n[1130 rows x 48 columns]",
      "text/html": "<div>\n<style scoped>\n    .dataframe tbody tr th:only-of-type {\n        vertical-align: middle;\n    }\n\n    .dataframe tbody tr th {\n        vertical-align: top;\n    }\n\n    .dataframe thead th {\n        text-align: right;\n    }\n</style>\n<table border=\"1\" class=\"dataframe\">\n  <thead>\n    <tr style=\"text-align: right;\">\n      <th></th>\n      <th>Km</th>\n      <th>Vmax</th>\n      <th>id</th>\n      <th>activity</th>\n      <th>X</th>\n      <th>IR</th>\n      <th>pot2</th>\n      <th>ph</th>\n      <th>temp</th>\n      <th>dstr</th>\n      <th>...</th>\n      <th>TPSA2</th>\n      <th>TPSA</th>\n      <th>XLogP</th>\n      <th>MaxEStateIndex.1</th>\n      <th>MaxEStateIndex.2</th>\n      <th>MinPartialCharge.1</th>\n      <th>MaxPartialCharge.1</th>\n      <th>BCUT2D_CHGLO</th>\n      <th>polym</th>\n      <th>Complexity</th>\n    </tr>\n  </thead>\n  <tbody>\n    <tr>\n      <th>0</th>\n      <td>0.0065</td>\n      <td>1.3763</td>\n      <td>1</td>\n      <td>1</td>\n      <td>2.757</td>\n      <td>1.071</td>\n      <td>-0.05</td>\n      <td>4.00</td>\n      <td>37.0</td>\n      <td>3</td>\n      <td>...</td>\n      <td>40.50</td>\n      <td>37.30</td>\n      <td>6.500000</td>\n      <td>5.992739</td>\n      <td>6.000000</td>\n      <td>-0.398299</td>\n      <td>0.037337</td>\n      <td>-1.987595</td>\n      <td>1.000007</td>\n      <td>0.0</td>\n    </tr>\n    <tr>\n      <th>1</th>\n      <td>0.0554</td>\n      <td>0.2643</td>\n      <td>2</td>\n      <td>1</td>\n      <td>2.757</td>\n      <td>1.071</td>\n      <td>-0.05</td>\n      <td>4.00</td>\n      <td>37.0</td>\n      <td>3</td>\n      <td>...</td>\n      <td>40.50</td>\n      <td>37.30</td>\n      <td>6.500000</td>\n      <td>5.992739</td>\n      <td>6.000000</td>\n      <td>-0.398299</td>\n      <td>0.037337</td>\n      <td>-1.987595</td>\n      <td>1.000007</td>\n      <td>0.0</td>\n    </tr>\n    <tr>\n      <th>2</th>\n      <td>0.0355</td>\n      <td>8.363</td>\n      <td>3</td>\n      <td>1</td>\n      <td>2.757</td>\n      <td>1.071</td>\n      <td>-0.05</td>\n      <td>4.00</td>\n      <td>37.0</td>\n      <td>3</td>\n      <td>...</td>\n      <td>52.00</td>\n      <td>37.30</td>\n      <td>6.500000</td>\n      <td>6.000000</td>\n      <td>5.992739</td>\n      <td>-0.254557</td>\n      <td>-0.254557</td>\n      <td>-1.987595</td>\n      <td>1.000007</td>\n      <td>0.0</td>\n    </tr>\n    <tr>\n      <th>3</th>\n      <td>0.2277</td>\n      <td>0.4382</td>\n      <td>4</td>\n      <td>1</td>\n      <td>2.757</td>\n      <td>1.071</td>\n      <td>-0.05</td>\n      <td>4.00</td>\n      <td>37.0</td>\n      <td>3</td>\n      <td>...</td>\n      <td>52.00</td>\n      <td>37.30</td>\n      <td>6.500000</td>\n      <td>6.000000</td>\n      <td>5.992739</td>\n      <td>-0.254557</td>\n      <td>-0.254557</td>\n      <td>-1.987595</td>\n      <td>1.000007</td>\n      <td>0.0</td>\n    </tr>\n    <tr>\n      <th>4</th>\n      <td>0.0173</td>\n      <td>1.0272</td>\n      <td>5</td>\n      <td>1</td>\n      <td>2.757</td>\n      <td>1.071</td>\n      <td>-0.05</td>\n      <td>4.00</td>\n      <td>37.0</td>\n      <td>3</td>\n      <td>...</td>\n      <td>40.50</td>\n      <td>37.30</td>\n      <td>6.500000</td>\n      <td>5.992739</td>\n      <td>6.000000</td>\n      <td>-0.398299</td>\n      <td>0.037337</td>\n      <td>-1.987595</td>\n      <td>1.000007</td>\n      <td>0.0</td>\n    </tr>\n    <tr>\n      <th>...</th>\n      <td>...</td>\n      <td>...</td>\n      <td>...</td>\n      <td>...</td>\n      <td>...</td>\n      <td>...</td>\n      <td>...</td>\n      <td>...</td>\n      <td>...</td>\n      <td>...</td>\n      <td>...</td>\n      <td>...</td>\n      <td>...</td>\n      <td>...</td>\n      <td>...</td>\n      <td>...</td>\n      <td>...</td>\n      <td>...</td>\n      <td>...</td>\n      <td>...</td>\n      <td>...</td>\n    </tr>\n    <tr>\n      <th>1125</th>\n      <td>0.122</td>\n      <td>1.51E-06</td>\n      <td>1198</td>\n      <td>2</td>\n      <td>2.280</td>\n      <td>1.350</td>\n      <td>1.20</td>\n      <td>7.00</td>\n      <td>41.4</td>\n      <td>3</td>\n      <td>...</td>\n      <td>45.78</td>\n      <td>132.13</td>\n      <td>-1.700000</td>\n      <td>5.992739</td>\n      <td>0.000000</td>\n      <td>-0.398299</td>\n      <td>0.037337</td>\n      <td>-2.178395</td>\n      <td>0.999984</td>\n      <td>0.0</td>\n    </tr>\n    <tr>\n      <th>1126</th>\n      <td>0.027</td>\n      <td>0.000252</td>\n      <td>1199</td>\n      <td>2</td>\n      <td>2.280</td>\n      <td>1.350</td>\n      <td>1.20</td>\n      <td>3.00</td>\n      <td>33.0</td>\n      <td>1</td>\n      <td>...</td>\n      <td>40.50</td>\n      <td>375.75</td>\n      <td>-10.800000</td>\n      <td>5.992739</td>\n      <td>0.000000</td>\n      <td>-0.398299</td>\n      <td>0.037337</td>\n      <td>-2.441399</td>\n      <td>0.480347</td>\n      <td>725.0</td>\n    </tr>\n    <tr>\n      <th>1127</th>\n      <td>0.035</td>\n      <td>0.000177</td>\n      <td>1200</td>\n      <td>2</td>\n      <td>2.280</td>\n      <td>1.350</td>\n      <td>1.20</td>\n      <td>7.00</td>\n      <td>33.0</td>\n      <td>1</td>\n      <td>...</td>\n      <td>40.50</td>\n      <td>375.75</td>\n      <td>-10.800000</td>\n      <td>5.992739</td>\n      <td>0.000000</td>\n      <td>-0.398299</td>\n      <td>0.037337</td>\n      <td>-2.441399</td>\n      <td>0.480347</td>\n      <td>725.0</td>\n    </tr>\n    <tr>\n      <th>1128</th>\n      <td>0.163</td>\n      <td>4.08E-05</td>\n      <td>1201</td>\n      <td>2</td>\n      <td>1.937</td>\n      <td>0.853</td>\n      <td>0.78</td>\n      <td>4.00</td>\n      <td>42.4</td>\n      <td>1</td>\n      <td>...</td>\n      <td>45.78</td>\n      <td>30.00</td>\n      <td>-1.600000</td>\n      <td>5.992739</td>\n      <td>0.000000</td>\n      <td>-0.398299</td>\n      <td>0.037337</td>\n      <td>-2.379344</td>\n      <td>0.999951</td>\n      <td>0.0</td>\n    </tr>\n    <tr>\n      <th>1129</th>\n      <td>102.4</td>\n      <td>0.0022</td>\n      <td>1203</td>\n      <td>3</td>\n      <td>2.200</td>\n      <td>0.730</td>\n      <td>0.83</td>\n      <td>4.24</td>\n      <td>47.0</td>\n      <td>3</td>\n      <td>...</td>\n      <td>47.40</td>\n      <td>127.53</td>\n      <td>59.557822</td>\n      <td>0.000000</td>\n      <td>0.000000</td>\n      <td>0.000000</td>\n      <td>0.000000</td>\n      <td>-2.133673</td>\n      <td>191.458847</td>\n      <td>0.0</td>\n    </tr>\n  </tbody>\n</table>\n<p>1130 rows × 48 columns</p>\n</div>"
     },
     "execution_count": 3,
     "metadata": {},
     "output_type": "execute_result"
    }
   ],
   "source": [
    "df"
   ]
  },
  {
   "cell_type": "code",
   "execution_count": 93,
   "id": "4f059b67",
   "metadata": {
    "ExecuteTime": {
     "end_time": "2023-10-16T09:06:23.981032800Z",
     "start_time": "2023-10-16T09:06:23.397483200Z"
    }
   },
   "outputs": [
    {
     "name": "stdout",
     "output_type": "stream",
     "text": [
      "<class 'pandas.core.frame.DataFrame'>\n",
      "RangeIndex: 1130 entries, 0 to 1129\n",
      "Data columns (total 48 columns):\n",
      " #   Column              Non-Null Count  Dtype  \n",
      "---  ------              --------------  -----  \n",
      " 0   Km                  1130 non-null   object \n",
      " 1   Vmax                1130 non-null   object \n",
      " 2   id                  1130 non-null   int64  \n",
      " 3   activity            1130 non-null   int64  \n",
      " 4   X                   1130 non-null   float64\n",
      " 5   IR                  1130 non-null   float64\n",
      " 6   pot2                1130 non-null   float64\n",
      " 7   ph                  1127 non-null   float64\n",
      " 8   temp                1129 non-null   float64\n",
      " 9   dstr                1130 non-null   int64  \n",
      " 10  cryst               1130 non-null   float64\n",
      " 11  lgCmin              1130 non-null   float64\n",
      " 12  lgCmax              1130 non-null   float64\n",
      " 13  Cmin                1130 non-null   float64\n",
      " 14  Cmax                1130 non-null   float64\n",
      " 15  lgCconst            1130 non-null   float64\n",
      " 16  Cconst              1130 non-null   float64\n",
      " 17  lgCcat              1130 non-null   float64\n",
      " 18  Ccat                1130 non-null   float64\n",
      " 19  lgvolume            1130 non-null   float64\n",
      " 20  Mcoat               1130 non-null   float64\n",
      " 21  Sufrace             1130 non-null   float64\n",
      " 22  MolWt               1130 non-null   float64\n",
      " 23  PEOE_VSA7           1130 non-null   float64\n",
      " 24  PEOE_VSA9           1130 non-null   float64\n",
      " 25  VSA_EState8         1130 non-null   float64\n",
      " 26  Kappa2              1130 non-null   float64\n",
      " 27  BalabanJ            1130 non-null   float64\n",
      " 28  MinAbsEStateIndex   1130 non-null   float64\n",
      " 29  MinEStateIndex      1130 non-null   float64\n",
      " 30  EState_VSA6         1130 non-null   float64\n",
      " 31  VSA_EState4         1130 non-null   float64\n",
      " 32  PEOE_VSA8           1130 non-null   float64\n",
      " 33  MinPartialCharge    1130 non-null   float64\n",
      " 34  EState_VSA4         1130 non-null   float64\n",
      " 35  SMR_VSA7            1130 non-null   float64\n",
      " 36  Complexity1         1130 non-null   float64\n",
      " 37  TPSA1               1130 non-null   float64\n",
      " 38  TPSA2               1130 non-null   float64\n",
      " 39  TPSA                1130 non-null   float64\n",
      " 40  XLogP               1130 non-null   float64\n",
      " 41  MaxEStateIndex.1    1130 non-null   float64\n",
      " 42  MaxEStateIndex.2    1130 non-null   float64\n",
      " 43  MinPartialCharge.1  1130 non-null   float64\n",
      " 44  MaxPartialCharge.1  1130 non-null   float64\n",
      " 45  BCUT2D_CHGLO        1130 non-null   float64\n",
      " 46  polym               1130 non-null   float64\n",
      " 47  Complexity          1129 non-null   float64\n",
      "dtypes: float64(43), int64(3), object(2)\n",
      "memory usage: 423.9+ KB\n"
     ]
    }
   ],
   "source": [
    "df.info()"
   ]
  },
  {
   "cell_type": "code",
   "execution_count": 94,
   "id": "1359b9b5",
   "metadata": {
    "ExecuteTime": {
     "end_time": "2023-10-16T09:06:23.981032800Z",
     "start_time": "2023-10-16T09:06:23.406662600Z"
    }
   },
   "outputs": [],
   "source": [
    "def to_numeric_column(df, column):\n",
    "    df[column] = pd.to_numeric(df[column], errors='coerce')\n",
    "    return df\n",
    "\n",
    "def counts_quantil(column):\n",
    "    Q1 = column.quantile(0.25)\n",
    "    Q3 = column.quantile(0.75)\n",
    "    IQR = Q3 - Q1\n",
    "    outliers = ((column < (Q1 - 1.5 * IQR)) | (column > (Q3 + 1.5 * IQR)))\n",
    "    num_outliers = outliers.sum()\n",
    "    filtered_data = column[~outliers]\n",
    "\n",
    "    return num_outliers\n",
    "\n",
    "\n",
    "\n",
    "def del_quantil(df, column):\n",
    "    Q1 = df[column].quantile(0.25)\n",
    "    Q3 = df[column].quantile(0.75)\n",
    "    IQR = Q3 - Q1\n",
    "\n",
    "    df = df[~((df[column] < (Q1 - 1.5 * IQR)) | (df[column] > (Q3 + 1.5 * IQR)))]\n",
    "\n",
    "    return df"
   ]
  },
  {
   "cell_type": "code",
   "execution_count": 95,
   "id": "9efa459e",
   "metadata": {
    "ExecuteTime": {
     "end_time": "2023-10-16T09:06:23.981032800Z",
     "start_time": "2023-10-16T09:06:23.408901100Z"
    }
   },
   "outputs": [],
   "source": [
    "df = to_numeric_column(df, 'Vmax')\n",
    "df = to_numeric_column(df, 'Km')"
   ]
  },
  {
   "cell_type": "code",
   "execution_count": 96,
   "id": "0b57c2dc",
   "metadata": {
    "ExecuteTime": {
     "end_time": "2023-10-16T09:06:23.981032800Z",
     "start_time": "2023-10-16T09:06:23.413072200Z"
    }
   },
   "outputs": [
    {
     "name": "stdout",
     "output_type": "stream",
     "text": [
      "<class 'pandas.core.series.Series'>\n",
      "RangeIndex: 1130 entries, 0 to 1129\n",
      "Series name: Vmax\n",
      "Non-Null Count  Dtype  \n",
      "--------------  -----  \n",
      "1059 non-null   float64\n",
      "dtypes: float64(1)\n",
      "memory usage: 9.0 KB\n"
     ]
    }
   ],
   "source": [
    "df['Vmax'].info()"
   ]
  },
  {
   "cell_type": "code",
   "execution_count": 97,
   "id": "2e882fb2",
   "metadata": {
    "ExecuteTime": {
     "end_time": "2023-10-16T09:06:23.981032800Z",
     "start_time": "2023-10-16T09:06:23.418198Z"
    }
   },
   "outputs": [
    {
     "name": "stdout",
     "output_type": "stream",
     "text": [
      "<class 'pandas.core.series.Series'>\n",
      "RangeIndex: 1130 entries, 0 to 1129\n",
      "Series name: Km\n",
      "Non-Null Count  Dtype  \n",
      "--------------  -----  \n",
      "1120 non-null   float64\n",
      "dtypes: float64(1)\n",
      "memory usage: 9.0 KB\n"
     ]
    }
   ],
   "source": [
    "df['Km'].info()"
   ]
  },
  {
   "cell_type": "code",
   "execution_count": 98,
   "id": "dcda5842",
   "metadata": {
    "ExecuteTime": {
     "end_time": "2023-10-16T09:06:23.981032800Z",
     "start_time": "2023-10-16T09:06:23.422519100Z"
    }
   },
   "outputs": [],
   "source": [
    "df = df.dropna(subset=['Vmax', 'Km'], axis =0)\n",
    "df_nan = df.isna().mean().sort_values(ascending = False)"
   ]
  },
  {
   "cell_type": "code",
   "execution_count": 99,
   "id": "adb1d924",
   "metadata": {
    "ExecuteTime": {
     "end_time": "2023-10-16T09:06:23.981032800Z",
     "start_time": "2023-10-16T09:06:23.426644600Z"
    }
   },
   "outputs": [],
   "source": [
    "df_colums = ['ph','Complexity','temp']\n",
    "nan_rows = df[df[df_colums].isnull().any(axis=1)]"
   ]
  },
  {
   "cell_type": "code",
   "execution_count": 100,
   "id": "c028e4d2",
   "metadata": {
    "ExecuteTime": {
     "end_time": "2023-10-16T09:06:23.981032800Z",
     "start_time": "2023-10-16T09:06:23.431370800Z"
    }
   },
   "outputs": [],
   "source": [
    "df = df.dropna(axis =0)\n",
    "df_nan = df.isna().mean().sort_values(ascending = False)"
   ]
  },
  {
   "cell_type": "code",
   "execution_count": 101,
   "id": "81f62de4",
   "metadata": {
    "ExecuteTime": {
     "end_time": "2023-10-16T09:06:23.982038500Z",
     "start_time": "2023-10-16T09:06:23.434355800Z"
    }
   },
   "outputs": [
    {
     "data": {
      "text/plain": "<Figure size 640x480 with 1 Axes>",
      "image/png": "[encoded data removed]"
     },
     "metadata": {},
     "output_type": "display_data"
    }
   ],
   "source": [
    "df.loc[:, 'Vmax_log'] = np.log10(df['Vmax'])\n",
    "sns.boxplot(x=df['Vmax_log'])\n",
    "plt.show()"
   ]
  },
  {
   "cell_type": "code",
   "execution_count": 102,
   "id": "b291dec4",
   "metadata": {
    "ExecuteTime": {
     "end_time": "2023-10-16T09:06:23.982038500Z",
     "start_time": "2023-10-16T09:06:23.521656800Z"
    }
   },
   "outputs": [
    {
     "name": "stdout",
     "output_type": "stream",
     "text": [
      "128\n",
      "58\n"
     ]
    }
   ],
   "source": [
    "df = del_quantil(df, 'Km')\n",
    "print(counts_quantil(df['Km']))\n",
    "print(counts_quantil(df['Vmax_log']))"
   ]
  },
  {
   "cell_type": "code",
   "execution_count": 103,
   "id": "e14616af",
   "metadata": {
    "ExecuteTime": {
     "end_time": "2023-10-16T09:06:23.982038500Z",
     "start_time": "2023-10-16T09:06:23.527815400Z"
    }
   },
   "outputs": [],
   "source": [
    "zero_counts = df.isin([0]).mean().sort_values(ascending = False)"
   ]
  },
  {
   "cell_type": "code",
   "execution_count": 104,
   "id": "182500da",
   "metadata": {
    "ExecuteTime": {
     "end_time": "2023-10-16T09:06:23.982038500Z",
     "start_time": "2023-10-16T09:06:23.533596500Z"
    }
   },
   "outputs": [
    {
     "data": {
      "text/plain": "VSA_EState4           0.808105\nComplexity            0.805721\nEState_VSA6           0.789035\nSMR_VSA7              0.686532\nPEOE_VSA8             0.660310\nPEOE_VSA7             0.654350\nPEOE_VSA9             0.634088\nEState_VSA4           0.624553\nMinAbsEStateIndex     0.558999\nVSA_EState8           0.543504\nBCUT2D_CHGLO          0.516091\nBalabanJ              0.487485\npolym                 0.470799\nMinEStateIndex        0.467223\nTPSA                  0.461263\nXLogP                 0.457688\nSufrace               0.436234\nMinPartialCharge      0.436234\nKappa2                0.436234\nMolWt                 0.430274\nMcoat                 0.424315\nComplexity1           0.344458\nlgCconst              0.221692\nMaxEStateIndex.2      0.177592\nCconst                0.171633\nlgCmax                0.095352\nlgCcat                0.047676\nlgCmin                0.040524\nMinPartialCharge.1    0.016687\nMaxEStateIndex.1      0.016687\nMaxPartialCharge.1    0.016687\ncryst                 0.015495\nCmin                  0.007151\nlgvolume              0.001192\nTPSA1                 0.000000\nTPSA2                 0.000000\nKm                    0.000000\nVmax                  0.000000\nCcat                  0.000000\nCmax                  0.000000\ndstr                  0.000000\ntemp                  0.000000\nph                    0.000000\npot2                  0.000000\nIR                    0.000000\nX                     0.000000\nactivity              0.000000\nid                    0.000000\nVmax_log              0.000000\ndtype: float64"
     },
     "execution_count": 104,
     "metadata": {},
     "output_type": "execute_result"
    }
   ],
   "source": [
    "zero_counts"
   ]
  },
  {
   "cell_type": "code",
   "execution_count": 105,
   "id": "f07ea5c8",
   "metadata": {
    "ExecuteTime": {
     "end_time": "2023-10-16T09:06:23.982038500Z",
     "start_time": "2023-10-16T09:06:23.537426300Z"
    }
   },
   "outputs": [],
   "source": [
    "df.dropna(subset=['Cconst'], inplace=True)"
   ]
  },
  {
   "cell_type": "code",
   "execution_count": 106,
   "id": "edc2c748",
   "metadata": {
    "ExecuteTime": {
     "end_time": "2023-10-16T09:06:23.982038500Z",
     "start_time": "2023-10-16T09:06:23.541289Z"
    }
   },
   "outputs": [
    {
     "name": "stdout",
     "output_type": "stream",
     "text": [
      "<class 'pandas.core.series.Series'>\n",
      "Index: 839 entries, 0 to 1128\n",
      "Series name: Cconst\n",
      "Non-Null Count  Dtype  \n",
      "--------------  -----  \n",
      "839 non-null    float64\n",
      "dtypes: float64(1)\n",
      "memory usage: 13.1 KB\n"
     ]
    }
   ],
   "source": [
    "df['Cconst'].info()"
   ]
  },
  {
   "cell_type": "code",
   "execution_count": 107,
   "id": "22d866a1",
   "metadata": {
    "ExecuteTime": {
     "end_time": "2023-10-16T09:06:23.982038500Z",
     "start_time": "2023-10-16T09:06:23.545657300Z"
    }
   },
   "outputs": [],
   "source": [
    "df['Cconst'] = df['Cconst'].replace(0, np.nan)"
   ]
  },
  {
   "cell_type": "code",
   "execution_count": 108,
   "outputs": [
    {
     "data": {
      "text/plain": "Cconst\n1.000       44\n100.000     42\n0.100       42\n10.000      36\n0.800       29\n            ..\n350.000      1\n0.140        1\n142.828      1\n1045.000     1\n0.350        1\nName: count, Length: 111, dtype: int64"
     },
     "execution_count": 108,
     "metadata": {},
     "output_type": "execute_result"
    }
   ],
   "source": [
    "df['Cconst'].value_counts()"
   ],
   "metadata": {
    "collapsed": false,
    "ExecuteTime": {
     "end_time": "2023-10-16T09:06:23.983030300Z",
     "start_time": "2023-10-16T09:06:23.548664600Z"
    }
   },
   "id": "3f2e5e1f2e68b63d"
  },
  {
   "cell_type": "code",
   "execution_count": 109,
   "outputs": [],
   "source": [
    "df_nan = df.isna().mean().sort_values(ascending = False)"
   ],
   "metadata": {
    "collapsed": false,
    "ExecuteTime": {
     "end_time": "2023-10-16T09:06:23.983030300Z",
     "start_time": "2023-10-16T09:06:23.553104700Z"
    }
   },
   "id": "530ac93bcfa4511d"
  },
  {
   "cell_type": "code",
   "execution_count": 110,
   "outputs": [
    {
     "data": {
      "text/plain": "Cconst                0.171633\nKm                    0.000000\nComplexity1           0.000000\nBalabanJ              0.000000\nMinAbsEStateIndex     0.000000\nMinEStateIndex        0.000000\nEState_VSA6           0.000000\nVSA_EState4           0.000000\nPEOE_VSA8             0.000000\nMinPartialCharge      0.000000\nEState_VSA4           0.000000\nSMR_VSA7              0.000000\nTPSA1                 0.000000\nVSA_EState8           0.000000\nTPSA2                 0.000000\nTPSA                  0.000000\nXLogP                 0.000000\nMaxEStateIndex.1      0.000000\nMaxEStateIndex.2      0.000000\nMinPartialCharge.1    0.000000\nMaxPartialCharge.1    0.000000\nBCUT2D_CHGLO          0.000000\npolym                 0.000000\nComplexity            0.000000\nKappa2                0.000000\nPEOE_VSA9             0.000000\nVmax                  0.000000\nlgCmin                0.000000\nid                    0.000000\nactivity              0.000000\nX                     0.000000\nIR                    0.000000\npot2                  0.000000\nph                    0.000000\ntemp                  0.000000\ndstr                  0.000000\ncryst                 0.000000\nlgCmax                0.000000\nPEOE_VSA7             0.000000\nCmin                  0.000000\nCmax                  0.000000\nlgCconst              0.000000\nlgCcat                0.000000\nCcat                  0.000000\nlgvolume              0.000000\nMcoat                 0.000000\nSufrace               0.000000\nMolWt                 0.000000\nVmax_log              0.000000\ndtype: float64"
     },
     "execution_count": 110,
     "metadata": {},
     "output_type": "execute_result"
    }
   ],
   "source": [
    "df_nan"
   ],
   "metadata": {
    "collapsed": false,
    "ExecuteTime": {
     "end_time": "2023-10-16T09:06:23.983030300Z",
     "start_time": "2023-10-16T09:06:23.556272400Z"
    }
   },
   "id": "f3f63f9cdc5fedd8"
  },
  {
   "cell_type": "code",
   "execution_count": 111,
   "outputs": [],
   "source": [
    "#df['Cconst']. median ()"
   ],
   "metadata": {
    "collapsed": false,
    "ExecuteTime": {
     "end_time": "2023-10-16T09:06:23.983030300Z",
     "start_time": "2023-10-16T09:06:23.560277700Z"
    }
   },
   "id": "d08ce42b87db2071"
  },
  {
   "cell_type": "code",
   "execution_count": 112,
   "outputs": [],
   "source": [
    "#df['Cconst'] = df['Cconst'].replace(np.nan, 3.65)"
   ],
   "metadata": {
    "collapsed": false,
    "ExecuteTime": {
     "end_time": "2023-10-16T09:06:23.983030300Z",
     "start_time": "2023-10-16T09:06:23.563082900Z"
    }
   },
   "id": "62dbe7f0c6726b26"
  },
  {
   "cell_type": "code",
   "execution_count": 113,
   "outputs": [],
   "source": [
    "#df"
   ],
   "metadata": {
    "collapsed": false,
    "ExecuteTime": {
     "end_time": "2023-10-16T09:06:23.983030300Z",
     "start_time": "2023-10-16T09:06:23.566182500Z"
    }
   },
   "id": "b5a37b2c3f8b677d"
  },
  {
   "cell_type": "code",
   "execution_count": 114,
   "outputs": [],
   "source": [
    "#df.describe()"
   ],
   "metadata": {
    "collapsed": false,
    "ExecuteTime": {
     "end_time": "2023-10-16T09:06:23.983030300Z",
     "start_time": "2023-10-16T09:06:23.569109300Z"
    }
   },
   "id": "583938d48c0bf63d"
  },
  {
   "cell_type": "code",
   "execution_count": 115,
   "outputs": [],
   "source": [
    "#df['lgCconst'] = np.log10(df['Cconst'])"
   ],
   "metadata": {
    "collapsed": false,
    "ExecuteTime": {
     "end_time": "2023-10-16T09:06:23.983030300Z",
     "start_time": "2023-10-16T09:06:23.572093600Z"
    }
   },
   "id": "76bb3273fa1156bf"
  },
  {
   "cell_type": "code",
   "execution_count": 116,
   "outputs": [],
   "source": [
    "#df"
   ],
   "metadata": {
    "collapsed": false,
    "ExecuteTime": {
     "end_time": "2023-10-16T09:06:23.983030300Z",
     "start_time": "2023-10-16T09:06:23.575120200Z"
    }
   },
   "id": "9eff2c2b419d06b5"
  },
  {
   "cell_type": "code",
   "execution_count": 117,
   "outputs": [],
   "source": [
    "#df.describe()"
   ],
   "metadata": {
    "collapsed": false,
    "ExecuteTime": {
     "end_time": "2023-10-16T09:06:23.984026600Z",
     "start_time": "2023-10-16T09:06:23.578006Z"
    }
   },
   "id": "54319cdd10468047"
  },
  {
   "cell_type": "code",
   "execution_count": 118,
   "outputs": [],
   "source": [
    "#df"
   ],
   "metadata": {
    "collapsed": false,
    "ExecuteTime": {
     "end_time": "2023-10-16T09:06:23.984026600Z",
     "start_time": "2023-10-16T09:06:23.580841600Z"
    }
   },
   "id": "8a30b7f96bd81cde"
  },
  {
   "cell_type": "code",
   "execution_count": 119,
   "outputs": [],
   "source": [
    "from sklearn.impute import KNNImputer"
   ],
   "metadata": {
    "collapsed": false,
    "ExecuteTime": {
     "end_time": "2023-10-16T09:06:23.984026600Z",
     "start_time": "2023-10-16T09:06:23.583875400Z"
    }
   },
   "id": "2908ce0aaabee982"
  },
  {
   "cell_type": "code",
   "execution_count": 120,
   "outputs": [],
   "source": [
    "selected_column = 'Cconst'"
   ],
   "metadata": {
    "collapsed": false,
    "ExecuteTime": {
     "end_time": "2023-10-16T09:06:23.984026600Z",
     "start_time": "2023-10-16T09:06:23.586908800Z"
    }
   },
   "id": "103949afcf9a2074"
  },
  {
   "cell_type": "code",
   "execution_count": 121,
   "outputs": [],
   "source": [
    "imputer = KNNImputer(n_neighbors=2)"
   ],
   "metadata": {
    "collapsed": false,
    "ExecuteTime": {
     "end_time": "2023-10-16T09:06:23.984026600Z",
     "start_time": "2023-10-16T09:06:23.589906700Z"
    }
   },
   "id": "c0c44fcdff10d563"
  },
  {
   "cell_type": "code",
   "execution_count": 122,
   "outputs": [],
   "source": [
    "df[selected_column] = imputer.fit_transform(df[[selected_column]])"
   ],
   "metadata": {
    "collapsed": false,
    "ExecuteTime": {
     "end_time": "2023-10-16T09:06:23.984026600Z",
     "start_time": "2023-10-16T09:06:23.592757400Z"
    }
   },
   "id": "1e173bdf9fefc32"
  },
  {
   "cell_type": "code",
   "execution_count": 123,
   "outputs": [
    {
     "data": {
      "text/plain": "          Km      Vmax    id  activity      X     IR  pot2   ph  temp  dstr  \\\n0     0.0065  1.376300     1         1  2.757  1.071 -0.05  4.0  37.0     3   \n1     0.0554  0.264300     2         1  2.757  1.071 -0.05  4.0  37.0     3   \n2     0.0355  8.363000     3         1  2.757  1.071 -0.05  4.0  37.0     3   \n3     0.2277  0.438200     4         1  2.757  1.071 -0.05  4.0  37.0     3   \n4     0.0173  1.027200     5         1  2.757  1.071 -0.05  4.0  37.0     3   \n...      ...       ...   ...       ...    ...    ...   ...  ...   ...   ...   \n1124  0.0550  0.000467  1197         2  2.280  1.350  1.20  3.0  41.4     3   \n1125  0.1220  0.000002  1198         2  2.280  1.350  1.20  7.0  41.4     3   \n1126  0.0270  0.000252  1199         2  2.280  1.350  1.20  3.0  33.0     1   \n1127  0.0350  0.000177  1200         2  2.280  1.350  1.20  7.0  33.0     1   \n1128  0.1630  0.000041  1201         2  1.937  0.853  0.78  4.0  42.4     1   \n\n      ...    TPSA  XLogP  MaxEStateIndex.1  MaxEStateIndex.2  \\\n0     ...   37.30    6.5          5.992739          6.000000   \n1     ...   37.30    6.5          5.992739          6.000000   \n2     ...   37.30    6.5          6.000000          5.992739   \n3     ...   37.30    6.5          6.000000          5.992739   \n4     ...   37.30    6.5          5.992739          6.000000   \n...   ...     ...    ...               ...               ...   \n1124  ...  132.13   -1.7          5.992739          0.000000   \n1125  ...  132.13   -1.7          5.992739          0.000000   \n1126  ...  375.75  -10.8          5.992739          0.000000   \n1127  ...  375.75  -10.8          5.992739          0.000000   \n1128  ...   30.00   -1.6          5.992739          0.000000   \n\n      MinPartialCharge.1  MaxPartialCharge.1  BCUT2D_CHGLO     polym  \\\n0              -0.398299            0.037337     -1.987595  1.000007   \n1              -0.398299            0.037337     -1.987595  1.000007   \n2              -0.254557           -0.254557     -1.987595  1.000007   \n3              -0.254557           -0.254557     -1.987595  1.000007   \n4              -0.398299            0.037337     -1.987595  1.000007   \n...                  ...                 ...           ...       ...   \n1124           -0.398299            0.037337     -2.178395  0.999984   \n1125           -0.398299            0.037337     -2.178395  0.999984   \n1126           -0.398299            0.037337     -2.441399  0.480347   \n1127           -0.398299            0.037337     -2.441399  0.480347   \n1128           -0.398299            0.037337     -2.379344  0.999951   \n\n      Complexity  Vmax_log  \n0            0.0  0.138713  \n1            0.0 -0.577903  \n2            0.0  0.922362  \n3            0.0 -0.358328  \n4            0.0  0.011655  \n...          ...       ...  \n1124         0.0 -3.330683  \n1125         0.0 -5.821023  \n1126       725.0 -3.598599  \n1127       725.0 -3.752027  \n1128         0.0 -4.389340  \n\n[839 rows x 49 columns]",
      "text/html": "<div>\n<style scoped>\n    .dataframe tbody tr th:only-of-type {\n        vertical-align: middle;\n    }\n\n    .dataframe tbody tr th {\n        vertical-align: top;\n    }\n\n    .dataframe thead th {\n        text-align: right;\n    }\n</style>\n<table border=\"1\" class=\"dataframe\">\n  <thead>\n    <tr style=\"text-align: right;\">\n      <th></th>\n      <th>Km</th>\n      <th>Vmax</th>\n      <th>id</th>\n      <th>activity</th>\n      <th>X</th>\n      <th>IR</th>\n      <th>pot2</th>\n      <th>ph</th>\n      <th>temp</th>\n      <th>dstr</th>\n      <th>...</th>\n      <th>TPSA</th>\n      <th>XLogP</th>\n      <th>MaxEStateIndex.1</th>\n      <th>MaxEStateIndex.2</th>\n      <th>MinPartialCharge.1</th>\n      <th>MaxPartialCharge.1</th>\n      <th>BCUT2D_CHGLO</th>\n      <th>polym</th>\n      <th>Complexity</th>\n      <th>Vmax_log</th>\n    </tr>\n  </thead>\n  <tbody>\n    <tr>\n      <th>0</th>\n      <td>0.0065</td>\n      <td>1.376300</td>\n      <td>1</td>\n      <td>1</td>\n      <td>2.757</td>\n      <td>1.071</td>\n      <td>-0.05</td>\n      <td>4.0</td>\n      <td>37.0</td>\n      <td>3</td>\n      <td>...</td>\n      <td>37.30</td>\n      <td>6.5</td>\n      <td>5.992739</td>\n      <td>6.000000</td>\n      <td>-0.398299</td>\n      <td>0.037337</td>\n      <td>-1.987595</td>\n      <td>1.000007</td>\n      <td>0.0</td>\n      <td>0.138713</td>\n    </tr>\n    <tr>\n      <th>1</th>\n      <td>0.0554</td>\n      <td>0.264300</td>\n      <td>2</td>\n      <td>1</td>\n      <td>2.757</td>\n      <td>1.071</td>\n      <td>-0.05</td>\n      <td>4.0</td>\n      <td>37.0</td>\n      <td>3</td>\n      <td>...</td>\n      <td>37.30</td>\n      <td>6.5</td>\n      <td>5.992739</td>\n      <td>6.000000</td>\n      <td>-0.398299</td>\n      <td>0.037337</td>\n      <td>-1.987595</td>\n      <td>1.000007</td>\n      <td>0.0</td>\n      <td>-0.577903</td>\n    </tr>\n    <tr>\n      <th>2</th>\n      <td>0.0355</td>\n      <td>8.363000</td>\n      <td>3</td>\n      <td>1</td>\n      <td>2.757</td>\n      <td>1.071</td>\n      <td>-0.05</td>\n      <td>4.0</td>\n      <td>37.0</td>\n      <td>3</td>\n      <td>...</td>\n      <td>37.30</td>\n      <td>6.5</td>\n      <td>6.000000</td>\n      <td>5.992739</td>\n      <td>-0.254557</td>\n      <td>-0.254557</td>\n      <td>-1.987595</td>\n      <td>1.000007</td>\n      <td>0.0</td>\n      <td>0.922362</td>\n    </tr>\n    <tr>\n      <th>3</th>\n      <td>0.2277</td>\n      <td>0.438200</td>\n      <td>4</td>\n      <td>1</td>\n      <td>2.757</td>\n      <td>1.071</td>\n      <td>-0.05</td>\n      <td>4.0</td>\n      <td>37.0</td>\n      <td>3</td>\n      <td>...</td>\n      <td>37.30</td>\n      <td>6.5</td>\n      <td>6.000000</td>\n      <td>5.992739</td>\n      <td>-0.254557</td>\n      <td>-0.254557</td>\n      <td>-1.987595</td>\n      <td>1.000007</td>\n      <td>0.0</td>\n      <td>-0.358328</td>\n    </tr>\n    <tr>\n      <th>4</th>\n      <td>0.0173</td>\n      <td>1.027200</td>\n      <td>5</td>\n      <td>1</td>\n      <td>2.757</td>\n      <td>1.071</td>\n      <td>-0.05</td>\n      <td>4.0</td>\n      <td>37.0</td>\n      <td>3</td>\n      <td>...</td>\n      <td>37.30</td>\n      <td>6.5</td>\n      <td>5.992739</td>\n      <td>6.000000</td>\n      <td>-0.398299</td>\n      <td>0.037337</td>\n      <td>-1.987595</td>\n      <td>1.000007</td>\n      <td>0.0</td>\n      <td>0.011655</td>\n    </tr>\n    <tr>\n      <th>...</th>\n      <td>...</td>\n      <td>...</td>\n      <td>...</td>\n      <td>...</td>\n      <td>...</td>\n      <td>...</td>\n      <td>...</td>\n      <td>...</td>\n      <td>...</td>\n      <td>...</td>\n      <td>...</td>\n      <td>...</td>\n      <td>...</td>\n      <td>...</td>\n      <td>...</td>\n      <td>...</td>\n      <td>...</td>\n      <td>...</td>\n      <td>...</td>\n      <td>...</td>\n      <td>...</td>\n    </tr>\n    <tr>\n      <th>1124</th>\n      <td>0.0550</td>\n      <td>0.000467</td>\n      <td>1197</td>\n      <td>2</td>\n      <td>2.280</td>\n      <td>1.350</td>\n      <td>1.20</td>\n      <td>3.0</td>\n      <td>41.4</td>\n      <td>3</td>\n      <td>...</td>\n      <td>132.13</td>\n      <td>-1.7</td>\n      <td>5.992739</td>\n      <td>0.000000</td>\n      <td>-0.398299</td>\n      <td>0.037337</td>\n      <td>-2.178395</td>\n      <td>0.999984</td>\n      <td>0.0</td>\n      <td>-3.330683</td>\n    </tr>\n    <tr>\n      <th>1125</th>\n      <td>0.1220</td>\n      <td>0.000002</td>\n      <td>1198</td>\n      <td>2</td>\n      <td>2.280</td>\n      <td>1.350</td>\n      <td>1.20</td>\n      <td>7.0</td>\n      <td>41.4</td>\n      <td>3</td>\n      <td>...</td>\n      <td>132.13</td>\n      <td>-1.7</td>\n      <td>5.992739</td>\n      <td>0.000000</td>\n      <td>-0.398299</td>\n      <td>0.037337</td>\n      <td>-2.178395</td>\n      <td>0.999984</td>\n      <td>0.0</td>\n      <td>-5.821023</td>\n    </tr>\n    <tr>\n      <th>1126</th>\n      <td>0.0270</td>\n      <td>0.000252</td>\n      <td>1199</td>\n      <td>2</td>\n      <td>2.280</td>\n      <td>1.350</td>\n      <td>1.20</td>\n      <td>3.0</td>\n      <td>33.0</td>\n      <td>1</td>\n      <td>...</td>\n      <td>375.75</td>\n      <td>-10.8</td>\n      <td>5.992739</td>\n      <td>0.000000</td>\n      <td>-0.398299</td>\n      <td>0.037337</td>\n      <td>-2.441399</td>\n      <td>0.480347</td>\n      <td>725.0</td>\n      <td>-3.598599</td>\n    </tr>\n    <tr>\n      <th>1127</th>\n      <td>0.0350</td>\n      <td>0.000177</td>\n      <td>1200</td>\n      <td>2</td>\n      <td>2.280</td>\n      <td>1.350</td>\n      <td>1.20</td>\n      <td>7.0</td>\n      <td>33.0</td>\n      <td>1</td>\n      <td>...</td>\n      <td>375.75</td>\n      <td>-10.8</td>\n      <td>5.992739</td>\n      <td>0.000000</td>\n      <td>-0.398299</td>\n      <td>0.037337</td>\n      <td>-2.441399</td>\n      <td>0.480347</td>\n      <td>725.0</td>\n      <td>-3.752027</td>\n    </tr>\n    <tr>\n      <th>1128</th>\n      <td>0.1630</td>\n      <td>0.000041</td>\n      <td>1201</td>\n      <td>2</td>\n      <td>1.937</td>\n      <td>0.853</td>\n      <td>0.78</td>\n      <td>4.0</td>\n      <td>42.4</td>\n      <td>1</td>\n      <td>...</td>\n      <td>30.00</td>\n      <td>-1.6</td>\n      <td>5.992739</td>\n      <td>0.000000</td>\n      <td>-0.398299</td>\n      <td>0.037337</td>\n      <td>-2.379344</td>\n      <td>0.999951</td>\n      <td>0.0</td>\n      <td>-4.389340</td>\n    </tr>\n  </tbody>\n</table>\n<p>839 rows × 49 columns</p>\n</div>"
     },
     "execution_count": 123,
     "metadata": {},
     "output_type": "execute_result"
    }
   ],
   "source": [
    "df"
   ],
   "metadata": {
    "collapsed": false,
    "ExecuteTime": {
     "end_time": "2023-10-16T09:06:23.985029500Z",
     "start_time": "2023-10-16T09:06:23.600151900Z"
    }
   },
   "id": "45db5eb25bbd4a85"
  },
  {
   "cell_type": "code",
   "execution_count": 124,
   "outputs": [
    {
     "data": {
      "text/plain": "Cconst\n166.379937     144\n1.000000        44\n100.000000      42\n0.100000        42\n10.000000       36\n              ... \n350.000000       1\n0.140000         1\n142.828000       1\n1045.000000      1\n0.350000         1\nName: count, Length: 112, dtype: int64"
     },
     "execution_count": 124,
     "metadata": {},
     "output_type": "execute_result"
    }
   ],
   "source": [
    "df['Cconst'].value_counts()"
   ],
   "metadata": {
    "collapsed": false,
    "ExecuteTime": {
     "end_time": "2023-10-16T09:06:23.993993500Z",
     "start_time": "2023-10-16T09:06:23.614142500Z"
    }
   },
   "id": "874ff29cd522b63e"
  },
  {
   "cell_type": "code",
   "execution_count": 125,
   "outputs": [
    {
     "data": {
      "text/plain": "               Km          Vmax           id    activity           X  \\\ncount  839.000000  8.390000e+02   839.000000  839.000000  839.000000   \nmean     1.406910  2.284246e+02   596.144219    1.189511    2.527696   \nstd      2.907154  3.074768e+03   352.986207    0.427106    0.270383   \nmin      0.000100  3.400000e-08     1.000000    1.000000    1.830000   \n25%      0.089650  3.120000e-05   291.500000    1.000000    2.280000   \n50%      0.269000  1.020000e-04   587.000000    1.000000    2.579000   \n75%      0.952500  3.535000e-04   888.500000    1.000000    2.750000   \nmax     16.540000  5.988500e+04  1201.000000    4.000000    3.170000   \n\n               IR        pot2          ph        temp        dstr  ...  \\\ncount  839.000000  839.000000  839.000000  839.000000  839.000000  ...   \nmean     1.206629    0.274352    4.506329   33.330274    2.682956  ...   \nstd      0.179094    0.554609    1.200939    9.300664    0.667759  ...   \nmin      0.700000   -1.358000    2.000000   15.000000    1.000000  ...   \n25%      1.084000   -0.078800    4.000000   25.000000    3.000000  ...   \n50%      1.217200    0.051900    4.000000   31.000000    3.000000  ...   \n75%      1.336000    0.619000    4.500000   40.000000    3.000000  ...   \nmax      1.710000    1.690000    9.000000   90.000000    3.000000  ...   \n\n              TPSA       XLogP  MaxEStateIndex.1  MaxEStateIndex.2  \\\ncount   839.000000  839.000000        839.000000        839.000000   \nmean     61.975328   16.029653          6.164966          5.012076   \nstd     134.680468   37.046987          1.427754          2.422942   \nmin       0.000000  -21.400000          0.000000          0.000000   \n25%       0.000000    0.000000          5.992739          5.992739   \n50%      20.310000    0.000000          5.992739          6.000000   \n75%      66.480000    5.400000          6.000000          6.000000   \nmax    1154.410000  153.000000         12.142874         11.503714   \n\n       MinPartialCharge.1  MaxPartialCharge.1  BCUT2D_CHGLO         polym  \\\ncount          839.000000          839.000000    839.000000    839.000000   \nmean            -0.358436           -0.040647     -0.979636    149.307192   \nstd              0.107470            0.165174      1.030348    941.892328   \nmin             -0.870233           -0.254557     -2.590745      0.000000   \n25%             -0.398299           -0.254557     -2.048433      0.000000   \n50%             -0.398299            0.037337      0.000000      0.621236   \n75%             -0.254557            0.037337      0.000000      1.000032   \nmax              0.000000            1.000000      0.000000  11696.537820   \n\n        Complexity    Vmax_log  \ncount   839.000000  839.000000  \nmean     88.529201   -3.795491  \nstd     462.418715    1.343715  \nmin       0.000000   -7.468521  \n25%       0.000000   -4.505845  \n50%       0.000000   -3.991400  \n75%       0.000000   -3.451632  \nmax    5020.000000    4.777318  \n\n[8 rows x 49 columns]",
      "text/html": "<div>\n<style scoped>\n    .dataframe tbody tr th:only-of-type {\n        vertical-align: middle;\n    }\n\n    .dataframe tbody tr th {\n        vertical-align: top;\n    }\n\n    .dataframe thead th {\n        text-align: right;\n    }\n</style>\n<table border=\"1\" class=\"dataframe\">\n  <thead>\n    <tr style=\"text-align: right;\">\n      <th></th>\n      <th>Km</th>\n      <th>Vmax</th>\n      <th>id</th>\n      <th>activity</th>\n      <th>X</th>\n      <th>IR</th>\n      <th>pot2</th>\n      <th>ph</th>\n      <th>temp</th>\n      <th>dstr</th>\n      <th>...</th>\n      <th>TPSA</th>\n      <th>XLogP</th>\n      <th>MaxEStateIndex.1</th>\n      <th>MaxEStateIndex.2</th>\n      <th>MinPartialCharge.1</th>\n      <th>MaxPartialCharge.1</th>\n      <th>BCUT2D_CHGLO</th>\n      <th>polym</th>\n      <th>Complexity</th>\n      <th>Vmax_log</th>\n    </tr>\n  </thead>\n  <tbody>\n    <tr>\n      <th>count</th>\n      <td>839.000000</td>\n      <td>8.390000e+02</td>\n      <td>839.000000</td>\n      <td>839.000000</td>\n      <td>839.000000</td>\n      <td>839.000000</td>\n      <td>839.000000</td>\n      <td>839.000000</td>\n      <td>839.000000</td>\n      <td>839.000000</td>\n      <td>...</td>\n      <td>839.000000</td>\n      <td>839.000000</td>\n      <td>839.000000</td>\n      <td>839.000000</td>\n      <td>839.000000</td>\n      <td>839.000000</td>\n      <td>839.000000</td>\n      <td>839.000000</td>\n      <td>839.000000</td>\n      <td>839.000000</td>\n    </tr>\n    <tr>\n      <th>mean</th>\n      <td>1.406910</td>\n      <td>2.284246e+02</td>\n      <td>596.144219</td>\n      <td>1.189511</td>\n      <td>2.527696</td>\n      <td>1.206629</td>\n      <td>0.274352</td>\n      <td>4.506329</td>\n      <td>33.330274</td>\n      <td>2.682956</td>\n      <td>...</td>\n      <td>61.975328</td>\n      <td>16.029653</td>\n      <td>6.164966</td>\n      <td>5.012076</td>\n      <td>-0.358436</td>\n      <td>-0.040647</td>\n      <td>-0.979636</td>\n      <td>149.307192</td>\n      <td>88.529201</td>\n      <td>-3.795491</td>\n    </tr>\n    <tr>\n      <th>std</th>\n      <td>2.907154</td>\n      <td>3.074768e+03</td>\n      <td>352.986207</td>\n      <td>0.427106</td>\n      <td>0.270383</td>\n      <td>0.179094</td>\n      <td>0.554609</td>\n      <td>1.200939</td>\n      <td>9.300664</td>\n      <td>0.667759</td>\n      <td>...</td>\n      <td>134.680468</td>\n      <td>37.046987</td>\n      <td>1.427754</td>\n      <td>2.422942</td>\n      <td>0.107470</td>\n      <td>0.165174</td>\n      <td>1.030348</td>\n      <td>941.892328</td>\n      <td>462.418715</td>\n      <td>1.343715</td>\n    </tr>\n    <tr>\n      <th>min</th>\n      <td>0.000100</td>\n      <td>3.400000e-08</td>\n      <td>1.000000</td>\n      <td>1.000000</td>\n      <td>1.830000</td>\n      <td>0.700000</td>\n      <td>-1.358000</td>\n      <td>2.000000</td>\n      <td>15.000000</td>\n      <td>1.000000</td>\n      <td>...</td>\n      <td>0.000000</td>\n      <td>-21.400000</td>\n      <td>0.000000</td>\n      <td>0.000000</td>\n      <td>-0.870233</td>\n      <td>-0.254557</td>\n      <td>-2.590745</td>\n      <td>0.000000</td>\n      <td>0.000000</td>\n      <td>-7.468521</td>\n    </tr>\n    <tr>\n      <th>25%</th>\n      <td>0.089650</td>\n      <td>3.120000e-05</td>\n      <td>291.500000</td>\n      <td>1.000000</td>\n      <td>2.280000</td>\n      <td>1.084000</td>\n      <td>-0.078800</td>\n      <td>4.000000</td>\n      <td>25.000000</td>\n      <td>3.000000</td>\n      <td>...</td>\n      <td>0.000000</td>\n      <td>0.000000</td>\n      <td>5.992739</td>\n      <td>5.992739</td>\n      <td>-0.398299</td>\n      <td>-0.254557</td>\n      <td>-2.048433</td>\n      <td>0.000000</td>\n      <td>0.000000</td>\n      <td>-4.505845</td>\n    </tr>\n    <tr>\n      <th>50%</th>\n      <td>0.269000</td>\n      <td>1.020000e-04</td>\n      <td>587.000000</td>\n      <td>1.000000</td>\n      <td>2.579000</td>\n      <td>1.217200</td>\n      <td>0.051900</td>\n      <td>4.000000</td>\n      <td>31.000000</td>\n      <td>3.000000</td>\n      <td>...</td>\n      <td>20.310000</td>\n      <td>0.000000</td>\n      <td>5.992739</td>\n      <td>6.000000</td>\n      <td>-0.398299</td>\n      <td>0.037337</td>\n      <td>0.000000</td>\n      <td>0.621236</td>\n      <td>0.000000</td>\n      <td>-3.991400</td>\n    </tr>\n    <tr>\n      <th>75%</th>\n      <td>0.952500</td>\n      <td>3.535000e-04</td>\n      <td>888.500000</td>\n      <td>1.000000</td>\n      <td>2.750000</td>\n      <td>1.336000</td>\n      <td>0.619000</td>\n      <td>4.500000</td>\n      <td>40.000000</td>\n      <td>3.000000</td>\n      <td>...</td>\n      <td>66.480000</td>\n      <td>5.400000</td>\n      <td>6.000000</td>\n      <td>6.000000</td>\n      <td>-0.254557</td>\n      <td>0.037337</td>\n      <td>0.000000</td>\n      <td>1.000032</td>\n      <td>0.000000</td>\n      <td>-3.451632</td>\n    </tr>\n    <tr>\n      <th>max</th>\n      <td>16.540000</td>\n      <td>5.988500e+04</td>\n      <td>1201.000000</td>\n      <td>4.000000</td>\n      <td>3.170000</td>\n      <td>1.710000</td>\n      <td>1.690000</td>\n      <td>9.000000</td>\n      <td>90.000000</td>\n      <td>3.000000</td>\n      <td>...</td>\n      <td>1154.410000</td>\n      <td>153.000000</td>\n      <td>12.142874</td>\n      <td>11.503714</td>\n      <td>0.000000</td>\n      <td>1.000000</td>\n      <td>0.000000</td>\n      <td>11696.537820</td>\n      <td>5020.000000</td>\n      <td>4.777318</td>\n    </tr>\n  </tbody>\n</table>\n<p>8 rows × 49 columns</p>\n</div>"
     },
     "execution_count": 125,
     "metadata": {},
     "output_type": "execute_result"
    }
   ],
   "source": [
    "df.describe()"
   ],
   "metadata": {
    "collapsed": false,
    "ExecuteTime": {
     "end_time": "2023-10-16T09:06:23.993993500Z",
     "start_time": "2023-10-16T09:06:23.618499100Z"
    }
   },
   "id": "884544fbcce4ae9c"
  },
  {
   "cell_type": "code",
   "execution_count": 126,
   "outputs": [],
   "source": [
    "df['lgCconst'] = np.log10(df['Cconst'])"
   ],
   "metadata": {
    "collapsed": false,
    "ExecuteTime": {
     "end_time": "2023-10-16T09:06:23.993993500Z",
     "start_time": "2023-10-16T09:06:23.659254300Z"
    }
   },
   "id": "bed8b2e883aac279"
  },
  {
   "cell_type": "code",
   "execution_count": 127,
   "outputs": [
    {
     "data": {
      "text/plain": "               Km          Vmax           id    activity           X  \\\ncount  839.000000  8.390000e+02   839.000000  839.000000  839.000000   \nmean     1.406910  2.284246e+02   596.144219    1.189511    2.527696   \nstd      2.907154  3.074768e+03   352.986207    0.427106    0.270383   \nmin      0.000100  3.400000e-08     1.000000    1.000000    1.830000   \n25%      0.089650  3.120000e-05   291.500000    1.000000    2.280000   \n50%      0.269000  1.020000e-04   587.000000    1.000000    2.579000   \n75%      0.952500  3.535000e-04   888.500000    1.000000    2.750000   \nmax     16.540000  5.988500e+04  1201.000000    4.000000    3.170000   \n\n               IR        pot2          ph        temp        dstr  ...  \\\ncount  839.000000  839.000000  839.000000  839.000000  839.000000  ...   \nmean     1.206629    0.274352    4.506329   33.330274    2.682956  ...   \nstd      0.179094    0.554609    1.200939    9.300664    0.667759  ...   \nmin      0.700000   -1.358000    2.000000   15.000000    1.000000  ...   \n25%      1.084000   -0.078800    4.000000   25.000000    3.000000  ...   \n50%      1.217200    0.051900    4.000000   31.000000    3.000000  ...   \n75%      1.336000    0.619000    4.500000   40.000000    3.000000  ...   \nmax      1.710000    1.690000    9.000000   90.000000    3.000000  ...   \n\n              TPSA       XLogP  MaxEStateIndex.1  MaxEStateIndex.2  \\\ncount   839.000000  839.000000        839.000000        839.000000   \nmean     61.975328   16.029653          6.164966          5.012076   \nstd     134.680468   37.046987          1.427754          2.422942   \nmin       0.000000  -21.400000          0.000000          0.000000   \n25%       0.000000    0.000000          5.992739          5.992739   \n50%      20.310000    0.000000          5.992739          6.000000   \n75%      66.480000    5.400000          6.000000          6.000000   \nmax    1154.410000  153.000000         12.142874         11.503714   \n\n       MinPartialCharge.1  MaxPartialCharge.1  BCUT2D_CHGLO         polym  \\\ncount          839.000000          839.000000    839.000000    839.000000   \nmean            -0.358436           -0.040647     -0.979636    149.307192   \nstd              0.107470            0.165174      1.030348    941.892328   \nmin             -0.870233           -0.254557     -2.590745      0.000000   \n25%             -0.398299           -0.254557     -2.048433      0.000000   \n50%             -0.398299            0.037337      0.000000      0.621236   \n75%             -0.254557            0.037337      0.000000      1.000032   \nmax              0.000000            1.000000      0.000000  11696.537820   \n\n        Complexity    Vmax_log  \ncount   839.000000  839.000000  \nmean     88.529201   -3.795491  \nstd     462.418715    1.343715  \nmin       0.000000   -7.468521  \n25%       0.000000   -4.505845  \n50%       0.000000   -3.991400  \n75%       0.000000   -3.451632  \nmax    5020.000000    4.777318  \n\n[8 rows x 49 columns]",
      "text/html": "<div>\n<style scoped>\n    .dataframe tbody tr th:only-of-type {\n        vertical-align: middle;\n    }\n\n    .dataframe tbody tr th {\n        vertical-align: top;\n    }\n\n    .dataframe thead th {\n        text-align: right;\n    }\n</style>\n<table border=\"1\" class=\"dataframe\">\n  <thead>\n    <tr style=\"text-align: right;\">\n      <th></th>\n      <th>Km</th>\n      <th>Vmax</th>\n      <th>id</th>\n      <th>activity</th>\n      <th>X</th>\n      <th>IR</th>\n      <th>pot2</th>\n      <th>ph</th>\n      <th>temp</th>\n      <th>dstr</th>\n      <th>...</th>\n      <th>TPSA</th>\n      <th>XLogP</th>\n      <th>MaxEStateIndex.1</th>\n      <th>MaxEStateIndex.2</th>\n      <th>MinPartialCharge.1</th>\n      <th>MaxPartialCharge.1</th>\n      <th>BCUT2D_CHGLO</th>\n      <th>polym</th>\n      <th>Complexity</th>\n      <th>Vmax_log</th>\n    </tr>\n  </thead>\n  <tbody>\n    <tr>\n      <th>count</th>\n      <td>839.000000</td>\n      <td>8.390000e+02</td>\n      <td>839.000000</td>\n      <td>839.000000</td>\n      <td>839.000000</td>\n      <td>839.000000</td>\n      <td>839.000000</td>\n      <td>839.000000</td>\n      <td>839.000000</td>\n      <td>839.000000</td>\n      <td>...</td>\n      <td>839.000000</td>\n      <td>839.000000</td>\n      <td>839.000000</td>\n      <td>839.000000</td>\n      <td>839.000000</td>\n      <td>839.000000</td>\n      <td>839.000000</td>\n      <td>839.000000</td>\n      <td>839.000000</td>\n      <td>839.000000</td>\n    </tr>\n    <tr>\n      <th>mean</th>\n      <td>1.406910</td>\n      <td>2.284246e+02</td>\n      <td>596.144219</td>\n      <td>1.189511</td>\n      <td>2.527696</td>\n      <td>1.206629</td>\n      <td>0.274352</td>\n      <td>4.506329</td>\n      <td>33.330274</td>\n      <td>2.682956</td>\n      <td>...</td>\n      <td>61.975328</td>\n      <td>16.029653</td>\n      <td>6.164966</td>\n      <td>5.012076</td>\n      <td>-0.358436</td>\n      <td>-0.040647</td>\n      <td>-0.979636</td>\n      <td>149.307192</td>\n      <td>88.529201</td>\n      <td>-3.795491</td>\n    </tr>\n    <tr>\n      <th>std</th>\n      <td>2.907154</td>\n      <td>3.074768e+03</td>\n      <td>352.986207</td>\n      <td>0.427106</td>\n      <td>0.270383</td>\n      <td>0.179094</td>\n      <td>0.554609</td>\n      <td>1.200939</td>\n      <td>9.300664</td>\n      <td>0.667759</td>\n      <td>...</td>\n      <td>134.680468</td>\n      <td>37.046987</td>\n      <td>1.427754</td>\n      <td>2.422942</td>\n      <td>0.107470</td>\n      <td>0.165174</td>\n      <td>1.030348</td>\n      <td>941.892328</td>\n      <td>462.418715</td>\n      <td>1.343715</td>\n    </tr>\n    <tr>\n      <th>min</th>\n      <td>0.000100</td>\n      <td>3.400000e-08</td>\n      <td>1.000000</td>\n      <td>1.000000</td>\n      <td>1.830000</td>\n      <td>0.700000</td>\n      <td>-1.358000</td>\n      <td>2.000000</td>\n      <td>15.000000</td>\n      <td>1.000000</td>\n      <td>...</td>\n      <td>0.000000</td>\n      <td>-21.400000</td>\n      <td>0.000000</td>\n      <td>0.000000</td>\n      <td>-0.870233</td>\n      <td>-0.254557</td>\n      <td>-2.590745</td>\n      <td>0.000000</td>\n      <td>0.000000</td>\n      <td>-7.468521</td>\n    </tr>\n    <tr>\n      <th>25%</th>\n      <td>0.089650</td>\n      <td>3.120000e-05</td>\n      <td>291.500000</td>\n      <td>1.000000</td>\n      <td>2.280000</td>\n      <td>1.084000</td>\n      <td>-0.078800</td>\n      <td>4.000000</td>\n      <td>25.000000</td>\n      <td>3.000000</td>\n      <td>...</td>\n      <td>0.000000</td>\n      <td>0.000000</td>\n      <td>5.992739</td>\n      <td>5.992739</td>\n      <td>-0.398299</td>\n      <td>-0.254557</td>\n      <td>-2.048433</td>\n      <td>0.000000</td>\n      <td>0.000000</td>\n      <td>-4.505845</td>\n    </tr>\n    <tr>\n      <th>50%</th>\n      <td>0.269000</td>\n      <td>1.020000e-04</td>\n      <td>587.000000</td>\n      <td>1.000000</td>\n      <td>2.579000</td>\n      <td>1.217200</td>\n      <td>0.051900</td>\n      <td>4.000000</td>\n      <td>31.000000</td>\n      <td>3.000000</td>\n      <td>...</td>\n      <td>20.310000</td>\n      <td>0.000000</td>\n      <td>5.992739</td>\n      <td>6.000000</td>\n      <td>-0.398299</td>\n      <td>0.037337</td>\n      <td>0.000000</td>\n      <td>0.621236</td>\n      <td>0.000000</td>\n      <td>-3.991400</td>\n    </tr>\n    <tr>\n      <th>75%</th>\n      <td>0.952500</td>\n      <td>3.535000e-04</td>\n      <td>888.500000</td>\n      <td>1.000000</td>\n      <td>2.750000</td>\n      <td>1.336000</td>\n      <td>0.619000</td>\n      <td>4.500000</td>\n      <td>40.000000</td>\n      <td>3.000000</td>\n      <td>...</td>\n      <td>66.480000</td>\n      <td>5.400000</td>\n      <td>6.000000</td>\n      <td>6.000000</td>\n      <td>-0.254557</td>\n      <td>0.037337</td>\n      <td>0.000000</td>\n      <td>1.000032</td>\n      <td>0.000000</td>\n      <td>-3.451632</td>\n    </tr>\n    <tr>\n      <th>max</th>\n      <td>16.540000</td>\n      <td>5.988500e+04</td>\n      <td>1201.000000</td>\n      <td>4.000000</td>\n      <td>3.170000</td>\n      <td>1.710000</td>\n      <td>1.690000</td>\n      <td>9.000000</td>\n      <td>90.000000</td>\n      <td>3.000000</td>\n      <td>...</td>\n      <td>1154.410000</td>\n      <td>153.000000</td>\n      <td>12.142874</td>\n      <td>11.503714</td>\n      <td>0.000000</td>\n      <td>1.000000</td>\n      <td>0.000000</td>\n      <td>11696.537820</td>\n      <td>5020.000000</td>\n      <td>4.777318</td>\n    </tr>\n  </tbody>\n</table>\n<p>8 rows × 49 columns</p>\n</div>"
     },
     "execution_count": 127,
     "metadata": {},
     "output_type": "execute_result"
    }
   ],
   "source": [
    "df.describe()"
   ],
   "metadata": {
    "collapsed": false,
    "ExecuteTime": {
     "end_time": "2023-10-16T09:06:23.995895100Z",
     "start_time": "2023-10-16T09:06:23.663280300Z"
    }
   },
   "id": "86be36dd68678d93"
  },
  {
   "cell_type": "code",
   "execution_count": 128,
   "outputs": [
    {
     "data": {
      "text/plain": "Cconst\n166.379937     144\n1.000000        44\n100.000000      42\n0.100000        42\n10.000000       36\n              ... \n350.000000       1\n0.140000         1\n142.828000       1\n1045.000000      1\n0.350000         1\nName: count, Length: 112, dtype: int64"
     },
     "execution_count": 128,
     "metadata": {},
     "output_type": "execute_result"
    }
   ],
   "source": [
    "df['Cconst'].value_counts()"
   ],
   "metadata": {
    "collapsed": false,
    "ExecuteTime": {
     "end_time": "2023-10-16T09:06:23.995895100Z",
     "start_time": "2023-10-16T09:06:23.705570600Z"
    }
   },
   "id": "3b145c1a13875027"
  },
  {
   "cell_type": "code",
   "execution_count": 129,
   "outputs": [
    {
     "data": {
      "text/plain": "lgCconst\n 2.221101    144\n 0.000000     44\n 2.000000     42\n-1.000000     42\n 1.000000     36\n            ... \n 2.544068      1\n-0.853872      1\n 2.154813      1\n 3.019116      1\n-0.455932      1\nName: count, Length: 112, dtype: int64"
     },
     "execution_count": 129,
     "metadata": {},
     "output_type": "execute_result"
    }
   ],
   "source": [
    "df['lgCconst'].value_counts()"
   ],
   "metadata": {
    "collapsed": false,
    "ExecuteTime": {
     "end_time": "2023-10-16T09:06:23.995895100Z",
     "start_time": "2023-10-16T09:06:23.710144400Z"
    }
   },
   "id": "b044c5addfaeceb9"
  },
  {
   "cell_type": "code",
   "execution_count": 130,
   "outputs": [
    {
     "data": {
      "text/plain": "<Axes: >"
     },
     "execution_count": 130,
     "metadata": {},
     "output_type": "execute_result"
    },
    {
     "data": {
      "text/plain": "<Figure size 640x480 with 1 Axes>",
      "image/png": "[encoded data removed]"
     },
     "metadata": {},
     "output_type": "display_data"
    }
   ],
   "source": [
    "q1 = df['Cconst'].quantile(0)\n",
    "q2 = df['Cconst'].quantile(0.1)\n",
    "df[df['Cconst'].between(q1,q2)]['Cconst'].hist()"
   ],
   "metadata": {
    "collapsed": false,
    "ExecuteTime": {
     "end_time": "2023-10-16T09:06:23.995895100Z",
     "start_time": "2023-10-16T09:06:23.718660800Z"
    }
   },
   "id": "f2e4224ddf935a16"
  },
  {
   "cell_type": "code",
   "execution_count": 131,
   "outputs": [
    {
     "data": {
      "text/plain": "0       226.0\n1       226.0\n2         0.0\n3         0.0\n4       226.0\n        ...  \n1124    226.0\n1125    226.0\n1126    226.0\n1127    226.0\n1128    226.0\nName: Complexity1, Length: 839, dtype: float64"
     },
     "execution_count": 131,
     "metadata": {},
     "output_type": "execute_result"
    }
   ],
   "source": [
    "df['Complexity1']"
   ],
   "metadata": {
    "collapsed": false,
    "ExecuteTime": {
     "end_time": "2023-10-16T09:06:23.996895500Z",
     "start_time": "2023-10-16T09:06:23.844398800Z"
    }
   },
   "id": "dff2781eb1b4d312"
  },
  {
   "cell_type": "code",
   "execution_count": 132,
   "outputs": [],
   "source": [
    "min_val = df['Sufrace'].min()\n",
    "max_val = df['Sufrace'].max()\n",
    "df['Sufrace_change'] = (df['Sufrace'] - min_val) / (max_val - min_val)\n"
   ],
   "metadata": {
    "collapsed": false,
    "ExecuteTime": {
     "end_time": "2023-10-16T09:06:23.996895500Z",
     "start_time": "2023-10-16T09:06:23.847012200Z"
    }
   },
   "id": "d796d9fcd24c26f4"
  },
  {
   "cell_type": "code",
   "execution_count": 133,
   "outputs": [
    {
     "data": {
      "text/plain": "0       226.0\n1       226.0\n2         0.0\n3         0.0\n4       226.0\n        ...  \n1124    226.0\n1125    226.0\n1126    226.0\n1127    226.0\n1128    226.0\nName: Complexity1, Length: 839, dtype: float64"
     },
     "execution_count": 133,
     "metadata": {},
     "output_type": "execute_result"
    }
   ],
   "source": [
    "df['Complexity1']"
   ],
   "metadata": {
    "collapsed": false,
    "ExecuteTime": {
     "end_time": "2023-10-16T09:06:23.996895500Z",
     "start_time": "2023-10-16T09:06:23.850417100Z"
    }
   },
   "id": "819f700351fe3cb0"
  },
  {
   "cell_type": "code",
   "execution_count": 134,
   "outputs": [
    {
     "data": {
      "text/plain": "Mcoat\n0.000        356\n192.120       53\n55000.000     46\n364.450       34\n282.470       22\n            ... \n26300.000      1\n203.826        1\n140.190        1\n288.370        1\n203.360        1\nName: count, Length: 107, dtype: int64"
     },
     "execution_count": 134,
     "metadata": {},
     "output_type": "execute_result"
    }
   ],
   "source": [
    "df['Mcoat'].value_counts()"
   ],
   "metadata": {
    "collapsed": false,
    "ExecuteTime": {
     "end_time": "2023-10-16T09:06:24.012473300Z",
     "start_time": "2023-10-16T09:06:23.859506400Z"
    }
   },
   "id": "95edb61953a4b29a"
  },
  {
   "cell_type": "code",
   "execution_count": 135,
   "outputs": [],
   "source": [
    "df['Mcoat'] = df['Mcoat'].replace(0, np.nan)   "
   ],
   "metadata": {
    "collapsed": false,
    "ExecuteTime": {
     "end_time": "2023-10-16T09:06:24.012473300Z",
     "start_time": "2023-10-16T09:06:23.861423100Z"
    }
   },
   "id": "faf9c4c3e3248b05"
  },
  {
   "cell_type": "code",
   "execution_count": 136,
   "outputs": [],
   "source": [
    "df_filled = df.fillna(df**2)"
   ],
   "metadata": {
    "collapsed": false,
    "ExecuteTime": {
     "end_time": "2023-10-16T09:06:24.012473300Z",
     "start_time": "2023-10-16T09:06:23.864843900Z"
    }
   },
   "id": "e8c768d3f3ce39b3"
  },
  {
   "cell_type": "code",
   "execution_count": 137,
   "outputs": [
    {
     "data": {
      "text/plain": "          Km      Vmax    id  activity      X     IR  pot2   ph  temp  dstr  \\\n0     0.0065  1.376300     1         1  2.757  1.071 -0.05  4.0  37.0     3   \n1     0.0554  0.264300     2         1  2.757  1.071 -0.05  4.0  37.0     3   \n2     0.0355  8.363000     3         1  2.757  1.071 -0.05  4.0  37.0     3   \n3     0.2277  0.438200     4         1  2.757  1.071 -0.05  4.0  37.0     3   \n4     0.0173  1.027200     5         1  2.757  1.071 -0.05  4.0  37.0     3   \n...      ...       ...   ...       ...    ...    ...   ...  ...   ...   ...   \n1124  0.0550  0.000467  1197         2  2.280  1.350  1.20  3.0  41.4     3   \n1125  0.1220  0.000002  1198         2  2.280  1.350  1.20  7.0  41.4     3   \n1126  0.0270  0.000252  1199         2  2.280  1.350  1.20  3.0  33.0     1   \n1127  0.0350  0.000177  1200         2  2.280  1.350  1.20  7.0  33.0     1   \n1128  0.1630  0.000041  1201         2  1.937  0.853  0.78  4.0  42.4     1   \n\n      ...  XLogP  MaxEStateIndex.1  MaxEStateIndex.2  MinPartialCharge.1  \\\n0     ...    6.5          5.992739          6.000000           -0.398299   \n1     ...    6.5          5.992739          6.000000           -0.398299   \n2     ...    6.5          6.000000          5.992739           -0.254557   \n3     ...    6.5          6.000000          5.992739           -0.254557   \n4     ...    6.5          5.992739          6.000000           -0.398299   \n...   ...    ...               ...               ...                 ...   \n1124  ...   -1.7          5.992739          0.000000           -0.398299   \n1125  ...   -1.7          5.992739          0.000000           -0.398299   \n1126  ...  -10.8          5.992739          0.000000           -0.398299   \n1127  ...  -10.8          5.992739          0.000000           -0.398299   \n1128  ...   -1.6          5.992739          0.000000           -0.398299   \n\n      MaxPartialCharge.1  BCUT2D_CHGLO     polym  Complexity  Vmax_log  \\\n0               0.037337     -1.987595  1.000007         0.0  0.138713   \n1               0.037337     -1.987595  1.000007         0.0 -0.577903   \n2              -0.254557     -1.987595  1.000007         0.0  0.922362   \n3              -0.254557     -1.987595  1.000007         0.0 -0.358328   \n4               0.037337     -1.987595  1.000007         0.0  0.011655   \n...                  ...           ...       ...         ...       ...   \n1124            0.037337     -2.178395  0.999984         0.0 -3.330683   \n1125            0.037337     -2.178395  0.999984         0.0 -5.821023   \n1126            0.037337     -2.441399  0.480347       725.0 -3.598599   \n1127            0.037337     -2.441399  0.480347       725.0 -3.752027   \n1128            0.037337     -2.379344  0.999951         0.0 -4.389340   \n\n      Sufrace_change  \n0                0.2  \n1                0.2  \n2                0.2  \n3                0.2  \n4                0.2  \n...              ...  \n1124             0.2  \n1125             0.2  \n1126             1.0  \n1127             1.0  \n1128             0.2  \n\n[839 rows x 50 columns]",
      "text/html": "<div>\n<style scoped>\n    .dataframe tbody tr th:only-of-type {\n        vertical-align: middle;\n    }\n\n    .dataframe tbody tr th {\n        vertical-align: top;\n    }\n\n    .dataframe thead th {\n        text-align: right;\n    }\n</style>\n<table border=\"1\" class=\"dataframe\">\n  <thead>\n    <tr style=\"text-align: right;\">\n      <th></th>\n      <th>Km</th>\n      <th>Vmax</th>\n      <th>id</th>\n      <th>activity</th>\n      <th>X</th>\n      <th>IR</th>\n      <th>pot2</th>\n      <th>ph</th>\n      <th>temp</th>\n      <th>dstr</th>\n      <th>...</th>\n      <th>XLogP</th>\n      <th>MaxEStateIndex.1</th>\n      <th>MaxEStateIndex.2</th>\n      <th>MinPartialCharge.1</th>\n      <th>MaxPartialCharge.1</th>\n      <th>BCUT2D_CHGLO</th>\n      <th>polym</th>\n      <th>Complexity</th>\n      <th>Vmax_log</th>\n      <th>Sufrace_change</th>\n    </tr>\n  </thead>\n  <tbody>\n    <tr>\n      <th>0</th>\n      <td>0.0065</td>\n      <td>1.376300</td>\n      <td>1</td>\n      <td>1</td>\n      <td>2.757</td>\n      <td>1.071</td>\n      <td>-0.05</td>\n      <td>4.0</td>\n      <td>37.0</td>\n      <td>3</td>\n      <td>...</td>\n      <td>6.5</td>\n      <td>5.992739</td>\n      <td>6.000000</td>\n      <td>-0.398299</td>\n      <td>0.037337</td>\n      <td>-1.987595</td>\n      <td>1.000007</td>\n      <td>0.0</td>\n      <td>0.138713</td>\n      <td>0.2</td>\n    </tr>\n    <tr>\n      <th>1</th>\n      <td>0.0554</td>\n      <td>0.264300</td>\n      <td>2</td>\n      <td>1</td>\n      <td>2.757</td>\n      <td>1.071</td>\n      <td>-0.05</td>\n      <td>4.0</td>\n      <td>37.0</td>\n      <td>3</td>\n      <td>...</td>\n      <td>6.5</td>\n      <td>5.992739</td>\n      <td>6.000000</td>\n      <td>-0.398299</td>\n      <td>0.037337</td>\n      <td>-1.987595</td>\n      <td>1.000007</td>\n      <td>0.0</td>\n      <td>-0.577903</td>\n      <td>0.2</td>\n    </tr>\n    <tr>\n      <th>2</th>\n      <td>0.0355</td>\n      <td>8.363000</td>\n      <td>3</td>\n      <td>1</td>\n      <td>2.757</td>\n      <td>1.071</td>\n      <td>-0.05</td>\n      <td>4.0</td>\n      <td>37.0</td>\n      <td>3</td>\n      <td>...</td>\n      <td>6.5</td>\n      <td>6.000000</td>\n      <td>5.992739</td>\n      <td>-0.254557</td>\n      <td>-0.254557</td>\n      <td>-1.987595</td>\n      <td>1.000007</td>\n      <td>0.0</td>\n      <td>0.922362</td>\n      <td>0.2</td>\n    </tr>\n    <tr>\n      <th>3</th>\n      <td>0.2277</td>\n      <td>0.438200</td>\n      <td>4</td>\n      <td>1</td>\n      <td>2.757</td>\n      <td>1.071</td>\n      <td>-0.05</td>\n      <td>4.0</td>\n      <td>37.0</td>\n      <td>3</td>\n      <td>...</td>\n      <td>6.5</td>\n      <td>6.000000</td>\n      <td>5.992739</td>\n      <td>-0.254557</td>\n      <td>-0.254557</td>\n      <td>-1.987595</td>\n      <td>1.000007</td>\n      <td>0.0</td>\n      <td>-0.358328</td>\n      <td>0.2</td>\n    </tr>\n    <tr>\n      <th>4</th>\n      <td>0.0173</td>\n      <td>1.027200</td>\n      <td>5</td>\n      <td>1</td>\n      <td>2.757</td>\n      <td>1.071</td>\n      <td>-0.05</td>\n      <td>4.0</td>\n      <td>37.0</td>\n      <td>3</td>\n      <td>...</td>\n      <td>6.5</td>\n      <td>5.992739</td>\n      <td>6.000000</td>\n      <td>-0.398299</td>\n      <td>0.037337</td>\n      <td>-1.987595</td>\n      <td>1.000007</td>\n      <td>0.0</td>\n      <td>0.011655</td>\n      <td>0.2</td>\n    </tr>\n    <tr>\n      <th>...</th>\n      <td>...</td>\n      <td>...</td>\n      <td>...</td>\n      <td>...</td>\n      <td>...</td>\n      <td>...</td>\n      <td>...</td>\n      <td>...</td>\n      <td>...</td>\n      <td>...</td>\n      <td>...</td>\n      <td>...</td>\n      <td>...</td>\n      <td>...</td>\n      <td>...</td>\n      <td>...</td>\n      <td>...</td>\n      <td>...</td>\n      <td>...</td>\n      <td>...</td>\n      <td>...</td>\n    </tr>\n    <tr>\n      <th>1124</th>\n      <td>0.0550</td>\n      <td>0.000467</td>\n      <td>1197</td>\n      <td>2</td>\n      <td>2.280</td>\n      <td>1.350</td>\n      <td>1.20</td>\n      <td>3.0</td>\n      <td>41.4</td>\n      <td>3</td>\n      <td>...</td>\n      <td>-1.7</td>\n      <td>5.992739</td>\n      <td>0.000000</td>\n      <td>-0.398299</td>\n      <td>0.037337</td>\n      <td>-2.178395</td>\n      <td>0.999984</td>\n      <td>0.0</td>\n      <td>-3.330683</td>\n      <td>0.2</td>\n    </tr>\n    <tr>\n      <th>1125</th>\n      <td>0.1220</td>\n      <td>0.000002</td>\n      <td>1198</td>\n      <td>2</td>\n      <td>2.280</td>\n      <td>1.350</td>\n      <td>1.20</td>\n      <td>7.0</td>\n      <td>41.4</td>\n      <td>3</td>\n      <td>...</td>\n      <td>-1.7</td>\n      <td>5.992739</td>\n      <td>0.000000</td>\n      <td>-0.398299</td>\n      <td>0.037337</td>\n      <td>-2.178395</td>\n      <td>0.999984</td>\n      <td>0.0</td>\n      <td>-5.821023</td>\n      <td>0.2</td>\n    </tr>\n    <tr>\n      <th>1126</th>\n      <td>0.0270</td>\n      <td>0.000252</td>\n      <td>1199</td>\n      <td>2</td>\n      <td>2.280</td>\n      <td>1.350</td>\n      <td>1.20</td>\n      <td>3.0</td>\n      <td>33.0</td>\n      <td>1</td>\n      <td>...</td>\n      <td>-10.8</td>\n      <td>5.992739</td>\n      <td>0.000000</td>\n      <td>-0.398299</td>\n      <td>0.037337</td>\n      <td>-2.441399</td>\n      <td>0.480347</td>\n      <td>725.0</td>\n      <td>-3.598599</td>\n      <td>1.0</td>\n    </tr>\n    <tr>\n      <th>1127</th>\n      <td>0.0350</td>\n      <td>0.000177</td>\n      <td>1200</td>\n      <td>2</td>\n      <td>2.280</td>\n      <td>1.350</td>\n      <td>1.20</td>\n      <td>7.0</td>\n      <td>33.0</td>\n      <td>1</td>\n      <td>...</td>\n      <td>-10.8</td>\n      <td>5.992739</td>\n      <td>0.000000</td>\n      <td>-0.398299</td>\n      <td>0.037337</td>\n      <td>-2.441399</td>\n      <td>0.480347</td>\n      <td>725.0</td>\n      <td>-3.752027</td>\n      <td>1.0</td>\n    </tr>\n    <tr>\n      <th>1128</th>\n      <td>0.1630</td>\n      <td>0.000041</td>\n      <td>1201</td>\n      <td>2</td>\n      <td>1.937</td>\n      <td>0.853</td>\n      <td>0.78</td>\n      <td>4.0</td>\n      <td>42.4</td>\n      <td>1</td>\n      <td>...</td>\n      <td>-1.6</td>\n      <td>5.992739</td>\n      <td>0.000000</td>\n      <td>-0.398299</td>\n      <td>0.037337</td>\n      <td>-2.379344</td>\n      <td>0.999951</td>\n      <td>0.0</td>\n      <td>-4.389340</td>\n      <td>0.2</td>\n    </tr>\n  </tbody>\n</table>\n<p>839 rows × 50 columns</p>\n</div>"
     },
     "execution_count": 137,
     "metadata": {},
     "output_type": "execute_result"
    }
   ],
   "source": [
    "df_filled"
   ],
   "metadata": {
    "collapsed": false,
    "ExecuteTime": {
     "end_time": "2023-10-16T09:06:24.013470900Z",
     "start_time": "2023-10-16T09:06:23.871249800Z"
    }
   },
   "id": "119f3dab7d5582ce"
  },
  {
   "cell_type": "code",
   "execution_count": 138,
   "outputs": [
    {
     "data": {
      "text/plain": "Mcoat\n192.120      53\n55000.000    46\n364.450      34\n282.470      22\n62.070       19\n             ..\n110.100       1\n14000.000     1\n26300.000     1\n203.826       1\n203.360       1\nName: count, Length: 106, dtype: int64"
     },
     "execution_count": 138,
     "metadata": {},
     "output_type": "execute_result"
    }
   ],
   "source": [
    "df['Mcoat'].value_counts()"
   ],
   "metadata": {
    "collapsed": false,
    "ExecuteTime": {
     "end_time": "2023-10-16T09:06:24.014466500Z",
     "start_time": "2023-10-16T09:06:23.886924800Z"
    }
   },
   "id": "1c8376aa5cfb69f0"
  },
  {
   "cell_type": "code",
   "execution_count": 139,
   "outputs": [
    {
     "data": {
      "text/plain": "MinAbsEStateIndex\n0.000000    469\n0.208333    104\n0.125000     40\n0.331507     32\n1.144213     22\n1.000000     19\n0.671343     18\n0.087083     10\n0.882716     10\n0.062261      8\n0.833333      7\n0.025619      7\n0.583333      5\n0.761515      5\n0.056866      4\n0.597222      4\n0.862284      4\n0.189815      4\n1.046760      4\n1.500000      3\n0.250000      3\n1.250000      3\n1.263117      2\n1.875000      2\n0.052846      2\n0.083333      2\n0.946759      2\n0.731481      2\n0.598053      2\n0.020210      2\n0.525787      2\n0.279491      2\n0.725818      2\n0.520370      2\n0.967593      2\n1.145833      2\n0.070278      2\n0.277778      2\n0.141944      2\n0.004355      2\n0.003686      2\n0.094907      2\n0.407860      1\n0.294682      1\n0.532407      1\n0.226435      1\n0.840345      1\n1.187500      1\n0.347222      1\n0.042587      1\n0.049447      1\n0.076389      1\n0.806667      1\n0.025463      1\n0.428299      1\n0.287037      1\nName: count, dtype: int64"
     },
     "execution_count": 139,
     "metadata": {},
     "output_type": "execute_result"
    }
   ],
   "source": [
    "df['MinAbsEStateIndex'].value_counts()"
   ],
   "metadata": {
    "collapsed": false,
    "ExecuteTime": {
     "end_time": "2023-10-16T09:06:24.014599300Z",
     "start_time": "2023-10-16T09:06:23.890566300Z"
    }
   },
   "id": "cfbec101d75b6747"
  },
  {
   "cell_type": "code",
   "execution_count": 140,
   "outputs": [],
   "source": [
    "df['MinAbsEStateIndex'] = df['MinAbsEStateIndex'].replace(0, np.nan)"
   ],
   "metadata": {
    "collapsed": false,
    "ExecuteTime": {
     "end_time": "2023-10-16T09:06:24.014599300Z",
     "start_time": "2023-10-16T09:06:23.894853600Z"
    }
   },
   "id": "2e360d511e8e0a9"
  },
  {
   "cell_type": "code",
   "execution_count": 141,
   "outputs": [
    {
     "data": {
      "text/plain": "MinAbsEStateIndex\n0.208333    104\n0.125000     40\n0.331507     32\n1.144213     22\n1.000000     19\n0.671343     18\n0.882716     10\n0.087083     10\n0.062261      8\n0.833333      7\n0.025619      7\n0.761515      5\n0.583333      5\n0.056866      4\n0.862284      4\n0.189815      4\n1.046760      4\n0.597222      4\n1.250000      3\n0.250000      3\n1.500000      3\n1.263117      2\n1.875000      2\n0.052846      2\n0.083333      2\n0.946759      2\n0.731481      2\n0.598053      2\n0.020210      2\n0.525787      2\n0.279491      2\n0.725818      2\n0.520370      2\n0.967593      2\n1.145833      2\n0.070278      2\n0.277778      2\n0.141944      2\n0.004355      2\n0.003686      2\n0.094907      2\n0.407860      1\n0.294682      1\n0.532407      1\n0.226435      1\n0.840345      1\n1.187500      1\n0.347222      1\n0.042587      1\n0.049447      1\n0.076389      1\n0.806667      1\n0.025463      1\n0.428299      1\n0.287037      1\nName: count, dtype: int64"
     },
     "execution_count": 141,
     "metadata": {},
     "output_type": "execute_result"
    }
   ],
   "source": [
    "df['MinAbsEStateIndex'].value_counts()"
   ],
   "metadata": {
    "collapsed": false,
    "ExecuteTime": {
     "end_time": "2023-10-16T09:06:24.015101100Z",
     "start_time": "2023-10-16T09:06:23.897843800Z"
    }
   },
   "id": "36f52e8c84e5a45d"
  },
  {
   "cell_type": "code",
   "execution_count": 142,
   "outputs": [],
   "source": [
    "df_nan = df.isna().mean().sort_values(ascending = False)"
   ],
   "metadata": {
    "collapsed": false,
    "ExecuteTime": {
     "end_time": "2023-10-16T09:06:24.015101100Z",
     "start_time": "2023-10-16T09:06:23.902285400Z"
    }
   },
   "id": "d619f75e8eb35284"
  },
  {
   "cell_type": "code",
   "execution_count": 143,
   "outputs": [
    {
     "data": {
      "text/plain": "MinAbsEStateIndex     0.558999\nMcoat                 0.424315\nKm                    0.000000\nTPSA1                 0.000000\nMinEStateIndex        0.000000\nEState_VSA6           0.000000\nVSA_EState4           0.000000\nPEOE_VSA8             0.000000\nMinPartialCharge      0.000000\nEState_VSA4           0.000000\nSMR_VSA7              0.000000\nComplexity1           0.000000\nTPSA2                 0.000000\nKappa2                0.000000\nTPSA                  0.000000\nXLogP                 0.000000\nMaxEStateIndex.1      0.000000\nMaxEStateIndex.2      0.000000\nMinPartialCharge.1    0.000000\nMaxPartialCharge.1    0.000000\nBCUT2D_CHGLO          0.000000\npolym                 0.000000\nComplexity            0.000000\nVmax_log              0.000000\nBalabanJ              0.000000\nVSA_EState8           0.000000\nVmax                  0.000000\nPEOE_VSA9             0.000000\nid                    0.000000\nactivity              0.000000\nX                     0.000000\nIR                    0.000000\npot2                  0.000000\nph                    0.000000\ntemp                  0.000000\ndstr                  0.000000\ncryst                 0.000000\nlgCmin                0.000000\nlgCmax                0.000000\nCmin                  0.000000\nCmax                  0.000000\nlgCconst              0.000000\nCconst                0.000000\nlgCcat                0.000000\nCcat                  0.000000\nlgvolume              0.000000\nSufrace               0.000000\nMolWt                 0.000000\nPEOE_VSA7             0.000000\nSufrace_change        0.000000\ndtype: float64"
     },
     "execution_count": 143,
     "metadata": {},
     "output_type": "execute_result"
    }
   ],
   "source": [
    "df_nan"
   ],
   "metadata": {
    "collapsed": false,
    "ExecuteTime": {
     "end_time": "2023-10-16T09:06:24.015101100Z",
     "start_time": "2023-10-16T09:06:23.905569400Z"
    }
   },
   "id": "4b94e1bd60d4afe6"
  },
  {
   "cell_type": "code",
   "execution_count": 144,
   "outputs": [],
   "source": [
    "df_filled = df.fillna(df**2)"
   ],
   "metadata": {
    "collapsed": false,
    "ExecuteTime": {
     "end_time": "2023-10-16T09:06:24.015101100Z",
     "start_time": "2023-10-16T09:06:23.909575500Z"
    }
   },
   "id": "df146fc732ea075c"
  },
  {
   "cell_type": "code",
   "execution_count": 145,
   "outputs": [
    {
     "data": {
      "text/plain": "          Km      Vmax    id  activity      X     IR  pot2   ph  temp  dstr  \\\n0     0.0065  1.376300     1         1  2.757  1.071 -0.05  4.0  37.0     3   \n1     0.0554  0.264300     2         1  2.757  1.071 -0.05  4.0  37.0     3   \n2     0.0355  8.363000     3         1  2.757  1.071 -0.05  4.0  37.0     3   \n3     0.2277  0.438200     4         1  2.757  1.071 -0.05  4.0  37.0     3   \n4     0.0173  1.027200     5         1  2.757  1.071 -0.05  4.0  37.0     3   \n...      ...       ...   ...       ...    ...    ...   ...  ...   ...   ...   \n1124  0.0550  0.000467  1197         2  2.280  1.350  1.20  3.0  41.4     3   \n1125  0.1220  0.000002  1198         2  2.280  1.350  1.20  7.0  41.4     3   \n1126  0.0270  0.000252  1199         2  2.280  1.350  1.20  3.0  33.0     1   \n1127  0.0350  0.000177  1200         2  2.280  1.350  1.20  7.0  33.0     1   \n1128  0.1630  0.000041  1201         2  1.937  0.853  0.78  4.0  42.4     1   \n\n      ...  XLogP  MaxEStateIndex.1  MaxEStateIndex.2  MinPartialCharge.1  \\\n0     ...    6.5          5.992739          6.000000           -0.398299   \n1     ...    6.5          5.992739          6.000000           -0.398299   \n2     ...    6.5          6.000000          5.992739           -0.254557   \n3     ...    6.5          6.000000          5.992739           -0.254557   \n4     ...    6.5          5.992739          6.000000           -0.398299   \n...   ...    ...               ...               ...                 ...   \n1124  ...   -1.7          5.992739          0.000000           -0.398299   \n1125  ...   -1.7          5.992739          0.000000           -0.398299   \n1126  ...  -10.8          5.992739          0.000000           -0.398299   \n1127  ...  -10.8          5.992739          0.000000           -0.398299   \n1128  ...   -1.6          5.992739          0.000000           -0.398299   \n\n      MaxPartialCharge.1  BCUT2D_CHGLO     polym  Complexity  Vmax_log  \\\n0               0.037337     -1.987595  1.000007         0.0  0.138713   \n1               0.037337     -1.987595  1.000007         0.0 -0.577903   \n2              -0.254557     -1.987595  1.000007         0.0  0.922362   \n3              -0.254557     -1.987595  1.000007         0.0 -0.358328   \n4               0.037337     -1.987595  1.000007         0.0  0.011655   \n...                  ...           ...       ...         ...       ...   \n1124            0.037337     -2.178395  0.999984         0.0 -3.330683   \n1125            0.037337     -2.178395  0.999984         0.0 -5.821023   \n1126            0.037337     -2.441399  0.480347       725.0 -3.598599   \n1127            0.037337     -2.441399  0.480347       725.0 -3.752027   \n1128            0.037337     -2.379344  0.999951         0.0 -4.389340   \n\n      Sufrace_change  \n0                0.2  \n1                0.2  \n2                0.2  \n3                0.2  \n4                0.2  \n...              ...  \n1124             0.2  \n1125             0.2  \n1126             1.0  \n1127             1.0  \n1128             0.2  \n\n[839 rows x 50 columns]",
      "text/html": "<div>\n<style scoped>\n    .dataframe tbody tr th:only-of-type {\n        vertical-align: middle;\n    }\n\n    .dataframe tbody tr th {\n        vertical-align: top;\n    }\n\n    .dataframe thead th {\n        text-align: right;\n    }\n</style>\n<table border=\"1\" class=\"dataframe\">\n  <thead>\n    <tr style=\"text-align: right;\">\n      <th></th>\n      <th>Km</th>\n      <th>Vmax</th>\n      <th>id</th>\n      <th>activity</th>\n      <th>X</th>\n      <th>IR</th>\n      <th>pot2</th>\n      <th>ph</th>\n      <th>temp</th>\n      <th>dstr</th>\n      <th>...</th>\n      <th>XLogP</th>\n      <th>MaxEStateIndex.1</th>\n      <th>MaxEStateIndex.2</th>\n      <th>MinPartialCharge.1</th>\n      <th>MaxPartialCharge.1</th>\n      <th>BCUT2D_CHGLO</th>\n      <th>polym</th>\n      <th>Complexity</th>\n      <th>Vmax_log</th>\n      <th>Sufrace_change</th>\n    </tr>\n  </thead>\n  <tbody>\n    <tr>\n      <th>0</th>\n      <td>0.0065</td>\n      <td>1.376300</td>\n      <td>1</td>\n      <td>1</td>\n      <td>2.757</td>\n      <td>1.071</td>\n      <td>-0.05</td>\n      <td>4.0</td>\n      <td>37.0</td>\n      <td>3</td>\n      <td>...</td>\n      <td>6.5</td>\n      <td>5.992739</td>\n      <td>6.000000</td>\n      <td>-0.398299</td>\n      <td>0.037337</td>\n      <td>-1.987595</td>\n      <td>1.000007</td>\n      <td>0.0</td>\n      <td>0.138713</td>\n      <td>0.2</td>\n    </tr>\n    <tr>\n      <th>1</th>\n      <td>0.0554</td>\n      <td>0.264300</td>\n      <td>2</td>\n      <td>1</td>\n      <td>2.757</td>\n      <td>1.071</td>\n      <td>-0.05</td>\n      <td>4.0</td>\n      <td>37.0</td>\n      <td>3</td>\n      <td>...</td>\n      <td>6.5</td>\n      <td>5.992739</td>\n      <td>6.000000</td>\n      <td>-0.398299</td>\n      <td>0.037337</td>\n      <td>-1.987595</td>\n      <td>1.000007</td>\n      <td>0.0</td>\n      <td>-0.577903</td>\n      <td>0.2</td>\n    </tr>\n    <tr>\n      <th>2</th>\n      <td>0.0355</td>\n      <td>8.363000</td>\n      <td>3</td>\n      <td>1</td>\n      <td>2.757</td>\n      <td>1.071</td>\n      <td>-0.05</td>\n      <td>4.0</td>\n      <td>37.0</td>\n      <td>3</td>\n      <td>...</td>\n      <td>6.5</td>\n      <td>6.000000</td>\n      <td>5.992739</td>\n      <td>-0.254557</td>\n      <td>-0.254557</td>\n      <td>-1.987595</td>\n      <td>1.000007</td>\n      <td>0.0</td>\n      <td>0.922362</td>\n      <td>0.2</td>\n    </tr>\n    <tr>\n      <th>3</th>\n      <td>0.2277</td>\n      <td>0.438200</td>\n      <td>4</td>\n      <td>1</td>\n      <td>2.757</td>\n      <td>1.071</td>\n      <td>-0.05</td>\n      <td>4.0</td>\n      <td>37.0</td>\n      <td>3</td>\n      <td>...</td>\n      <td>6.5</td>\n      <td>6.000000</td>\n      <td>5.992739</td>\n      <td>-0.254557</td>\n      <td>-0.254557</td>\n      <td>-1.987595</td>\n      <td>1.000007</td>\n      <td>0.0</td>\n      <td>-0.358328</td>\n      <td>0.2</td>\n    </tr>\n    <tr>\n      <th>4</th>\n      <td>0.0173</td>\n      <td>1.027200</td>\n      <td>5</td>\n      <td>1</td>\n      <td>2.757</td>\n      <td>1.071</td>\n      <td>-0.05</td>\n      <td>4.0</td>\n      <td>37.0</td>\n      <td>3</td>\n      <td>...</td>\n      <td>6.5</td>\n      <td>5.992739</td>\n      <td>6.000000</td>\n      <td>-0.398299</td>\n      <td>0.037337</td>\n      <td>-1.987595</td>\n      <td>1.000007</td>\n      <td>0.0</td>\n      <td>0.011655</td>\n      <td>0.2</td>\n    </tr>\n    <tr>\n      <th>...</th>\n      <td>...</td>\n      <td>...</td>\n      <td>...</td>\n      <td>...</td>\n      <td>...</td>\n      <td>...</td>\n      <td>...</td>\n      <td>...</td>\n      <td>...</td>\n      <td>...</td>\n      <td>...</td>\n      <td>...</td>\n      <td>...</td>\n      <td>...</td>\n      <td>...</td>\n      <td>...</td>\n      <td>...</td>\n      <td>...</td>\n      <td>...</td>\n      <td>...</td>\n      <td>...</td>\n    </tr>\n    <tr>\n      <th>1124</th>\n      <td>0.0550</td>\n      <td>0.000467</td>\n      <td>1197</td>\n      <td>2</td>\n      <td>2.280</td>\n      <td>1.350</td>\n      <td>1.20</td>\n      <td>3.0</td>\n      <td>41.4</td>\n      <td>3</td>\n      <td>...</td>\n      <td>-1.7</td>\n      <td>5.992739</td>\n      <td>0.000000</td>\n      <td>-0.398299</td>\n      <td>0.037337</td>\n      <td>-2.178395</td>\n      <td>0.999984</td>\n      <td>0.0</td>\n      <td>-3.330683</td>\n      <td>0.2</td>\n    </tr>\n    <tr>\n      <th>1125</th>\n      <td>0.1220</td>\n      <td>0.000002</td>\n      <td>1198</td>\n      <td>2</td>\n      <td>2.280</td>\n      <td>1.350</td>\n      <td>1.20</td>\n      <td>7.0</td>\n      <td>41.4</td>\n      <td>3</td>\n      <td>...</td>\n      <td>-1.7</td>\n      <td>5.992739</td>\n      <td>0.000000</td>\n      <td>-0.398299</td>\n      <td>0.037337</td>\n      <td>-2.178395</td>\n      <td>0.999984</td>\n      <td>0.0</td>\n      <td>-5.821023</td>\n      <td>0.2</td>\n    </tr>\n    <tr>\n      <th>1126</th>\n      <td>0.0270</td>\n      <td>0.000252</td>\n      <td>1199</td>\n      <td>2</td>\n      <td>2.280</td>\n      <td>1.350</td>\n      <td>1.20</td>\n      <td>3.0</td>\n      <td>33.0</td>\n      <td>1</td>\n      <td>...</td>\n      <td>-10.8</td>\n      <td>5.992739</td>\n      <td>0.000000</td>\n      <td>-0.398299</td>\n      <td>0.037337</td>\n      <td>-2.441399</td>\n      <td>0.480347</td>\n      <td>725.0</td>\n      <td>-3.598599</td>\n      <td>1.0</td>\n    </tr>\n    <tr>\n      <th>1127</th>\n      <td>0.0350</td>\n      <td>0.000177</td>\n      <td>1200</td>\n      <td>2</td>\n      <td>2.280</td>\n      <td>1.350</td>\n      <td>1.20</td>\n      <td>7.0</td>\n      <td>33.0</td>\n      <td>1</td>\n      <td>...</td>\n      <td>-10.8</td>\n      <td>5.992739</td>\n      <td>0.000000</td>\n      <td>-0.398299</td>\n      <td>0.037337</td>\n      <td>-2.441399</td>\n      <td>0.480347</td>\n      <td>725.0</td>\n      <td>-3.752027</td>\n      <td>1.0</td>\n    </tr>\n    <tr>\n      <th>1128</th>\n      <td>0.1630</td>\n      <td>0.000041</td>\n      <td>1201</td>\n      <td>2</td>\n      <td>1.937</td>\n      <td>0.853</td>\n      <td>0.78</td>\n      <td>4.0</td>\n      <td>42.4</td>\n      <td>1</td>\n      <td>...</td>\n      <td>-1.6</td>\n      <td>5.992739</td>\n      <td>0.000000</td>\n      <td>-0.398299</td>\n      <td>0.037337</td>\n      <td>-2.379344</td>\n      <td>0.999951</td>\n      <td>0.0</td>\n      <td>-4.389340</td>\n      <td>0.2</td>\n    </tr>\n  </tbody>\n</table>\n<p>839 rows × 50 columns</p>\n</div>"
     },
     "execution_count": 145,
     "metadata": {},
     "output_type": "execute_result"
    }
   ],
   "source": [
    "df_filled"
   ],
   "metadata": {
    "collapsed": false,
    "ExecuteTime": {
     "end_time": "2023-10-16T09:06:24.018093300Z",
     "start_time": "2023-10-16T09:06:23.914544600Z"
    }
   },
   "id": "3a884f0cb9a8d77e"
  },
  {
   "cell_type": "code",
   "execution_count": 146,
   "outputs": [
    {
     "data": {
      "text/plain": "MinAbsEStateIndex\n0.208333    104\n0.125000     40\n0.331507     32\n1.144213     22\n1.000000     19\n0.671343     18\n0.882716     10\n0.087083     10\n0.062261      8\n0.833333      7\n0.025619      7\n0.761515      5\n0.583333      5\n0.056866      4\n0.862284      4\n0.189815      4\n1.046760      4\n0.597222      4\n1.250000      3\n0.250000      3\n1.500000      3\n1.263117      2\n1.875000      2\n0.052846      2\n0.083333      2\n0.946759      2\n0.731481      2\n0.598053      2\n0.020210      2\n0.525787      2\n0.279491      2\n0.725818      2\n0.520370      2\n0.967593      2\n1.145833      2\n0.070278      2\n0.277778      2\n0.141944      2\n0.004355      2\n0.003686      2\n0.094907      2\n0.407860      1\n0.294682      1\n0.532407      1\n0.226435      1\n0.840345      1\n1.187500      1\n0.347222      1\n0.042587      1\n0.049447      1\n0.076389      1\n0.806667      1\n0.025463      1\n0.428299      1\n0.287037      1\nName: count, dtype: int64"
     },
     "execution_count": 146,
     "metadata": {},
     "output_type": "execute_result"
    }
   ],
   "source": [
    "df['MinAbsEStateIndex'].value_counts()"
   ],
   "metadata": {
    "collapsed": false,
    "ExecuteTime": {
     "end_time": "2023-10-16T09:06:24.018093300Z",
     "start_time": "2023-10-16T09:06:23.928957400Z"
    }
   },
   "id": "c3ce9758a03f344e"
  },
  {
   "cell_type": "code",
   "execution_count": 147,
   "outputs": [
    {
     "data": {
      "text/plain": "          Km      Vmax    id  activity      X     IR  pot2   ph  temp  dstr  \\\n0     0.0065  1.376300     1         1  2.757  1.071 -0.05  4.0  37.0     3   \n1     0.0554  0.264300     2         1  2.757  1.071 -0.05  4.0  37.0     3   \n2     0.0355  8.363000     3         1  2.757  1.071 -0.05  4.0  37.0     3   \n3     0.2277  0.438200     4         1  2.757  1.071 -0.05  4.0  37.0     3   \n4     0.0173  1.027200     5         1  2.757  1.071 -0.05  4.0  37.0     3   \n...      ...       ...   ...       ...    ...    ...   ...  ...   ...   ...   \n1124  0.0550  0.000467  1197         2  2.280  1.350  1.20  3.0  41.4     3   \n1125  0.1220  0.000002  1198         2  2.280  1.350  1.20  7.0  41.4     3   \n1126  0.0270  0.000252  1199         2  2.280  1.350  1.20  3.0  33.0     1   \n1127  0.0350  0.000177  1200         2  2.280  1.350  1.20  7.0  33.0     1   \n1128  0.1630  0.000041  1201         2  1.937  0.853  0.78  4.0  42.4     1   \n\n      ...  XLogP  MaxEStateIndex.1  MaxEStateIndex.2  MinPartialCharge.1  \\\n0     ...    6.5          5.992739          6.000000           -0.398299   \n1     ...    6.5          5.992739          6.000000           -0.398299   \n2     ...    6.5          6.000000          5.992739           -0.254557   \n3     ...    6.5          6.000000          5.992739           -0.254557   \n4     ...    6.5          5.992739          6.000000           -0.398299   \n...   ...    ...               ...               ...                 ...   \n1124  ...   -1.7          5.992739          0.000000           -0.398299   \n1125  ...   -1.7          5.992739          0.000000           -0.398299   \n1126  ...  -10.8          5.992739          0.000000           -0.398299   \n1127  ...  -10.8          5.992739          0.000000           -0.398299   \n1128  ...   -1.6          5.992739          0.000000           -0.398299   \n\n      MaxPartialCharge.1  BCUT2D_CHGLO     polym  Complexity  Vmax_log  \\\n0               0.037337     -1.987595  1.000007         0.0  0.138713   \n1               0.037337     -1.987595  1.000007         0.0 -0.577903   \n2              -0.254557     -1.987595  1.000007         0.0  0.922362   \n3              -0.254557     -1.987595  1.000007         0.0 -0.358328   \n4               0.037337     -1.987595  1.000007         0.0  0.011655   \n...                  ...           ...       ...         ...       ...   \n1124            0.037337     -2.178395  0.999984         0.0 -3.330683   \n1125            0.037337     -2.178395  0.999984         0.0 -5.821023   \n1126            0.037337     -2.441399  0.480347       725.0 -3.598599   \n1127            0.037337     -2.441399  0.480347       725.0 -3.752027   \n1128            0.037337     -2.379344  0.999951         0.0 -4.389340   \n\n      Sufrace_change  \n0                0.2  \n1                0.2  \n2                0.2  \n3                0.2  \n4                0.2  \n...              ...  \n1124             0.2  \n1125             0.2  \n1126             1.0  \n1127             1.0  \n1128             0.2  \n\n[839 rows x 50 columns]",
      "text/html": "<div>\n<style scoped>\n    .dataframe tbody tr th:only-of-type {\n        vertical-align: middle;\n    }\n\n    .dataframe tbody tr th {\n        vertical-align: top;\n    }\n\n    .dataframe thead th {\n        text-align: right;\n    }\n</style>\n<table border=\"1\" class=\"dataframe\">\n  <thead>\n    <tr style=\"text-align: right;\">\n      <th></th>\n      <th>Km</th>\n      <th>Vmax</th>\n      <th>id</th>\n      <th>activity</th>\n      <th>X</th>\n      <th>IR</th>\n      <th>pot2</th>\n      <th>ph</th>\n      <th>temp</th>\n      <th>dstr</th>\n      <th>...</th>\n      <th>XLogP</th>\n      <th>MaxEStateIndex.1</th>\n      <th>MaxEStateIndex.2</th>\n      <th>MinPartialCharge.1</th>\n      <th>MaxPartialCharge.1</th>\n      <th>BCUT2D_CHGLO</th>\n      <th>polym</th>\n      <th>Complexity</th>\n      <th>Vmax_log</th>\n      <th>Sufrace_change</th>\n    </tr>\n  </thead>\n  <tbody>\n    <tr>\n      <th>0</th>\n      <td>0.0065</td>\n      <td>1.376300</td>\n      <td>1</td>\n      <td>1</td>\n      <td>2.757</td>\n      <td>1.071</td>\n      <td>-0.05</td>\n      <td>4.0</td>\n      <td>37.0</td>\n      <td>3</td>\n      <td>...</td>\n      <td>6.5</td>\n      <td>5.992739</td>\n      <td>6.000000</td>\n      <td>-0.398299</td>\n      <td>0.037337</td>\n      <td>-1.987595</td>\n      <td>1.000007</td>\n      <td>0.0</td>\n      <td>0.138713</td>\n      <td>0.2</td>\n    </tr>\n    <tr>\n      <th>1</th>\n      <td>0.0554</td>\n      <td>0.264300</td>\n      <td>2</td>\n      <td>1</td>\n      <td>2.757</td>\n      <td>1.071</td>\n      <td>-0.05</td>\n      <td>4.0</td>\n      <td>37.0</td>\n      <td>3</td>\n      <td>...</td>\n      <td>6.5</td>\n      <td>5.992739</td>\n      <td>6.000000</td>\n      <td>-0.398299</td>\n      <td>0.037337</td>\n      <td>-1.987595</td>\n      <td>1.000007</td>\n      <td>0.0</td>\n      <td>-0.577903</td>\n      <td>0.2</td>\n    </tr>\n    <tr>\n      <th>2</th>\n      <td>0.0355</td>\n      <td>8.363000</td>\n      <td>3</td>\n      <td>1</td>\n      <td>2.757</td>\n      <td>1.071</td>\n      <td>-0.05</td>\n      <td>4.0</td>\n      <td>37.0</td>\n      <td>3</td>\n      <td>...</td>\n      <td>6.5</td>\n      <td>6.000000</td>\n      <td>5.992739</td>\n      <td>-0.254557</td>\n      <td>-0.254557</td>\n      <td>-1.987595</td>\n      <td>1.000007</td>\n      <td>0.0</td>\n      <td>0.922362</td>\n      <td>0.2</td>\n    </tr>\n    <tr>\n      <th>3</th>\n      <td>0.2277</td>\n      <td>0.438200</td>\n      <td>4</td>\n      <td>1</td>\n      <td>2.757</td>\n      <td>1.071</td>\n      <td>-0.05</td>\n      <td>4.0</td>\n      <td>37.0</td>\n      <td>3</td>\n      <td>...</td>\n      <td>6.5</td>\n      <td>6.000000</td>\n      <td>5.992739</td>\n      <td>-0.254557</td>\n      <td>-0.254557</td>\n      <td>-1.987595</td>\n      <td>1.000007</td>\n      <td>0.0</td>\n      <td>-0.358328</td>\n      <td>0.2</td>\n    </tr>\n    <tr>\n      <th>4</th>\n      <td>0.0173</td>\n      <td>1.027200</td>\n      <td>5</td>\n      <td>1</td>\n      <td>2.757</td>\n      <td>1.071</td>\n      <td>-0.05</td>\n      <td>4.0</td>\n      <td>37.0</td>\n      <td>3</td>\n      <td>...</td>\n      <td>6.5</td>\n      <td>5.992739</td>\n      <td>6.000000</td>\n      <td>-0.398299</td>\n      <td>0.037337</td>\n      <td>-1.987595</td>\n      <td>1.000007</td>\n      <td>0.0</td>\n      <td>0.011655</td>\n      <td>0.2</td>\n    </tr>\n    <tr>\n      <th>...</th>\n      <td>...</td>\n      <td>...</td>\n      <td>...</td>\n      <td>...</td>\n      <td>...</td>\n      <td>...</td>\n      <td>...</td>\n      <td>...</td>\n      <td>...</td>\n      <td>...</td>\n      <td>...</td>\n      <td>...</td>\n      <td>...</td>\n      <td>...</td>\n      <td>...</td>\n      <td>...</td>\n      <td>...</td>\n      <td>...</td>\n      <td>...</td>\n      <td>...</td>\n      <td>...</td>\n    </tr>\n    <tr>\n      <th>1124</th>\n      <td>0.0550</td>\n      <td>0.000467</td>\n      <td>1197</td>\n      <td>2</td>\n      <td>2.280</td>\n      <td>1.350</td>\n      <td>1.20</td>\n      <td>3.0</td>\n      <td>41.4</td>\n      <td>3</td>\n      <td>...</td>\n      <td>-1.7</td>\n      <td>5.992739</td>\n      <td>0.000000</td>\n      <td>-0.398299</td>\n      <td>0.037337</td>\n      <td>-2.178395</td>\n      <td>0.999984</td>\n      <td>0.0</td>\n      <td>-3.330683</td>\n      <td>0.2</td>\n    </tr>\n    <tr>\n      <th>1125</th>\n      <td>0.1220</td>\n      <td>0.000002</td>\n      <td>1198</td>\n      <td>2</td>\n      <td>2.280</td>\n      <td>1.350</td>\n      <td>1.20</td>\n      <td>7.0</td>\n      <td>41.4</td>\n      <td>3</td>\n      <td>...</td>\n      <td>-1.7</td>\n      <td>5.992739</td>\n      <td>0.000000</td>\n      <td>-0.398299</td>\n      <td>0.037337</td>\n      <td>-2.178395</td>\n      <td>0.999984</td>\n      <td>0.0</td>\n      <td>-5.821023</td>\n      <td>0.2</td>\n    </tr>\n    <tr>\n      <th>1126</th>\n      <td>0.0270</td>\n      <td>0.000252</td>\n      <td>1199</td>\n      <td>2</td>\n      <td>2.280</td>\n      <td>1.350</td>\n      <td>1.20</td>\n      <td>3.0</td>\n      <td>33.0</td>\n      <td>1</td>\n      <td>...</td>\n      <td>-10.8</td>\n      <td>5.992739</td>\n      <td>0.000000</td>\n      <td>-0.398299</td>\n      <td>0.037337</td>\n      <td>-2.441399</td>\n      <td>0.480347</td>\n      <td>725.0</td>\n      <td>-3.598599</td>\n      <td>1.0</td>\n    </tr>\n    <tr>\n      <th>1127</th>\n      <td>0.0350</td>\n      <td>0.000177</td>\n      <td>1200</td>\n      <td>2</td>\n      <td>2.280</td>\n      <td>1.350</td>\n      <td>1.20</td>\n      <td>7.0</td>\n      <td>33.0</td>\n      <td>1</td>\n      <td>...</td>\n      <td>-10.8</td>\n      <td>5.992739</td>\n      <td>0.000000</td>\n      <td>-0.398299</td>\n      <td>0.037337</td>\n      <td>-2.441399</td>\n      <td>0.480347</td>\n      <td>725.0</td>\n      <td>-3.752027</td>\n      <td>1.0</td>\n    </tr>\n    <tr>\n      <th>1128</th>\n      <td>0.1630</td>\n      <td>0.000041</td>\n      <td>1201</td>\n      <td>2</td>\n      <td>1.937</td>\n      <td>0.853</td>\n      <td>0.78</td>\n      <td>4.0</td>\n      <td>42.4</td>\n      <td>1</td>\n      <td>...</td>\n      <td>-1.6</td>\n      <td>5.992739</td>\n      <td>0.000000</td>\n      <td>-0.398299</td>\n      <td>0.037337</td>\n      <td>-2.379344</td>\n      <td>0.999951</td>\n      <td>0.0</td>\n      <td>-4.389340</td>\n      <td>0.2</td>\n    </tr>\n  </tbody>\n</table>\n<p>839 rows × 50 columns</p>\n</div>"
     },
     "execution_count": 147,
     "metadata": {},
     "output_type": "execute_result"
    }
   ],
   "source": [
    "df"
   ],
   "metadata": {
    "collapsed": false,
    "ExecuteTime": {
     "end_time": "2023-10-16T09:06:24.018915700Z",
     "start_time": "2023-10-16T09:06:23.933352800Z"
    }
   },
   "id": "4eaa1bba22caef5a"
  },
  {
   "cell_type": "code",
   "execution_count": 148,
   "outputs": [],
   "source": [
    "df['MinAbsEStateIndex'] = df['MinAbsEStateIndex'].replace(np.nan, 0)"
   ],
   "metadata": {
    "collapsed": false,
    "ExecuteTime": {
     "end_time": "2023-10-16T09:06:24.019418200Z",
     "start_time": "2023-10-16T09:06:23.947633100Z"
    }
   },
   "id": "948a7cc266ca9555"
  },
  {
   "cell_type": "code",
   "execution_count": 149,
   "outputs": [
    {
     "data": {
      "text/plain": "          Km      Vmax    id  activity      X     IR  pot2   ph  temp  dstr  \\\n0     0.0065  1.376300     1         1  2.757  1.071 -0.05  4.0  37.0     3   \n1     0.0554  0.264300     2         1  2.757  1.071 -0.05  4.0  37.0     3   \n2     0.0355  8.363000     3         1  2.757  1.071 -0.05  4.0  37.0     3   \n3     0.2277  0.438200     4         1  2.757  1.071 -0.05  4.0  37.0     3   \n4     0.0173  1.027200     5         1  2.757  1.071 -0.05  4.0  37.0     3   \n...      ...       ...   ...       ...    ...    ...   ...  ...   ...   ...   \n1124  0.0550  0.000467  1197         2  2.280  1.350  1.20  3.0  41.4     3   \n1125  0.1220  0.000002  1198         2  2.280  1.350  1.20  7.0  41.4     3   \n1126  0.0270  0.000252  1199         2  2.280  1.350  1.20  3.0  33.0     1   \n1127  0.0350  0.000177  1200         2  2.280  1.350  1.20  7.0  33.0     1   \n1128  0.1630  0.000041  1201         2  1.937  0.853  0.78  4.0  42.4     1   \n\n      ...  XLogP  MaxEStateIndex.1  MaxEStateIndex.2  MinPartialCharge.1  \\\n0     ...    6.5          5.992739          6.000000           -0.398299   \n1     ...    6.5          5.992739          6.000000           -0.398299   \n2     ...    6.5          6.000000          5.992739           -0.254557   \n3     ...    6.5          6.000000          5.992739           -0.254557   \n4     ...    6.5          5.992739          6.000000           -0.398299   \n...   ...    ...               ...               ...                 ...   \n1124  ...   -1.7          5.992739          0.000000           -0.398299   \n1125  ...   -1.7          5.992739          0.000000           -0.398299   \n1126  ...  -10.8          5.992739          0.000000           -0.398299   \n1127  ...  -10.8          5.992739          0.000000           -0.398299   \n1128  ...   -1.6          5.992739          0.000000           -0.398299   \n\n      MaxPartialCharge.1  BCUT2D_CHGLO     polym  Complexity  Vmax_log  \\\n0               0.037337     -1.987595  1.000007         0.0  0.138713   \n1               0.037337     -1.987595  1.000007         0.0 -0.577903   \n2              -0.254557     -1.987595  1.000007         0.0  0.922362   \n3              -0.254557     -1.987595  1.000007         0.0 -0.358328   \n4               0.037337     -1.987595  1.000007         0.0  0.011655   \n...                  ...           ...       ...         ...       ...   \n1124            0.037337     -2.178395  0.999984         0.0 -3.330683   \n1125            0.037337     -2.178395  0.999984         0.0 -5.821023   \n1126            0.037337     -2.441399  0.480347       725.0 -3.598599   \n1127            0.037337     -2.441399  0.480347       725.0 -3.752027   \n1128            0.037337     -2.379344  0.999951         0.0 -4.389340   \n\n      Sufrace_change  \n0                0.2  \n1                0.2  \n2                0.2  \n3                0.2  \n4                0.2  \n...              ...  \n1124             0.2  \n1125             0.2  \n1126             1.0  \n1127             1.0  \n1128             0.2  \n\n[839 rows x 50 columns]",
      "text/html": "<div>\n<style scoped>\n    .dataframe tbody tr th:only-of-type {\n        vertical-align: middle;\n    }\n\n    .dataframe tbody tr th {\n        vertical-align: top;\n    }\n\n    .dataframe thead th {\n        text-align: right;\n    }\n</style>\n<table border=\"1\" class=\"dataframe\">\n  <thead>\n    <tr style=\"text-align: right;\">\n      <th></th>\n      <th>Km</th>\n      <th>Vmax</th>\n      <th>id</th>\n      <th>activity</th>\n      <th>X</th>\n      <th>IR</th>\n      <th>pot2</th>\n      <th>ph</th>\n      <th>temp</th>\n      <th>dstr</th>\n      <th>...</th>\n      <th>XLogP</th>\n      <th>MaxEStateIndex.1</th>\n      <th>MaxEStateIndex.2</th>\n      <th>MinPartialCharge.1</th>\n      <th>MaxPartialCharge.1</th>\n      <th>BCUT2D_CHGLO</th>\n      <th>polym</th>\n      <th>Complexity</th>\n      <th>Vmax_log</th>\n      <th>Sufrace_change</th>\n    </tr>\n  </thead>\n  <tbody>\n    <tr>\n      <th>0</th>\n      <td>0.0065</td>\n      <td>1.376300</td>\n      <td>1</td>\n      <td>1</td>\n      <td>2.757</td>\n      <td>1.071</td>\n      <td>-0.05</td>\n      <td>4.0</td>\n      <td>37.0</td>\n      <td>3</td>\n      <td>...</td>\n      <td>6.5</td>\n      <td>5.992739</td>\n      <td>6.000000</td>\n      <td>-0.398299</td>\n      <td>0.037337</td>\n      <td>-1.987595</td>\n      <td>1.000007</td>\n      <td>0.0</td>\n      <td>0.138713</td>\n      <td>0.2</td>\n    </tr>\n    <tr>\n      <th>1</th>\n      <td>0.0554</td>\n      <td>0.264300</td>\n      <td>2</td>\n      <td>1</td>\n      <td>2.757</td>\n      <td>1.071</td>\n      <td>-0.05</td>\n      <td>4.0</td>\n      <td>37.0</td>\n      <td>3</td>\n      <td>...</td>\n      <td>6.5</td>\n      <td>5.992739</td>\n      <td>6.000000</td>\n      <td>-0.398299</td>\n      <td>0.037337</td>\n      <td>-1.987595</td>\n      <td>1.000007</td>\n      <td>0.0</td>\n      <td>-0.577903</td>\n      <td>0.2</td>\n    </tr>\n    <tr>\n      <th>2</th>\n      <td>0.0355</td>\n      <td>8.363000</td>\n      <td>3</td>\n      <td>1</td>\n      <td>2.757</td>\n      <td>1.071</td>\n      <td>-0.05</td>\n      <td>4.0</td>\n      <td>37.0</td>\n      <td>3</td>\n      <td>...</td>\n      <td>6.5</td>\n      <td>6.000000</td>\n      <td>5.992739</td>\n      <td>-0.254557</td>\n      <td>-0.254557</td>\n      <td>-1.987595</td>\n      <td>1.000007</td>\n      <td>0.0</td>\n      <td>0.922362</td>\n      <td>0.2</td>\n    </tr>\n    <tr>\n      <th>3</th>\n      <td>0.2277</td>\n      <td>0.438200</td>\n      <td>4</td>\n      <td>1</td>\n      <td>2.757</td>\n      <td>1.071</td>\n      <td>-0.05</td>\n      <td>4.0</td>\n      <td>37.0</td>\n      <td>3</td>\n      <td>...</td>\n      <td>6.5</td>\n      <td>6.000000</td>\n      <td>5.992739</td>\n      <td>-0.254557</td>\n      <td>-0.254557</td>\n      <td>-1.987595</td>\n      <td>1.000007</td>\n      <td>0.0</td>\n      <td>-0.358328</td>\n      <td>0.2</td>\n    </tr>\n    <tr>\n      <th>4</th>\n      <td>0.0173</td>\n      <td>1.027200</td>\n      <td>5</td>\n      <td>1</td>\n      <td>2.757</td>\n      <td>1.071</td>\n      <td>-0.05</td>\n      <td>4.0</td>\n      <td>37.0</td>\n      <td>3</td>\n      <td>...</td>\n      <td>6.5</td>\n      <td>5.992739</td>\n      <td>6.000000</td>\n      <td>-0.398299</td>\n      <td>0.037337</td>\n      <td>-1.987595</td>\n      <td>1.000007</td>\n      <td>0.0</td>\n      <td>0.011655</td>\n      <td>0.2</td>\n    </tr>\n    <tr>\n      <th>...</th>\n      <td>...</td>\n      <td>...</td>\n      <td>...</td>\n      <td>...</td>\n      <td>...</td>\n      <td>...</td>\n      <td>...</td>\n      <td>...</td>\n      <td>...</td>\n      <td>...</td>\n      <td>...</td>\n      <td>...</td>\n      <td>...</td>\n      <td>...</td>\n      <td>...</td>\n      <td>...</td>\n      <td>...</td>\n      <td>...</td>\n      <td>...</td>\n      <td>...</td>\n      <td>...</td>\n    </tr>\n    <tr>\n      <th>1124</th>\n      <td>0.0550</td>\n      <td>0.000467</td>\n      <td>1197</td>\n      <td>2</td>\n      <td>2.280</td>\n      <td>1.350</td>\n      <td>1.20</td>\n      <td>3.0</td>\n      <td>41.4</td>\n      <td>3</td>\n      <td>...</td>\n      <td>-1.7</td>\n      <td>5.992739</td>\n      <td>0.000000</td>\n      <td>-0.398299</td>\n      <td>0.037337</td>\n      <td>-2.178395</td>\n      <td>0.999984</td>\n      <td>0.0</td>\n      <td>-3.330683</td>\n      <td>0.2</td>\n    </tr>\n    <tr>\n      <th>1125</th>\n      <td>0.1220</td>\n      <td>0.000002</td>\n      <td>1198</td>\n      <td>2</td>\n      <td>2.280</td>\n      <td>1.350</td>\n      <td>1.20</td>\n      <td>7.0</td>\n      <td>41.4</td>\n      <td>3</td>\n      <td>...</td>\n      <td>-1.7</td>\n      <td>5.992739</td>\n      <td>0.000000</td>\n      <td>-0.398299</td>\n      <td>0.037337</td>\n      <td>-2.178395</td>\n      <td>0.999984</td>\n      <td>0.0</td>\n      <td>-5.821023</td>\n      <td>0.2</td>\n    </tr>\n    <tr>\n      <th>1126</th>\n      <td>0.0270</td>\n      <td>0.000252</td>\n      <td>1199</td>\n      <td>2</td>\n      <td>2.280</td>\n      <td>1.350</td>\n      <td>1.20</td>\n      <td>3.0</td>\n      <td>33.0</td>\n      <td>1</td>\n      <td>...</td>\n      <td>-10.8</td>\n      <td>5.992739</td>\n      <td>0.000000</td>\n      <td>-0.398299</td>\n      <td>0.037337</td>\n      <td>-2.441399</td>\n      <td>0.480347</td>\n      <td>725.0</td>\n      <td>-3.598599</td>\n      <td>1.0</td>\n    </tr>\n    <tr>\n      <th>1127</th>\n      <td>0.0350</td>\n      <td>0.000177</td>\n      <td>1200</td>\n      <td>2</td>\n      <td>2.280</td>\n      <td>1.350</td>\n      <td>1.20</td>\n      <td>7.0</td>\n      <td>33.0</td>\n      <td>1</td>\n      <td>...</td>\n      <td>-10.8</td>\n      <td>5.992739</td>\n      <td>0.000000</td>\n      <td>-0.398299</td>\n      <td>0.037337</td>\n      <td>-2.441399</td>\n      <td>0.480347</td>\n      <td>725.0</td>\n      <td>-3.752027</td>\n      <td>1.0</td>\n    </tr>\n    <tr>\n      <th>1128</th>\n      <td>0.1630</td>\n      <td>0.000041</td>\n      <td>1201</td>\n      <td>2</td>\n      <td>1.937</td>\n      <td>0.853</td>\n      <td>0.78</td>\n      <td>4.0</td>\n      <td>42.4</td>\n      <td>1</td>\n      <td>...</td>\n      <td>-1.6</td>\n      <td>5.992739</td>\n      <td>0.000000</td>\n      <td>-0.398299</td>\n      <td>0.037337</td>\n      <td>-2.379344</td>\n      <td>0.999951</td>\n      <td>0.0</td>\n      <td>-4.389340</td>\n      <td>0.2</td>\n    </tr>\n  </tbody>\n</table>\n<p>839 rows × 50 columns</p>\n</div>"
     },
     "execution_count": 149,
     "metadata": {},
     "output_type": "execute_result"
    }
   ],
   "source": [
    "df"
   ],
   "metadata": {
    "collapsed": false,
    "ExecuteTime": {
     "end_time": "2023-10-16T09:06:24.020416700Z",
     "start_time": "2023-10-16T09:06:23.950381500Z"
    }
   },
   "id": "9703e1a0e712212"
  },
  {
   "cell_type": "code",
   "execution_count": 150,
   "outputs": [],
   "source": [
    "df['id'] = np.square(df['id'])"
   ],
   "metadata": {
    "collapsed": false,
    "ExecuteTime": {
     "end_time": "2023-10-16T09:06:24.020416700Z",
     "start_time": "2023-10-16T09:06:23.964391100Z"
    }
   },
   "id": "6cb6cbbf603417b7"
  },
  {
   "cell_type": "code",
   "execution_count": 151,
   "outputs": [
    {
     "data": {
      "text/plain": "          Km      Vmax       id  activity      X     IR  pot2   ph  temp  \\\n0     0.0065  1.376300        1         1  2.757  1.071 -0.05  4.0  37.0   \n1     0.0554  0.264300        4         1  2.757  1.071 -0.05  4.0  37.0   \n2     0.0355  8.363000        9         1  2.757  1.071 -0.05  4.0  37.0   \n3     0.2277  0.438200       16         1  2.757  1.071 -0.05  4.0  37.0   \n4     0.0173  1.027200       25         1  2.757  1.071 -0.05  4.0  37.0   \n...      ...       ...      ...       ...    ...    ...   ...  ...   ...   \n1124  0.0550  0.000467  1432809         2  2.280  1.350  1.20  3.0  41.4   \n1125  0.1220  0.000002  1435204         2  2.280  1.350  1.20  7.0  41.4   \n1126  0.0270  0.000252  1437601         2  2.280  1.350  1.20  3.0  33.0   \n1127  0.0350  0.000177  1440000         2  2.280  1.350  1.20  7.0  33.0   \n1128  0.1630  0.000041  1442401         2  1.937  0.853  0.78  4.0  42.4   \n\n      dstr  ...  XLogP  MaxEStateIndex.1  MaxEStateIndex.2  \\\n0        3  ...    6.5          5.992739          6.000000   \n1        3  ...    6.5          5.992739          6.000000   \n2        3  ...    6.5          6.000000          5.992739   \n3        3  ...    6.5          6.000000          5.992739   \n4        3  ...    6.5          5.992739          6.000000   \n...    ...  ...    ...               ...               ...   \n1124     3  ...   -1.7          5.992739          0.000000   \n1125     3  ...   -1.7          5.992739          0.000000   \n1126     1  ...  -10.8          5.992739          0.000000   \n1127     1  ...  -10.8          5.992739          0.000000   \n1128     1  ...   -1.6          5.992739          0.000000   \n\n      MinPartialCharge.1  MaxPartialCharge.1  BCUT2D_CHGLO     polym  \\\n0              -0.398299            0.037337     -1.987595  1.000007   \n1              -0.398299            0.037337     -1.987595  1.000007   \n2              -0.254557           -0.254557     -1.987595  1.000007   \n3              -0.254557           -0.254557     -1.987595  1.000007   \n4              -0.398299            0.037337     -1.987595  1.000007   \n...                  ...                 ...           ...       ...   \n1124           -0.398299            0.037337     -2.178395  0.999984   \n1125           -0.398299            0.037337     -2.178395  0.999984   \n1126           -0.398299            0.037337     -2.441399  0.480347   \n1127           -0.398299            0.037337     -2.441399  0.480347   \n1128           -0.398299            0.037337     -2.379344  0.999951   \n\n      Complexity  Vmax_log  Sufrace_change  \n0            0.0  0.138713             0.2  \n1            0.0 -0.577903             0.2  \n2            0.0  0.922362             0.2  \n3            0.0 -0.358328             0.2  \n4            0.0  0.011655             0.2  \n...          ...       ...             ...  \n1124         0.0 -3.330683             0.2  \n1125         0.0 -5.821023             0.2  \n1126       725.0 -3.598599             1.0  \n1127       725.0 -3.752027             1.0  \n1128         0.0 -4.389340             0.2  \n\n[839 rows x 50 columns]",
      "text/html": "<div>\n<style scoped>\n    .dataframe tbody tr th:only-of-type {\n        vertical-align: middle;\n    }\n\n    .dataframe tbody tr th {\n        vertical-align: top;\n    }\n\n    .dataframe thead th {\n        text-align: right;\n    }\n</style>\n<table border=\"1\" class=\"dataframe\">\n  <thead>\n    <tr style=\"text-align: right;\">\n      <th></th>\n      <th>Km</th>\n      <th>Vmax</th>\n      <th>id</th>\n      <th>activity</th>\n      <th>X</th>\n      <th>IR</th>\n      <th>pot2</th>\n      <th>ph</th>\n      <th>temp</th>\n      <th>dstr</th>\n      <th>...</th>\n      <th>XLogP</th>\n      <th>MaxEStateIndex.1</th>\n      <th>MaxEStateIndex.2</th>\n      <th>MinPartialCharge.1</th>\n      <th>MaxPartialCharge.1</th>\n      <th>BCUT2D_CHGLO</th>\n      <th>polym</th>\n      <th>Complexity</th>\n      <th>Vmax_log</th>\n      <th>Sufrace_change</th>\n    </tr>\n  </thead>\n  <tbody>\n    <tr>\n      <th>0</th>\n      <td>0.0065</td>\n      <td>1.376300</td>\n      <td>1</td>\n      <td>1</td>\n      <td>2.757</td>\n      <td>1.071</td>\n      <td>-0.05</td>\n      <td>4.0</td>\n      <td>37.0</td>\n      <td>3</td>\n      <td>...</td>\n      <td>6.5</td>\n      <td>5.992739</td>\n      <td>6.000000</td>\n      <td>-0.398299</td>\n      <td>0.037337</td>\n      <td>-1.987595</td>\n      <td>1.000007</td>\n      <td>0.0</td>\n      <td>0.138713</td>\n      <td>0.2</td>\n    </tr>\n    <tr>\n      <th>1</th>\n      <td>0.0554</td>\n      <td>0.264300</td>\n      <td>4</td>\n      <td>1</td>\n      <td>2.757</td>\n      <td>1.071</td>\n      <td>-0.05</td>\n      <td>4.0</td>\n      <td>37.0</td>\n      <td>3</td>\n      <td>...</td>\n      <td>6.5</td>\n      <td>5.992739</td>\n      <td>6.000000</td>\n      <td>-0.398299</td>\n      <td>0.037337</td>\n      <td>-1.987595</td>\n      <td>1.000007</td>\n      <td>0.0</td>\n      <td>-0.577903</td>\n      <td>0.2</td>\n    </tr>\n    <tr>\n      <th>2</th>\n      <td>0.0355</td>\n      <td>8.363000</td>\n      <td>9</td>\n      <td>1</td>\n      <td>2.757</td>\n      <td>1.071</td>\n      <td>-0.05</td>\n      <td>4.0</td>\n      <td>37.0</td>\n      <td>3</td>\n      <td>...</td>\n      <td>6.5</td>\n      <td>6.000000</td>\n      <td>5.992739</td>\n      <td>-0.254557</td>\n      <td>-0.254557</td>\n      <td>-1.987595</td>\n      <td>1.000007</td>\n      <td>0.0</td>\n      <td>0.922362</td>\n      <td>0.2</td>\n    </tr>\n    <tr>\n      <th>3</th>\n      <td>0.2277</td>\n      <td>0.438200</td>\n      <td>16</td>\n      <td>1</td>\n      <td>2.757</td>\n      <td>1.071</td>\n      <td>-0.05</td>\n      <td>4.0</td>\n      <td>37.0</td>\n      <td>3</td>\n      <td>...</td>\n      <td>6.5</td>\n      <td>6.000000</td>\n      <td>5.992739</td>\n      <td>-0.254557</td>\n      <td>-0.254557</td>\n      <td>-1.987595</td>\n      <td>1.000007</td>\n      <td>0.0</td>\n      <td>-0.358328</td>\n      <td>0.2</td>\n    </tr>\n    <tr>\n      <th>4</th>\n      <td>0.0173</td>\n      <td>1.027200</td>\n      <td>25</td>\n      <td>1</td>\n      <td>2.757</td>\n      <td>1.071</td>\n      <td>-0.05</td>\n      <td>4.0</td>\n      <td>37.0</td>\n      <td>3</td>\n      <td>...</td>\n      <td>6.5</td>\n      <td>5.992739</td>\n      <td>6.000000</td>\n      <td>-0.398299</td>\n      <td>0.037337</td>\n      <td>-1.987595</td>\n      <td>1.000007</td>\n      <td>0.0</td>\n      <td>0.011655</td>\n      <td>0.2</td>\n    </tr>\n    <tr>\n      <th>...</th>\n      <td>...</td>\n      <td>...</td>\n      <td>...</td>\n      <td>...</td>\n      <td>...</td>\n      <td>...</td>\n      <td>...</td>\n      <td>...</td>\n      <td>...</td>\n      <td>...</td>\n      <td>...</td>\n      <td>...</td>\n      <td>...</td>\n      <td>...</td>\n      <td>...</td>\n      <td>...</td>\n      <td>...</td>\n      <td>...</td>\n      <td>...</td>\n      <td>...</td>\n      <td>...</td>\n    </tr>\n    <tr>\n      <th>1124</th>\n      <td>0.0550</td>\n      <td>0.000467</td>\n      <td>1432809</td>\n      <td>2</td>\n      <td>2.280</td>\n      <td>1.350</td>\n      <td>1.20</td>\n      <td>3.0</td>\n      <td>41.4</td>\n      <td>3</td>\n      <td>...</td>\n      <td>-1.7</td>\n      <td>5.992739</td>\n      <td>0.000000</td>\n      <td>-0.398299</td>\n      <td>0.037337</td>\n      <td>-2.178395</td>\n      <td>0.999984</td>\n      <td>0.0</td>\n      <td>-3.330683</td>\n      <td>0.2</td>\n    </tr>\n    <tr>\n      <th>1125</th>\n      <td>0.1220</td>\n      <td>0.000002</td>\n      <td>1435204</td>\n      <td>2</td>\n      <td>2.280</td>\n      <td>1.350</td>\n      <td>1.20</td>\n      <td>7.0</td>\n      <td>41.4</td>\n      <td>3</td>\n      <td>...</td>\n      <td>-1.7</td>\n      <td>5.992739</td>\n      <td>0.000000</td>\n      <td>-0.398299</td>\n      <td>0.037337</td>\n      <td>-2.178395</td>\n      <td>0.999984</td>\n      <td>0.0</td>\n      <td>-5.821023</td>\n      <td>0.2</td>\n    </tr>\n    <tr>\n      <th>1126</th>\n      <td>0.0270</td>\n      <td>0.000252</td>\n      <td>1437601</td>\n      <td>2</td>\n      <td>2.280</td>\n      <td>1.350</td>\n      <td>1.20</td>\n      <td>3.0</td>\n      <td>33.0</td>\n      <td>1</td>\n      <td>...</td>\n      <td>-10.8</td>\n      <td>5.992739</td>\n      <td>0.000000</td>\n      <td>-0.398299</td>\n      <td>0.037337</td>\n      <td>-2.441399</td>\n      <td>0.480347</td>\n      <td>725.0</td>\n      <td>-3.598599</td>\n      <td>1.0</td>\n    </tr>\n    <tr>\n      <th>1127</th>\n      <td>0.0350</td>\n      <td>0.000177</td>\n      <td>1440000</td>\n      <td>2</td>\n      <td>2.280</td>\n      <td>1.350</td>\n      <td>1.20</td>\n      <td>7.0</td>\n      <td>33.0</td>\n      <td>1</td>\n      <td>...</td>\n      <td>-10.8</td>\n      <td>5.992739</td>\n      <td>0.000000</td>\n      <td>-0.398299</td>\n      <td>0.037337</td>\n      <td>-2.441399</td>\n      <td>0.480347</td>\n      <td>725.0</td>\n      <td>-3.752027</td>\n      <td>1.0</td>\n    </tr>\n    <tr>\n      <th>1128</th>\n      <td>0.1630</td>\n      <td>0.000041</td>\n      <td>1442401</td>\n      <td>2</td>\n      <td>1.937</td>\n      <td>0.853</td>\n      <td>0.78</td>\n      <td>4.0</td>\n      <td>42.4</td>\n      <td>1</td>\n      <td>...</td>\n      <td>-1.6</td>\n      <td>5.992739</td>\n      <td>0.000000</td>\n      <td>-0.398299</td>\n      <td>0.037337</td>\n      <td>-2.379344</td>\n      <td>0.999951</td>\n      <td>0.0</td>\n      <td>-4.389340</td>\n      <td>0.2</td>\n    </tr>\n  </tbody>\n</table>\n<p>839 rows × 50 columns</p>\n</div>"
     },
     "execution_count": 151,
     "metadata": {},
     "output_type": "execute_result"
    }
   ],
   "source": [
    "df"
   ],
   "metadata": {
    "collapsed": false,
    "ExecuteTime": {
     "end_time": "2023-10-16T09:06:24.076133100Z",
     "start_time": "2023-10-16T09:06:23.967157900Z"
    }
   },
   "id": "848534dbb80728b7"
  },
  {
   "cell_type": "code",
   "execution_count": 152,
   "outputs": [
    {
     "data": {
      "text/plain": "          Km      Vmax       id  activity      X     IR  pot2   ph  temp  \\\n0     0.0065  1.376300        1         1  2.757  1.071 -0.05  4.0  37.0   \n1     0.0554  0.264300        4         1  2.757  1.071 -0.05  4.0  37.0   \n2     0.0355  8.363000        9         1  2.757  1.071 -0.05  4.0  37.0   \n3     0.2277  0.438200       16         1  2.757  1.071 -0.05  4.0  37.0   \n4     0.0173  1.027200       25         1  2.757  1.071 -0.05  4.0  37.0   \n...      ...       ...      ...       ...    ...    ...   ...  ...   ...   \n1124  0.0550  0.000467  1432809         2  2.280  1.350  1.20  3.0  41.4   \n1125  0.1220  0.000002  1435204         2  2.280  1.350  1.20  7.0  41.4   \n1126  0.0270  0.000252  1437601         2  2.280  1.350  1.20  3.0  33.0   \n1127  0.0350  0.000177  1440000         2  2.280  1.350  1.20  7.0  33.0   \n1128  0.1630  0.000041  1442401         2  1.937  0.853  0.78  4.0  42.4   \n\n      dstr  ...  XLogP  MaxEStateIndex.1  MaxEStateIndex.2  \\\n0        3  ...    6.5          5.992739          6.000000   \n1        3  ...    6.5          5.992739          6.000000   \n2        3  ...    6.5          6.000000          5.992739   \n3        3  ...    6.5          6.000000          5.992739   \n4        3  ...    6.5          5.992739          6.000000   \n...    ...  ...    ...               ...               ...   \n1124     3  ...   -1.7          5.992739          0.000000   \n1125     3  ...   -1.7          5.992739          0.000000   \n1126     1  ...  -10.8          5.992739          0.000000   \n1127     1  ...  -10.8          5.992739          0.000000   \n1128     1  ...   -1.6          5.992739          0.000000   \n\n      MinPartialCharge.1  MaxPartialCharge.1  BCUT2D_CHGLO     polym  \\\n0              -0.398299            0.037337     -1.987595  1.000007   \n1              -0.398299            0.037337     -1.987595  1.000007   \n2              -0.254557           -0.254557     -1.987595  1.000007   \n3              -0.254557           -0.254557     -1.987595  1.000007   \n4              -0.398299            0.037337     -1.987595  1.000007   \n...                  ...                 ...           ...       ...   \n1124           -0.398299            0.037337     -2.178395  0.999984   \n1125           -0.398299            0.037337     -2.178395  0.999984   \n1126           -0.398299            0.037337     -2.441399  0.480347   \n1127           -0.398299            0.037337     -2.441399  0.480347   \n1128           -0.398299            0.037337     -2.379344  0.999951   \n\n      Complexity  Vmax_log  Sufrace_change  \n0            0.0  0.138713             0.2  \n1            0.0 -0.577903             0.2  \n2            0.0  0.922362             0.2  \n3            0.0 -0.358328             0.2  \n4            0.0  0.011655             0.2  \n...          ...       ...             ...  \n1124         0.0 -3.330683             0.2  \n1125         0.0 -5.821023             0.2  \n1126       725.0 -3.598599             1.0  \n1127       725.0 -3.752027             1.0  \n1128         0.0 -4.389340             0.2  \n\n[839 rows x 50 columns]",
      "text/html": "<div>\n<style scoped>\n    .dataframe tbody tr th:only-of-type {\n        vertical-align: middle;\n    }\n\n    .dataframe tbody tr th {\n        vertical-align: top;\n    }\n\n    .dataframe thead th {\n        text-align: right;\n    }\n</style>\n<table border=\"1\" class=\"dataframe\">\n  <thead>\n    <tr style=\"text-align: right;\">\n      <th></th>\n      <th>Km</th>\n      <th>Vmax</th>\n      <th>id</th>\n      <th>activity</th>\n      <th>X</th>\n      <th>IR</th>\n      <th>pot2</th>\n      <th>ph</th>\n      <th>temp</th>\n      <th>dstr</th>\n      <th>...</th>\n      <th>XLogP</th>\n      <th>MaxEStateIndex.1</th>\n      <th>MaxEStateIndex.2</th>\n      <th>MinPartialCharge.1</th>\n      <th>MaxPartialCharge.1</th>\n      <th>BCUT2D_CHGLO</th>\n      <th>polym</th>\n      <th>Complexity</th>\n      <th>Vmax_log</th>\n      <th>Sufrace_change</th>\n    </tr>\n  </thead>\n  <tbody>\n    <tr>\n      <th>0</th>\n      <td>0.0065</td>\n      <td>1.376300</td>\n      <td>1</td>\n      <td>1</td>\n      <td>2.757</td>\n      <td>1.071</td>\n      <td>-0.05</td>\n      <td>4.0</td>\n      <td>37.0</td>\n      <td>3</td>\n      <td>...</td>\n      <td>6.5</td>\n      <td>5.992739</td>\n      <td>6.000000</td>\n      <td>-0.398299</td>\n      <td>0.037337</td>\n      <td>-1.987595</td>\n      <td>1.000007</td>\n      <td>0.0</td>\n      <td>0.138713</td>\n      <td>0.2</td>\n    </tr>\n    <tr>\n      <th>1</th>\n      <td>0.0554</td>\n      <td>0.264300</td>\n      <td>4</td>\n      <td>1</td>\n      <td>2.757</td>\n      <td>1.071</td>\n      <td>-0.05</td>\n      <td>4.0</td>\n      <td>37.0</td>\n      <td>3</td>\n      <td>...</td>\n      <td>6.5</td>\n      <td>5.992739</td>\n      <td>6.000000</td>\n      <td>-0.398299</td>\n      <td>0.037337</td>\n      <td>-1.987595</td>\n      <td>1.000007</td>\n      <td>0.0</td>\n      <td>-0.577903</td>\n      <td>0.2</td>\n    </tr>\n    <tr>\n      <th>2</th>\n      <td>0.0355</td>\n      <td>8.363000</td>\n      <td>9</td>\n      <td>1</td>\n      <td>2.757</td>\n      <td>1.071</td>\n      <td>-0.05</td>\n      <td>4.0</td>\n      <td>37.0</td>\n      <td>3</td>\n      <td>...</td>\n      <td>6.5</td>\n      <td>6.000000</td>\n      <td>5.992739</td>\n      <td>-0.254557</td>\n      <td>-0.254557</td>\n      <td>-1.987595</td>\n      <td>1.000007</td>\n      <td>0.0</td>\n      <td>0.922362</td>\n      <td>0.2</td>\n    </tr>\n    <tr>\n      <th>3</th>\n      <td>0.2277</td>\n      <td>0.438200</td>\n      <td>16</td>\n      <td>1</td>\n      <td>2.757</td>\n      <td>1.071</td>\n      <td>-0.05</td>\n      <td>4.0</td>\n      <td>37.0</td>\n      <td>3</td>\n      <td>...</td>\n      <td>6.5</td>\n      <td>6.000000</td>\n      <td>5.992739</td>\n      <td>-0.254557</td>\n      <td>-0.254557</td>\n      <td>-1.987595</td>\n      <td>1.000007</td>\n      <td>0.0</td>\n      <td>-0.358328</td>\n      <td>0.2</td>\n    </tr>\n    <tr>\n      <th>4</th>\n      <td>0.0173</td>\n      <td>1.027200</td>\n      <td>25</td>\n      <td>1</td>\n      <td>2.757</td>\n      <td>1.071</td>\n      <td>-0.05</td>\n      <td>4.0</td>\n      <td>37.0</td>\n      <td>3</td>\n      <td>...</td>\n      <td>6.5</td>\n      <td>5.992739</td>\n      <td>6.000000</td>\n      <td>-0.398299</td>\n      <td>0.037337</td>\n      <td>-1.987595</td>\n      <td>1.000007</td>\n      <td>0.0</td>\n      <td>0.011655</td>\n      <td>0.2</td>\n    </tr>\n    <tr>\n      <th>...</th>\n      <td>...</td>\n      <td>...</td>\n      <td>...</td>\n      <td>...</td>\n      <td>...</td>\n      <td>...</td>\n      <td>...</td>\n      <td>...</td>\n      <td>...</td>\n      <td>...</td>\n      <td>...</td>\n      <td>...</td>\n      <td>...</td>\n      <td>...</td>\n      <td>...</td>\n      <td>...</td>\n      <td>...</td>\n      <td>...</td>\n      <td>...</td>\n      <td>...</td>\n      <td>...</td>\n    </tr>\n    <tr>\n      <th>1124</th>\n      <td>0.0550</td>\n      <td>0.000467</td>\n      <td>1432809</td>\n      <td>2</td>\n      <td>2.280</td>\n      <td>1.350</td>\n      <td>1.20</td>\n      <td>3.0</td>\n      <td>41.4</td>\n      <td>3</td>\n      <td>...</td>\n      <td>-1.7</td>\n      <td>5.992739</td>\n      <td>0.000000</td>\n      <td>-0.398299</td>\n      <td>0.037337</td>\n      <td>-2.178395</td>\n      <td>0.999984</td>\n      <td>0.0</td>\n      <td>-3.330683</td>\n      <td>0.2</td>\n    </tr>\n    <tr>\n      <th>1125</th>\n      <td>0.1220</td>\n      <td>0.000002</td>\n      <td>1435204</td>\n      <td>2</td>\n      <td>2.280</td>\n      <td>1.350</td>\n      <td>1.20</td>\n      <td>7.0</td>\n      <td>41.4</td>\n      <td>3</td>\n      <td>...</td>\n      <td>-1.7</td>\n      <td>5.992739</td>\n      <td>0.000000</td>\n      <td>-0.398299</td>\n      <td>0.037337</td>\n      <td>-2.178395</td>\n      <td>0.999984</td>\n      <td>0.0</td>\n      <td>-5.821023</td>\n      <td>0.2</td>\n    </tr>\n    <tr>\n      <th>1126</th>\n      <td>0.0270</td>\n      <td>0.000252</td>\n      <td>1437601</td>\n      <td>2</td>\n      <td>2.280</td>\n      <td>1.350</td>\n      <td>1.20</td>\n      <td>3.0</td>\n      <td>33.0</td>\n      <td>1</td>\n      <td>...</td>\n      <td>-10.8</td>\n      <td>5.992739</td>\n      <td>0.000000</td>\n      <td>-0.398299</td>\n      <td>0.037337</td>\n      <td>-2.441399</td>\n      <td>0.480347</td>\n      <td>725.0</td>\n      <td>-3.598599</td>\n      <td>1.0</td>\n    </tr>\n    <tr>\n      <th>1127</th>\n      <td>0.0350</td>\n      <td>0.000177</td>\n      <td>1440000</td>\n      <td>2</td>\n      <td>2.280</td>\n      <td>1.350</td>\n      <td>1.20</td>\n      <td>7.0</td>\n      <td>33.0</td>\n      <td>1</td>\n      <td>...</td>\n      <td>-10.8</td>\n      <td>5.992739</td>\n      <td>0.000000</td>\n      <td>-0.398299</td>\n      <td>0.037337</td>\n      <td>-2.441399</td>\n      <td>0.480347</td>\n      <td>725.0</td>\n      <td>-3.752027</td>\n      <td>1.0</td>\n    </tr>\n    <tr>\n      <th>1128</th>\n      <td>0.1630</td>\n      <td>0.000041</td>\n      <td>1442401</td>\n      <td>2</td>\n      <td>1.937</td>\n      <td>0.853</td>\n      <td>0.78</td>\n      <td>4.0</td>\n      <td>42.4</td>\n      <td>1</td>\n      <td>...</td>\n      <td>-1.6</td>\n      <td>5.992739</td>\n      <td>0.000000</td>\n      <td>-0.398299</td>\n      <td>0.037337</td>\n      <td>-2.379344</td>\n      <td>0.999951</td>\n      <td>0.0</td>\n      <td>-4.389340</td>\n      <td>0.2</td>\n    </tr>\n  </tbody>\n</table>\n<p>839 rows × 50 columns</p>\n</div>"
     },
     "execution_count": 152,
     "metadata": {},
     "output_type": "execute_result"
    }
   ],
   "source": [
    "df"
   ],
   "metadata": {
    "collapsed": false,
    "ExecuteTime": {
     "end_time": "2023-10-16T09:06:24.155866200Z",
     "start_time": "2023-10-16T09:06:23.983030300Z"
    }
   },
   "id": "53c510336c043657"
  },
  {
   "cell_type": "code",
   "execution_count": 153,
   "outputs": [],
   "source": [
    "column_description = df['MinEStateIndex'].describe()"
   ],
   "metadata": {
    "collapsed": false,
    "ExecuteTime": {
     "end_time": "2023-10-16T09:06:24.157860Z",
     "start_time": "2023-10-16T09:06:23.996895500Z"
    }
   },
   "id": "658605f3f850f571"
  },
  {
   "cell_type": "code",
   "execution_count": 154,
   "outputs": [
    {
     "data": {
      "text/plain": "count    839.000000\nmean      -0.595900\nstd        1.189193\nmin       -6.086967\n25%       -1.083333\n50%        0.000000\n75%        0.000000\nmax        1.875000\nName: MinEStateIndex, dtype: float64"
     },
     "execution_count": 154,
     "metadata": {},
     "output_type": "execute_result"
    }
   ],
   "source": [
    "column_description"
   ],
   "metadata": {
    "collapsed": false,
    "ExecuteTime": {
     "end_time": "2023-10-16T09:06:24.157860Z",
     "start_time": "2023-10-16T09:06:24.000871200Z"
    }
   },
   "id": "c5c6d423a4196228"
  },
  {
   "cell_type": "code",
   "execution_count": 155,
   "outputs": [],
   "source": [
    "def sigmoid(x):\n",
    "    return 1 / (1 + np.exp(-x))"
   ],
   "metadata": {
    "collapsed": false,
    "ExecuteTime": {
     "end_time": "2023-10-16T09:06:24.157860Z",
     "start_time": "2023-10-16T09:06:24.004425600Z"
    }
   },
   "id": "2b0c1211e8243d30"
  },
  {
   "cell_type": "code",
   "execution_count": 156,
   "outputs": [],
   "source": [
    "df['MinEStateIndex'] = df['MinEStateIndex'].apply(sigmoid)"
   ],
   "metadata": {
    "collapsed": false,
    "ExecuteTime": {
     "end_time": "2023-10-16T09:06:24.157860Z",
     "start_time": "2023-10-16T09:06:24.007188500Z"
    }
   },
   "id": "3e01d4961041131c"
  },
  {
   "cell_type": "code",
   "execution_count": 157,
   "outputs": [],
   "source": [
    "column_description = df['MinEStateIndex'].describe()"
   ],
   "metadata": {
    "collapsed": false,
    "ExecuteTime": {
     "end_time": "2023-10-16T09:06:24.386180100Z",
     "start_time": "2023-10-16T09:06:24.011476300Z"
    }
   },
   "id": "e8744c9463099f65"
  },
  {
   "cell_type": "code",
   "execution_count": 158,
   "outputs": [
    {
     "data": {
      "text/plain": "count    839.000000\nmean       0.401700\nstd        0.185080\nmin        0.002267\n25%        0.252876\n50%        0.500000\n75%        0.500000\nmax        0.867036\nName: MinEStateIndex, dtype: float64"
     },
     "execution_count": 158,
     "metadata": {},
     "output_type": "execute_result"
    }
   ],
   "source": [
    "column_description"
   ],
   "metadata": {
    "collapsed": false,
    "ExecuteTime": {
     "end_time": "2023-10-16T09:06:24.404119500Z",
     "start_time": "2023-10-16T09:06:24.017096400Z"
    }
   },
   "id": "7292782a8ca07e3c"
  },
  {
   "cell_type": "code",
   "execution_count": 159,
   "outputs": [],
   "source": [
    "# sns.displot(df, x=\"Vmax_log\", hue=\"\")"
   ],
   "metadata": {
    "collapsed": false,
    "ExecuteTime": {
     "end_time": "2023-10-16T09:06:24.410099800Z",
     "start_time": "2023-10-16T09:06:24.020416700Z"
    }
   },
   "id": "4fab752d5a17dc36"
  },
  {
   "cell_type": "code",
   "execution_count": 160,
   "outputs": [],
   "source": [
    "# df.info()"
   ],
   "metadata": {
    "collapsed": false,
    "ExecuteTime": {
     "end_time": "2023-10-16T09:06:24.410099800Z",
     "start_time": "2023-10-16T09:06:24.023121600Z"
    }
   },
   "id": "a3160cd2b2135849"
  },
  {
   "cell_type": "code",
   "execution_count": 161,
   "outputs": [],
   "source": [
    "import matplotlib.pyplot as plt"
   ],
   "metadata": {
    "collapsed": false,
    "ExecuteTime": {
     "end_time": "2023-10-16T09:06:24.410099800Z",
     "start_time": "2023-10-16T09:06:24.026282900Z"
    }
   },
   "id": "cf6e47b72075f693"
  },
  {
   "cell_type": "code",
   "execution_count": 162,
   "outputs": [
    {
     "data": {
      "text/plain": "<Axes: xlabel='ph', ylabel='Km'>"
     },
     "execution_count": 162,
     "metadata": {},
     "output_type": "execute_result"
    },
    {
     "data": {
      "text/plain": "<Figure size 640x480 with 1 Axes>",
      "image/png": "[encoded data removed]"
     },
     "metadata": {},
     "output_type": "display_data"
    }
   ],
   "source": [
    "sns.scatterplot(x='ph', y='Km', data=df)"
   ],
   "metadata": {
    "collapsed": false,
    "ExecuteTime": {
     "end_time": "2023-10-16T09:06:24.435016300Z",
     "start_time": "2023-10-16T09:06:24.029467600Z"
    }
   },
   "id": "f4110898e1d57d17"
  },
  {
   "cell_type": "code",
   "execution_count": 163,
   "outputs": [],
   "source": [
    "import seaborn as sns\n",
    "import matplotlib.pyplot as plt"
   ],
   "metadata": {
    "collapsed": false,
    "ExecuteTime": {
     "end_time": "2023-10-16T09:06:24.435016300Z",
     "start_time": "2023-10-16T09:06:24.161438600Z"
    }
   },
   "id": "ac7323a18a05e019"
  },
  {
   "cell_type": "code",
   "execution_count": 172,
   "outputs": [
    {
     "data": {
      "text/plain": "<Figure size 500x250 with 2 Axes>",
      "image/png": "[encoded data removed]"
     },
     "metadata": {},
     "output_type": "display_data"
    }
   ],
   "source": [
    "sns.pairplot(df, x_vars=['MinAbsEStateIndex', 'MinEStateIndex'], y_vars=['Km'], kind='reg')\n",
    "plt.show()"
   ],
   "metadata": {
    "collapsed": false,
    "ExecuteTime": {
     "end_time": "2023-10-16T09:10:27.388918800Z",
     "start_time": "2023-10-16T09:10:27.042830700Z"
    }
   },
   "id": "df1cc558eaeae596"
  },
  {
   "cell_type": "code",
   "execution_count": 174,
   "outputs": [],
   "source": [
    "df['MinEStateIndex_group'] = pd.qcut(df['MinEStateIndex'],10,duplicates='drop')\n",
    "df['MinAbsEStateIndex_group'] = pd.qcut(df['MinAbsEStateIndex'],10,duplicates='drop')\n"
   ],
   "metadata": {
    "collapsed": false,
    "ExecuteTime": {
     "end_time": "2023-10-16T09:11:34.628149900Z",
     "start_time": "2023-10-16T09:11:34.608414400Z"
    }
   },
   "id": "ac69c15efa80c6c8"
  },
  {
   "cell_type": "code",
   "execution_count": 176,
   "outputs": [
    {
     "name": "stderr",
     "output_type": "stream",
     "text": [
      "C:\\Users\\user\\AppData\\Local\\Temp\\ipykernel_1824\\690676126.py:1: FutureWarning: The default of observed=False is deprecated and will be changed to True in a future version of pandas. Pass observed=False to retain current behavior or observed=True to adopt the future default and silence this warning.\n",
      "  df.groupby('MinAbsEStateIndex_group',dropna=False)['Km'].agg(['count','mean'])\n"
     ]
    },
    {
     "data": {
      "text/plain": "                         count      mean\nMinAbsEStateIndex_group                 \n(-0.001, 0.0833]           504  1.265426\n(0.0833, 0.208]            162  1.336144\n(0.208, 0.278]               6  0.366667\n(0.278, 0.812]              83  2.224646\n(0.812, 1.875]              84  1.658593",
      "text/html": "<div>\n<style scoped>\n    .dataframe tbody tr th:only-of-type {\n        vertical-align: middle;\n    }\n\n    .dataframe tbody tr th {\n        vertical-align: top;\n    }\n\n    .dataframe thead th {\n        text-align: right;\n    }\n</style>\n<table border=\"1\" class=\"dataframe\">\n  <thead>\n    <tr style=\"text-align: right;\">\n      <th></th>\n      <th>count</th>\n      <th>mean</th>\n    </tr>\n    <tr>\n      <th>MinAbsEStateIndex_group</th>\n      <th></th>\n      <th></th>\n    </tr>\n  </thead>\n  <tbody>\n    <tr>\n      <th>(-0.001, 0.0833]</th>\n      <td>504</td>\n      <td>1.265426</td>\n    </tr>\n    <tr>\n      <th>(0.0833, 0.208]</th>\n      <td>162</td>\n      <td>1.336144</td>\n    </tr>\n    <tr>\n      <th>(0.208, 0.278]</th>\n      <td>6</td>\n      <td>0.366667</td>\n    </tr>\n    <tr>\n      <th>(0.278, 0.812]</th>\n      <td>83</td>\n      <td>2.224646</td>\n    </tr>\n    <tr>\n      <th>(0.812, 1.875]</th>\n      <td>84</td>\n      <td>1.658593</td>\n    </tr>\n  </tbody>\n</table>\n</div>"
     },
     "execution_count": 176,
     "metadata": {},
     "output_type": "execute_result"
    }
   ],
   "source": [
    "df.groupby('MinAbsEStateIndex_group',dropna=False)['Km'].agg(['count','mean'])"
   ],
   "metadata": {
    "collapsed": false,
    "ExecuteTime": {
     "end_time": "2023-10-16T09:12:16.345671800Z",
     "start_time": "2023-10-16T09:12:16.330460Z"
    }
   },
   "id": "71cbe8ee4a6d87e1"
  }
 ],
 "metadata": {
  "kernelspec": {
   "display_name": "Python 3 (ipykernel)",
   "language": "python",
   "name": "python3"
  },
  "language_info": {
   "codemirror_mode": {
    "name": "ipython",
    "version": 3
   },
   "file_extension": ".py",
   "mimetype": "text/x-python",
   "name": "python",
   "nbconvert_exporter": "python",
   "pygments_lexer": "ipython3",
   "version": "3.11.5"
  }
 },
 "nbformat": 4,
 "nbformat_minor": 5
}
