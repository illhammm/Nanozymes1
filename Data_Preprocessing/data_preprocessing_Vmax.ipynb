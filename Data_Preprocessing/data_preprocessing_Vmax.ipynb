{
 "cells": [
  {
   "cell_type": "code",
   "execution_count": 18,
   "id": "initial_id",
   "metadata": {
    "collapsed": true,
    "ExecuteTime": {
     "end_time": "2023-10-17T08:26:58.440703700Z",
     "start_time": "2023-10-17T08:26:58.425043500Z"
    }
   },
   "outputs": [],
   "source": [
    "import pandas as pd\n",
    "import numpy as np\n",
    "import seaborn as sns\n",
    "import matplotlib.pyplot as plt\n",
    "from scipy import stats"
   ]
  },
  {
   "cell_type": "code",
   "execution_count": 19,
   "outputs": [],
   "source": [
    "df = pd.read_csv(\"../Data_Preprocessing/df_nnz_Vmax.csv\")"
   ],
   "metadata": {
    "collapsed": false,
    "ExecuteTime": {
     "end_time": "2023-10-17T08:26:58.457860800Z",
     "start_time": "2023-10-17T08:26:58.427546400Z"
    }
   },
   "id": "26496e60d4e02ede"
  },
  {
   "cell_type": "markdown",
   "source": [
    "Удаляю Km"
   ],
   "metadata": {
    "collapsed": false
   },
   "id": "4a32e30cffe2ee69"
  },
  {
   "cell_type": "code",
   "execution_count": 20,
   "outputs": [
    {
     "data": {
      "text/plain": "(1130, 43)"
     },
     "execution_count": 20,
     "metadata": {},
     "output_type": "execute_result"
    }
   ],
   "source": [
    "df.shape"
   ],
   "metadata": {
    "collapsed": false,
    "ExecuteTime": {
     "end_time": "2023-10-17T08:26:58.458366100Z",
     "start_time": "2023-10-17T08:26:58.439197700Z"
    }
   },
   "id": "434e87c58fa9113e"
  },
  {
   "cell_type": "code",
   "execution_count": 21,
   "outputs": [],
   "source": [
    "df.drop('Km', axis=1, inplace=True)"
   ],
   "metadata": {
    "collapsed": false,
    "ExecuteTime": {
     "end_time": "2023-10-17T08:26:58.459370200Z",
     "start_time": "2023-10-17T08:26:58.441695400Z"
    }
   },
   "id": "7dd82835c4ac75b7"
  },
  {
   "cell_type": "code",
   "execution_count": 22,
   "outputs": [
    {
     "data": {
      "text/plain": "(1130, 42)"
     },
     "execution_count": 22,
     "metadata": {},
     "output_type": "execute_result"
    }
   ],
   "source": [
    "df.shape"
   ],
   "metadata": {
    "collapsed": false,
    "ExecuteTime": {
     "end_time": "2023-10-17T08:26:58.459370200Z",
     "start_time": "2023-10-17T08:26:58.445336700Z"
    }
   },
   "id": "6680aec7117b5e83"
  },
  {
   "cell_type": "markdown",
   "source": [
    "Смотрю все ли параметры в числовом значении"
   ],
   "metadata": {
    "collapsed": false
   },
   "id": "9985c1511172c36d"
  },
  {
   "cell_type": "code",
   "execution_count": 23,
   "outputs": [
    {
     "data": {
      "text/plain": "Vmax                     object\nactivity                  int64\nX                       float64\nIR                      float64\npot2                    float64\nph                      float64\ntemp                    float64\ndstr                      int64\ncryst                   float64\nlgCmin                  float64\nlgCmax                  float64\nlgCconst                float64\nlgCcat                  float64\nlgvolume                float64\nSufrace                 float64\nVSA_EState8             float64\nBalabanJ                float64\nMinAbsEStateIndex       float64\nMinEStateIndex          float64\nVSA_EState4             float64\nMinPartialCharge        float64\nXLogP                   float64\nMinPartialCharge.1      float64\nMaxPartialCharge.1      float64\nBCUT2D_CHGLO            float64\npolym                   float64\nMcoat_log               float64\nMolWt_log               float64\nPEOE_VSA7_log           float64\nPEOE_VSA8_log           float64\nPEOE_VSA9_log           float64\nKappa2_log              float64\nEState_VSA6_log         float64\nEState_VSA4_log         float64\nSMR_VSA7_log            float64\nComplexity1_log         float64\nComplexity_log          float64\nTPSA_log                float64\nTPSA1_log               float64\nTPSA2_log               float64\nMaxEStateIndex.1_log    float64\nMaxEStateIndex.2_log    float64\ndtype: object"
     },
     "execution_count": 23,
     "metadata": {},
     "output_type": "execute_result"
    }
   ],
   "source": [
    "df.dtypes"
   ],
   "metadata": {
    "collapsed": false,
    "ExecuteTime": {
     "end_time": "2023-10-17T08:26:58.473323300Z",
     "start_time": "2023-10-17T08:26:58.448039500Z"
    }
   },
   "id": "de136821b5456055"
  },
  {
   "cell_type": "markdown",
   "source": [
    "Vmax привожу в числовой вид"
   ],
   "metadata": {
    "collapsed": false
   },
   "id": "4bb7498121b0ea2d"
  },
  {
   "cell_type": "code",
   "execution_count": 24,
   "outputs": [],
   "source": [
    "def to_numeric_column(df, column):\n",
    "    df[column] = pd.to_numeric(df[column], errors='coerce')\n",
    "    return df"
   ],
   "metadata": {
    "collapsed": false,
    "ExecuteTime": {
     "end_time": "2023-10-17T08:26:58.491396500Z",
     "start_time": "2023-10-17T08:26:58.453301700Z"
    }
   },
   "id": "7d3d7333e9ced933"
  },
  {
   "cell_type": "code",
   "execution_count": 25,
   "outputs": [],
   "source": [
    "df = to_numeric_column(df, 'Vmax')"
   ],
   "metadata": {
    "collapsed": false,
    "ExecuteTime": {
     "end_time": "2023-10-17T08:26:58.496379700Z",
     "start_time": "2023-10-17T08:26:58.455666400Z"
    }
   },
   "id": "3965850fdc8351cc"
  },
  {
   "cell_type": "markdown",
   "source": [
    "Убеждаюсь, что Vmax теперь float"
   ],
   "metadata": {
    "collapsed": false
   },
   "id": "b56eed9b7624ad22"
  },
  {
   "cell_type": "code",
   "execution_count": 26,
   "outputs": [
    {
     "data": {
      "text/plain": "Vmax                    float64\nactivity                  int64\nX                       float64\nIR                      float64\npot2                    float64\nph                      float64\ntemp                    float64\ndstr                      int64\ncryst                   float64\nlgCmin                  float64\nlgCmax                  float64\nlgCconst                float64\nlgCcat                  float64\nlgvolume                float64\nSufrace                 float64\nVSA_EState8             float64\nBalabanJ                float64\nMinAbsEStateIndex       float64\nMinEStateIndex          float64\nVSA_EState4             float64\nMinPartialCharge        float64\nXLogP                   float64\nMinPartialCharge.1      float64\nMaxPartialCharge.1      float64\nBCUT2D_CHGLO            float64\npolym                   float64\nMcoat_log               float64\nMolWt_log               float64\nPEOE_VSA7_log           float64\nPEOE_VSA8_log           float64\nPEOE_VSA9_log           float64\nKappa2_log              float64\nEState_VSA6_log         float64\nEState_VSA4_log         float64\nSMR_VSA7_log            float64\nComplexity1_log         float64\nComplexity_log          float64\nTPSA_log                float64\nTPSA1_log               float64\nTPSA2_log               float64\nMaxEStateIndex.1_log    float64\nMaxEStateIndex.2_log    float64\ndtype: object"
     },
     "execution_count": 26,
     "metadata": {},
     "output_type": "execute_result"
    }
   ],
   "source": [
    "df.dtypes"
   ],
   "metadata": {
    "collapsed": false,
    "ExecuteTime": {
     "end_time": "2023-10-17T08:27:44.898088900Z",
     "start_time": "2023-10-17T08:27:44.891959800Z"
    }
   },
   "id": "d4a193f6cea97e39"
  },
  {
   "cell_type": "markdown",
   "source": [
    "Тут я анализирую, и вижу наличие пропусков (NaN) в долях"
   ],
   "metadata": {
    "collapsed": false
   },
   "id": "f227782b3ccd1cde"
  },
  {
   "cell_type": "code",
   "execution_count": 27,
   "outputs": [
    {
     "data": {
      "text/plain": "Vmax                  0.062832\nKappa2_log            0.000000\nMaxPartialCharge.1    0.000000\nBCUT2D_CHGLO          0.000000\npolym                 0.000000\ndtype: float64"
     },
     "execution_count": 27,
     "metadata": {},
     "output_type": "execute_result"
    }
   ],
   "source": [
    "df_nan = df.isna().mean().sort_values(ascending = False)\n",
    "df_nan.head()"
   ],
   "metadata": {
    "collapsed": false,
    "ExecuteTime": {
     "end_time": "2023-10-17T08:29:49.137041700Z",
     "start_time": "2023-10-17T08:29:49.131425600Z"
    }
   },
   "id": "9784070e4b9f403c"
  },
  {
   "cell_type": "code",
   "execution_count": 28,
   "outputs": [],
   "source": [
    "df = df.dropna(subset=['Vmax'], axis =0)"
   ],
   "metadata": {
    "collapsed": false,
    "ExecuteTime": {
     "end_time": "2023-10-17T08:30:34.229457300Z",
     "start_time": "2023-10-17T08:30:34.224388400Z"
    }
   },
   "id": "81ee2f5209c20ba8"
  },
  {
   "cell_type": "code",
   "execution_count": 29,
   "outputs": [
    {
     "data": {
      "text/plain": "Vmax                  0.0\nKappa2_log            0.0\nMaxPartialCharge.1    0.0\nBCUT2D_CHGLO          0.0\npolym                 0.0\ndtype: float64"
     },
     "execution_count": 29,
     "metadata": {},
     "output_type": "execute_result"
    }
   ],
   "source": [
    "df_nan = df.isna().mean().sort_values(ascending = False)\n",
    "df_nan.head()"
   ],
   "metadata": {
    "collapsed": false,
    "ExecuteTime": {
     "end_time": "2023-10-17T08:31:08.550998900Z",
     "start_time": "2023-10-17T08:31:08.540820Z"
    }
   },
   "id": "c568267d486ea5dd"
  }
 ],
 "metadata": {
  "kernelspec": {
   "display_name": "Python 3",
   "language": "python",
   "name": "python3"
  },
  "language_info": {
   "codemirror_mode": {
    "name": "ipython",
    "version": 2
   },
   "file_extension": ".py",
   "mimetype": "text/x-python",
   "name": "python",
   "nbconvert_exporter": "python",
   "pygments_lexer": "ipython2",
   "version": "2.7.6"
  }
 },
 "nbformat": 4,
 "nbformat_minor": 5
}
