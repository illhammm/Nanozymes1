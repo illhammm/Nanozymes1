{
 "cells": [
  {
   "cell_type": "code",
   "execution_count": 31,
   "id": "initial_id",
   "metadata": {
    "collapsed": true,
    "ExecuteTime": {
     "end_time": "2023-10-17T08:33:39.219100300Z",
     "start_time": "2023-10-17T08:33:39.151788200Z"
    }
   },
   "outputs": [],
   "source": [
    "import pandas as pd\n",
    "import numpy as np\n",
    "import seaborn as sns\n",
    "import matplotlib.pyplot as plt\n",
    "from scipy import stats"
   ]
  },
  {
   "cell_type": "code",
   "execution_count": 32,
   "outputs": [],
   "source": [
    "df = pd.read_csv(\"../Data_Preprocessing/df_nnz_Vmax.csv\")"
   ],
   "metadata": {
    "collapsed": false,
    "ExecuteTime": {
     "end_time": "2023-10-17T08:33:39.242750Z",
     "start_time": "2023-10-17T08:33:39.153289100Z"
    }
   },
   "id": "26496e60d4e02ede"
  },
  {
   "cell_type": "markdown",
   "source": [
    "Удаляю Km"
   ],
   "metadata": {
    "collapsed": false
   },
   "id": "4a32e30cffe2ee69"
  },
  {
   "cell_type": "code",
   "execution_count": 33,
   "outputs": [
    {
     "data": {
      "text/plain": "(1130, 43)"
     },
     "execution_count": 33,
     "metadata": {},
     "output_type": "execute_result"
    }
   ],
   "source": [
    "df.shape"
   ],
   "metadata": {
    "collapsed": false,
    "ExecuteTime": {
     "end_time": "2023-10-17T08:33:39.258370300Z",
     "start_time": "2023-10-17T08:33:39.167986300Z"
    }
   },
   "id": "434e87c58fa9113e"
  },
  {
   "cell_type": "code",
   "execution_count": 34,
   "outputs": [],
   "source": [
    "df.drop('Km', axis=1, inplace=True)"
   ],
   "metadata": {
    "collapsed": false,
    "ExecuteTime": {
     "end_time": "2023-10-17T08:33:39.281688500Z",
     "start_time": "2023-10-17T08:33:39.171250400Z"
    }
   },
   "id": "7dd82835c4ac75b7"
  },
  {
   "cell_type": "code",
   "execution_count": 35,
   "outputs": [
    {
     "data": {
      "text/plain": "(1130, 42)"
     },
     "execution_count": 35,
     "metadata": {},
     "output_type": "execute_result"
    }
   ],
   "source": [
    "df.shape"
   ],
   "metadata": {
    "collapsed": false,
    "ExecuteTime": {
     "end_time": "2023-10-17T08:33:39.282638800Z",
     "start_time": "2023-10-17T08:33:39.174539700Z"
    }
   },
   "id": "6680aec7117b5e83"
  },
  {
   "cell_type": "markdown",
   "source": [
    "Смотрю все ли параметры в числовом значении"
   ],
   "metadata": {
    "collapsed": false
   },
   "id": "9985c1511172c36d"
  },
  {
   "cell_type": "code",
   "execution_count": 36,
   "outputs": [
    {
     "data": {
      "text/plain": "Vmax                     object\nactivity                  int64\nX                       float64\nIR                      float64\npot2                    float64\nph                      float64\ntemp                    float64\ndstr                      int64\ncryst                   float64\nlgCmin                  float64\nlgCmax                  float64\nlgCconst                float64\nlgCcat                  float64\nlgvolume                float64\nSufrace                 float64\nVSA_EState8             float64\nBalabanJ                float64\nMinAbsEStateIndex       float64\nMinEStateIndex          float64\nVSA_EState4             float64\nMinPartialCharge        float64\nXLogP                   float64\nMinPartialCharge.1      float64\nMaxPartialCharge.1      float64\nBCUT2D_CHGLO            float64\npolym                   float64\nMcoat_log               float64\nMolWt_log               float64\nPEOE_VSA7_log           float64\nPEOE_VSA8_log           float64\nPEOE_VSA9_log           float64\nKappa2_log              float64\nEState_VSA6_log         float64\nEState_VSA4_log         float64\nSMR_VSA7_log            float64\nComplexity1_log         float64\nComplexity_log          float64\nTPSA_log                float64\nTPSA1_log               float64\nTPSA2_log               float64\nMaxEStateIndex.1_log    float64\nMaxEStateIndex.2_log    float64\ndtype: object"
     },
     "execution_count": 36,
     "metadata": {},
     "output_type": "execute_result"
    }
   ],
   "source": [
    "df.dtypes"
   ],
   "metadata": {
    "collapsed": false,
    "ExecuteTime": {
     "end_time": "2023-10-17T08:33:39.282638800Z",
     "start_time": "2023-10-17T08:33:39.177208600Z"
    }
   },
   "id": "de136821b5456055"
  },
  {
   "cell_type": "markdown",
   "source": [
    "Vmax привожу в числовой вид"
   ],
   "metadata": {
    "collapsed": false
   },
   "id": "4bb7498121b0ea2d"
  },
  {
   "cell_type": "code",
   "execution_count": 37,
   "outputs": [],
   "source": [
    "def to_numeric_column(df, column):\n",
    "    df[column] = pd.to_numeric(df[column], errors='coerce')\n",
    "    return df"
   ],
   "metadata": {
    "collapsed": false,
    "ExecuteTime": {
     "end_time": "2023-10-17T08:33:39.282638800Z",
     "start_time": "2023-10-17T08:33:39.182554700Z"
    }
   },
   "id": "7d3d7333e9ced933"
  },
  {
   "cell_type": "code",
   "execution_count": 38,
   "outputs": [],
   "source": [
    "df = to_numeric_column(df, 'Vmax')"
   ],
   "metadata": {
    "collapsed": false,
    "ExecuteTime": {
     "end_time": "2023-10-17T08:33:39.284632100Z",
     "start_time": "2023-10-17T08:33:39.184907100Z"
    }
   },
   "id": "3965850fdc8351cc"
  },
  {
   "cell_type": "markdown",
   "source": [
    "Убеждаюсь, что Vmax теперь float"
   ],
   "metadata": {
    "collapsed": false
   },
   "id": "b56eed9b7624ad22"
  },
  {
   "cell_type": "code",
   "execution_count": 39,
   "outputs": [
    {
     "data": {
      "text/plain": "Vmax                    float64\nactivity                  int64\nX                       float64\nIR                      float64\npot2                    float64\nph                      float64\ntemp                    float64\ndstr                      int64\ncryst                   float64\nlgCmin                  float64\nlgCmax                  float64\nlgCconst                float64\nlgCcat                  float64\nlgvolume                float64\nSufrace                 float64\nVSA_EState8             float64\nBalabanJ                float64\nMinAbsEStateIndex       float64\nMinEStateIndex          float64\nVSA_EState4             float64\nMinPartialCharge        float64\nXLogP                   float64\nMinPartialCharge.1      float64\nMaxPartialCharge.1      float64\nBCUT2D_CHGLO            float64\npolym                   float64\nMcoat_log               float64\nMolWt_log               float64\nPEOE_VSA7_log           float64\nPEOE_VSA8_log           float64\nPEOE_VSA9_log           float64\nKappa2_log              float64\nEState_VSA6_log         float64\nEState_VSA4_log         float64\nSMR_VSA7_log            float64\nComplexity1_log         float64\nComplexity_log          float64\nTPSA_log                float64\nTPSA1_log               float64\nTPSA2_log               float64\nMaxEStateIndex.1_log    float64\nMaxEStateIndex.2_log    float64\ndtype: object"
     },
     "execution_count": 39,
     "metadata": {},
     "output_type": "execute_result"
    }
   ],
   "source": [
    "df.dtypes"
   ],
   "metadata": {
    "collapsed": false,
    "ExecuteTime": {
     "end_time": "2023-10-17T08:33:39.284632100Z",
     "start_time": "2023-10-17T08:33:39.188805700Z"
    }
   },
   "id": "d4a193f6cea97e39"
  },
  {
   "cell_type": "markdown",
   "source": [
    "Тут я анализирую, и вижу наличие пропусков (NaN) в долях"
   ],
   "metadata": {
    "collapsed": false
   },
   "id": "f227782b3ccd1cde"
  },
  {
   "cell_type": "code",
   "execution_count": 40,
   "outputs": [
    {
     "data": {
      "text/plain": "Vmax                  0.062832\nKappa2_log            0.000000\nMaxPartialCharge.1    0.000000\nBCUT2D_CHGLO          0.000000\npolym                 0.000000\ndtype: float64"
     },
     "execution_count": 40,
     "metadata": {},
     "output_type": "execute_result"
    }
   ],
   "source": [
    "df_nan = df.isna().mean().sort_values(ascending = False)\n",
    "df_nan.head()"
   ],
   "metadata": {
    "collapsed": false,
    "ExecuteTime": {
     "end_time": "2023-10-17T08:33:39.285628200Z",
     "start_time": "2023-10-17T08:33:39.192307900Z"
    }
   },
   "id": "9784070e4b9f403c"
  },
  {
   "cell_type": "code",
   "execution_count": 41,
   "outputs": [],
   "source": [
    "df = df.dropna(subset=['Vmax'], axis =0)"
   ],
   "metadata": {
    "collapsed": false,
    "ExecuteTime": {
     "end_time": "2023-10-17T08:33:39.285628200Z",
     "start_time": "2023-10-17T08:33:39.197925Z"
    }
   },
   "id": "81ee2f5209c20ba8"
  },
  {
   "cell_type": "code",
   "execution_count": 42,
   "outputs": [
    {
     "data": {
      "text/plain": "Vmax                  0.0\nKappa2_log            0.0\nMaxPartialCharge.1    0.0\nBCUT2D_CHGLO          0.0\npolym                 0.0\ndtype: float64"
     },
     "execution_count": 42,
     "metadata": {},
     "output_type": "execute_result"
    }
   ],
   "source": [
    "df_nan = df.isna().mean().sort_values(ascending = False)\n",
    "df_nan.head()"
   ],
   "metadata": {
    "collapsed": false,
    "ExecuteTime": {
     "end_time": "2023-10-17T08:33:39.286626900Z",
     "start_time": "2023-10-17T08:33:39.201630100Z"
    }
   },
   "id": "c568267d486ea5dd"
  },
  {
   "cell_type": "markdown",
   "source": [
    "Просмотрю все сделанные изменения"
   ],
   "metadata": {
    "collapsed": false
   },
   "id": "aac0854e73570c45"
  },
  {
   "cell_type": "code",
   "execution_count": 43,
   "outputs": [
    {
     "data": {
      "text/plain": "          Vmax  activity      X     IR  pot2    ph  temp  dstr  cryst  \\\n0     1.376300         1  2.757  1.071 -0.05  4.00  37.0     3    7.0   \n1     0.264300         1  2.757  1.071 -0.05  4.00  37.0     3    7.0   \n2     8.363000         1  2.757  1.071 -0.05  4.00  37.0     3    7.0   \n3     0.438200         1  2.757  1.071 -0.05  4.00  37.0     3    7.0   \n4     1.027200         1  2.757  1.071 -0.05  4.00  37.0     3    7.0   \n...        ...       ...    ...    ...   ...   ...   ...   ...    ...   \n1125  0.000002         2  2.280  1.350  1.20  7.00  41.4     3    6.8   \n1126  0.000252         2  2.280  1.350  1.20  3.00  33.0     1    6.8   \n1127  0.000177         2  2.280  1.350  1.20  7.00  33.0     1    6.8   \n1128  0.000041         2  1.937  0.853  0.78  4.00  42.4     1    6.8   \n1129  0.002200         3  2.200  0.730  0.83  4.24  47.0     3    7.0   \n\n        lgCmin  ...  EState_VSA6_log  EState_VSA4_log  SMR_VSA7_log  \\\n0     0.176091  ...         0.000000         2.552693      2.497497   \n1     0.176091  ...         0.000000         2.552693      2.497497   \n2    -0.301030  ...         0.000000         2.552693      2.497497   \n3    -0.301030  ...         0.000000         2.552693      2.497497   \n4    -0.698970  ...         0.000000         2.552693      2.497497   \n...        ...  ...              ...              ...           ...   \n1125 -1.221849  ...         0.000000         0.000000      0.000000   \n1126 -2.000000  ...         3.189054         3.402360      4.785979   \n1127 -1.221849  ...         3.189054         3.402360      4.785979   \n1128 -2.000000  ...         0.000000         0.000000      0.000000   \n1129  0.698970  ...         2.406933         2.562298      3.190362   \n\n      Complexity1_log  Complexity_log  TPSA_log  TPSA1_log  TPSA2_log  \\\n0            5.420535        0.000000  3.618993   3.951244   3.701302   \n1            5.420535        0.000000  3.618993   3.951244   3.701302   \n2            0.000000        0.000000  3.618993   3.701302   3.951244   \n3            0.000000        0.000000  3.618993   3.701302   3.951244   \n4            5.420535        0.000000  3.618993   3.951244   3.701302   \n...               ...             ...       ...        ...        ...   \n1125         5.420535        0.000000  4.883786   3.951244   3.823847   \n1126         5.420535        6.586172  5.928924   3.951244   3.701302   \n1127         5.420535        6.586172  5.928924   3.951244   3.701302   \n1128         5.420535        0.000000  3.401197   3.951244   3.823847   \n1129         5.197391        0.000000  4.848352   3.906005   3.858622   \n\n      MaxEStateIndex.1_log  MaxEStateIndex.2_log  \n0                 1.790549              1.791759  \n1                 1.790549              1.791759  \n2                 1.791759              1.790549  \n3                 1.791759              1.790549  \n4                 1.790549              1.791759  \n...                    ...                   ...  \n1125              1.790549              0.000000  \n1126              1.790549              0.000000  \n1127              1.790549              0.000000  \n1128              1.790549              0.000000  \n1129              0.000000              0.000000  \n\n[1059 rows x 42 columns]",
      "text/html": "<div>\n<style scoped>\n    .dataframe tbody tr th:only-of-type {\n        vertical-align: middle;\n    }\n\n    .dataframe tbody tr th {\n        vertical-align: top;\n    }\n\n    .dataframe thead th {\n        text-align: right;\n    }\n</style>\n<table border=\"1\" class=\"dataframe\">\n  <thead>\n    <tr style=\"text-align: right;\">\n      <th></th>\n      <th>Vmax</th>\n      <th>activity</th>\n      <th>X</th>\n      <th>IR</th>\n      <th>pot2</th>\n      <th>ph</th>\n      <th>temp</th>\n      <th>dstr</th>\n      <th>cryst</th>\n      <th>lgCmin</th>\n      <th>...</th>\n      <th>EState_VSA6_log</th>\n      <th>EState_VSA4_log</th>\n      <th>SMR_VSA7_log</th>\n      <th>Complexity1_log</th>\n      <th>Complexity_log</th>\n      <th>TPSA_log</th>\n      <th>TPSA1_log</th>\n      <th>TPSA2_log</th>\n      <th>MaxEStateIndex.1_log</th>\n      <th>MaxEStateIndex.2_log</th>\n    </tr>\n  </thead>\n  <tbody>\n    <tr>\n      <th>0</th>\n      <td>1.376300</td>\n      <td>1</td>\n      <td>2.757</td>\n      <td>1.071</td>\n      <td>-0.05</td>\n      <td>4.00</td>\n      <td>37.0</td>\n      <td>3</td>\n      <td>7.0</td>\n      <td>0.176091</td>\n      <td>...</td>\n      <td>0.000000</td>\n      <td>2.552693</td>\n      <td>2.497497</td>\n      <td>5.420535</td>\n      <td>0.000000</td>\n      <td>3.618993</td>\n      <td>3.951244</td>\n      <td>3.701302</td>\n      <td>1.790549</td>\n      <td>1.791759</td>\n    </tr>\n    <tr>\n      <th>1</th>\n      <td>0.264300</td>\n      <td>1</td>\n      <td>2.757</td>\n      <td>1.071</td>\n      <td>-0.05</td>\n      <td>4.00</td>\n      <td>37.0</td>\n      <td>3</td>\n      <td>7.0</td>\n      <td>0.176091</td>\n      <td>...</td>\n      <td>0.000000</td>\n      <td>2.552693</td>\n      <td>2.497497</td>\n      <td>5.420535</td>\n      <td>0.000000</td>\n      <td>3.618993</td>\n      <td>3.951244</td>\n      <td>3.701302</td>\n      <td>1.790549</td>\n      <td>1.791759</td>\n    </tr>\n    <tr>\n      <th>2</th>\n      <td>8.363000</td>\n      <td>1</td>\n      <td>2.757</td>\n      <td>1.071</td>\n      <td>-0.05</td>\n      <td>4.00</td>\n      <td>37.0</td>\n      <td>3</td>\n      <td>7.0</td>\n      <td>-0.301030</td>\n      <td>...</td>\n      <td>0.000000</td>\n      <td>2.552693</td>\n      <td>2.497497</td>\n      <td>0.000000</td>\n      <td>0.000000</td>\n      <td>3.618993</td>\n      <td>3.701302</td>\n      <td>3.951244</td>\n      <td>1.791759</td>\n      <td>1.790549</td>\n    </tr>\n    <tr>\n      <th>3</th>\n      <td>0.438200</td>\n      <td>1</td>\n      <td>2.757</td>\n      <td>1.071</td>\n      <td>-0.05</td>\n      <td>4.00</td>\n      <td>37.0</td>\n      <td>3</td>\n      <td>7.0</td>\n      <td>-0.301030</td>\n      <td>...</td>\n      <td>0.000000</td>\n      <td>2.552693</td>\n      <td>2.497497</td>\n      <td>0.000000</td>\n      <td>0.000000</td>\n      <td>3.618993</td>\n      <td>3.701302</td>\n      <td>3.951244</td>\n      <td>1.791759</td>\n      <td>1.790549</td>\n    </tr>\n    <tr>\n      <th>4</th>\n      <td>1.027200</td>\n      <td>1</td>\n      <td>2.757</td>\n      <td>1.071</td>\n      <td>-0.05</td>\n      <td>4.00</td>\n      <td>37.0</td>\n      <td>3</td>\n      <td>7.0</td>\n      <td>-0.698970</td>\n      <td>...</td>\n      <td>0.000000</td>\n      <td>2.552693</td>\n      <td>2.497497</td>\n      <td>5.420535</td>\n      <td>0.000000</td>\n      <td>3.618993</td>\n      <td>3.951244</td>\n      <td>3.701302</td>\n      <td>1.790549</td>\n      <td>1.791759</td>\n    </tr>\n    <tr>\n      <th>...</th>\n      <td>...</td>\n      <td>...</td>\n      <td>...</td>\n      <td>...</td>\n      <td>...</td>\n      <td>...</td>\n      <td>...</td>\n      <td>...</td>\n      <td>...</td>\n      <td>...</td>\n      <td>...</td>\n      <td>...</td>\n      <td>...</td>\n      <td>...</td>\n      <td>...</td>\n      <td>...</td>\n      <td>...</td>\n      <td>...</td>\n      <td>...</td>\n      <td>...</td>\n      <td>...</td>\n    </tr>\n    <tr>\n      <th>1125</th>\n      <td>0.000002</td>\n      <td>2</td>\n      <td>2.280</td>\n      <td>1.350</td>\n      <td>1.20</td>\n      <td>7.00</td>\n      <td>41.4</td>\n      <td>3</td>\n      <td>6.8</td>\n      <td>-1.221849</td>\n      <td>...</td>\n      <td>0.000000</td>\n      <td>0.000000</td>\n      <td>0.000000</td>\n      <td>5.420535</td>\n      <td>0.000000</td>\n      <td>4.883786</td>\n      <td>3.951244</td>\n      <td>3.823847</td>\n      <td>1.790549</td>\n      <td>0.000000</td>\n    </tr>\n    <tr>\n      <th>1126</th>\n      <td>0.000252</td>\n      <td>2</td>\n      <td>2.280</td>\n      <td>1.350</td>\n      <td>1.20</td>\n      <td>3.00</td>\n      <td>33.0</td>\n      <td>1</td>\n      <td>6.8</td>\n      <td>-2.000000</td>\n      <td>...</td>\n      <td>3.189054</td>\n      <td>3.402360</td>\n      <td>4.785979</td>\n      <td>5.420535</td>\n      <td>6.586172</td>\n      <td>5.928924</td>\n      <td>3.951244</td>\n      <td>3.701302</td>\n      <td>1.790549</td>\n      <td>0.000000</td>\n    </tr>\n    <tr>\n      <th>1127</th>\n      <td>0.000177</td>\n      <td>2</td>\n      <td>2.280</td>\n      <td>1.350</td>\n      <td>1.20</td>\n      <td>7.00</td>\n      <td>33.0</td>\n      <td>1</td>\n      <td>6.8</td>\n      <td>-1.221849</td>\n      <td>...</td>\n      <td>3.189054</td>\n      <td>3.402360</td>\n      <td>4.785979</td>\n      <td>5.420535</td>\n      <td>6.586172</td>\n      <td>5.928924</td>\n      <td>3.951244</td>\n      <td>3.701302</td>\n      <td>1.790549</td>\n      <td>0.000000</td>\n    </tr>\n    <tr>\n      <th>1128</th>\n      <td>0.000041</td>\n      <td>2</td>\n      <td>1.937</td>\n      <td>0.853</td>\n      <td>0.78</td>\n      <td>4.00</td>\n      <td>42.4</td>\n      <td>1</td>\n      <td>6.8</td>\n      <td>-2.000000</td>\n      <td>...</td>\n      <td>0.000000</td>\n      <td>0.000000</td>\n      <td>0.000000</td>\n      <td>5.420535</td>\n      <td>0.000000</td>\n      <td>3.401197</td>\n      <td>3.951244</td>\n      <td>3.823847</td>\n      <td>1.790549</td>\n      <td>0.000000</td>\n    </tr>\n    <tr>\n      <th>1129</th>\n      <td>0.002200</td>\n      <td>3</td>\n      <td>2.200</td>\n      <td>0.730</td>\n      <td>0.83</td>\n      <td>4.24</td>\n      <td>47.0</td>\n      <td>3</td>\n      <td>7.0</td>\n      <td>0.698970</td>\n      <td>...</td>\n      <td>2.406933</td>\n      <td>2.562298</td>\n      <td>3.190362</td>\n      <td>5.197391</td>\n      <td>0.000000</td>\n      <td>4.848352</td>\n      <td>3.906005</td>\n      <td>3.858622</td>\n      <td>0.000000</td>\n      <td>0.000000</td>\n    </tr>\n  </tbody>\n</table>\n<p>1059 rows × 42 columns</p>\n</div>"
     },
     "execution_count": 43,
     "metadata": {},
     "output_type": "execute_result"
    }
   ],
   "source": [
    "df"
   ],
   "metadata": {
    "collapsed": false,
    "ExecuteTime": {
     "end_time": "2023-10-17T08:33:39.286626900Z",
     "start_time": "2023-10-17T08:33:39.206399300Z"
    }
   },
   "id": "45a01031a310f4d1"
  },
  {
   "cell_type": "markdown",
   "source": [],
   "metadata": {
    "collapsed": false
   },
   "id": "7682c0b4f86d89a1"
  },
  {
   "cell_type": "markdown",
   "source": [
    "Логорифмирую Vmax"
   ],
   "metadata": {
    "collapsed": false
   },
   "id": "f8f3245f71d4e40a"
  },
  {
   "cell_type": "code",
   "execution_count": 46,
   "outputs": [],
   "source": [
    "df.loc[:, 'Vmaxlog'] = np.log10(df['Vmax'])"
   ],
   "metadata": {
    "collapsed": false,
    "ExecuteTime": {
     "end_time": "2023-10-17T08:37:03.828896Z",
     "start_time": "2023-10-17T08:37:03.823337400Z"
    }
   },
   "id": "ccd8725d31bab5b"
  },
  {
   "cell_type": "code",
   "execution_count": 47,
   "outputs": [
    {
     "data": {
      "text/plain": "          Vmax  activity      X     IR  pot2    ph  temp  dstr  cryst  \\\n0     1.376300         1  2.757  1.071 -0.05  4.00  37.0     3    7.0   \n1     0.264300         1  2.757  1.071 -0.05  4.00  37.0     3    7.0   \n2     8.363000         1  2.757  1.071 -0.05  4.00  37.0     3    7.0   \n3     0.438200         1  2.757  1.071 -0.05  4.00  37.0     3    7.0   \n4     1.027200         1  2.757  1.071 -0.05  4.00  37.0     3    7.0   \n...        ...       ...    ...    ...   ...   ...   ...   ...    ...   \n1125  0.000002         2  2.280  1.350  1.20  7.00  41.4     3    6.8   \n1126  0.000252         2  2.280  1.350  1.20  3.00  33.0     1    6.8   \n1127  0.000177         2  2.280  1.350  1.20  7.00  33.0     1    6.8   \n1128  0.000041         2  1.937  0.853  0.78  4.00  42.4     1    6.8   \n1129  0.002200         3  2.200  0.730  0.83  4.24  47.0     3    7.0   \n\n        lgCmin  ...  EState_VSA4_log  SMR_VSA7_log  Complexity1_log  \\\n0     0.176091  ...         2.552693      2.497497         5.420535   \n1     0.176091  ...         2.552693      2.497497         5.420535   \n2    -0.301030  ...         2.552693      2.497497         0.000000   \n3    -0.301030  ...         2.552693      2.497497         0.000000   \n4    -0.698970  ...         2.552693      2.497497         5.420535   \n...        ...  ...              ...           ...              ...   \n1125 -1.221849  ...         0.000000      0.000000         5.420535   \n1126 -2.000000  ...         3.402360      4.785979         5.420535   \n1127 -1.221849  ...         3.402360      4.785979         5.420535   \n1128 -2.000000  ...         0.000000      0.000000         5.420535   \n1129  0.698970  ...         2.562298      3.190362         5.197391   \n\n      Complexity_log  TPSA_log  TPSA1_log  TPSA2_log  MaxEStateIndex.1_log  \\\n0           0.000000  3.618993   3.951244   3.701302              1.790549   \n1           0.000000  3.618993   3.951244   3.701302              1.790549   \n2           0.000000  3.618993   3.701302   3.951244              1.791759   \n3           0.000000  3.618993   3.701302   3.951244              1.791759   \n4           0.000000  3.618993   3.951244   3.701302              1.790549   \n...              ...       ...        ...        ...                   ...   \n1125        0.000000  4.883786   3.951244   3.823847              1.790549   \n1126        6.586172  5.928924   3.951244   3.701302              1.790549   \n1127        6.586172  5.928924   3.951244   3.701302              1.790549   \n1128        0.000000  3.401197   3.951244   3.823847              1.790549   \n1129        0.000000  4.848352   3.906005   3.858622              0.000000   \n\n      MaxEStateIndex.2_log   Vmaxlog  \n0                 1.791759  0.138713  \n1                 1.791759 -0.577903  \n2                 1.790549  0.922362  \n3                 1.790549 -0.358328  \n4                 1.791759  0.011655  \n...                    ...       ...  \n1125              0.000000 -5.821023  \n1126              0.000000 -3.598599  \n1127              0.000000 -3.752027  \n1128              0.000000 -4.389340  \n1129              0.000000 -2.657577  \n\n[1059 rows x 43 columns]",
      "text/html": "<div>\n<style scoped>\n    .dataframe tbody tr th:only-of-type {\n        vertical-align: middle;\n    }\n\n    .dataframe tbody tr th {\n        vertical-align: top;\n    }\n\n    .dataframe thead th {\n        text-align: right;\n    }\n</style>\n<table border=\"1\" class=\"dataframe\">\n  <thead>\n    <tr style=\"text-align: right;\">\n      <th></th>\n      <th>Vmax</th>\n      <th>activity</th>\n      <th>X</th>\n      <th>IR</th>\n      <th>pot2</th>\n      <th>ph</th>\n      <th>temp</th>\n      <th>dstr</th>\n      <th>cryst</th>\n      <th>lgCmin</th>\n      <th>...</th>\n      <th>EState_VSA4_log</th>\n      <th>SMR_VSA7_log</th>\n      <th>Complexity1_log</th>\n      <th>Complexity_log</th>\n      <th>TPSA_log</th>\n      <th>TPSA1_log</th>\n      <th>TPSA2_log</th>\n      <th>MaxEStateIndex.1_log</th>\n      <th>MaxEStateIndex.2_log</th>\n      <th>Vmaxlog</th>\n    </tr>\n  </thead>\n  <tbody>\n    <tr>\n      <th>0</th>\n      <td>1.376300</td>\n      <td>1</td>\n      <td>2.757</td>\n      <td>1.071</td>\n      <td>-0.05</td>\n      <td>4.00</td>\n      <td>37.0</td>\n      <td>3</td>\n      <td>7.0</td>\n      <td>0.176091</td>\n      <td>...</td>\n      <td>2.552693</td>\n      <td>2.497497</td>\n      <td>5.420535</td>\n      <td>0.000000</td>\n      <td>3.618993</td>\n      <td>3.951244</td>\n      <td>3.701302</td>\n      <td>1.790549</td>\n      <td>1.791759</td>\n      <td>0.138713</td>\n    </tr>\n    <tr>\n      <th>1</th>\n      <td>0.264300</td>\n      <td>1</td>\n      <td>2.757</td>\n      <td>1.071</td>\n      <td>-0.05</td>\n      <td>4.00</td>\n      <td>37.0</td>\n      <td>3</td>\n      <td>7.0</td>\n      <td>0.176091</td>\n      <td>...</td>\n      <td>2.552693</td>\n      <td>2.497497</td>\n      <td>5.420535</td>\n      <td>0.000000</td>\n      <td>3.618993</td>\n      <td>3.951244</td>\n      <td>3.701302</td>\n      <td>1.790549</td>\n      <td>1.791759</td>\n      <td>-0.577903</td>\n    </tr>\n    <tr>\n      <th>2</th>\n      <td>8.363000</td>\n      <td>1</td>\n      <td>2.757</td>\n      <td>1.071</td>\n      <td>-0.05</td>\n      <td>4.00</td>\n      <td>37.0</td>\n      <td>3</td>\n      <td>7.0</td>\n      <td>-0.301030</td>\n      <td>...</td>\n      <td>2.552693</td>\n      <td>2.497497</td>\n      <td>0.000000</td>\n      <td>0.000000</td>\n      <td>3.618993</td>\n      <td>3.701302</td>\n      <td>3.951244</td>\n      <td>1.791759</td>\n      <td>1.790549</td>\n      <td>0.922362</td>\n    </tr>\n    <tr>\n      <th>3</th>\n      <td>0.438200</td>\n      <td>1</td>\n      <td>2.757</td>\n      <td>1.071</td>\n      <td>-0.05</td>\n      <td>4.00</td>\n      <td>37.0</td>\n      <td>3</td>\n      <td>7.0</td>\n      <td>-0.301030</td>\n      <td>...</td>\n      <td>2.552693</td>\n      <td>2.497497</td>\n      <td>0.000000</td>\n      <td>0.000000</td>\n      <td>3.618993</td>\n      <td>3.701302</td>\n      <td>3.951244</td>\n      <td>1.791759</td>\n      <td>1.790549</td>\n      <td>-0.358328</td>\n    </tr>\n    <tr>\n      <th>4</th>\n      <td>1.027200</td>\n      <td>1</td>\n      <td>2.757</td>\n      <td>1.071</td>\n      <td>-0.05</td>\n      <td>4.00</td>\n      <td>37.0</td>\n      <td>3</td>\n      <td>7.0</td>\n      <td>-0.698970</td>\n      <td>...</td>\n      <td>2.552693</td>\n      <td>2.497497</td>\n      <td>5.420535</td>\n      <td>0.000000</td>\n      <td>3.618993</td>\n      <td>3.951244</td>\n      <td>3.701302</td>\n      <td>1.790549</td>\n      <td>1.791759</td>\n      <td>0.011655</td>\n    </tr>\n    <tr>\n      <th>...</th>\n      <td>...</td>\n      <td>...</td>\n      <td>...</td>\n      <td>...</td>\n      <td>...</td>\n      <td>...</td>\n      <td>...</td>\n      <td>...</td>\n      <td>...</td>\n      <td>...</td>\n      <td>...</td>\n      <td>...</td>\n      <td>...</td>\n      <td>...</td>\n      <td>...</td>\n      <td>...</td>\n      <td>...</td>\n      <td>...</td>\n      <td>...</td>\n      <td>...</td>\n      <td>...</td>\n    </tr>\n    <tr>\n      <th>1125</th>\n      <td>0.000002</td>\n      <td>2</td>\n      <td>2.280</td>\n      <td>1.350</td>\n      <td>1.20</td>\n      <td>7.00</td>\n      <td>41.4</td>\n      <td>3</td>\n      <td>6.8</td>\n      <td>-1.221849</td>\n      <td>...</td>\n      <td>0.000000</td>\n      <td>0.000000</td>\n      <td>5.420535</td>\n      <td>0.000000</td>\n      <td>4.883786</td>\n      <td>3.951244</td>\n      <td>3.823847</td>\n      <td>1.790549</td>\n      <td>0.000000</td>\n      <td>-5.821023</td>\n    </tr>\n    <tr>\n      <th>1126</th>\n      <td>0.000252</td>\n      <td>2</td>\n      <td>2.280</td>\n      <td>1.350</td>\n      <td>1.20</td>\n      <td>3.00</td>\n      <td>33.0</td>\n      <td>1</td>\n      <td>6.8</td>\n      <td>-2.000000</td>\n      <td>...</td>\n      <td>3.402360</td>\n      <td>4.785979</td>\n      <td>5.420535</td>\n      <td>6.586172</td>\n      <td>5.928924</td>\n      <td>3.951244</td>\n      <td>3.701302</td>\n      <td>1.790549</td>\n      <td>0.000000</td>\n      <td>-3.598599</td>\n    </tr>\n    <tr>\n      <th>1127</th>\n      <td>0.000177</td>\n      <td>2</td>\n      <td>2.280</td>\n      <td>1.350</td>\n      <td>1.20</td>\n      <td>7.00</td>\n      <td>33.0</td>\n      <td>1</td>\n      <td>6.8</td>\n      <td>-1.221849</td>\n      <td>...</td>\n      <td>3.402360</td>\n      <td>4.785979</td>\n      <td>5.420535</td>\n      <td>6.586172</td>\n      <td>5.928924</td>\n      <td>3.951244</td>\n      <td>3.701302</td>\n      <td>1.790549</td>\n      <td>0.000000</td>\n      <td>-3.752027</td>\n    </tr>\n    <tr>\n      <th>1128</th>\n      <td>0.000041</td>\n      <td>2</td>\n      <td>1.937</td>\n      <td>0.853</td>\n      <td>0.78</td>\n      <td>4.00</td>\n      <td>42.4</td>\n      <td>1</td>\n      <td>6.8</td>\n      <td>-2.000000</td>\n      <td>...</td>\n      <td>0.000000</td>\n      <td>0.000000</td>\n      <td>5.420535</td>\n      <td>0.000000</td>\n      <td>3.401197</td>\n      <td>3.951244</td>\n      <td>3.823847</td>\n      <td>1.790549</td>\n      <td>0.000000</td>\n      <td>-4.389340</td>\n    </tr>\n    <tr>\n      <th>1129</th>\n      <td>0.002200</td>\n      <td>3</td>\n      <td>2.200</td>\n      <td>0.730</td>\n      <td>0.83</td>\n      <td>4.24</td>\n      <td>47.0</td>\n      <td>3</td>\n      <td>7.0</td>\n      <td>0.698970</td>\n      <td>...</td>\n      <td>2.562298</td>\n      <td>3.190362</td>\n      <td>5.197391</td>\n      <td>0.000000</td>\n      <td>4.848352</td>\n      <td>3.906005</td>\n      <td>3.858622</td>\n      <td>0.000000</td>\n      <td>0.000000</td>\n      <td>-2.657577</td>\n    </tr>\n  </tbody>\n</table>\n<p>1059 rows × 43 columns</p>\n</div>"
     },
     "execution_count": 47,
     "metadata": {},
     "output_type": "execute_result"
    }
   ],
   "source": [
    "df"
   ],
   "metadata": {
    "collapsed": false,
    "ExecuteTime": {
     "end_time": "2023-10-17T08:37:29.251620900Z",
     "start_time": "2023-10-17T08:37:29.238206Z"
    }
   },
   "id": "8f5b1a37ab01d5a4"
  },
  {
   "cell_type": "markdown",
   "source": [],
   "metadata": {
    "collapsed": false
   },
   "id": "c324e566047c4118"
  }
 ],
 "metadata": {
  "kernelspec": {
   "display_name": "Python 3",
   "language": "python",
   "name": "python3"
  },
  "language_info": {
   "codemirror_mode": {
    "name": "ipython",
    "version": 2
   },
   "file_extension": ".py",
   "mimetype": "text/x-python",
   "name": "python",
   "nbconvert_exporter": "python",
   "pygments_lexer": "ipython2",
   "version": "2.7.6"
  }
 },
 "nbformat": 4,
 "nbformat_minor": 5
}
