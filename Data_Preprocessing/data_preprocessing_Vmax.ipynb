{
 "cells": [
  {
   "cell_type": "code",
   "execution_count": 4,
   "id": "initial_id",
   "metadata": {
    "collapsed": true,
    "ExecuteTime": {
     "end_time": "2023-10-17T08:23:08.929415500Z",
     "start_time": "2023-10-17T08:23:08.914193700Z"
    }
   },
   "outputs": [],
   "source": [
    "import pandas as pd\n",
    "import numpy as np\n",
    "import seaborn as sns\n",
    "import matplotlib.pyplot as plt\n",
    "from scipy import stats"
   ]
  },
  {
   "cell_type": "code",
   "execution_count": 5,
   "outputs": [],
   "source": [
    "df = pd.read_csv(\"../Data_Preprocessing/df_nnz_Vmax.csv\")"
   ],
   "metadata": {
    "collapsed": false,
    "ExecuteTime": {
     "end_time": "2023-10-17T08:23:08.946998Z",
     "start_time": "2023-10-17T08:23:08.917234800Z"
    }
   },
   "id": "26496e60d4e02ede"
  },
  {
   "cell_type": "markdown",
   "source": [
    "Удаляю Km"
   ],
   "metadata": {
    "collapsed": false
   },
   "id": "4a32e30cffe2ee69"
  },
  {
   "cell_type": "code",
   "execution_count": 6,
   "outputs": [
    {
     "data": {
      "text/plain": "(1130, 43)"
     },
     "execution_count": 6,
     "metadata": {},
     "output_type": "execute_result"
    }
   ],
   "source": [
    "df.shape"
   ],
   "metadata": {
    "collapsed": false,
    "ExecuteTime": {
     "end_time": "2023-10-17T08:23:08.947994800Z",
     "start_time": "2023-10-17T08:23:08.928415400Z"
    }
   },
   "id": "434e87c58fa9113e"
  },
  {
   "cell_type": "code",
   "execution_count": 7,
   "outputs": [],
   "source": [
    "df.drop('Km', axis=1, inplace=True)"
   ],
   "metadata": {
    "collapsed": false,
    "ExecuteTime": {
     "end_time": "2023-10-17T08:23:08.948996400Z",
     "start_time": "2023-10-17T08:23:08.932150500Z"
    }
   },
   "id": "7dd82835c4ac75b7"
  },
  {
   "cell_type": "code",
   "execution_count": 8,
   "outputs": [
    {
     "data": {
      "text/plain": "(1130, 42)"
     },
     "execution_count": 8,
     "metadata": {},
     "output_type": "execute_result"
    }
   ],
   "source": [
    "df.shape"
   ],
   "metadata": {
    "collapsed": false,
    "ExecuteTime": {
     "end_time": "2023-10-17T08:23:08.948996400Z",
     "start_time": "2023-10-17T08:23:08.936596200Z"
    }
   },
   "id": "6680aec7117b5e83"
  },
  {
   "cell_type": "markdown",
   "source": [
    "Смотрю все ли параметры в числовом значении"
   ],
   "metadata": {
    "collapsed": false
   },
   "id": "9985c1511172c36d"
  },
  {
   "cell_type": "code",
   "execution_count": 9,
   "outputs": [
    {
     "data": {
      "text/plain": "Vmax                     object\nactivity                  int64\nX                       float64\nIR                      float64\npot2                    float64\nph                      float64\ntemp                    float64\ndstr                      int64\ncryst                   float64\nlgCmin                  float64\nlgCmax                  float64\nlgCconst                float64\nlgCcat                  float64\nlgvolume                float64\nSufrace                 float64\nVSA_EState8             float64\nBalabanJ                float64\nMinAbsEStateIndex       float64\nMinEStateIndex          float64\nVSA_EState4             float64\nMinPartialCharge        float64\nXLogP                   float64\nMinPartialCharge.1      float64\nMaxPartialCharge.1      float64\nBCUT2D_CHGLO            float64\npolym                   float64\nMcoat_log               float64\nMolWt_log               float64\nPEOE_VSA7_log           float64\nPEOE_VSA8_log           float64\nPEOE_VSA9_log           float64\nKappa2_log              float64\nEState_VSA6_log         float64\nEState_VSA4_log         float64\nSMR_VSA7_log            float64\nComplexity1_log         float64\nComplexity_log          float64\nTPSA_log                float64\nTPSA1_log               float64\nTPSA2_log               float64\nMaxEStateIndex.1_log    float64\nMaxEStateIndex.2_log    float64\ndtype: object"
     },
     "execution_count": 9,
     "metadata": {},
     "output_type": "execute_result"
    }
   ],
   "source": [
    "df.dtypes"
   ],
   "metadata": {
    "collapsed": false,
    "ExecuteTime": {
     "end_time": "2023-10-17T08:24:47.535831500Z",
     "start_time": "2023-10-17T08:24:47.530978300Z"
    }
   },
   "id": "de136821b5456055"
  }
 ],
 "metadata": {
  "kernelspec": {
   "display_name": "Python 3",
   "language": "python",
   "name": "python3"
  },
  "language_info": {
   "codemirror_mode": {
    "name": "ipython",
    "version": 2
   },
   "file_extension": ".py",
   "mimetype": "text/x-python",
   "name": "python",
   "nbconvert_exporter": "python",
   "pygments_lexer": "ipython2",
   "version": "2.7.6"
  }
 },
 "nbformat": 4,
 "nbformat_minor": 5
}
