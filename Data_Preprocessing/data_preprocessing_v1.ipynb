{
 "cells": [
  {
   "cell_type": "code",
   "execution_count": 1,
   "id": "initial_id",
   "metadata": {
    "collapsed": true,
    "ExecuteTime": {
     "end_time": "2023-10-17T06:09:36.225407200Z",
     "start_time": "2023-10-17T06:09:36.222893400Z"
    }
   },
   "outputs": [],
   "source": [
    "import pandas as pd\n",
    "import numpy as np\n",
    "import seaborn as sns\n",
    "import matplotlib.pyplot as plt\n",
    "from scipy import stats"
   ]
  },
  {
   "cell_type": "code",
   "execution_count": 2,
   "outputs": [],
   "source": [
    "df = pd.read_csv(\"../Data_Analysis/df_nnz.csv\")"
   ],
   "metadata": {
    "collapsed": false,
    "ExecuteTime": {
     "end_time": "2023-10-17T06:09:54.448781600Z",
     "start_time": "2023-10-17T06:09:54.435595600Z"
    }
   },
   "id": "77db621d2b83a95"
  },
  {
   "cell_type": "code",
   "execution_count": 3,
   "outputs": [
    {
     "data": {
      "text/plain": "          Km      Vmax    id  activity      X     IR  pot2    ph  temp  dstr  \\\n0     0.0065    1.3763     1         1  2.757  1.071 -0.05  4.00  37.0     3   \n1     0.0554    0.2643     2         1  2.757  1.071 -0.05  4.00  37.0     3   \n2     0.0355     8.363     3         1  2.757  1.071 -0.05  4.00  37.0     3   \n3     0.2277    0.4382     4         1  2.757  1.071 -0.05  4.00  37.0     3   \n4     0.0173    1.0272     5         1  2.757  1.071 -0.05  4.00  37.0     3   \n...      ...       ...   ...       ...    ...    ...   ...   ...   ...   ...   \n1125   0.122  1.51E-06  1198         2  2.280  1.350  1.20  7.00  41.4     3   \n1126   0.027  0.000252  1199         2  2.280  1.350  1.20  3.00  33.0     1   \n1127   0.035  0.000177  1200         2  2.280  1.350  1.20  7.00  33.0     1   \n1128   0.163  4.08E-05  1201         2  1.937  0.853  0.78  4.00  42.4     1   \n1129   102.4    0.0022  1203         3  2.200  0.730  0.83  4.24  47.0     3   \n\n      ...  TPSA2    TPSA      XLogP  MaxEStateIndex.1  MaxEStateIndex.2  \\\n0     ...  40.50   37.30   6.500000          5.992739          6.000000   \n1     ...  40.50   37.30   6.500000          5.992739          6.000000   \n2     ...  52.00   37.30   6.500000          6.000000          5.992739   \n3     ...  52.00   37.30   6.500000          6.000000          5.992739   \n4     ...  40.50   37.30   6.500000          5.992739          6.000000   \n...   ...    ...     ...        ...               ...               ...   \n1125  ...  45.78  132.13  -1.700000          5.992739          0.000000   \n1126  ...  40.50  375.75 -10.800000          5.992739          0.000000   \n1127  ...  40.50  375.75 -10.800000          5.992739          0.000000   \n1128  ...  45.78   30.00  -1.600000          5.992739          0.000000   \n1129  ...  47.40  127.53  59.557822          0.000000          0.000000   \n\n      MinPartialCharge.1  MaxPartialCharge.1  BCUT2D_CHGLO       polym  \\\n0              -0.398299            0.037337     -1.987595    1.000007   \n1              -0.398299            0.037337     -1.987595    1.000007   \n2              -0.254557           -0.254557     -1.987595    1.000007   \n3              -0.254557           -0.254557     -1.987595    1.000007   \n4              -0.398299            0.037337     -1.987595    1.000007   \n...                  ...                 ...           ...         ...   \n1125           -0.398299            0.037337     -2.178395    0.999984   \n1126           -0.398299            0.037337     -2.441399    0.480347   \n1127           -0.398299            0.037337     -2.441399    0.480347   \n1128           -0.398299            0.037337     -2.379344    0.999951   \n1129            0.000000            0.000000     -2.133673  191.458847   \n\n      Complexity  \n0            0.0  \n1            0.0  \n2            0.0  \n3            0.0  \n4            0.0  \n...          ...  \n1125         0.0  \n1126       725.0  \n1127       725.0  \n1128         0.0  \n1129         0.0  \n\n[1130 rows x 48 columns]",
      "text/html": "<div>\n<style scoped>\n    .dataframe tbody tr th:only-of-type {\n        vertical-align: middle;\n    }\n\n    .dataframe tbody tr th {\n        vertical-align: top;\n    }\n\n    .dataframe thead th {\n        text-align: right;\n    }\n</style>\n<table border=\"1\" class=\"dataframe\">\n  <thead>\n    <tr style=\"text-align: right;\">\n      <th></th>\n      <th>Km</th>\n      <th>Vmax</th>\n      <th>id</th>\n      <th>activity</th>\n      <th>X</th>\n      <th>IR</th>\n      <th>pot2</th>\n      <th>ph</th>\n      <th>temp</th>\n      <th>dstr</th>\n      <th>...</th>\n      <th>TPSA2</th>\n      <th>TPSA</th>\n      <th>XLogP</th>\n      <th>MaxEStateIndex.1</th>\n      <th>MaxEStateIndex.2</th>\n      <th>MinPartialCharge.1</th>\n      <th>MaxPartialCharge.1</th>\n      <th>BCUT2D_CHGLO</th>\n      <th>polym</th>\n      <th>Complexity</th>\n    </tr>\n  </thead>\n  <tbody>\n    <tr>\n      <th>0</th>\n      <td>0.0065</td>\n      <td>1.3763</td>\n      <td>1</td>\n      <td>1</td>\n      <td>2.757</td>\n      <td>1.071</td>\n      <td>-0.05</td>\n      <td>4.00</td>\n      <td>37.0</td>\n      <td>3</td>\n      <td>...</td>\n      <td>40.50</td>\n      <td>37.30</td>\n      <td>6.500000</td>\n      <td>5.992739</td>\n      <td>6.000000</td>\n      <td>-0.398299</td>\n      <td>0.037337</td>\n      <td>-1.987595</td>\n      <td>1.000007</td>\n      <td>0.0</td>\n    </tr>\n    <tr>\n      <th>1</th>\n      <td>0.0554</td>\n      <td>0.2643</td>\n      <td>2</td>\n      <td>1</td>\n      <td>2.757</td>\n      <td>1.071</td>\n      <td>-0.05</td>\n      <td>4.00</td>\n      <td>37.0</td>\n      <td>3</td>\n      <td>...</td>\n      <td>40.50</td>\n      <td>37.30</td>\n      <td>6.500000</td>\n      <td>5.992739</td>\n      <td>6.000000</td>\n      <td>-0.398299</td>\n      <td>0.037337</td>\n      <td>-1.987595</td>\n      <td>1.000007</td>\n      <td>0.0</td>\n    </tr>\n    <tr>\n      <th>2</th>\n      <td>0.0355</td>\n      <td>8.363</td>\n      <td>3</td>\n      <td>1</td>\n      <td>2.757</td>\n      <td>1.071</td>\n      <td>-0.05</td>\n      <td>4.00</td>\n      <td>37.0</td>\n      <td>3</td>\n      <td>...</td>\n      <td>52.00</td>\n      <td>37.30</td>\n      <td>6.500000</td>\n      <td>6.000000</td>\n      <td>5.992739</td>\n      <td>-0.254557</td>\n      <td>-0.254557</td>\n      <td>-1.987595</td>\n      <td>1.000007</td>\n      <td>0.0</td>\n    </tr>\n    <tr>\n      <th>3</th>\n      <td>0.2277</td>\n      <td>0.4382</td>\n      <td>4</td>\n      <td>1</td>\n      <td>2.757</td>\n      <td>1.071</td>\n      <td>-0.05</td>\n      <td>4.00</td>\n      <td>37.0</td>\n      <td>3</td>\n      <td>...</td>\n      <td>52.00</td>\n      <td>37.30</td>\n      <td>6.500000</td>\n      <td>6.000000</td>\n      <td>5.992739</td>\n      <td>-0.254557</td>\n      <td>-0.254557</td>\n      <td>-1.987595</td>\n      <td>1.000007</td>\n      <td>0.0</td>\n    </tr>\n    <tr>\n      <th>4</th>\n      <td>0.0173</td>\n      <td>1.0272</td>\n      <td>5</td>\n      <td>1</td>\n      <td>2.757</td>\n      <td>1.071</td>\n      <td>-0.05</td>\n      <td>4.00</td>\n      <td>37.0</td>\n      <td>3</td>\n      <td>...</td>\n      <td>40.50</td>\n      <td>37.30</td>\n      <td>6.500000</td>\n      <td>5.992739</td>\n      <td>6.000000</td>\n      <td>-0.398299</td>\n      <td>0.037337</td>\n      <td>-1.987595</td>\n      <td>1.000007</td>\n      <td>0.0</td>\n    </tr>\n    <tr>\n      <th>...</th>\n      <td>...</td>\n      <td>...</td>\n      <td>...</td>\n      <td>...</td>\n      <td>...</td>\n      <td>...</td>\n      <td>...</td>\n      <td>...</td>\n      <td>...</td>\n      <td>...</td>\n      <td>...</td>\n      <td>...</td>\n      <td>...</td>\n      <td>...</td>\n      <td>...</td>\n      <td>...</td>\n      <td>...</td>\n      <td>...</td>\n      <td>...</td>\n      <td>...</td>\n      <td>...</td>\n    </tr>\n    <tr>\n      <th>1125</th>\n      <td>0.122</td>\n      <td>1.51E-06</td>\n      <td>1198</td>\n      <td>2</td>\n      <td>2.280</td>\n      <td>1.350</td>\n      <td>1.20</td>\n      <td>7.00</td>\n      <td>41.4</td>\n      <td>3</td>\n      <td>...</td>\n      <td>45.78</td>\n      <td>132.13</td>\n      <td>-1.700000</td>\n      <td>5.992739</td>\n      <td>0.000000</td>\n      <td>-0.398299</td>\n      <td>0.037337</td>\n      <td>-2.178395</td>\n      <td>0.999984</td>\n      <td>0.0</td>\n    </tr>\n    <tr>\n      <th>1126</th>\n      <td>0.027</td>\n      <td>0.000252</td>\n      <td>1199</td>\n      <td>2</td>\n      <td>2.280</td>\n      <td>1.350</td>\n      <td>1.20</td>\n      <td>3.00</td>\n      <td>33.0</td>\n      <td>1</td>\n      <td>...</td>\n      <td>40.50</td>\n      <td>375.75</td>\n      <td>-10.800000</td>\n      <td>5.992739</td>\n      <td>0.000000</td>\n      <td>-0.398299</td>\n      <td>0.037337</td>\n      <td>-2.441399</td>\n      <td>0.480347</td>\n      <td>725.0</td>\n    </tr>\n    <tr>\n      <th>1127</th>\n      <td>0.035</td>\n      <td>0.000177</td>\n      <td>1200</td>\n      <td>2</td>\n      <td>2.280</td>\n      <td>1.350</td>\n      <td>1.20</td>\n      <td>7.00</td>\n      <td>33.0</td>\n      <td>1</td>\n      <td>...</td>\n      <td>40.50</td>\n      <td>375.75</td>\n      <td>-10.800000</td>\n      <td>5.992739</td>\n      <td>0.000000</td>\n      <td>-0.398299</td>\n      <td>0.037337</td>\n      <td>-2.441399</td>\n      <td>0.480347</td>\n      <td>725.0</td>\n    </tr>\n    <tr>\n      <th>1128</th>\n      <td>0.163</td>\n      <td>4.08E-05</td>\n      <td>1201</td>\n      <td>2</td>\n      <td>1.937</td>\n      <td>0.853</td>\n      <td>0.78</td>\n      <td>4.00</td>\n      <td>42.4</td>\n      <td>1</td>\n      <td>...</td>\n      <td>45.78</td>\n      <td>30.00</td>\n      <td>-1.600000</td>\n      <td>5.992739</td>\n      <td>0.000000</td>\n      <td>-0.398299</td>\n      <td>0.037337</td>\n      <td>-2.379344</td>\n      <td>0.999951</td>\n      <td>0.0</td>\n    </tr>\n    <tr>\n      <th>1129</th>\n      <td>102.4</td>\n      <td>0.0022</td>\n      <td>1203</td>\n      <td>3</td>\n      <td>2.200</td>\n      <td>0.730</td>\n      <td>0.83</td>\n      <td>4.24</td>\n      <td>47.0</td>\n      <td>3</td>\n      <td>...</td>\n      <td>47.40</td>\n      <td>127.53</td>\n      <td>59.557822</td>\n      <td>0.000000</td>\n      <td>0.000000</td>\n      <td>0.000000</td>\n      <td>0.000000</td>\n      <td>-2.133673</td>\n      <td>191.458847</td>\n      <td>0.0</td>\n    </tr>\n  </tbody>\n</table>\n<p>1130 rows × 48 columns</p>\n</div>"
     },
     "execution_count": 3,
     "metadata": {},
     "output_type": "execute_result"
    }
   ],
   "source": [
    "df"
   ],
   "metadata": {
    "collapsed": false,
    "ExecuteTime": {
     "end_time": "2023-10-17T06:10:16.205081100Z",
     "start_time": "2023-10-17T06:10:16.184282Z"
    }
   },
   "id": "229a9b0b9c8c1"
  }
 ],
 "metadata": {
  "kernelspec": {
   "display_name": "Python 3",
   "language": "python",
   "name": "python3"
  },
  "language_info": {
   "codemirror_mode": {
    "name": "ipython",
    "version": 2
   },
   "file_extension": ".py",
   "mimetype": "text/x-python",
   "name": "python",
   "nbconvert_exporter": "python",
   "pygments_lexer": "ipython2",
   "version": "2.7.6"
  }
 },
 "nbformat": 4,
 "nbformat_minor": 5
}
