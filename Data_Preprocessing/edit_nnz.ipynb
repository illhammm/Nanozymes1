{
 "cells": [
  {
   "cell_type": "code",
   "execution_count": 2,
   "id": "initial_id",
   "metadata": {
    "collapsed": true,
    "ExecuteTime": {
     "end_time": "2023-10-14T14:28:45.109643900Z",
     "start_time": "2023-10-14T14:28:45.101670300Z"
    }
   },
   "outputs": [],
   "source": [
    "import pandas as pd\n",
    "import numpy as np\n",
    "import seaborn as sns\n",
    "import matplotlib.pyplot as plt"
   ]
  },
  {
   "cell_type": "code",
   "execution_count": 55,
   "outputs": [],
   "source": [
    "df = pd.read_csv(\"../Data_Preprocessing/edit_nnz.csv\")"
   ],
   "metadata": {
    "collapsed": false,
    "ExecuteTime": {
     "end_time": "2023-10-14T16:02:41.715922300Z",
     "start_time": "2023-10-14T16:02:41.704027500Z"
    }
   },
   "id": "2982959bd5ae85c2"
  },
  {
   "cell_type": "code",
   "execution_count": 56,
   "outputs": [
    {
     "data": {
      "text/plain": "144"
     },
     "execution_count": 56,
     "metadata": {},
     "output_type": "execute_result"
    }
   ],
   "source": [
    "mask = df['Cconst'] == 0\n",
    "zero_rows = df[mask]\n",
    "len(zero_rows)"
   ],
   "metadata": {
    "collapsed": false,
    "ExecuteTime": {
     "end_time": "2023-10-14T16:02:42.525293200Z",
     "start_time": "2023-10-14T16:02:42.514876100Z"
    }
   },
   "id": "4bc47c4f4b872283"
  },
  {
   "cell_type": "code",
   "execution_count": 57,
   "outputs": [],
   "source": [
    "df = df[~mask]"
   ],
   "metadata": {
    "collapsed": false,
    "ExecuteTime": {
     "end_time": "2023-10-14T16:02:43.312977400Z",
     "start_time": "2023-10-14T16:02:43.299019900Z"
    }
   },
   "id": "98d77beb93c37032"
  },
  {
   "cell_type": "markdown",
   "source": [
    "Код выше вычисляет количество нулей, и удаляет их"
   ],
   "metadata": {
    "collapsed": false
   },
   "id": "47db8f2cf1f4460c"
  },
  {
   "cell_type": "code",
   "execution_count": 58,
   "outputs": [
    {
     "data": {
      "text/plain": "       lgCmin    lgCmax  lgCconst    lgCcat  lgvolume\n0    0.176091  0.176091  2.000000 -4.581699  1.838352\n1    0.176091  0.176091  2.000000 -4.581699  3.419637\n2   -0.301030  1.397940  2.000000 -4.581699  1.838352\n3   -0.301030  1.397940  2.000000 -4.581699  3.419637\n4   -0.698970  2.000000  1.176091 -4.581699  4.167498\n..        ...       ...       ...       ...       ...\n808 -2.000000 -0.221849  3.301030 -1.384164  1.555542\n809 -2.000000 -0.221849  3.301030 -1.384164  2.312556\n810 -2.000000 -0.221849  3.301030 -1.384164  3.341830\n831 -2.000000 -0.301030  1.000000 -1.522879  6.438384\n832  0.000000  2.301030  1.000000 -1.522879  6.438384\n\n[695 rows x 5 columns]",
      "text/html": "<div>\n<style scoped>\n    .dataframe tbody tr th:only-of-type {\n        vertical-align: middle;\n    }\n\n    .dataframe tbody tr th {\n        vertical-align: top;\n    }\n\n    .dataframe thead th {\n        text-align: right;\n    }\n</style>\n<table border=\"1\" class=\"dataframe\">\n  <thead>\n    <tr style=\"text-align: right;\">\n      <th></th>\n      <th>lgCmin</th>\n      <th>lgCmax</th>\n      <th>lgCconst</th>\n      <th>lgCcat</th>\n      <th>lgvolume</th>\n    </tr>\n  </thead>\n  <tbody>\n    <tr>\n      <th>0</th>\n      <td>0.176091</td>\n      <td>0.176091</td>\n      <td>2.000000</td>\n      <td>-4.581699</td>\n      <td>1.838352</td>\n    </tr>\n    <tr>\n      <th>1</th>\n      <td>0.176091</td>\n      <td>0.176091</td>\n      <td>2.000000</td>\n      <td>-4.581699</td>\n      <td>3.419637</td>\n    </tr>\n    <tr>\n      <th>2</th>\n      <td>-0.301030</td>\n      <td>1.397940</td>\n      <td>2.000000</td>\n      <td>-4.581699</td>\n      <td>1.838352</td>\n    </tr>\n    <tr>\n      <th>3</th>\n      <td>-0.301030</td>\n      <td>1.397940</td>\n      <td>2.000000</td>\n      <td>-4.581699</td>\n      <td>3.419637</td>\n    </tr>\n    <tr>\n      <th>4</th>\n      <td>-0.698970</td>\n      <td>2.000000</td>\n      <td>1.176091</td>\n      <td>-4.581699</td>\n      <td>4.167498</td>\n    </tr>\n    <tr>\n      <th>...</th>\n      <td>...</td>\n      <td>...</td>\n      <td>...</td>\n      <td>...</td>\n      <td>...</td>\n    </tr>\n    <tr>\n      <th>808</th>\n      <td>-2.000000</td>\n      <td>-0.221849</td>\n      <td>3.301030</td>\n      <td>-1.384164</td>\n      <td>1.555542</td>\n    </tr>\n    <tr>\n      <th>809</th>\n      <td>-2.000000</td>\n      <td>-0.221849</td>\n      <td>3.301030</td>\n      <td>-1.384164</td>\n      <td>2.312556</td>\n    </tr>\n    <tr>\n      <th>810</th>\n      <td>-2.000000</td>\n      <td>-0.221849</td>\n      <td>3.301030</td>\n      <td>-1.384164</td>\n      <td>3.341830</td>\n    </tr>\n    <tr>\n      <th>831</th>\n      <td>-2.000000</td>\n      <td>-0.301030</td>\n      <td>1.000000</td>\n      <td>-1.522879</td>\n      <td>6.438384</td>\n    </tr>\n    <tr>\n      <th>832</th>\n      <td>0.000000</td>\n      <td>2.301030</td>\n      <td>1.000000</td>\n      <td>-1.522879</td>\n      <td>6.438384</td>\n    </tr>\n  </tbody>\n</table>\n<p>695 rows × 5 columns</p>\n</div>"
     },
     "execution_count": 58,
     "metadata": {},
     "output_type": "execute_result"
    }
   ],
   "source": [
    "lg_columns = [col for col in df.columns if 'lg' in col]\n",
    "\n",
    "# Выводим DataFrame, ограничиваясь только выбранными столбцами\n",
    "result_df = df[lg_columns]\n",
    "result_df"
   ],
   "metadata": {
    "collapsed": false,
    "ExecuteTime": {
     "end_time": "2023-10-14T16:02:46.247219200Z",
     "start_time": "2023-10-14T16:02:46.188431800Z"
    }
   },
   "id": "ace9145151171f91"
  },
  {
   "cell_type": "code",
   "execution_count": 59,
   "outputs": [
    {
     "data": {
      "text/plain": "6"
     },
     "execution_count": 59,
     "metadata": {},
     "output_type": "execute_result"
    }
   ],
   "source": [
    "columns_of_interest = ['Cmin', 'Cmax','Cconst','Ccat']\n",
    "\n",
    "# Проверьте выбранные столбцы на наличие 0\n",
    "zero_columns = (df[columns_of_interest] == 0).any()\n",
    "\n",
    "# Выведите количество строк с 0 в выбранных столбцах\n",
    "count_zero_rows = len(df[df[columns_of_interest].any(axis=1) & (df[columns_of_interest] == 0).any(axis=1)])\n",
    "\n",
    "count_zero_rows\n"
   ],
   "metadata": {
    "collapsed": false,
    "ExecuteTime": {
     "end_time": "2023-10-14T16:02:47.486447600Z",
     "start_time": "2023-10-14T16:02:47.480470300Z"
    }
   },
   "id": "82cae9539696e5e8"
  },
  {
   "cell_type": "code",
   "execution_count": 60,
   "outputs": [
    {
     "data": {
      "text/plain": "Cmin       True\nCmax      False\nCconst    False\nCcat      False\ndtype: bool"
     },
     "execution_count": 60,
     "metadata": {},
     "output_type": "execute_result"
    }
   ],
   "source": [
    "zero_columns"
   ],
   "metadata": {
    "collapsed": false,
    "ExecuteTime": {
     "end_time": "2023-10-14T16:02:49.090666100Z",
     "start_time": "2023-10-14T16:02:49.076713Z"
    }
   },
   "id": "2e5643bebb4f7241"
  },
  {
   "cell_type": "code",
   "execution_count": 61,
   "outputs": [],
   "source": [
    "df = df[~(df[columns_of_interest].any(axis=1) & (df[columns_of_interest] == 0).any(axis=1))]"
   ],
   "metadata": {
    "collapsed": false,
    "ExecuteTime": {
     "end_time": "2023-10-14T16:02:50.568315200Z",
     "start_time": "2023-10-14T16:02:50.556162Z"
    }
   },
   "id": "5d863713c9a6c4df"
  },
  {
   "cell_type": "code",
   "execution_count": 62,
   "outputs": [],
   "source": [
    "columns_to_drop = ['Cmin', 'Cmax','Cconst','Ccat','id','Vmax']\n",
    "df = df.drop(columns=columns_to_drop)"
   ],
   "metadata": {
    "collapsed": false,
    "ExecuteTime": {
     "end_time": "2023-10-14T16:02:52.497965Z",
     "start_time": "2023-10-14T16:02:52.485008500Z"
    }
   },
   "id": "ab891cd809712e53"
  },
  {
   "cell_type": "code",
   "execution_count": 63,
   "outputs": [
    {
     "data": {
      "text/plain": "          Km  activity       X      IR    pot2   ph  temp  dstr  cryst  \\\n0     0.0065         1  2.7570  1.0710 -0.0500  4.0  37.0     3    7.0   \n1     0.0554         1  2.7570  1.0710 -0.0500  4.0  37.0     3    7.0   \n2     0.0355         1  2.7570  1.0710 -0.0500  4.0  37.0     3    7.0   \n3     0.2277         1  2.7570  1.0710 -0.0500  4.0  37.0     3    7.0   \n4     0.0173         1  2.7570  1.0710 -0.0500  4.0  37.0     3    7.0   \n..       ...       ...     ...     ...     ...  ...   ...   ...    ...   \n808   0.2700         1  2.2654  1.2468  1.1250  4.0  28.6     3    7.0   \n809   0.6400         1  2.2654  1.2468  1.1250  4.0  28.6     3    7.0   \n810   0.3400         1  2.2654  1.2468  1.1250  4.0  28.6     3    7.0   \n831   0.0160         1  2.7010  1.2100  0.4540  4.0  50.0     3    7.0   \n832  14.4600         1  2.7010  1.2100 -0.1698  4.0  50.0     3    7.0   \n\n       lgCmin  ...    TPSA      XLogP  MaxEStateIndex.1  MaxEStateIndex.2  \\\n0    0.176091  ...   37.30   6.500000          5.992739          6.000000   \n1    0.176091  ...   37.30   6.500000          5.992739          6.000000   \n2   -0.301030  ...   37.30   6.500000          6.000000          5.992739   \n3   -0.301030  ...   37.30   6.500000          6.000000          5.992739   \n4   -0.698970  ...   37.30   6.500000          5.992739          6.000000   \n..        ...  ...     ...        ...               ...               ...   \n808 -2.000000  ...  127.53  59.557802          5.992739          6.000000   \n809 -2.000000  ...  127.53  59.557802          5.992739          6.000000   \n810 -2.000000  ...  127.53  59.557803          5.992739          6.000000   \n831 -2.000000  ...   63.37  -1.036531          5.992739          6.000000   \n832  0.000000  ...   63.37  -1.035663          6.000000          5.992739   \n\n     MinPartialCharge.1  MaxPartialCharge.1  BCUT2D_CHGLO       polym  \\\n0             -0.398299            0.037337     -1.987595    1.000007   \n1             -0.398299            0.037337     -1.987595    1.000007   \n2             -0.254557           -0.254557     -1.987595    1.000007   \n3             -0.254557           -0.254557     -1.987595    1.000007   \n4             -0.398299            0.037337     -1.987595    1.000007   \n..                  ...                 ...           ...         ...   \n808           -0.398299            0.037337     -2.133673  191.458847   \n809           -0.398299            0.037337     -2.133673  191.458847   \n810           -0.398299            0.037337     -2.133673  191.458847   \n831           -0.398299            0.037337     -1.556408    0.999968   \n832           -0.254557           -0.254557     -1.556408    0.999968   \n\n     Complexity  Vmax_log  \n0           0.0  0.138713  \n1           0.0 -0.577903  \n2           0.0  0.922362  \n3           0.0 -0.358328  \n4           0.0  0.011655  \n..          ...       ...  \n808         0.0 -3.200659  \n809         0.0 -2.886057  \n810         0.0 -3.142668  \n831         0.0 -4.725842  \n832         0.0 -4.057496  \n\n[689 rows x 43 columns]",
      "text/html": "<div>\n<style scoped>\n    .dataframe tbody tr th:only-of-type {\n        vertical-align: middle;\n    }\n\n    .dataframe tbody tr th {\n        vertical-align: top;\n    }\n\n    .dataframe thead th {\n        text-align: right;\n    }\n</style>\n<table border=\"1\" class=\"dataframe\">\n  <thead>\n    <tr style=\"text-align: right;\">\n      <th></th>\n      <th>Km</th>\n      <th>activity</th>\n      <th>X</th>\n      <th>IR</th>\n      <th>pot2</th>\n      <th>ph</th>\n      <th>temp</th>\n      <th>dstr</th>\n      <th>cryst</th>\n      <th>lgCmin</th>\n      <th>...</th>\n      <th>TPSA</th>\n      <th>XLogP</th>\n      <th>MaxEStateIndex.1</th>\n      <th>MaxEStateIndex.2</th>\n      <th>MinPartialCharge.1</th>\n      <th>MaxPartialCharge.1</th>\n      <th>BCUT2D_CHGLO</th>\n      <th>polym</th>\n      <th>Complexity</th>\n      <th>Vmax_log</th>\n    </tr>\n  </thead>\n  <tbody>\n    <tr>\n      <th>0</th>\n      <td>0.0065</td>\n      <td>1</td>\n      <td>2.7570</td>\n      <td>1.0710</td>\n      <td>-0.0500</td>\n      <td>4.0</td>\n      <td>37.0</td>\n      <td>3</td>\n      <td>7.0</td>\n      <td>0.176091</td>\n      <td>...</td>\n      <td>37.30</td>\n      <td>6.500000</td>\n      <td>5.992739</td>\n      <td>6.000000</td>\n      <td>-0.398299</td>\n      <td>0.037337</td>\n      <td>-1.987595</td>\n      <td>1.000007</td>\n      <td>0.0</td>\n      <td>0.138713</td>\n    </tr>\n    <tr>\n      <th>1</th>\n      <td>0.0554</td>\n      <td>1</td>\n      <td>2.7570</td>\n      <td>1.0710</td>\n      <td>-0.0500</td>\n      <td>4.0</td>\n      <td>37.0</td>\n      <td>3</td>\n      <td>7.0</td>\n      <td>0.176091</td>\n      <td>...</td>\n      <td>37.30</td>\n      <td>6.500000</td>\n      <td>5.992739</td>\n      <td>6.000000</td>\n      <td>-0.398299</td>\n      <td>0.037337</td>\n      <td>-1.987595</td>\n      <td>1.000007</td>\n      <td>0.0</td>\n      <td>-0.577903</td>\n    </tr>\n    <tr>\n      <th>2</th>\n      <td>0.0355</td>\n      <td>1</td>\n      <td>2.7570</td>\n      <td>1.0710</td>\n      <td>-0.0500</td>\n      <td>4.0</td>\n      <td>37.0</td>\n      <td>3</td>\n      <td>7.0</td>\n      <td>-0.301030</td>\n      <td>...</td>\n      <td>37.30</td>\n      <td>6.500000</td>\n      <td>6.000000</td>\n      <td>5.992739</td>\n      <td>-0.254557</td>\n      <td>-0.254557</td>\n      <td>-1.987595</td>\n      <td>1.000007</td>\n      <td>0.0</td>\n      <td>0.922362</td>\n    </tr>\n    <tr>\n      <th>3</th>\n      <td>0.2277</td>\n      <td>1</td>\n      <td>2.7570</td>\n      <td>1.0710</td>\n      <td>-0.0500</td>\n      <td>4.0</td>\n      <td>37.0</td>\n      <td>3</td>\n      <td>7.0</td>\n      <td>-0.301030</td>\n      <td>...</td>\n      <td>37.30</td>\n      <td>6.500000</td>\n      <td>6.000000</td>\n      <td>5.992739</td>\n      <td>-0.254557</td>\n      <td>-0.254557</td>\n      <td>-1.987595</td>\n      <td>1.000007</td>\n      <td>0.0</td>\n      <td>-0.358328</td>\n    </tr>\n    <tr>\n      <th>4</th>\n      <td>0.0173</td>\n      <td>1</td>\n      <td>2.7570</td>\n      <td>1.0710</td>\n      <td>-0.0500</td>\n      <td>4.0</td>\n      <td>37.0</td>\n      <td>3</td>\n      <td>7.0</td>\n      <td>-0.698970</td>\n      <td>...</td>\n      <td>37.30</td>\n      <td>6.500000</td>\n      <td>5.992739</td>\n      <td>6.000000</td>\n      <td>-0.398299</td>\n      <td>0.037337</td>\n      <td>-1.987595</td>\n      <td>1.000007</td>\n      <td>0.0</td>\n      <td>0.011655</td>\n    </tr>\n    <tr>\n      <th>...</th>\n      <td>...</td>\n      <td>...</td>\n      <td>...</td>\n      <td>...</td>\n      <td>...</td>\n      <td>...</td>\n      <td>...</td>\n      <td>...</td>\n      <td>...</td>\n      <td>...</td>\n      <td>...</td>\n      <td>...</td>\n      <td>...</td>\n      <td>...</td>\n      <td>...</td>\n      <td>...</td>\n      <td>...</td>\n      <td>...</td>\n      <td>...</td>\n      <td>...</td>\n      <td>...</td>\n    </tr>\n    <tr>\n      <th>808</th>\n      <td>0.2700</td>\n      <td>1</td>\n      <td>2.2654</td>\n      <td>1.2468</td>\n      <td>1.1250</td>\n      <td>4.0</td>\n      <td>28.6</td>\n      <td>3</td>\n      <td>7.0</td>\n      <td>-2.000000</td>\n      <td>...</td>\n      <td>127.53</td>\n      <td>59.557802</td>\n      <td>5.992739</td>\n      <td>6.000000</td>\n      <td>-0.398299</td>\n      <td>0.037337</td>\n      <td>-2.133673</td>\n      <td>191.458847</td>\n      <td>0.0</td>\n      <td>-3.200659</td>\n    </tr>\n    <tr>\n      <th>809</th>\n      <td>0.6400</td>\n      <td>1</td>\n      <td>2.2654</td>\n      <td>1.2468</td>\n      <td>1.1250</td>\n      <td>4.0</td>\n      <td>28.6</td>\n      <td>3</td>\n      <td>7.0</td>\n      <td>-2.000000</td>\n      <td>...</td>\n      <td>127.53</td>\n      <td>59.557802</td>\n      <td>5.992739</td>\n      <td>6.000000</td>\n      <td>-0.398299</td>\n      <td>0.037337</td>\n      <td>-2.133673</td>\n      <td>191.458847</td>\n      <td>0.0</td>\n      <td>-2.886057</td>\n    </tr>\n    <tr>\n      <th>810</th>\n      <td>0.3400</td>\n      <td>1</td>\n      <td>2.2654</td>\n      <td>1.2468</td>\n      <td>1.1250</td>\n      <td>4.0</td>\n      <td>28.6</td>\n      <td>3</td>\n      <td>7.0</td>\n      <td>-2.000000</td>\n      <td>...</td>\n      <td>127.53</td>\n      <td>59.557803</td>\n      <td>5.992739</td>\n      <td>6.000000</td>\n      <td>-0.398299</td>\n      <td>0.037337</td>\n      <td>-2.133673</td>\n      <td>191.458847</td>\n      <td>0.0</td>\n      <td>-3.142668</td>\n    </tr>\n    <tr>\n      <th>831</th>\n      <td>0.0160</td>\n      <td>1</td>\n      <td>2.7010</td>\n      <td>1.2100</td>\n      <td>0.4540</td>\n      <td>4.0</td>\n      <td>50.0</td>\n      <td>3</td>\n      <td>7.0</td>\n      <td>-2.000000</td>\n      <td>...</td>\n      <td>63.37</td>\n      <td>-1.036531</td>\n      <td>5.992739</td>\n      <td>6.000000</td>\n      <td>-0.398299</td>\n      <td>0.037337</td>\n      <td>-1.556408</td>\n      <td>0.999968</td>\n      <td>0.0</td>\n      <td>-4.725842</td>\n    </tr>\n    <tr>\n      <th>832</th>\n      <td>14.4600</td>\n      <td>1</td>\n      <td>2.7010</td>\n      <td>1.2100</td>\n      <td>-0.1698</td>\n      <td>4.0</td>\n      <td>50.0</td>\n      <td>3</td>\n      <td>7.0</td>\n      <td>0.000000</td>\n      <td>...</td>\n      <td>63.37</td>\n      <td>-1.035663</td>\n      <td>6.000000</td>\n      <td>5.992739</td>\n      <td>-0.254557</td>\n      <td>-0.254557</td>\n      <td>-1.556408</td>\n      <td>0.999968</td>\n      <td>0.0</td>\n      <td>-4.057496</td>\n    </tr>\n  </tbody>\n</table>\n<p>689 rows × 43 columns</p>\n</div>"
     },
     "execution_count": 63,
     "metadata": {},
     "output_type": "execute_result"
    }
   ],
   "source": [
    "df"
   ],
   "metadata": {
    "collapsed": false,
    "ExecuteTime": {
     "end_time": "2023-10-14T16:02:54.296381700Z",
     "start_time": "2023-10-14T16:02:54.275895Z"
    }
   },
   "id": "5e73c4703f78396"
  },
  {
   "cell_type": "code",
   "execution_count": 64,
   "outputs": [],
   "source": [
    "df.to_csv('edit_nnz_1.csv', index=False)"
   ],
   "metadata": {
    "collapsed": false,
    "ExecuteTime": {
     "end_time": "2023-10-14T16:08:09.845710900Z",
     "start_time": "2023-10-14T16:08:09.812880300Z"
    }
   },
   "id": "44a0e214254cdcee"
  },
  {
   "cell_type": "code",
   "execution_count": 65,
   "outputs": [],
   "source": [
    "df = pd.read_csv(\"../Data_Preprocessing/edit_nnz_1.csv\")"
   ],
   "metadata": {
    "collapsed": false,
    "ExecuteTime": {
     "end_time": "2023-10-14T16:09:44.709928300Z",
     "start_time": "2023-10-14T16:09:44.689991300Z"
    }
   },
   "id": "53c177d88a2ed864"
  },
  {
   "cell_type": "code",
   "execution_count": 66,
   "outputs": [
    {
     "data": {
      "text/plain": "               Km    activity           X          IR        pot2          ph  \\\ncount  689.000000  689.000000  689.000000  689.000000  689.000000  689.000000   \nmean     1.575142    1.013062    2.536609    1.210457    0.235998    4.432612   \nstd      3.091012    0.147076    0.272273    0.177881    0.530908    1.124191   \nmin      0.000200    1.000000    1.830000    0.700000   -1.358000    2.000000   \n25%      0.109000    1.000000    2.280000    1.088000   -0.084400    4.000000   \n50%      0.308000    1.000000    2.582000    1.224000    0.026500    4.000000   \n75%      1.140000    1.000000    2.750000    1.320000    0.501200    4.500000   \nmax     16.540000    3.000000    3.170000    1.710000    1.690000    9.000000   \n\n             temp        dstr       cryst      lgCmin  ...         TPSA  \\\ncount  689.000000  689.000000  689.000000  689.000000  ...   689.000000   \nmean    33.700581    2.683599    5.923948   -1.481741  ...    59.334731   \nstd      9.408692    0.659264    1.666468    1.184587  ...   128.589916   \nmin     20.000000    1.000000    0.000000   -4.000000  ...     0.000000   \n25%     25.000000    3.000000    5.600000   -2.301030  ...     0.000000   \n50%     34.000000    3.000000    7.000000   -1.301030  ...    12.530000   \n75%     40.000000    3.000000    7.000000   -0.698970  ...    63.320000   \nmax     90.000000    3.000000    7.000000    2.000000  ...  1109.380000   \n\n            XLogP  MaxEStateIndex.1  MaxEStateIndex.2  MinPartialCharge.1  \\\ncount  689.000000        689.000000        689.000000          689.000000   \nmean    16.472109          6.130217          6.026046           -0.351785   \nstd     37.335627          1.201793          0.980478            0.103144   \nmin    -21.400000          0.000000          0.000000           -0.744035   \n25%      0.000000          5.992739          5.992739           -0.398299   \n50%      0.000000          5.992739          6.000000           -0.398299   \n75%      6.500000          6.000000          6.000000           -0.254557   \nmax    153.000000         11.503714         11.503714            0.000000   \n\n       MaxPartialCharge.1  BCUT2D_CHGLO         polym   Complexity    Vmax_log  \ncount          689.000000    689.000000    689.000000   689.000000  689.000000  \nmean            -0.063315     -0.904544    149.498794    78.480406   -3.842720  \nstd              0.151789      1.013976    937.961687   439.832906    1.304476  \nmin             -0.254557     -2.508322      0.000000     0.000000   -7.468521  \n25%             -0.254557     -2.048433      0.000000     0.000000   -4.531653  \n50%              0.037337      0.000000      0.373245     0.000000   -4.008774  \n75%              0.037337      0.000000      1.000032     0.000000   -3.459545  \nmax              0.322471      0.000000  11696.537820  4830.000000    4.777318  \n\n[8 rows x 43 columns]",
      "text/html": "<div>\n<style scoped>\n    .dataframe tbody tr th:only-of-type {\n        vertical-align: middle;\n    }\n\n    .dataframe tbody tr th {\n        vertical-align: top;\n    }\n\n    .dataframe thead th {\n        text-align: right;\n    }\n</style>\n<table border=\"1\" class=\"dataframe\">\n  <thead>\n    <tr style=\"text-align: right;\">\n      <th></th>\n      <th>Km</th>\n      <th>activity</th>\n      <th>X</th>\n      <th>IR</th>\n      <th>pot2</th>\n      <th>ph</th>\n      <th>temp</th>\n      <th>dstr</th>\n      <th>cryst</th>\n      <th>lgCmin</th>\n      <th>...</th>\n      <th>TPSA</th>\n      <th>XLogP</th>\n      <th>MaxEStateIndex.1</th>\n      <th>MaxEStateIndex.2</th>\n      <th>MinPartialCharge.1</th>\n      <th>MaxPartialCharge.1</th>\n      <th>BCUT2D_CHGLO</th>\n      <th>polym</th>\n      <th>Complexity</th>\n      <th>Vmax_log</th>\n    </tr>\n  </thead>\n  <tbody>\n    <tr>\n      <th>count</th>\n      <td>689.000000</td>\n      <td>689.000000</td>\n      <td>689.000000</td>\n      <td>689.000000</td>\n      <td>689.000000</td>\n      <td>689.000000</td>\n      <td>689.000000</td>\n      <td>689.000000</td>\n      <td>689.000000</td>\n      <td>689.000000</td>\n      <td>...</td>\n      <td>689.000000</td>\n      <td>689.000000</td>\n      <td>689.000000</td>\n      <td>689.000000</td>\n      <td>689.000000</td>\n      <td>689.000000</td>\n      <td>689.000000</td>\n      <td>689.000000</td>\n      <td>689.000000</td>\n      <td>689.000000</td>\n    </tr>\n    <tr>\n      <th>mean</th>\n      <td>1.575142</td>\n      <td>1.013062</td>\n      <td>2.536609</td>\n      <td>1.210457</td>\n      <td>0.235998</td>\n      <td>4.432612</td>\n      <td>33.700581</td>\n      <td>2.683599</td>\n      <td>5.923948</td>\n      <td>-1.481741</td>\n      <td>...</td>\n      <td>59.334731</td>\n      <td>16.472109</td>\n      <td>6.130217</td>\n      <td>6.026046</td>\n      <td>-0.351785</td>\n      <td>-0.063315</td>\n      <td>-0.904544</td>\n      <td>149.498794</td>\n      <td>78.480406</td>\n      <td>-3.842720</td>\n    </tr>\n    <tr>\n      <th>std</th>\n      <td>3.091012</td>\n      <td>0.147076</td>\n      <td>0.272273</td>\n      <td>0.177881</td>\n      <td>0.530908</td>\n      <td>1.124191</td>\n      <td>9.408692</td>\n      <td>0.659264</td>\n      <td>1.666468</td>\n      <td>1.184587</td>\n      <td>...</td>\n      <td>128.589916</td>\n      <td>37.335627</td>\n      <td>1.201793</td>\n      <td>0.980478</td>\n      <td>0.103144</td>\n      <td>0.151789</td>\n      <td>1.013976</td>\n      <td>937.961687</td>\n      <td>439.832906</td>\n      <td>1.304476</td>\n    </tr>\n    <tr>\n      <th>min</th>\n      <td>0.000200</td>\n      <td>1.000000</td>\n      <td>1.830000</td>\n      <td>0.700000</td>\n      <td>-1.358000</td>\n      <td>2.000000</td>\n      <td>20.000000</td>\n      <td>1.000000</td>\n      <td>0.000000</td>\n      <td>-4.000000</td>\n      <td>...</td>\n      <td>0.000000</td>\n      <td>-21.400000</td>\n      <td>0.000000</td>\n      <td>0.000000</td>\n      <td>-0.744035</td>\n      <td>-0.254557</td>\n      <td>-2.508322</td>\n      <td>0.000000</td>\n      <td>0.000000</td>\n      <td>-7.468521</td>\n    </tr>\n    <tr>\n      <th>25%</th>\n      <td>0.109000</td>\n      <td>1.000000</td>\n      <td>2.280000</td>\n      <td>1.088000</td>\n      <td>-0.084400</td>\n      <td>4.000000</td>\n      <td>25.000000</td>\n      <td>3.000000</td>\n      <td>5.600000</td>\n      <td>-2.301030</td>\n      <td>...</td>\n      <td>0.000000</td>\n      <td>0.000000</td>\n      <td>5.992739</td>\n      <td>5.992739</td>\n      <td>-0.398299</td>\n      <td>-0.254557</td>\n      <td>-2.048433</td>\n      <td>0.000000</td>\n      <td>0.000000</td>\n      <td>-4.531653</td>\n    </tr>\n    <tr>\n      <th>50%</th>\n      <td>0.308000</td>\n      <td>1.000000</td>\n      <td>2.582000</td>\n      <td>1.224000</td>\n      <td>0.026500</td>\n      <td>4.000000</td>\n      <td>34.000000</td>\n      <td>3.000000</td>\n      <td>7.000000</td>\n      <td>-1.301030</td>\n      <td>...</td>\n      <td>12.530000</td>\n      <td>0.000000</td>\n      <td>5.992739</td>\n      <td>6.000000</td>\n      <td>-0.398299</td>\n      <td>0.037337</td>\n      <td>0.000000</td>\n      <td>0.373245</td>\n      <td>0.000000</td>\n      <td>-4.008774</td>\n    </tr>\n    <tr>\n      <th>75%</th>\n      <td>1.140000</td>\n      <td>1.000000</td>\n      <td>2.750000</td>\n      <td>1.320000</td>\n      <td>0.501200</td>\n      <td>4.500000</td>\n      <td>40.000000</td>\n      <td>3.000000</td>\n      <td>7.000000</td>\n      <td>-0.698970</td>\n      <td>...</td>\n      <td>63.320000</td>\n      <td>6.500000</td>\n      <td>6.000000</td>\n      <td>6.000000</td>\n      <td>-0.254557</td>\n      <td>0.037337</td>\n      <td>0.000000</td>\n      <td>1.000032</td>\n      <td>0.000000</td>\n      <td>-3.459545</td>\n    </tr>\n    <tr>\n      <th>max</th>\n      <td>16.540000</td>\n      <td>3.000000</td>\n      <td>3.170000</td>\n      <td>1.710000</td>\n      <td>1.690000</td>\n      <td>9.000000</td>\n      <td>90.000000</td>\n      <td>3.000000</td>\n      <td>7.000000</td>\n      <td>2.000000</td>\n      <td>...</td>\n      <td>1109.380000</td>\n      <td>153.000000</td>\n      <td>11.503714</td>\n      <td>11.503714</td>\n      <td>0.000000</td>\n      <td>0.322471</td>\n      <td>0.000000</td>\n      <td>11696.537820</td>\n      <td>4830.000000</td>\n      <td>4.777318</td>\n    </tr>\n  </tbody>\n</table>\n<p>8 rows × 43 columns</p>\n</div>"
     },
     "execution_count": 66,
     "metadata": {},
     "output_type": "execute_result"
    }
   ],
   "source": [
    "df.describe()"
   ],
   "metadata": {
    "collapsed": false,
    "ExecuteTime": {
     "end_time": "2023-10-14T16:11:00.484447600Z",
     "start_time": "2023-10-14T16:11:00.432986Z"
    }
   },
   "id": "5d447906ec4db5b8"
  },
  {
   "cell_type": "markdown",
   "source": [],
   "metadata": {
    "collapsed": false
   },
   "id": "49593e04df0d06a9"
  },
  {
   "cell_type": "code",
   "execution_count": 69,
   "outputs": [
    {
     "data": {
      "text/plain": "<Figure size 640x480 with 1 Axes>",
      "image/png": "[encoded data removed]"
     },
     "metadata": {},
     "output_type": "display_data"
    }
   ],
   "source": [
    "sns.boxplot(x=df['TPSA'])\n",
    "plt.show()"
   ],
   "metadata": {
    "collapsed": false,
    "ExecuteTime": {
     "end_time": "2023-10-14T16:49:12.500925400Z",
     "start_time": "2023-10-14T16:49:12.399961200Z"
    }
   },
   "id": "4bf41f0c618db1b9"
  },
  {
   "cell_type": "markdown",
   "source": [],
   "metadata": {
    "collapsed": false
   },
   "id": "2a4338e880cb7be6"
  }
 ],
 "metadata": {
  "kernelspec": {
   "display_name": "Python 3",
   "language": "python",
   "name": "python3"
  },
  "language_info": {
   "codemirror_mode": {
    "name": "ipython",
    "version": 2
   },
   "file_extension": ".py",
   "mimetype": "text/x-python",
   "name": "python",
   "nbconvert_exporter": "python",
   "pygments_lexer": "ipython2",
   "version": "2.7.6"
  }
 },
 "nbformat": 4,
 "nbformat_minor": 5
}
