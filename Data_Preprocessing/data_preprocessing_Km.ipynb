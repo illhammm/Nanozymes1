{
 "cells": [
  {
   "cell_type": "code",
   "execution_count": 1,
   "outputs": [],
   "source": [
    "import pandas as pd\n",
    "import numpy as np\n",
    "import seaborn as sns\n",
    "import matplotlib.pyplot as plt\n",
    "from scipy import stats"
   ],
   "metadata": {
    "collapsed": false,
    "ExecuteTime": {
     "end_time": "2023-10-17T08:17:30.120194600Z",
     "start_time": "2023-10-17T08:17:30.106743600Z"
    }
   },
   "id": "fb93ae6702388c05"
  },
  {
   "cell_type": "code",
   "execution_count": 2,
   "id": "initial_id",
   "metadata": {
    "collapsed": true,
    "ExecuteTime": {
     "end_time": "2023-10-17T08:17:56.546285200Z",
     "start_time": "2023-10-17T08:17:56.525356600Z"
    }
   },
   "outputs": [],
   "source": [
    "df = pd.read_csv(\"../Data_Preprocessing/df_nnz_Km.csv\")"
   ]
  },
  {
   "cell_type": "code",
   "execution_count": 3,
   "outputs": [
    {
     "data": {
      "text/plain": "          Km      Vmax  activity      X     IR  pot2    ph  temp  dstr  cryst  \\\n0     0.0065    1.3763         1  2.757  1.071 -0.05  4.00  37.0     3    7.0   \n1     0.0554    0.2643         1  2.757  1.071 -0.05  4.00  37.0     3    7.0   \n2     0.0355     8.363         1  2.757  1.071 -0.05  4.00  37.0     3    7.0   \n3     0.2277    0.4382         1  2.757  1.071 -0.05  4.00  37.0     3    7.0   \n4     0.0173    1.0272         1  2.757  1.071 -0.05  4.00  37.0     3    7.0   \n...      ...       ...       ...    ...    ...   ...   ...   ...   ...    ...   \n1125   0.122  1.51E-06         2  2.280  1.350  1.20  7.00  41.4     3    6.8   \n1126   0.027  0.000252         2  2.280  1.350  1.20  3.00  33.0     1    6.8   \n1127   0.035  0.000177         2  2.280  1.350  1.20  7.00  33.0     1    6.8   \n1128   0.163  4.08E-05         2  1.937  0.853  0.78  4.00  42.4     1    6.8   \n1129   102.4    0.0022         3  2.200  0.730  0.83  4.24  47.0     3    7.0   \n\n      ...  EState_VSA6_log  EState_VSA4_log  SMR_VSA7_log  Complexity1_log  \\\n0     ...         0.000000         2.552693      2.497497         5.420535   \n1     ...         0.000000         2.552693      2.497497         5.420535   \n2     ...         0.000000         2.552693      2.497497         0.000000   \n3     ...         0.000000         2.552693      2.497497         0.000000   \n4     ...         0.000000         2.552693      2.497497         5.420535   \n...   ...              ...              ...           ...              ...   \n1125  ...         0.000000         0.000000      0.000000         5.420535   \n1126  ...         3.189054         3.402360      4.785979         5.420535   \n1127  ...         3.189054         3.402360      4.785979         5.420535   \n1128  ...         0.000000         0.000000      0.000000         5.420535   \n1129  ...         2.406933         2.562298      3.190362         5.197391   \n\n      Complexity_log  TPSA_log  TPSA1_log  TPSA2_log  MaxEStateIndex.1_log  \\\n0           0.000000  3.618993   3.951244   3.701302              1.790549   \n1           0.000000  3.618993   3.951244   3.701302              1.790549   \n2           0.000000  3.618993   3.701302   3.951244              1.791759   \n3           0.000000  3.618993   3.701302   3.951244              1.791759   \n4           0.000000  3.618993   3.951244   3.701302              1.790549   \n...              ...       ...        ...        ...                   ...   \n1125        0.000000  4.883786   3.951244   3.823847              1.790549   \n1126        6.586172  5.928924   3.951244   3.701302              1.790549   \n1127        6.586172  5.928924   3.951244   3.701302              1.790549   \n1128        0.000000  3.401197   3.951244   3.823847              1.790549   \n1129        0.000000  4.848352   3.906005   3.858622              0.000000   \n\n      MaxEStateIndex.2_log  \n0                 1.791759  \n1                 1.791759  \n2                 1.790549  \n3                 1.790549  \n4                 1.791759  \n...                    ...  \n1125              0.000000  \n1126              0.000000  \n1127              0.000000  \n1128              0.000000  \n1129              0.000000  \n\n[1130 rows x 43 columns]",
      "text/html": "<div>\n<style scoped>\n    .dataframe tbody tr th:only-of-type {\n        vertical-align: middle;\n    }\n\n    .dataframe tbody tr th {\n        vertical-align: top;\n    }\n\n    .dataframe thead th {\n        text-align: right;\n    }\n</style>\n<table border=\"1\" class=\"dataframe\">\n  <thead>\n    <tr style=\"text-align: right;\">\n      <th></th>\n      <th>Km</th>\n      <th>Vmax</th>\n      <th>activity</th>\n      <th>X</th>\n      <th>IR</th>\n      <th>pot2</th>\n      <th>ph</th>\n      <th>temp</th>\n      <th>dstr</th>\n      <th>cryst</th>\n      <th>...</th>\n      <th>EState_VSA6_log</th>\n      <th>EState_VSA4_log</th>\n      <th>SMR_VSA7_log</th>\n      <th>Complexity1_log</th>\n      <th>Complexity_log</th>\n      <th>TPSA_log</th>\n      <th>TPSA1_log</th>\n      <th>TPSA2_log</th>\n      <th>MaxEStateIndex.1_log</th>\n      <th>MaxEStateIndex.2_log</th>\n    </tr>\n  </thead>\n  <tbody>\n    <tr>\n      <th>0</th>\n      <td>0.0065</td>\n      <td>1.3763</td>\n      <td>1</td>\n      <td>2.757</td>\n      <td>1.071</td>\n      <td>-0.05</td>\n      <td>4.00</td>\n      <td>37.0</td>\n      <td>3</td>\n      <td>7.0</td>\n      <td>...</td>\n      <td>0.000000</td>\n      <td>2.552693</td>\n      <td>2.497497</td>\n      <td>5.420535</td>\n      <td>0.000000</td>\n      <td>3.618993</td>\n      <td>3.951244</td>\n      <td>3.701302</td>\n      <td>1.790549</td>\n      <td>1.791759</td>\n    </tr>\n    <tr>\n      <th>1</th>\n      <td>0.0554</td>\n      <td>0.2643</td>\n      <td>1</td>\n      <td>2.757</td>\n      <td>1.071</td>\n      <td>-0.05</td>\n      <td>4.00</td>\n      <td>37.0</td>\n      <td>3</td>\n      <td>7.0</td>\n      <td>...</td>\n      <td>0.000000</td>\n      <td>2.552693</td>\n      <td>2.497497</td>\n      <td>5.420535</td>\n      <td>0.000000</td>\n      <td>3.618993</td>\n      <td>3.951244</td>\n      <td>3.701302</td>\n      <td>1.790549</td>\n      <td>1.791759</td>\n    </tr>\n    <tr>\n      <th>2</th>\n      <td>0.0355</td>\n      <td>8.363</td>\n      <td>1</td>\n      <td>2.757</td>\n      <td>1.071</td>\n      <td>-0.05</td>\n      <td>4.00</td>\n      <td>37.0</td>\n      <td>3</td>\n      <td>7.0</td>\n      <td>...</td>\n      <td>0.000000</td>\n      <td>2.552693</td>\n      <td>2.497497</td>\n      <td>0.000000</td>\n      <td>0.000000</td>\n      <td>3.618993</td>\n      <td>3.701302</td>\n      <td>3.951244</td>\n      <td>1.791759</td>\n      <td>1.790549</td>\n    </tr>\n    <tr>\n      <th>3</th>\n      <td>0.2277</td>\n      <td>0.4382</td>\n      <td>1</td>\n      <td>2.757</td>\n      <td>1.071</td>\n      <td>-0.05</td>\n      <td>4.00</td>\n      <td>37.0</td>\n      <td>3</td>\n      <td>7.0</td>\n      <td>...</td>\n      <td>0.000000</td>\n      <td>2.552693</td>\n      <td>2.497497</td>\n      <td>0.000000</td>\n      <td>0.000000</td>\n      <td>3.618993</td>\n      <td>3.701302</td>\n      <td>3.951244</td>\n      <td>1.791759</td>\n      <td>1.790549</td>\n    </tr>\n    <tr>\n      <th>4</th>\n      <td>0.0173</td>\n      <td>1.0272</td>\n      <td>1</td>\n      <td>2.757</td>\n      <td>1.071</td>\n      <td>-0.05</td>\n      <td>4.00</td>\n      <td>37.0</td>\n      <td>3</td>\n      <td>7.0</td>\n      <td>...</td>\n      <td>0.000000</td>\n      <td>2.552693</td>\n      <td>2.497497</td>\n      <td>5.420535</td>\n      <td>0.000000</td>\n      <td>3.618993</td>\n      <td>3.951244</td>\n      <td>3.701302</td>\n      <td>1.790549</td>\n      <td>1.791759</td>\n    </tr>\n    <tr>\n      <th>...</th>\n      <td>...</td>\n      <td>...</td>\n      <td>...</td>\n      <td>...</td>\n      <td>...</td>\n      <td>...</td>\n      <td>...</td>\n      <td>...</td>\n      <td>...</td>\n      <td>...</td>\n      <td>...</td>\n      <td>...</td>\n      <td>...</td>\n      <td>...</td>\n      <td>...</td>\n      <td>...</td>\n      <td>...</td>\n      <td>...</td>\n      <td>...</td>\n      <td>...</td>\n      <td>...</td>\n    </tr>\n    <tr>\n      <th>1125</th>\n      <td>0.122</td>\n      <td>1.51E-06</td>\n      <td>2</td>\n      <td>2.280</td>\n      <td>1.350</td>\n      <td>1.20</td>\n      <td>7.00</td>\n      <td>41.4</td>\n      <td>3</td>\n      <td>6.8</td>\n      <td>...</td>\n      <td>0.000000</td>\n      <td>0.000000</td>\n      <td>0.000000</td>\n      <td>5.420535</td>\n      <td>0.000000</td>\n      <td>4.883786</td>\n      <td>3.951244</td>\n      <td>3.823847</td>\n      <td>1.790549</td>\n      <td>0.000000</td>\n    </tr>\n    <tr>\n      <th>1126</th>\n      <td>0.027</td>\n      <td>0.000252</td>\n      <td>2</td>\n      <td>2.280</td>\n      <td>1.350</td>\n      <td>1.20</td>\n      <td>3.00</td>\n      <td>33.0</td>\n      <td>1</td>\n      <td>6.8</td>\n      <td>...</td>\n      <td>3.189054</td>\n      <td>3.402360</td>\n      <td>4.785979</td>\n      <td>5.420535</td>\n      <td>6.586172</td>\n      <td>5.928924</td>\n      <td>3.951244</td>\n      <td>3.701302</td>\n      <td>1.790549</td>\n      <td>0.000000</td>\n    </tr>\n    <tr>\n      <th>1127</th>\n      <td>0.035</td>\n      <td>0.000177</td>\n      <td>2</td>\n      <td>2.280</td>\n      <td>1.350</td>\n      <td>1.20</td>\n      <td>7.00</td>\n      <td>33.0</td>\n      <td>1</td>\n      <td>6.8</td>\n      <td>...</td>\n      <td>3.189054</td>\n      <td>3.402360</td>\n      <td>4.785979</td>\n      <td>5.420535</td>\n      <td>6.586172</td>\n      <td>5.928924</td>\n      <td>3.951244</td>\n      <td>3.701302</td>\n      <td>1.790549</td>\n      <td>0.000000</td>\n    </tr>\n    <tr>\n      <th>1128</th>\n      <td>0.163</td>\n      <td>4.08E-05</td>\n      <td>2</td>\n      <td>1.937</td>\n      <td>0.853</td>\n      <td>0.78</td>\n      <td>4.00</td>\n      <td>42.4</td>\n      <td>1</td>\n      <td>6.8</td>\n      <td>...</td>\n      <td>0.000000</td>\n      <td>0.000000</td>\n      <td>0.000000</td>\n      <td>5.420535</td>\n      <td>0.000000</td>\n      <td>3.401197</td>\n      <td>3.951244</td>\n      <td>3.823847</td>\n      <td>1.790549</td>\n      <td>0.000000</td>\n    </tr>\n    <tr>\n      <th>1129</th>\n      <td>102.4</td>\n      <td>0.0022</td>\n      <td>3</td>\n      <td>2.200</td>\n      <td>0.730</td>\n      <td>0.83</td>\n      <td>4.24</td>\n      <td>47.0</td>\n      <td>3</td>\n      <td>7.0</td>\n      <td>...</td>\n      <td>2.406933</td>\n      <td>2.562298</td>\n      <td>3.190362</td>\n      <td>5.197391</td>\n      <td>0.000000</td>\n      <td>4.848352</td>\n      <td>3.906005</td>\n      <td>3.858622</td>\n      <td>0.000000</td>\n      <td>0.000000</td>\n    </tr>\n  </tbody>\n</table>\n<p>1130 rows × 43 columns</p>\n</div>"
     },
     "execution_count": 3,
     "metadata": {},
     "output_type": "execute_result"
    }
   ],
   "source": [
    "df"
   ],
   "metadata": {
    "collapsed": false,
    "ExecuteTime": {
     "end_time": "2023-10-17T08:18:24.227487800Z",
     "start_time": "2023-10-17T08:18:24.187610Z"
    }
   },
   "id": "172b5be5a74acceb"
  },
  {
   "cell_type": "code",
   "execution_count": null,
   "outputs": [],
   "source": [],
   "metadata": {
    "collapsed": false
   },
   "id": "2174ff350036497b"
  }
 ],
 "metadata": {
  "kernelspec": {
   "display_name": "Python 3",
   "language": "python",
   "name": "python3"
  },
  "language_info": {
   "codemirror_mode": {
    "name": "ipython",
    "version": 2
   },
   "file_extension": ".py",
   "mimetype": "text/x-python",
   "name": "python",
   "nbconvert_exporter": "python",
   "pygments_lexer": "ipython2",
   "version": "2.7.6"
  }
 },
 "nbformat": 4,
 "nbformat_minor": 5
}
