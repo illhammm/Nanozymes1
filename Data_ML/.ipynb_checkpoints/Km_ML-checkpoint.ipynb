{
 "cells": [
  {
   "cell_type": "code",
   "execution_count": 44,
   "id": "initial_id",
   "metadata": {
    "ExecuteTime": {
     "end_time": "2023-10-17T09:23:24.745392500Z",
     "start_time": "2023-10-17T09:23:23.919050300Z"
    }
   },
   "outputs": [],
   "source": [
    "import pandas as pd\n",
    "import numpy as np\n",
    "import seaborn as sns\n",
    "import matplotlib.pyplot as plt\n",
    "from scipy import stats\n",
    "from sklearn.impute import KNNImputer\n",
    "from sklearn.model_selection import train_test_split, cross_val_score, GridSearchCV\n",
    "from sklearn.ensemble import RandomForestRegressor\n",
    "from sklearn.metrics import mean_squared_error, r2_score, mean_absolute_error\n",
    "\n",
    "\n",
    "def results(results):\n",
    "  print('Optimal Hyperparams: {}\\n'.format(results.best_params_))\n",
    "  means = results.cv_results_['mean_test_score']\n",
    "  stds = results.cv_results_['std_test_score']\n",
    "\n",
    "  for mean, std, params in zip(means, stds, results.cv_results_['params']):\n",
    "    print('Mean {} Standard Deviation {} Hyperparameters {}'.format(round(mean,3), round(std * 2, 3), params))\n",
    "   \n",
    "\n",
    "def del_quantil(df, column):\n",
    "    Q1 = df[column].quantile(0.25)\n",
    "    Q3 = df[column].quantile(0.75)\n",
    "    IQR = Q3 - Q1\n",
    "\n",
    "    df = df[~((df[column] < (Q1 - 1.5 * IQR)) | (df[column] > (Q3 + 1.5 * IQR)))]\n",
    "\n",
    "    return df    "
   ]
  },
  {
   "cell_type": "code",
   "execution_count": 45,
   "id": "e5e95ca0fa2deec0",
   "metadata": {
    "ExecuteTime": {
     "end_time": "2023-10-17T09:23:26.083385600Z",
     "start_time": "2023-10-17T09:23:26.059418200Z"
    }
   },
   "outputs": [],
   "source": [
    "df = pd.read_csv(\"../Data_Preprocessing/df_nnz_Km_clean.csv\")"
   ]
  },
  {
   "cell_type": "markdown",
   "id": "a85c8f21",
   "metadata": {},
   "source": [
    "Разделяю данные на обучающую, тестовую и валидационную выборки. "
   ]
  },
  {
   "cell_type": "code",
   "execution_count": 46,
   "id": "0637a919",
   "metadata": {},
   "outputs": [],
   "source": [
    "# Train Test Split\n",
    "features = df.drop('Km', axis=1)\n",
    "labels = df['Km']\n",
    "\n",
    "X_train, X_test, y_train, y_test = train_test_split(features, labels, test_size=0.4, random_state=42)\n",
    "X_test, X_val, y_test, y_val = train_test_split(X_test, y_test, test_size=0.5, random_state=42)"
   ]
  },
  {
   "cell_type": "markdown",
   "id": "a424b3d9",
   "metadata": {},
   "source": [
    "Вывожу на экран доли данных в каждой выборке относительно исходных данных."
   ]
  },
  {
   "cell_type": "code",
   "execution_count": 47,
   "id": "6fd9afe3",
   "metadata": {},
   "outputs": [
    {
     "name": "stdout",
     "output_type": "stream",
     "text": [
      "0.6\n",
      "0.2\n",
      "0.2\n"
     ]
    }
   ],
   "source": [
    "for data in [y_train, y_val, y_test]:\n",
    "  print(round(len(data) / len(labels), 2))"
   ]
  },
  {
   "cell_type": "markdown",
   "id": "60707d99",
   "metadata": {},
   "source": [
    "Сохраняю данные в формате CSV. Он сохраняет обучающие, валидационные и тестовые данные, а также соответствующие им метки классов."
   ]
  },
  {
   "cell_type": "code",
   "execution_count": 48,
   "id": "d7b8e161",
   "metadata": {},
   "outputs": [],
   "source": [
    "# Save the data\n",
    "X_train.to_csv('../Data_ML/Km/train_features.csv', index=False)\n",
    "X_val.to_csv('../Data_ML/Km/val_features.csv', index=False)\n",
    "X_test.to_csv('../Data_ML/Km/test_features.csv', index=False)\n",
    "\n",
    "y_train.to_csv('../Data_ML/Km/train_labels.csv', index=False)\n",
    "y_val.to_csv('../Data_ML/Km/val_labels.csv', index=False)\n",
    "y_test.to_csv('../Data_ML/Km/test_labels.csv', index=False)"
   ]
  },
  {
   "cell_type": "markdown",
   "id": "3522d857",
   "metadata": {},
   "source": [
    "Кросс-валидация"
   ]
  },
  {
   "cell_type": "code",
   "execution_count": 49,
   "id": "05bf8506",
   "metadata": {},
   "outputs": [],
   "source": [
    "train_features = pd.read_csv('../Data_ML/Km/train_features.csv')\n",
    "train_labels = pd.read_csv('../Data_ML/Km/train_labels.csv')\n",
    "\n",
    "val_features = pd.read_csv('../Data_ML/Km/val_features.csv')\n",
    "val_labels = pd.read_csv('../Data_ML/Km/val_labels.csv')\n",
    "\n",
    "test_features = pd.read_csv('../Data_ML/Km/test_features.csv')\n",
    "test_labels = pd.read_csv('../Data_ML/Km/test_labels.csv')"
   ]
  },
  {
   "cell_type": "code",
   "execution_count": 50,
   "id": "86946f21",
   "metadata": {},
   "outputs": [],
   "source": [
    "rf = RandomForestRegressor()\n",
    "\n",
    "scores = cross_val_score(rf, train_features, train_labels.values.ravel(), cv=5)"
   ]
  },
  {
   "cell_type": "code",
   "execution_count": 51,
   "id": "bc85f725",
   "metadata": {},
   "outputs": [
    {
     "data": {
      "text/plain": [
       "array([-5.07636035,  0.18583896,  0.45756295,  0.31711836,  0.14039398])"
      ]
     },
     "execution_count": 51,
     "metadata": {},
     "output_type": "execute_result"
    }
   ],
   "source": [
    "scores"
   ]
  },
  {
   "cell_type": "markdown",
   "id": "f3cde848",
   "metadata": {},
   "source": [
    "Настройка гиперпараметров"
   ]
  },
  {
   "cell_type": "markdown",
   "id": "bfef9d3d",
   "metadata": {},
   "source": [
    "Выполняю кросс-валидацию с перебором сетки для регрессорной модели случайного леса"
   ]
  },
  {
   "cell_type": "code",
   "execution_count": 52,
   "id": "a11c62e8",
   "metadata": {},
   "outputs": [
    {
     "data": {
      "text/html": [
       "<style>#sk-container-id-8 {color: black;}#sk-container-id-8 pre{padding: 0;}#sk-container-id-8 div.sk-toggleable {background-color: white;}#sk-container-id-8 label.sk-toggleable__label {cursor: pointer;display: block;width: 100%;margin-bottom: 0;padding: 0.3em;box-sizing: border-box;text-align: center;}#sk-container-id-8 label.sk-toggleable__label-arrow:before {content: \"▸\";float: left;margin-right: 0.25em;color: #696969;}#sk-container-id-8 label.sk-toggleable__label-arrow:hover:before {color: black;}#sk-container-id-8 div.sk-estimator:hover label.sk-toggleable__label-arrow:before {color: black;}#sk-container-id-8 div.sk-toggleable__content {max-height: 0;max-width: 0;overflow: hidden;text-align: left;background-color: #f0f8ff;}#sk-container-id-8 div.sk-toggleable__content pre {margin: 0.2em;color: black;border-radius: 0.25em;background-color: #f0f8ff;}#sk-container-id-8 input.sk-toggleable__control:checked~div.sk-toggleable__content {max-height: 200px;max-width: 100%;overflow: auto;}#sk-container-id-8 input.sk-toggleable__control:checked~label.sk-toggleable__label-arrow:before {content: \"▾\";}#sk-container-id-8 div.sk-estimator input.sk-toggleable__control:checked~label.sk-toggleable__label {background-color: #d4ebff;}#sk-container-id-8 div.sk-label input.sk-toggleable__control:checked~label.sk-toggleable__label {background-color: #d4ebff;}#sk-container-id-8 input.sk-hidden--visually {border: 0;clip: rect(1px 1px 1px 1px);clip: rect(1px, 1px, 1px, 1px);height: 1px;margin: -1px;overflow: hidden;padding: 0;position: absolute;width: 1px;}#sk-container-id-8 div.sk-estimator {font-family: monospace;background-color: #f0f8ff;border: 1px dotted black;border-radius: 0.25em;box-sizing: border-box;margin-bottom: 0.5em;}#sk-container-id-8 div.sk-estimator:hover {background-color: #d4ebff;}#sk-container-id-8 div.sk-parallel-item::after {content: \"\";width: 100%;border-bottom: 1px solid gray;flex-grow: 1;}#sk-container-id-8 div.sk-label:hover label.sk-toggleable__label {background-color: #d4ebff;}#sk-container-id-8 div.sk-serial::before {content: \"\";position: absolute;border-left: 1px solid gray;box-sizing: border-box;top: 0;bottom: 0;left: 50%;z-index: 0;}#sk-container-id-8 div.sk-serial {display: flex;flex-direction: column;align-items: center;background-color: white;padding-right: 0.2em;padding-left: 0.2em;position: relative;}#sk-container-id-8 div.sk-item {position: relative;z-index: 1;}#sk-container-id-8 div.sk-parallel {display: flex;align-items: stretch;justify-content: center;background-color: white;position: relative;}#sk-container-id-8 div.sk-item::before, #sk-container-id-8 div.sk-parallel-item::before {content: \"\";position: absolute;border-left: 1px solid gray;box-sizing: border-box;top: 0;bottom: 0;left: 50%;z-index: -1;}#sk-container-id-8 div.sk-parallel-item {display: flex;flex-direction: column;z-index: 1;position: relative;background-color: white;}#sk-container-id-8 div.sk-parallel-item:first-child::after {align-self: flex-end;width: 50%;}#sk-container-id-8 div.sk-parallel-item:last-child::after {align-self: flex-start;width: 50%;}#sk-container-id-8 div.sk-parallel-item:only-child::after {width: 0;}#sk-container-id-8 div.sk-dashed-wrapped {border: 1px dashed gray;margin: 0 0.4em 0.5em 0.4em;box-sizing: border-box;padding-bottom: 0.4em;background-color: white;}#sk-container-id-8 div.sk-label label {font-family: monospace;font-weight: bold;display: inline-block;line-height: 1.2em;}#sk-container-id-8 div.sk-label-container {text-align: center;}#sk-container-id-8 div.sk-container {/* jupyter's `normalize.less` sets `[hidden] { display: none; }` but bootstrap.min.css set `[hidden] { display: none !important; }` so we also need the `!important` here to be able to override the default hidden behavior on the sphinx rendered scikit-learn.org. See: https://github.com/scikit-learn/scikit-learn/issues/21755 */display: inline-block !important;position: relative;}#sk-container-id-8 div.sk-text-repr-fallback {display: none;}</style><div id=\"sk-container-id-8\" class=\"sk-top-container\"><div class=\"sk-text-repr-fallback\"><pre>GridSearchCV(cv=5, estimator=RandomForestRegressor(),\n",
       "             param_grid={&#x27;max_depth&#x27;: [2, 12, 24, None],\n",
       "                         &#x27;n_estimators&#x27;: [5, 25, 50, 100]})</pre><b>In a Jupyter environment, please rerun this cell to show the HTML representation or trust the notebook. <br />On GitHub, the HTML representation is unable to render, please try loading this page with nbviewer.org.</b></div><div class=\"sk-container\" hidden><div class=\"sk-item sk-dashed-wrapped\"><div class=\"sk-label-container\"><div class=\"sk-label sk-toggleable\"><input class=\"sk-toggleable__control sk-hidden--visually\" id=\"sk-estimator-id-20\" type=\"checkbox\" ><label for=\"sk-estimator-id-20\" class=\"sk-toggleable__label sk-toggleable__label-arrow\">GridSearchCV</label><div class=\"sk-toggleable__content\"><pre>GridSearchCV(cv=5, estimator=RandomForestRegressor(),\n",
       "             param_grid={&#x27;max_depth&#x27;: [2, 12, 24, None],\n",
       "                         &#x27;n_estimators&#x27;: [5, 25, 50, 100]})</pre></div></div></div><div class=\"sk-parallel\"><div class=\"sk-parallel-item\"><div class=\"sk-item\"><div class=\"sk-label-container\"><div class=\"sk-label sk-toggleable\"><input class=\"sk-toggleable__control sk-hidden--visually\" id=\"sk-estimator-id-21\" type=\"checkbox\" ><label for=\"sk-estimator-id-21\" class=\"sk-toggleable__label sk-toggleable__label-arrow\">estimator: RandomForestRegressor</label><div class=\"sk-toggleable__content\"><pre>RandomForestRegressor()</pre></div></div></div><div class=\"sk-serial\"><div class=\"sk-item\"><div class=\"sk-estimator sk-toggleable\"><input class=\"sk-toggleable__control sk-hidden--visually\" id=\"sk-estimator-id-22\" type=\"checkbox\" ><label for=\"sk-estimator-id-22\" class=\"sk-toggleable__label sk-toggleable__label-arrow\">RandomForestRegressor</label><div class=\"sk-toggleable__content\"><pre>RandomForestRegressor()</pre></div></div></div></div></div></div></div></div></div></div>"
      ],
      "text/plain": [
       "GridSearchCV(cv=5, estimator=RandomForestRegressor(),\n",
       "             param_grid={'max_depth': [2, 12, 24, None],\n",
       "                         'n_estimators': [5, 25, 50, 100]})"
      ]
     },
     "execution_count": 52,
     "metadata": {},
     "output_type": "execute_result"
    }
   ],
   "source": [
    "rf = RandomForestRegressor()\n",
    "\n",
    "hyperparams = {\n",
    "    'n_estimators': [5, 25, 50, 100],\n",
    "    'max_depth': [2, 12, 24, None]\n",
    "}\n",
    "\n",
    "cross_val = GridSearchCV(rf, hyperparams, cv=5)\n",
    "cross_val.fit(train_features, train_labels.values.ravel())"
   ]
  },
  {
   "cell_type": "code",
   "execution_count": 53,
   "id": "2bcd4ecb",
   "metadata": {},
   "outputs": [
    {
     "data": {
      "text/html": [
       "<style>#sk-container-id-9 {color: black;}#sk-container-id-9 pre{padding: 0;}#sk-container-id-9 div.sk-toggleable {background-color: white;}#sk-container-id-9 label.sk-toggleable__label {cursor: pointer;display: block;width: 100%;margin-bottom: 0;padding: 0.3em;box-sizing: border-box;text-align: center;}#sk-container-id-9 label.sk-toggleable__label-arrow:before {content: \"▸\";float: left;margin-right: 0.25em;color: #696969;}#sk-container-id-9 label.sk-toggleable__label-arrow:hover:before {color: black;}#sk-container-id-9 div.sk-estimator:hover label.sk-toggleable__label-arrow:before {color: black;}#sk-container-id-9 div.sk-toggleable__content {max-height: 0;max-width: 0;overflow: hidden;text-align: left;background-color: #f0f8ff;}#sk-container-id-9 div.sk-toggleable__content pre {margin: 0.2em;color: black;border-radius: 0.25em;background-color: #f0f8ff;}#sk-container-id-9 input.sk-toggleable__control:checked~div.sk-toggleable__content {max-height: 200px;max-width: 100%;overflow: auto;}#sk-container-id-9 input.sk-toggleable__control:checked~label.sk-toggleable__label-arrow:before {content: \"▾\";}#sk-container-id-9 div.sk-estimator input.sk-toggleable__control:checked~label.sk-toggleable__label {background-color: #d4ebff;}#sk-container-id-9 div.sk-label input.sk-toggleable__control:checked~label.sk-toggleable__label {background-color: #d4ebff;}#sk-container-id-9 input.sk-hidden--visually {border: 0;clip: rect(1px 1px 1px 1px);clip: rect(1px, 1px, 1px, 1px);height: 1px;margin: -1px;overflow: hidden;padding: 0;position: absolute;width: 1px;}#sk-container-id-9 div.sk-estimator {font-family: monospace;background-color: #f0f8ff;border: 1px dotted black;border-radius: 0.25em;box-sizing: border-box;margin-bottom: 0.5em;}#sk-container-id-9 div.sk-estimator:hover {background-color: #d4ebff;}#sk-container-id-9 div.sk-parallel-item::after {content: \"\";width: 100%;border-bottom: 1px solid gray;flex-grow: 1;}#sk-container-id-9 div.sk-label:hover label.sk-toggleable__label {background-color: #d4ebff;}#sk-container-id-9 div.sk-serial::before {content: \"\";position: absolute;border-left: 1px solid gray;box-sizing: border-box;top: 0;bottom: 0;left: 50%;z-index: 0;}#sk-container-id-9 div.sk-serial {display: flex;flex-direction: column;align-items: center;background-color: white;padding-right: 0.2em;padding-left: 0.2em;position: relative;}#sk-container-id-9 div.sk-item {position: relative;z-index: 1;}#sk-container-id-9 div.sk-parallel {display: flex;align-items: stretch;justify-content: center;background-color: white;position: relative;}#sk-container-id-9 div.sk-item::before, #sk-container-id-9 div.sk-parallel-item::before {content: \"\";position: absolute;border-left: 1px solid gray;box-sizing: border-box;top: 0;bottom: 0;left: 50%;z-index: -1;}#sk-container-id-9 div.sk-parallel-item {display: flex;flex-direction: column;z-index: 1;position: relative;background-color: white;}#sk-container-id-9 div.sk-parallel-item:first-child::after {align-self: flex-end;width: 50%;}#sk-container-id-9 div.sk-parallel-item:last-child::after {align-self: flex-start;width: 50%;}#sk-container-id-9 div.sk-parallel-item:only-child::after {width: 0;}#sk-container-id-9 div.sk-dashed-wrapped {border: 1px dashed gray;margin: 0 0.4em 0.5em 0.4em;box-sizing: border-box;padding-bottom: 0.4em;background-color: white;}#sk-container-id-9 div.sk-label label {font-family: monospace;font-weight: bold;display: inline-block;line-height: 1.2em;}#sk-container-id-9 div.sk-label-container {text-align: center;}#sk-container-id-9 div.sk-container {/* jupyter's `normalize.less` sets `[hidden] { display: none; }` but bootstrap.min.css set `[hidden] { display: none !important; }` so we also need the `!important` here to be able to override the default hidden behavior on the sphinx rendered scikit-learn.org. See: https://github.com/scikit-learn/scikit-learn/issues/21755 */display: inline-block !important;position: relative;}#sk-container-id-9 div.sk-text-repr-fallback {display: none;}</style><div id=\"sk-container-id-9\" class=\"sk-top-container\"><div class=\"sk-text-repr-fallback\"><pre>GridSearchCV(cv=5, estimator=RandomForestRegressor(),\n",
       "             param_grid={&#x27;max_depth&#x27;: [2, 12, 24, None],\n",
       "                         &#x27;n_estimators&#x27;: [5, 25, 50, 100]})</pre><b>In a Jupyter environment, please rerun this cell to show the HTML representation or trust the notebook. <br />On GitHub, the HTML representation is unable to render, please try loading this page with nbviewer.org.</b></div><div class=\"sk-container\" hidden><div class=\"sk-item sk-dashed-wrapped\"><div class=\"sk-label-container\"><div class=\"sk-label sk-toggleable\"><input class=\"sk-toggleable__control sk-hidden--visually\" id=\"sk-estimator-id-23\" type=\"checkbox\" ><label for=\"sk-estimator-id-23\" class=\"sk-toggleable__label sk-toggleable__label-arrow\">GridSearchCV</label><div class=\"sk-toggleable__content\"><pre>GridSearchCV(cv=5, estimator=RandomForestRegressor(),\n",
       "             param_grid={&#x27;max_depth&#x27;: [2, 12, 24, None],\n",
       "                         &#x27;n_estimators&#x27;: [5, 25, 50, 100]})</pre></div></div></div><div class=\"sk-parallel\"><div class=\"sk-parallel-item\"><div class=\"sk-item\"><div class=\"sk-label-container\"><div class=\"sk-label sk-toggleable\"><input class=\"sk-toggleable__control sk-hidden--visually\" id=\"sk-estimator-id-24\" type=\"checkbox\" ><label for=\"sk-estimator-id-24\" class=\"sk-toggleable__label sk-toggleable__label-arrow\">estimator: RandomForestRegressor</label><div class=\"sk-toggleable__content\"><pre>RandomForestRegressor()</pre></div></div></div><div class=\"sk-serial\"><div class=\"sk-item\"><div class=\"sk-estimator sk-toggleable\"><input class=\"sk-toggleable__control sk-hidden--visually\" id=\"sk-estimator-id-25\" type=\"checkbox\" ><label for=\"sk-estimator-id-25\" class=\"sk-toggleable__label sk-toggleable__label-arrow\">RandomForestRegressor</label><div class=\"sk-toggleable__content\"><pre>RandomForestRegressor()</pre></div></div></div></div></div></div></div></div></div></div>"
      ],
      "text/plain": [
       "GridSearchCV(cv=5, estimator=RandomForestRegressor(),\n",
       "             param_grid={'max_depth': [2, 12, 24, None],\n",
       "                         'n_estimators': [5, 25, 50, 100]})"
      ]
     },
     "execution_count": 53,
     "metadata": {},
     "output_type": "execute_result"
    }
   ],
   "source": [
    "GridSearchCV(cv=5, estimator=RandomForestRegressor(),\n",
    "             param_grid={'max_depth': [2, 12, 24, None],\n",
    "                         'n_estimators': [5, 25, 50, 100]})"
   ]
  },
  {
   "cell_type": "code",
   "execution_count": 54,
   "id": "3398c5f5",
   "metadata": {},
   "outputs": [
    {
     "name": "stdout",
     "output_type": "stream",
     "text": [
      "Optimal Hyperparams: {'max_depth': 2, 'n_estimators': 100}\n",
      "\n",
      "Mean -2.493 Standard Deviation 9.831 Hyperparameters {'max_depth': 2, 'n_estimators': 5}\n",
      "Mean -0.441 Standard Deviation 2.419 Hyperparameters {'max_depth': 2, 'n_estimators': 25}\n",
      "Mean -0.398 Standard Deviation 2.588 Hyperparameters {'max_depth': 2, 'n_estimators': 50}\n",
      "Mean -0.348 Standard Deviation 2.199 Hyperparameters {'max_depth': 2, 'n_estimators': 100}\n",
      "Mean -1.2 Standard Deviation 4.139 Hyperparameters {'max_depth': 12, 'n_estimators': 5}\n",
      "Mean -1.484 Standard Deviation 7.038 Hyperparameters {'max_depth': 12, 'n_estimators': 25}\n",
      "Mean -0.933 Standard Deviation 4.949 Hyperparameters {'max_depth': 12, 'n_estimators': 50}\n",
      "Mean -0.672 Standard Deviation 4.051 Hyperparameters {'max_depth': 12, 'n_estimators': 100}\n",
      "Mean -1.246 Standard Deviation 6.408 Hyperparameters {'max_depth': 24, 'n_estimators': 5}\n",
      "Mean -1.129 Standard Deviation 5.167 Hyperparameters {'max_depth': 24, 'n_estimators': 25}\n",
      "Mean -1.373 Standard Deviation 6.512 Hyperparameters {'max_depth': 24, 'n_estimators': 50}\n",
      "Mean -0.761 Standard Deviation 4.203 Hyperparameters {'max_depth': 24, 'n_estimators': 100}\n",
      "Mean -0.433 Standard Deviation 1.796 Hyperparameters {'max_depth': None, 'n_estimators': 5}\n",
      "Mean -0.493 Standard Deviation 3.001 Hyperparameters {'max_depth': None, 'n_estimators': 25}\n",
      "Mean -1.074 Standard Deviation 4.756 Hyperparameters {'max_depth': None, 'n_estimators': 50}\n",
      "Mean -1.039 Standard Deviation 5.428 Hyperparameters {'max_depth': None, 'n_estimators': 100}\n"
     ]
    }
   ],
   "source": [
    "results(cross_val)"
   ]
  },
  {
   "cell_type": "code",
   "execution_count": 55,
   "id": "118cc78d",
   "metadata": {},
   "outputs": [
    {
     "data": {
      "text/html": [
       "<style>#sk-container-id-10 {color: black;}#sk-container-id-10 pre{padding: 0;}#sk-container-id-10 div.sk-toggleable {background-color: white;}#sk-container-id-10 label.sk-toggleable__label {cursor: pointer;display: block;width: 100%;margin-bottom: 0;padding: 0.3em;box-sizing: border-box;text-align: center;}#sk-container-id-10 label.sk-toggleable__label-arrow:before {content: \"▸\";float: left;margin-right: 0.25em;color: #696969;}#sk-container-id-10 label.sk-toggleable__label-arrow:hover:before {color: black;}#sk-container-id-10 div.sk-estimator:hover label.sk-toggleable__label-arrow:before {color: black;}#sk-container-id-10 div.sk-toggleable__content {max-height: 0;max-width: 0;overflow: hidden;text-align: left;background-color: #f0f8ff;}#sk-container-id-10 div.sk-toggleable__content pre {margin: 0.2em;color: black;border-radius: 0.25em;background-color: #f0f8ff;}#sk-container-id-10 input.sk-toggleable__control:checked~div.sk-toggleable__content {max-height: 200px;max-width: 100%;overflow: auto;}#sk-container-id-10 input.sk-toggleable__control:checked~label.sk-toggleable__label-arrow:before {content: \"▾\";}#sk-container-id-10 div.sk-estimator input.sk-toggleable__control:checked~label.sk-toggleable__label {background-color: #d4ebff;}#sk-container-id-10 div.sk-label input.sk-toggleable__control:checked~label.sk-toggleable__label {background-color: #d4ebff;}#sk-container-id-10 input.sk-hidden--visually {border: 0;clip: rect(1px 1px 1px 1px);clip: rect(1px, 1px, 1px, 1px);height: 1px;margin: -1px;overflow: hidden;padding: 0;position: absolute;width: 1px;}#sk-container-id-10 div.sk-estimator {font-family: monospace;background-color: #f0f8ff;border: 1px dotted black;border-radius: 0.25em;box-sizing: border-box;margin-bottom: 0.5em;}#sk-container-id-10 div.sk-estimator:hover {background-color: #d4ebff;}#sk-container-id-10 div.sk-parallel-item::after {content: \"\";width: 100%;border-bottom: 1px solid gray;flex-grow: 1;}#sk-container-id-10 div.sk-label:hover label.sk-toggleable__label {background-color: #d4ebff;}#sk-container-id-10 div.sk-serial::before {content: \"\";position: absolute;border-left: 1px solid gray;box-sizing: border-box;top: 0;bottom: 0;left: 50%;z-index: 0;}#sk-container-id-10 div.sk-serial {display: flex;flex-direction: column;align-items: center;background-color: white;padding-right: 0.2em;padding-left: 0.2em;position: relative;}#sk-container-id-10 div.sk-item {position: relative;z-index: 1;}#sk-container-id-10 div.sk-parallel {display: flex;align-items: stretch;justify-content: center;background-color: white;position: relative;}#sk-container-id-10 div.sk-item::before, #sk-container-id-10 div.sk-parallel-item::before {content: \"\";position: absolute;border-left: 1px solid gray;box-sizing: border-box;top: 0;bottom: 0;left: 50%;z-index: -1;}#sk-container-id-10 div.sk-parallel-item {display: flex;flex-direction: column;z-index: 1;position: relative;background-color: white;}#sk-container-id-10 div.sk-parallel-item:first-child::after {align-self: flex-end;width: 50%;}#sk-container-id-10 div.sk-parallel-item:last-child::after {align-self: flex-start;width: 50%;}#sk-container-id-10 div.sk-parallel-item:only-child::after {width: 0;}#sk-container-id-10 div.sk-dashed-wrapped {border: 1px dashed gray;margin: 0 0.4em 0.5em 0.4em;box-sizing: border-box;padding-bottom: 0.4em;background-color: white;}#sk-container-id-10 div.sk-label label {font-family: monospace;font-weight: bold;display: inline-block;line-height: 1.2em;}#sk-container-id-10 div.sk-label-container {text-align: center;}#sk-container-id-10 div.sk-container {/* jupyter's `normalize.less` sets `[hidden] { display: none; }` but bootstrap.min.css set `[hidden] { display: none !important; }` so we also need the `!important` here to be able to override the default hidden behavior on the sphinx rendered scikit-learn.org. See: https://github.com/scikit-learn/scikit-learn/issues/21755 */display: inline-block !important;position: relative;}#sk-container-id-10 div.sk-text-repr-fallback {display: none;}</style><div id=\"sk-container-id-10\" class=\"sk-top-container\"><div class=\"sk-text-repr-fallback\"><pre>RandomForestRegressor(max_depth=2, n_estimators=50)</pre><b>In a Jupyter environment, please rerun this cell to show the HTML representation or trust the notebook. <br />On GitHub, the HTML representation is unable to render, please try loading this page with nbviewer.org.</b></div><div class=\"sk-container\" hidden><div class=\"sk-item\"><div class=\"sk-estimator sk-toggleable\"><input class=\"sk-toggleable__control sk-hidden--visually\" id=\"sk-estimator-id-26\" type=\"checkbox\" checked><label for=\"sk-estimator-id-26\" class=\"sk-toggleable__label sk-toggleable__label-arrow\">RandomForestRegressor</label><div class=\"sk-toggleable__content\"><pre>RandomForestRegressor(max_depth=2, n_estimators=50)</pre></div></div></div></div></div>"
      ],
      "text/plain": [
       "RandomForestRegressor(max_depth=2, n_estimators=50)"
      ]
     },
     "execution_count": 55,
     "metadata": {},
     "output_type": "execute_result"
    }
   ],
   "source": [
    "rf1 = RandomForestRegressor(n_estimators=5, max_depth=None)\n",
    "rf1.fit(train_features, train_labels.values.ravel())\n",
    "\n",
    "rf2 = RandomForestRegressor(n_estimators=25, max_depth=2)\n",
    "rf2.fit(train_features, train_labels.values.ravel())\n",
    "\n",
    "rf3 = RandomForestRegressor(n_estimators=50, max_depth=2)\n",
    "rf3.fit(train_features, train_labels.values.ravel())"
   ]
  },
  {
   "cell_type": "markdown",
   "id": "5946d83e",
   "metadata": {},
   "source": [
    "Эволюция модели"
   ]
  },
  {
   "cell_type": "code",
   "execution_count": 56,
   "id": "dacd3725",
   "metadata": {},
   "outputs": [
    {
     "name": "stdout",
     "output_type": "stream",
     "text": [
      "Max Depth: None || Estimators: 5 || MSE: 85051.2301 || R-squared: -0.1460 || MAE: 50.7586 || RMSE: 291.6354\n",
      "Max Depth: 2 || Estimators: 25 || MSE: 74029.1117 || R-squared: 0.0025 || MAE: 53.5043 || RMSE: 272.0829\n",
      "Max Depth: 2 || Estimators: 50 || MSE: 75502.6924 || R-squared: -0.0173 || MAE: 54.6396 || RMSE: 274.7775\n"
     ]
    }
   ],
   "source": [
    "for mdl in [rf1, rf2, rf3]:\n",
    "    y_pred = mdl.predict(val_features)\n",
    "    mse = mean_squared_error(val_labels, y_pred)\n",
    "    r2 = r2_score(val_labels, y_pred)\n",
    "    mae = mean_absolute_error(val_labels, y_pred)\n",
    "    rmse = np.sqrt(mse) \n",
    "    \n",
    "    print('Max Depth: {} || Estimators: {} || MSE: {:.4f} || R-squared: {:.4f} || MAE: {:.4f} || RMSE: {:.4f}'.format(\n",
    "        mdl.max_depth, mdl.n_estimators, mse, r2, mae, rmse))"
   ]
  },
  {
   "cell_type": "code",
   "execution_count": 57,
   "id": "9396842e",
   "metadata": {},
   "outputs": [
    {
     "name": "stdout",
     "output_type": "stream",
     "text": [
      "Max Depth: None || Estimators: 5 || MSE: 33984.9601 || R-squared: -0.2136 || MAE: 81.1415 || RMSE: 184.3501\n"
     ]
    }
   ],
   "source": [
    "y_pred = mdl.predict(val_features)\n",
    "mse = mean_squared_error(test_labels, y_pred)\n",
    "r2 = r2_score(test_labels, y_pred)\n",
    "mae = mean_absolute_error(test_labels, y_pred)\n",
    "rmse = np.sqrt(mse)  # RMSE is the square root of MSE\n",
    "    \n",
    "print('Max Depth: {} || Estimators: {} || MSE: {:.4f} || R-squared: {:.4f} || MAE: {:.4f} || RMSE: {:.4f}'.format(\n",
    "        rf1.max_depth, rf1.n_estimators, mse, r2, mae, rmse))"
   ]
  },
  {
   "cell_type": "code",
   "execution_count": 58,
   "id": "e8fda077",
   "metadata": {},
   "outputs": [
    {
     "data": {
      "text/html": [
       "<div>\n",
       "<style scoped>\n",
       "    .dataframe tbody tr th:only-of-type {\n",
       "        vertical-align: middle;\n",
       "    }\n",
       "\n",
       "    .dataframe tbody tr th {\n",
       "        vertical-align: top;\n",
       "    }\n",
       "\n",
       "    .dataframe thead th {\n",
       "        text-align: right;\n",
       "    }\n",
       "</style>\n",
       "<table border=\"1\" class=\"dataframe\">\n",
       "  <thead>\n",
       "    <tr style=\"text-align: right;\">\n",
       "      <th></th>\n",
       "      <th>Km</th>\n",
       "      <th>X</th>\n",
       "      <th>IR</th>\n",
       "      <th>pot2</th>\n",
       "      <th>ph</th>\n",
       "      <th>temp</th>\n",
       "      <th>dstr</th>\n",
       "      <th>cryst</th>\n",
       "      <th>lgCmin</th>\n",
       "      <th>lgCmax</th>\n",
       "      <th>...</th>\n",
       "      <th>Kappa2_log</th>\n",
       "      <th>EState_VSA6_log</th>\n",
       "      <th>EState_VSA4_log</th>\n",
       "      <th>SMR_VSA7_log</th>\n",
       "      <th>Complexity1_log</th>\n",
       "      <th>TPSA_log</th>\n",
       "      <th>TPSA1_log</th>\n",
       "      <th>TPSA2_log</th>\n",
       "      <th>MaxEStateIndex.1_log</th>\n",
       "      <th>MaxEStateIndex.2_log</th>\n",
       "    </tr>\n",
       "  </thead>\n",
       "  <tbody>\n",
       "    <tr>\n",
       "      <th>count</th>\n",
       "      <td>1120.000000</td>\n",
       "      <td>1120.000000</td>\n",
       "      <td>1120.000000</td>\n",
       "      <td>1120.000000</td>\n",
       "      <td>1120.000000</td>\n",
       "      <td>1120.000000</td>\n",
       "      <td>1120.000000</td>\n",
       "      <td>1120.000000</td>\n",
       "      <td>1120.000000</td>\n",
       "      <td>1120.000000</td>\n",
       "      <td>...</td>\n",
       "      <td>1120.000000</td>\n",
       "      <td>1120.000000</td>\n",
       "      <td>1120.000000</td>\n",
       "      <td>1120.000000</td>\n",
       "      <td>1120.000000</td>\n",
       "      <td>1120.000000</td>\n",
       "      <td>1120.000000</td>\n",
       "      <td>1120.000000</td>\n",
       "      <td>1120.000000</td>\n",
       "      <td>1120.000000</td>\n",
       "    </tr>\n",
       "    <tr>\n",
       "      <th>mean</th>\n",
       "      <td>42.729274</td>\n",
       "      <td>2.534484</td>\n",
       "      <td>1.207227</td>\n",
       "      <td>0.281523</td>\n",
       "      <td>4.526969</td>\n",
       "      <td>33.173750</td>\n",
       "      <td>2.703571</td>\n",
       "      <td>5.983393</td>\n",
       "      <td>-1.289112</td>\n",
       "      <td>0.524355</td>\n",
       "      <td>...</td>\n",
       "      <td>1.035303</td>\n",
       "      <td>0.558000</td>\n",
       "      <td>0.930547</td>\n",
       "      <td>0.926984</td>\n",
       "      <td>2.988612</td>\n",
       "      <td>2.326087</td>\n",
       "      <td>3.932550</td>\n",
       "      <td>3.833522</td>\n",
       "      <td>1.794193</td>\n",
       "      <td>1.502810</td>\n",
       "    </tr>\n",
       "    <tr>\n",
       "      <th>std</th>\n",
       "      <td>191.919177</td>\n",
       "      <td>0.269944</td>\n",
       "      <td>0.178046</td>\n",
       "      <td>0.571944</td>\n",
       "      <td>1.203239</td>\n",
       "      <td>9.404625</td>\n",
       "      <td>0.656027</td>\n",
       "      <td>1.664337</td>\n",
       "      <td>1.403177</td>\n",
       "      <td>1.211070</td>\n",
       "      <td>...</td>\n",
       "      <td>1.299299</td>\n",
       "      <td>1.045894</td>\n",
       "      <td>1.228008</td>\n",
       "      <td>1.366343</td>\n",
       "      <td>2.683901</td>\n",
       "      <td>2.262861</td>\n",
       "      <td>0.486101</td>\n",
       "      <td>0.214840</td>\n",
       "      <td>0.254166</td>\n",
       "      <td>0.678240</td>\n",
       "    </tr>\n",
       "    <tr>\n",
       "      <th>min</th>\n",
       "      <td>0.000100</td>\n",
       "      <td>1.830000</td>\n",
       "      <td>0.700000</td>\n",
       "      <td>-1.358000</td>\n",
       "      <td>2.000000</td>\n",
       "      <td>15.000000</td>\n",
       "      <td>1.000000</td>\n",
       "      <td>0.000000</td>\n",
       "      <td>-4.000000</td>\n",
       "      <td>-4.000000</td>\n",
       "      <td>...</td>\n",
       "      <td>-1.579078</td>\n",
       "      <td>0.000000</td>\n",
       "      <td>0.000000</td>\n",
       "      <td>0.000000</td>\n",
       "      <td>0.000000</td>\n",
       "      <td>0.000000</td>\n",
       "      <td>3.701302</td>\n",
       "      <td>3.701302</td>\n",
       "      <td>0.000000</td>\n",
       "      <td>0.000000</td>\n",
       "    </tr>\n",
       "    <tr>\n",
       "      <th>25%</th>\n",
       "      <td>0.112000</td>\n",
       "      <td>2.280000</td>\n",
       "      <td>1.084000</td>\n",
       "      <td>-0.084100</td>\n",
       "      <td>4.000000</td>\n",
       "      <td>25.000000</td>\n",
       "      <td>3.000000</td>\n",
       "      <td>5.800000</td>\n",
       "      <td>-2.301030</td>\n",
       "      <td>-0.221849</td>\n",
       "      <td>...</td>\n",
       "      <td>0.000000</td>\n",
       "      <td>0.000000</td>\n",
       "      <td>0.000000</td>\n",
       "      <td>0.000000</td>\n",
       "      <td>0.000000</td>\n",
       "      <td>0.000000</td>\n",
       "      <td>3.701302</td>\n",
       "      <td>3.701302</td>\n",
       "      <td>1.790549</td>\n",
       "      <td>1.790549</td>\n",
       "    </tr>\n",
       "    <tr>\n",
       "      <th>50%</th>\n",
       "      <td>0.450000</td>\n",
       "      <td>2.614400</td>\n",
       "      <td>1.217200</td>\n",
       "      <td>0.067650</td>\n",
       "      <td>4.000000</td>\n",
       "      <td>31.000000</td>\n",
       "      <td>3.000000</td>\n",
       "      <td>7.000000</td>\n",
       "      <td>-1.301030</td>\n",
       "      <td>0.195609</td>\n",
       "      <td>...</td>\n",
       "      <td>0.686741</td>\n",
       "      <td>0.000000</td>\n",
       "      <td>0.000000</td>\n",
       "      <td>0.000000</td>\n",
       "      <td>5.420535</td>\n",
       "      <td>3.011113</td>\n",
       "      <td>3.951244</td>\n",
       "      <td>3.701302</td>\n",
       "      <td>1.790549</td>\n",
       "      <td>1.790549</td>\n",
       "    </tr>\n",
       "    <tr>\n",
       "      <th>75%</th>\n",
       "      <td>6.432250</td>\n",
       "      <td>2.750000</td>\n",
       "      <td>1.320000</td>\n",
       "      <td>0.662200</td>\n",
       "      <td>4.500000</td>\n",
       "      <td>40.000000</td>\n",
       "      <td>3.000000</td>\n",
       "      <td>7.000000</td>\n",
       "      <td>-0.301030</td>\n",
       "      <td>1.380211</td>\n",
       "      <td>...</td>\n",
       "      <td>1.934395</td>\n",
       "      <td>0.000000</td>\n",
       "      <td>2.552693</td>\n",
       "      <td>2.538049</td>\n",
       "      <td>5.420535</td>\n",
       "      <td>4.462915</td>\n",
       "      <td>3.951244</td>\n",
       "      <td>3.951244</td>\n",
       "      <td>1.791759</td>\n",
       "      <td>1.791759</td>\n",
       "    </tr>\n",
       "    <tr>\n",
       "      <th>max</th>\n",
       "      <td>3820.000000</td>\n",
       "      <td>3.170000</td>\n",
       "      <td>1.710000</td>\n",
       "      <td>1.690000</td>\n",
       "      <td>10.000000</td>\n",
       "      <td>90.000000</td>\n",
       "      <td>3.000000</td>\n",
       "      <td>7.000000</td>\n",
       "      <td>2.944483</td>\n",
       "      <td>3.354108</td>\n",
       "      <td>...</td>\n",
       "      <td>5.552913</td>\n",
       "      <td>4.756298</td>\n",
       "      <td>4.433535</td>\n",
       "      <td>5.175934</td>\n",
       "      <td>6.190315</td>\n",
       "      <td>7.051345</td>\n",
       "      <td>6.783325</td>\n",
       "      <td>6.783325</td>\n",
       "      <td>2.496743</td>\n",
       "      <td>2.521040</td>\n",
       "    </tr>\n",
       "  </tbody>\n",
       "</table>\n",
       "<p>8 rows × 36 columns</p>\n",
       "</div>"
      ],
      "text/plain": [
       "                Km            X           IR         pot2           ph  \\\n",
       "count  1120.000000  1120.000000  1120.000000  1120.000000  1120.000000   \n",
       "mean     42.729274     2.534484     1.207227     0.281523     4.526969   \n",
       "std     191.919177     0.269944     0.178046     0.571944     1.203239   \n",
       "min       0.000100     1.830000     0.700000    -1.358000     2.000000   \n",
       "25%       0.112000     2.280000     1.084000    -0.084100     4.000000   \n",
       "50%       0.450000     2.614400     1.217200     0.067650     4.000000   \n",
       "75%       6.432250     2.750000     1.320000     0.662200     4.500000   \n",
       "max    3820.000000     3.170000     1.710000     1.690000    10.000000   \n",
       "\n",
       "              temp         dstr        cryst       lgCmin       lgCmax  ...  \\\n",
       "count  1120.000000  1120.000000  1120.000000  1120.000000  1120.000000  ...   \n",
       "mean     33.173750     2.703571     5.983393    -1.289112     0.524355  ...   \n",
       "std       9.404625     0.656027     1.664337     1.403177     1.211070  ...   \n",
       "min      15.000000     1.000000     0.000000    -4.000000    -4.000000  ...   \n",
       "25%      25.000000     3.000000     5.800000    -2.301030    -0.221849  ...   \n",
       "50%      31.000000     3.000000     7.000000    -1.301030     0.195609  ...   \n",
       "75%      40.000000     3.000000     7.000000    -0.301030     1.380211  ...   \n",
       "max      90.000000     3.000000     7.000000     2.944483     3.354108  ...   \n",
       "\n",
       "        Kappa2_log  EState_VSA6_log  EState_VSA4_log  SMR_VSA7_log  \\\n",
       "count  1120.000000      1120.000000      1120.000000   1120.000000   \n",
       "mean      1.035303         0.558000         0.930547      0.926984   \n",
       "std       1.299299         1.045894         1.228008      1.366343   \n",
       "min      -1.579078         0.000000         0.000000      0.000000   \n",
       "25%       0.000000         0.000000         0.000000      0.000000   \n",
       "50%       0.686741         0.000000         0.000000      0.000000   \n",
       "75%       1.934395         0.000000         2.552693      2.538049   \n",
       "max       5.552913         4.756298         4.433535      5.175934   \n",
       "\n",
       "       Complexity1_log     TPSA_log    TPSA1_log    TPSA2_log  \\\n",
       "count      1120.000000  1120.000000  1120.000000  1120.000000   \n",
       "mean          2.988612     2.326087     3.932550     3.833522   \n",
       "std           2.683901     2.262861     0.486101     0.214840   \n",
       "min           0.000000     0.000000     3.701302     3.701302   \n",
       "25%           0.000000     0.000000     3.701302     3.701302   \n",
       "50%           5.420535     3.011113     3.951244     3.701302   \n",
       "75%           5.420535     4.462915     3.951244     3.951244   \n",
       "max           6.190315     7.051345     6.783325     6.783325   \n",
       "\n",
       "       MaxEStateIndex.1_log  MaxEStateIndex.2_log  \n",
       "count           1120.000000           1120.000000  \n",
       "mean               1.794193              1.502810  \n",
       "std                0.254166              0.678240  \n",
       "min                0.000000              0.000000  \n",
       "25%                1.790549              1.790549  \n",
       "50%                1.790549              1.790549  \n",
       "75%                1.791759              1.791759  \n",
       "max                2.496743              2.521040  \n",
       "\n",
       "[8 rows x 36 columns]"
      ]
     },
     "execution_count": 58,
     "metadata": {},
     "output_type": "execute_result"
    }
   ],
   "source": [
    "df.describe()"
   ]
  },
  {
   "cell_type": "markdown",
   "id": "c5f9dbf9",
   "metadata": {},
   "source": [
    "Определяю верхний и нижний порог для выбросов, с использованием межквартильного размаха. Считываю выбросы для каждого столбца."
   ]
  },
  {
   "cell_type": "code",
   "execution_count": 59,
   "id": "7cb667df",
   "metadata": {},
   "outputs": [],
   "source": [
    "\n",
    "Q1 = df.quantile(0.25)\n",
    "Q3 = df.quantile(0.75)\n",
    "IQR = Q3 - Q1\n",
    "lower_bound = Q1 - 1.5 * IQR\n",
    "upper_bound = Q3 + 1.5 * IQR\n",
    "\n",
    "outliers = ((df < lower_bound) | (df > upper_bound)).sum()\n",
    "outliers = outliers.sort_values(ascending=False)"
   ]
  },
  {
   "cell_type": "code",
   "execution_count": 60,
   "id": "9650e8d5",
   "metadata": {},
   "outputs": [
    {
     "data": {
      "text/plain": [
       "XLogP                   257\n",
       "EState_VSA6_log         255\n",
       "Sufrace                 238\n",
       "VSA_EState4             227\n",
       "ph                      227\n",
       "MaxEStateIndex.2_log    215\n",
       "Km                      214\n",
       "dstr                    208\n",
       "MinAbsEStateIndex       174\n",
       "cryst                   128\n",
       "MaxEStateIndex.1_log     95\n",
       "VSA_EState8              48\n",
       "MinPartialCharge.1       46\n",
       "lgCconst                 45\n",
       "TPSA1_log                44\n",
       "lgCcat                   43\n",
       "IR                       35\n",
       "MinEStateIndex           31\n",
       "TPSA2_log                13\n",
       "PEOE_VSA9_log            12\n",
       "lgvolume                 10\n",
       "MinPartialCharge          8\n",
       "pot2                      7\n",
       "lgCmax                    7\n",
       "Kappa2_log                6\n",
       "temp                      4\n",
       "lgCmin                    1\n",
       "PEOE_VSA8_log             0\n",
       "EState_VSA4_log           0\n",
       "SMR_VSA7_log              0\n",
       "Complexity1_log           0\n",
       "TPSA_log                  0\n",
       "polym                     0\n",
       "X                         0\n",
       "BalabanJ                  0\n",
       "BCUT2D_CHGLO              0\n",
       "dtype: int64"
      ]
     },
     "execution_count": 60,
     "metadata": {},
     "output_type": "execute_result"
    }
   ],
   "source": [
    "outliers"
   ]
  },
  {
   "cell_type": "code",
   "execution_count": 61,
   "id": "91a3a631",
   "metadata": {},
   "outputs": [
    {
     "data": {
      "text/plain": [
       "(1120, 36)"
      ]
     },
     "execution_count": 61,
     "metadata": {},
     "output_type": "execute_result"
    }
   ],
   "source": [
    "df.shape"
   ]
  },
  {
   "cell_type": "code",
   "execution_count": 62,
   "id": "6cc01aae",
   "metadata": {},
   "outputs": [],
   "source": [
    "df = del_quantil(df, 'XLogP')"
   ]
  },
  {
   "cell_type": "code",
   "execution_count": 63,
   "id": "1dfdcb64",
   "metadata": {},
   "outputs": [
    {
     "data": {
      "text/plain": [
       "XLogP                   257\n",
       "EState_VSA6_log         255\n",
       "Sufrace                 238\n",
       "VSA_EState4             227\n",
       "ph                      227\n",
       "MaxEStateIndex.2_log    215\n",
       "Km                      214\n",
       "dstr                    208\n",
       "MinAbsEStateIndex       174\n",
       "cryst                   128\n",
       "MaxEStateIndex.1_log     95\n",
       "VSA_EState8              48\n",
       "MinPartialCharge.1       46\n",
       "lgCconst                 45\n",
       "TPSA1_log                44\n",
       "lgCcat                   43\n",
       "IR                       35\n",
       "MinEStateIndex           31\n",
       "TPSA2_log                13\n",
       "PEOE_VSA9_log            12\n",
       "lgvolume                 10\n",
       "MinPartialCharge          8\n",
       "pot2                      7\n",
       "lgCmax                    7\n",
       "Kappa2_log                6\n",
       "temp                      4\n",
       "lgCmin                    1\n",
       "PEOE_VSA8_log             0\n",
       "EState_VSA4_log           0\n",
       "SMR_VSA7_log              0\n",
       "Complexity1_log           0\n",
       "TPSA_log                  0\n",
       "polym                     0\n",
       "X                         0\n",
       "BalabanJ                  0\n",
       "BCUT2D_CHGLO              0\n",
       "dtype: int64"
      ]
     },
     "execution_count": 63,
     "metadata": {},
     "output_type": "execute_result"
    }
   ],
   "source": [
    "outliers"
   ]
  },
  {
   "cell_type": "code",
   "execution_count": null,
   "id": "65c88b66",
   "metadata": {},
   "outputs": [],
   "source": []
  }
 ],
 "metadata": {
  "kernelspec": {
   "display_name": "Python 3 (ipykernel)",
   "language": "python",
   "name": "python3"
  },
  "language_info": {
   "codemirror_mode": {
    "name": "ipython",
    "version": 3
   },
   "file_extension": ".py",
   "mimetype": "text/x-python",
   "name": "python",
   "nbconvert_exporter": "python",
   "pygments_lexer": "ipython3",
   "version": "3.11.5"
  }
 },
 "nbformat": 4,
 "nbformat_minor": 5
}
