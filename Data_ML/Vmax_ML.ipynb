{
 "cells": [
  {
   "cell_type": "code",
   "execution_count": 6,
   "id": "initial_id",
   "metadata": {
    "collapsed": true,
    "ExecuteTime": {
     "end_time": "2023-10-17T09:39:20.993644300Z",
     "start_time": "2023-10-17T09:39:20.985573100Z"
    }
   },
   "outputs": [],
   "source": [
    "import pandas as pd\n",
    "import numpy as np\n",
    "import seaborn as sns\n",
    "import matplotlib.pyplot as plt\n",
    "from scipy import stats\n",
    "from sklearn.impute import KNNImputer"
   ]
  },
  {
   "cell_type": "code",
   "execution_count": 7,
   "outputs": [],
   "source": [
    "from sklearn.model_selection import train_test_split, cross_val_score, GridSearchCV\n",
    "from sklearn.ensemble import RandomForestRegressor\n",
    "from sklearn.metrics import mean_squared_error, r2_score, mean_absolute_error"
   ],
   "metadata": {
    "collapsed": false,
    "ExecuteTime": {
     "end_time": "2023-10-17T09:39:21.002128Z",
     "start_time": "2023-10-17T09:39:20.988803100Z"
    }
   },
   "id": "f5ba4f6d0b7e6f31"
  },
  {
   "cell_type": "code",
   "execution_count": 8,
   "outputs": [],
   "source": [
    "df = pd.read_csv(\"../Data_Preprocessing/df_nnz_Vmax_clean.csv\")"
   ],
   "metadata": {
    "collapsed": false,
    "ExecuteTime": {
     "end_time": "2023-10-17T09:39:21.007454600Z",
     "start_time": "2023-10-17T09:39:20.996153400Z"
    }
   },
   "id": "f85ce22b24155b17"
  },
  {
   "cell_type": "code",
   "execution_count": 9,
   "outputs": [
    {
     "data": {
      "text/plain": "          X     IR  pot2    ph  temp  dstr  cryst    lgCmin    lgCmax  \\\n0     2.757  1.071 -0.05  4.00  37.0     3    7.0  0.176091  0.176091   \n1     2.757  1.071 -0.05  4.00  37.0     3    7.0  0.176091  0.176091   \n2     2.757  1.071 -0.05  4.00  37.0     3    7.0 -0.301030  1.397940   \n3     2.757  1.071 -0.05  4.00  37.0     3    7.0 -0.301030  1.397940   \n4     2.757  1.071 -0.05  4.00  37.0     3    7.0 -0.698970  2.000000   \n...     ...    ...   ...   ...   ...   ...    ...       ...       ...   \n1054  2.280  1.350  1.20  7.00  41.4     3    6.8 -1.221849 -0.619789   \n1055  2.280  1.350  1.20  3.00  33.0     1    6.8 -2.000000 -0.795880   \n1056  2.280  1.350  1.20  7.00  33.0     1    6.8 -1.221849 -0.619789   \n1057  1.937  0.853  0.78  4.00  42.4     1    6.8 -2.000000 -0.221849   \n1058  2.200  0.730  0.83  4.24  47.0     3    7.0  0.698970  2.000000   \n\n      lgCconst  ...  EState_VSA6_log  EState_VSA4_log  SMR_VSA7_log  \\\n0     2.000000  ...         0.500000         2.552693      2.497497   \n1     2.000000  ...         0.500000         2.552693      2.497497   \n2     2.000000  ...         0.500000         2.552693      2.497497   \n3     2.000000  ...         0.500000         2.552693      2.497497   \n4     1.176091  ...         0.500000         2.552693      2.497497   \n...        ...  ...              ...              ...           ...   \n1054  0.000000  ...         0.500000         0.000000      0.000000   \n1055  0.000000  ...         0.960420         3.402360      4.785979   \n1056  0.000000  ...         0.960420         3.402360      4.785979   \n1057  0.000000  ...         0.500000         0.000000      0.000000   \n1058  0.000000  ...         0.917354         2.562298      3.190362   \n\n      Complexity1_log  TPSA_log  TPSA1_log  TPSA2_log  MaxEStateIndex.1_log  \\\n0            5.420535  3.618993   3.951244   3.701302              1.790549   \n1            5.420535  3.618993   3.951244   3.701302              1.790549   \n2            0.000000  3.618993   3.701302   3.951244              1.791759   \n3            0.000000  3.618993   3.701302   3.951244              1.791759   \n4            5.420535  3.618993   3.951244   3.701302              1.790549   \n...               ...       ...        ...        ...                   ...   \n1054         5.420535  4.883786   3.951244   3.823847              1.790549   \n1055         5.420535  5.928924   3.951244   3.701302              1.790549   \n1056         5.420535  5.928924   3.951244   3.701302              1.790549   \n1057         5.420535  3.401197   3.951244   3.823847              1.790549   \n1058         5.197391  4.848352   3.906005   3.858622              0.000000   \n\n      MaxEStateIndex.2_log   Vmaxlog  \n0                 1.791759  0.138713  \n1                 1.791759 -0.577903  \n2                 1.790549  0.922362  \n3                 1.790549 -0.358328  \n4                 1.791759  0.011655  \n...                    ...       ...  \n1054              0.000000 -5.821023  \n1055              0.000000 -3.598599  \n1056              0.000000 -3.752027  \n1057              0.000000 -4.389340  \n1058              0.000000 -2.657577  \n\n[1059 rows x 36 columns]",
      "text/html": "<div>\n<style scoped>\n    .dataframe tbody tr th:only-of-type {\n        vertical-align: middle;\n    }\n\n    .dataframe tbody tr th {\n        vertical-align: top;\n    }\n\n    .dataframe thead th {\n        text-align: right;\n    }\n</style>\n<table border=\"1\" class=\"dataframe\">\n  <thead>\n    <tr style=\"text-align: right;\">\n      <th></th>\n      <th>X</th>\n      <th>IR</th>\n      <th>pot2</th>\n      <th>ph</th>\n      <th>temp</th>\n      <th>dstr</th>\n      <th>cryst</th>\n      <th>lgCmin</th>\n      <th>lgCmax</th>\n      <th>lgCconst</th>\n      <th>...</th>\n      <th>EState_VSA6_log</th>\n      <th>EState_VSA4_log</th>\n      <th>SMR_VSA7_log</th>\n      <th>Complexity1_log</th>\n      <th>TPSA_log</th>\n      <th>TPSA1_log</th>\n      <th>TPSA2_log</th>\n      <th>MaxEStateIndex.1_log</th>\n      <th>MaxEStateIndex.2_log</th>\n      <th>Vmaxlog</th>\n    </tr>\n  </thead>\n  <tbody>\n    <tr>\n      <th>0</th>\n      <td>2.757</td>\n      <td>1.071</td>\n      <td>-0.05</td>\n      <td>4.00</td>\n      <td>37.0</td>\n      <td>3</td>\n      <td>7.0</td>\n      <td>0.176091</td>\n      <td>0.176091</td>\n      <td>2.000000</td>\n      <td>...</td>\n      <td>0.500000</td>\n      <td>2.552693</td>\n      <td>2.497497</td>\n      <td>5.420535</td>\n      <td>3.618993</td>\n      <td>3.951244</td>\n      <td>3.701302</td>\n      <td>1.790549</td>\n      <td>1.791759</td>\n      <td>0.138713</td>\n    </tr>\n    <tr>\n      <th>1</th>\n      <td>2.757</td>\n      <td>1.071</td>\n      <td>-0.05</td>\n      <td>4.00</td>\n      <td>37.0</td>\n      <td>3</td>\n      <td>7.0</td>\n      <td>0.176091</td>\n      <td>0.176091</td>\n      <td>2.000000</td>\n      <td>...</td>\n      <td>0.500000</td>\n      <td>2.552693</td>\n      <td>2.497497</td>\n      <td>5.420535</td>\n      <td>3.618993</td>\n      <td>3.951244</td>\n      <td>3.701302</td>\n      <td>1.790549</td>\n      <td>1.791759</td>\n      <td>-0.577903</td>\n    </tr>\n    <tr>\n      <th>2</th>\n      <td>2.757</td>\n      <td>1.071</td>\n      <td>-0.05</td>\n      <td>4.00</td>\n      <td>37.0</td>\n      <td>3</td>\n      <td>7.0</td>\n      <td>-0.301030</td>\n      <td>1.397940</td>\n      <td>2.000000</td>\n      <td>...</td>\n      <td>0.500000</td>\n      <td>2.552693</td>\n      <td>2.497497</td>\n      <td>0.000000</td>\n      <td>3.618993</td>\n      <td>3.701302</td>\n      <td>3.951244</td>\n      <td>1.791759</td>\n      <td>1.790549</td>\n      <td>0.922362</td>\n    </tr>\n    <tr>\n      <th>3</th>\n      <td>2.757</td>\n      <td>1.071</td>\n      <td>-0.05</td>\n      <td>4.00</td>\n      <td>37.0</td>\n      <td>3</td>\n      <td>7.0</td>\n      <td>-0.301030</td>\n      <td>1.397940</td>\n      <td>2.000000</td>\n      <td>...</td>\n      <td>0.500000</td>\n      <td>2.552693</td>\n      <td>2.497497</td>\n      <td>0.000000</td>\n      <td>3.618993</td>\n      <td>3.701302</td>\n      <td>3.951244</td>\n      <td>1.791759</td>\n      <td>1.790549</td>\n      <td>-0.358328</td>\n    </tr>\n    <tr>\n      <th>4</th>\n      <td>2.757</td>\n      <td>1.071</td>\n      <td>-0.05</td>\n      <td>4.00</td>\n      <td>37.0</td>\n      <td>3</td>\n      <td>7.0</td>\n      <td>-0.698970</td>\n      <td>2.000000</td>\n      <td>1.176091</td>\n      <td>...</td>\n      <td>0.500000</td>\n      <td>2.552693</td>\n      <td>2.497497</td>\n      <td>5.420535</td>\n      <td>3.618993</td>\n      <td>3.951244</td>\n      <td>3.701302</td>\n      <td>1.790549</td>\n      <td>1.791759</td>\n      <td>0.011655</td>\n    </tr>\n    <tr>\n      <th>...</th>\n      <td>...</td>\n      <td>...</td>\n      <td>...</td>\n      <td>...</td>\n      <td>...</td>\n      <td>...</td>\n      <td>...</td>\n      <td>...</td>\n      <td>...</td>\n      <td>...</td>\n      <td>...</td>\n      <td>...</td>\n      <td>...</td>\n      <td>...</td>\n      <td>...</td>\n      <td>...</td>\n      <td>...</td>\n      <td>...</td>\n      <td>...</td>\n      <td>...</td>\n      <td>...</td>\n    </tr>\n    <tr>\n      <th>1054</th>\n      <td>2.280</td>\n      <td>1.350</td>\n      <td>1.20</td>\n      <td>7.00</td>\n      <td>41.4</td>\n      <td>3</td>\n      <td>6.8</td>\n      <td>-1.221849</td>\n      <td>-0.619789</td>\n      <td>0.000000</td>\n      <td>...</td>\n      <td>0.500000</td>\n      <td>0.000000</td>\n      <td>0.000000</td>\n      <td>5.420535</td>\n      <td>4.883786</td>\n      <td>3.951244</td>\n      <td>3.823847</td>\n      <td>1.790549</td>\n      <td>0.000000</td>\n      <td>-5.821023</td>\n    </tr>\n    <tr>\n      <th>1055</th>\n      <td>2.280</td>\n      <td>1.350</td>\n      <td>1.20</td>\n      <td>3.00</td>\n      <td>33.0</td>\n      <td>1</td>\n      <td>6.8</td>\n      <td>-2.000000</td>\n      <td>-0.795880</td>\n      <td>0.000000</td>\n      <td>...</td>\n      <td>0.960420</td>\n      <td>3.402360</td>\n      <td>4.785979</td>\n      <td>5.420535</td>\n      <td>5.928924</td>\n      <td>3.951244</td>\n      <td>3.701302</td>\n      <td>1.790549</td>\n      <td>0.000000</td>\n      <td>-3.598599</td>\n    </tr>\n    <tr>\n      <th>1056</th>\n      <td>2.280</td>\n      <td>1.350</td>\n      <td>1.20</td>\n      <td>7.00</td>\n      <td>33.0</td>\n      <td>1</td>\n      <td>6.8</td>\n      <td>-1.221849</td>\n      <td>-0.619789</td>\n      <td>0.000000</td>\n      <td>...</td>\n      <td>0.960420</td>\n      <td>3.402360</td>\n      <td>4.785979</td>\n      <td>5.420535</td>\n      <td>5.928924</td>\n      <td>3.951244</td>\n      <td>3.701302</td>\n      <td>1.790549</td>\n      <td>0.000000</td>\n      <td>-3.752027</td>\n    </tr>\n    <tr>\n      <th>1057</th>\n      <td>1.937</td>\n      <td>0.853</td>\n      <td>0.78</td>\n      <td>4.00</td>\n      <td>42.4</td>\n      <td>1</td>\n      <td>6.8</td>\n      <td>-2.000000</td>\n      <td>-0.221849</td>\n      <td>0.000000</td>\n      <td>...</td>\n      <td>0.500000</td>\n      <td>0.000000</td>\n      <td>0.000000</td>\n      <td>5.420535</td>\n      <td>3.401197</td>\n      <td>3.951244</td>\n      <td>3.823847</td>\n      <td>1.790549</td>\n      <td>0.000000</td>\n      <td>-4.389340</td>\n    </tr>\n    <tr>\n      <th>1058</th>\n      <td>2.200</td>\n      <td>0.730</td>\n      <td>0.83</td>\n      <td>4.24</td>\n      <td>47.0</td>\n      <td>3</td>\n      <td>7.0</td>\n      <td>0.698970</td>\n      <td>2.000000</td>\n      <td>0.000000</td>\n      <td>...</td>\n      <td>0.917354</td>\n      <td>2.562298</td>\n      <td>3.190362</td>\n      <td>5.197391</td>\n      <td>4.848352</td>\n      <td>3.906005</td>\n      <td>3.858622</td>\n      <td>0.000000</td>\n      <td>0.000000</td>\n      <td>-2.657577</td>\n    </tr>\n  </tbody>\n</table>\n<p>1059 rows × 36 columns</p>\n</div>"
     },
     "execution_count": 9,
     "metadata": {},
     "output_type": "execute_result"
    }
   ],
   "source": [
    "df"
   ],
   "metadata": {
    "collapsed": false,
    "ExecuteTime": {
     "end_time": "2023-10-17T09:39:21.025409600Z",
     "start_time": "2023-10-17T09:39:21.006458200Z"
    }
   },
   "id": "b5d34a50c5a3f7d3"
  },
  {
   "cell_type": "code",
   "execution_count": 10,
   "outputs": [],
   "source": [
    "features = df.drop('Vmaxlog', axis=1)\n",
    "labels = df['Vmaxlog']\n",
    "\n",
    "X_train, X_test, y_train, y_test = train_test_split(features, labels, test_size=0.4, random_state=42)\n",
    "X_test, X_val, y_test, y_val = train_test_split(X_test, y_test, test_size=0.5, random_state=42)"
   ],
   "metadata": {
    "collapsed": false,
    "ExecuteTime": {
     "end_time": "2023-10-17T09:39:21.029398500Z",
     "start_time": "2023-10-17T09:39:21.022531800Z"
    }
   },
   "id": "4bb068f03129e93c"
  }
 ],
 "metadata": {
  "kernelspec": {
   "display_name": "Python 3",
   "language": "python",
   "name": "python3"
  },
  "language_info": {
   "codemirror_mode": {
    "name": "ipython",
    "version": 2
   },
   "file_extension": ".py",
   "mimetype": "text/x-python",
   "name": "python",
   "nbconvert_exporter": "python",
   "pygments_lexer": "ipython2",
   "version": "2.7.6"
  }
 },
 "nbformat": 4,
 "nbformat_minor": 5
}
