{
 "cells": [
  {
   "cell_type": "code",
   "execution_count": 19,
   "id": "initial_id",
   "metadata": {
    "collapsed": true,
    "ExecuteTime": {
     "end_time": "2023-10-17T09:47:50.157228500Z",
     "start_time": "2023-10-17T09:47:50.103624100Z"
    }
   },
   "outputs": [],
   "source": [
    "import pandas as pd\n",
    "import numpy as np\n",
    "import seaborn as sns\n",
    "import matplotlib.pyplot as plt\n",
    "from scipy import stats\n",
    "from sklearn.impute import KNNImputer"
   ]
  },
  {
   "cell_type": "code",
   "execution_count": 20,
   "outputs": [],
   "source": [
    "from sklearn.model_selection import train_test_split, cross_val_score, GridSearchCV\n",
    "from sklearn.ensemble import RandomForestRegressor\n",
    "from sklearn.metrics import mean_squared_error, r2_score, mean_absolute_error"
   ],
   "metadata": {
    "collapsed": false,
    "ExecuteTime": {
     "end_time": "2023-10-17T09:47:50.170786600Z",
     "start_time": "2023-10-17T09:47:50.105195200Z"
    }
   },
   "id": "f5ba4f6d0b7e6f31"
  },
  {
   "cell_type": "code",
   "execution_count": 21,
   "outputs": [],
   "source": [
    "df = pd.read_csv(\"../Data_Preprocessing/df_nnz_Vmax_clean.csv\")"
   ],
   "metadata": {
    "collapsed": false,
    "ExecuteTime": {
     "end_time": "2023-10-17T09:47:50.195755Z",
     "start_time": "2023-10-17T09:47:50.109561700Z"
    }
   },
   "id": "f85ce22b24155b17"
  },
  {
   "cell_type": "code",
   "execution_count": 22,
   "outputs": [
    {
     "data": {
      "text/plain": "          X     IR  pot2    ph  temp  dstr  cryst    lgCmin    lgCmax  \\\n0     2.757  1.071 -0.05  4.00  37.0     3    7.0  0.176091  0.176091   \n1     2.757  1.071 -0.05  4.00  37.0     3    7.0  0.176091  0.176091   \n2     2.757  1.071 -0.05  4.00  37.0     3    7.0 -0.301030  1.397940   \n3     2.757  1.071 -0.05  4.00  37.0     3    7.0 -0.301030  1.397940   \n4     2.757  1.071 -0.05  4.00  37.0     3    7.0 -0.698970  2.000000   \n...     ...    ...   ...   ...   ...   ...    ...       ...       ...   \n1054  2.280  1.350  1.20  7.00  41.4     3    6.8 -1.221849 -0.619789   \n1055  2.280  1.350  1.20  3.00  33.0     1    6.8 -2.000000 -0.795880   \n1056  2.280  1.350  1.20  7.00  33.0     1    6.8 -1.221849 -0.619789   \n1057  1.937  0.853  0.78  4.00  42.4     1    6.8 -2.000000 -0.221849   \n1058  2.200  0.730  0.83  4.24  47.0     3    7.0  0.698970  2.000000   \n\n      lgCconst  ...  EState_VSA6_log  EState_VSA4_log  SMR_VSA7_log  \\\n0     2.000000  ...         0.500000         2.552693      2.497497   \n1     2.000000  ...         0.500000         2.552693      2.497497   \n2     2.000000  ...         0.500000         2.552693      2.497497   \n3     2.000000  ...         0.500000         2.552693      2.497497   \n4     1.176091  ...         0.500000         2.552693      2.497497   \n...        ...  ...              ...              ...           ...   \n1054  0.000000  ...         0.500000         0.000000      0.000000   \n1055  0.000000  ...         0.960420         3.402360      4.785979   \n1056  0.000000  ...         0.960420         3.402360      4.785979   \n1057  0.000000  ...         0.500000         0.000000      0.000000   \n1058  0.000000  ...         0.917354         2.562298      3.190362   \n\n      Complexity1_log  TPSA_log  TPSA1_log  TPSA2_log  MaxEStateIndex.1_log  \\\n0            5.420535  3.618993   3.951244   3.701302              1.790549   \n1            5.420535  3.618993   3.951244   3.701302              1.790549   \n2            0.000000  3.618993   3.701302   3.951244              1.791759   \n3            0.000000  3.618993   3.701302   3.951244              1.791759   \n4            5.420535  3.618993   3.951244   3.701302              1.790549   \n...               ...       ...        ...        ...                   ...   \n1054         5.420535  4.883786   3.951244   3.823847              1.790549   \n1055         5.420535  5.928924   3.951244   3.701302              1.790549   \n1056         5.420535  5.928924   3.951244   3.701302              1.790549   \n1057         5.420535  3.401197   3.951244   3.823847              1.790549   \n1058         5.197391  4.848352   3.906005   3.858622              0.000000   \n\n      MaxEStateIndex.2_log   Vmaxlog  \n0                 1.791759  0.138713  \n1                 1.791759 -0.577903  \n2                 1.790549  0.922362  \n3                 1.790549 -0.358328  \n4                 1.791759  0.011655  \n...                    ...       ...  \n1054              0.000000 -5.821023  \n1055              0.000000 -3.598599  \n1056              0.000000 -3.752027  \n1057              0.000000 -4.389340  \n1058              0.000000 -2.657577  \n\n[1059 rows x 36 columns]",
      "text/html": "<div>\n<style scoped>\n    .dataframe tbody tr th:only-of-type {\n        vertical-align: middle;\n    }\n\n    .dataframe tbody tr th {\n        vertical-align: top;\n    }\n\n    .dataframe thead th {\n        text-align: right;\n    }\n</style>\n<table border=\"1\" class=\"dataframe\">\n  <thead>\n    <tr style=\"text-align: right;\">\n      <th></th>\n      <th>X</th>\n      <th>IR</th>\n      <th>pot2</th>\n      <th>ph</th>\n      <th>temp</th>\n      <th>dstr</th>\n      <th>cryst</th>\n      <th>lgCmin</th>\n      <th>lgCmax</th>\n      <th>lgCconst</th>\n      <th>...</th>\n      <th>EState_VSA6_log</th>\n      <th>EState_VSA4_log</th>\n      <th>SMR_VSA7_log</th>\n      <th>Complexity1_log</th>\n      <th>TPSA_log</th>\n      <th>TPSA1_log</th>\n      <th>TPSA2_log</th>\n      <th>MaxEStateIndex.1_log</th>\n      <th>MaxEStateIndex.2_log</th>\n      <th>Vmaxlog</th>\n    </tr>\n  </thead>\n  <tbody>\n    <tr>\n      <th>0</th>\n      <td>2.757</td>\n      <td>1.071</td>\n      <td>-0.05</td>\n      <td>4.00</td>\n      <td>37.0</td>\n      <td>3</td>\n      <td>7.0</td>\n      <td>0.176091</td>\n      <td>0.176091</td>\n      <td>2.000000</td>\n      <td>...</td>\n      <td>0.500000</td>\n      <td>2.552693</td>\n      <td>2.497497</td>\n      <td>5.420535</td>\n      <td>3.618993</td>\n      <td>3.951244</td>\n      <td>3.701302</td>\n      <td>1.790549</td>\n      <td>1.791759</td>\n      <td>0.138713</td>\n    </tr>\n    <tr>\n      <th>1</th>\n      <td>2.757</td>\n      <td>1.071</td>\n      <td>-0.05</td>\n      <td>4.00</td>\n      <td>37.0</td>\n      <td>3</td>\n      <td>7.0</td>\n      <td>0.176091</td>\n      <td>0.176091</td>\n      <td>2.000000</td>\n      <td>...</td>\n      <td>0.500000</td>\n      <td>2.552693</td>\n      <td>2.497497</td>\n      <td>5.420535</td>\n      <td>3.618993</td>\n      <td>3.951244</td>\n      <td>3.701302</td>\n      <td>1.790549</td>\n      <td>1.791759</td>\n      <td>-0.577903</td>\n    </tr>\n    <tr>\n      <th>2</th>\n      <td>2.757</td>\n      <td>1.071</td>\n      <td>-0.05</td>\n      <td>4.00</td>\n      <td>37.0</td>\n      <td>3</td>\n      <td>7.0</td>\n      <td>-0.301030</td>\n      <td>1.397940</td>\n      <td>2.000000</td>\n      <td>...</td>\n      <td>0.500000</td>\n      <td>2.552693</td>\n      <td>2.497497</td>\n      <td>0.000000</td>\n      <td>3.618993</td>\n      <td>3.701302</td>\n      <td>3.951244</td>\n      <td>1.791759</td>\n      <td>1.790549</td>\n      <td>0.922362</td>\n    </tr>\n    <tr>\n      <th>3</th>\n      <td>2.757</td>\n      <td>1.071</td>\n      <td>-0.05</td>\n      <td>4.00</td>\n      <td>37.0</td>\n      <td>3</td>\n      <td>7.0</td>\n      <td>-0.301030</td>\n      <td>1.397940</td>\n      <td>2.000000</td>\n      <td>...</td>\n      <td>0.500000</td>\n      <td>2.552693</td>\n      <td>2.497497</td>\n      <td>0.000000</td>\n      <td>3.618993</td>\n      <td>3.701302</td>\n      <td>3.951244</td>\n      <td>1.791759</td>\n      <td>1.790549</td>\n      <td>-0.358328</td>\n    </tr>\n    <tr>\n      <th>4</th>\n      <td>2.757</td>\n      <td>1.071</td>\n      <td>-0.05</td>\n      <td>4.00</td>\n      <td>37.0</td>\n      <td>3</td>\n      <td>7.0</td>\n      <td>-0.698970</td>\n      <td>2.000000</td>\n      <td>1.176091</td>\n      <td>...</td>\n      <td>0.500000</td>\n      <td>2.552693</td>\n      <td>2.497497</td>\n      <td>5.420535</td>\n      <td>3.618993</td>\n      <td>3.951244</td>\n      <td>3.701302</td>\n      <td>1.790549</td>\n      <td>1.791759</td>\n      <td>0.011655</td>\n    </tr>\n    <tr>\n      <th>...</th>\n      <td>...</td>\n      <td>...</td>\n      <td>...</td>\n      <td>...</td>\n      <td>...</td>\n      <td>...</td>\n      <td>...</td>\n      <td>...</td>\n      <td>...</td>\n      <td>...</td>\n      <td>...</td>\n      <td>...</td>\n      <td>...</td>\n      <td>...</td>\n      <td>...</td>\n      <td>...</td>\n      <td>...</td>\n      <td>...</td>\n      <td>...</td>\n      <td>...</td>\n      <td>...</td>\n    </tr>\n    <tr>\n      <th>1054</th>\n      <td>2.280</td>\n      <td>1.350</td>\n      <td>1.20</td>\n      <td>7.00</td>\n      <td>41.4</td>\n      <td>3</td>\n      <td>6.8</td>\n      <td>-1.221849</td>\n      <td>-0.619789</td>\n      <td>0.000000</td>\n      <td>...</td>\n      <td>0.500000</td>\n      <td>0.000000</td>\n      <td>0.000000</td>\n      <td>5.420535</td>\n      <td>4.883786</td>\n      <td>3.951244</td>\n      <td>3.823847</td>\n      <td>1.790549</td>\n      <td>0.000000</td>\n      <td>-5.821023</td>\n    </tr>\n    <tr>\n      <th>1055</th>\n      <td>2.280</td>\n      <td>1.350</td>\n      <td>1.20</td>\n      <td>3.00</td>\n      <td>33.0</td>\n      <td>1</td>\n      <td>6.8</td>\n      <td>-2.000000</td>\n      <td>-0.795880</td>\n      <td>0.000000</td>\n      <td>...</td>\n      <td>0.960420</td>\n      <td>3.402360</td>\n      <td>4.785979</td>\n      <td>5.420535</td>\n      <td>5.928924</td>\n      <td>3.951244</td>\n      <td>3.701302</td>\n      <td>1.790549</td>\n      <td>0.000000</td>\n      <td>-3.598599</td>\n    </tr>\n    <tr>\n      <th>1056</th>\n      <td>2.280</td>\n      <td>1.350</td>\n      <td>1.20</td>\n      <td>7.00</td>\n      <td>33.0</td>\n      <td>1</td>\n      <td>6.8</td>\n      <td>-1.221849</td>\n      <td>-0.619789</td>\n      <td>0.000000</td>\n      <td>...</td>\n      <td>0.960420</td>\n      <td>3.402360</td>\n      <td>4.785979</td>\n      <td>5.420535</td>\n      <td>5.928924</td>\n      <td>3.951244</td>\n      <td>3.701302</td>\n      <td>1.790549</td>\n      <td>0.000000</td>\n      <td>-3.752027</td>\n    </tr>\n    <tr>\n      <th>1057</th>\n      <td>1.937</td>\n      <td>0.853</td>\n      <td>0.78</td>\n      <td>4.00</td>\n      <td>42.4</td>\n      <td>1</td>\n      <td>6.8</td>\n      <td>-2.000000</td>\n      <td>-0.221849</td>\n      <td>0.000000</td>\n      <td>...</td>\n      <td>0.500000</td>\n      <td>0.000000</td>\n      <td>0.000000</td>\n      <td>5.420535</td>\n      <td>3.401197</td>\n      <td>3.951244</td>\n      <td>3.823847</td>\n      <td>1.790549</td>\n      <td>0.000000</td>\n      <td>-4.389340</td>\n    </tr>\n    <tr>\n      <th>1058</th>\n      <td>2.200</td>\n      <td>0.730</td>\n      <td>0.83</td>\n      <td>4.24</td>\n      <td>47.0</td>\n      <td>3</td>\n      <td>7.0</td>\n      <td>0.698970</td>\n      <td>2.000000</td>\n      <td>0.000000</td>\n      <td>...</td>\n      <td>0.917354</td>\n      <td>2.562298</td>\n      <td>3.190362</td>\n      <td>5.197391</td>\n      <td>4.848352</td>\n      <td>3.906005</td>\n      <td>3.858622</td>\n      <td>0.000000</td>\n      <td>0.000000</td>\n      <td>-2.657577</td>\n    </tr>\n  </tbody>\n</table>\n<p>1059 rows × 36 columns</p>\n</div>"
     },
     "execution_count": 22,
     "metadata": {},
     "output_type": "execute_result"
    }
   ],
   "source": [
    "df"
   ],
   "metadata": {
    "collapsed": false,
    "ExecuteTime": {
     "end_time": "2023-10-17T09:47:50.212628500Z",
     "start_time": "2023-10-17T09:47:50.118902900Z"
    }
   },
   "id": "b5d34a50c5a3f7d3"
  },
  {
   "cell_type": "code",
   "execution_count": 23,
   "outputs": [],
   "source": [
    "features = df.drop('Vmaxlog', axis=1)\n",
    "labels = df['Vmaxlog']\n",
    "\n",
    "X_train, X_test, y_train, y_test = train_test_split(features, labels, test_size=0.4, random_state=42)\n",
    "X_test, X_val, y_test, y_val = train_test_split(X_test, y_test, test_size=0.5, random_state=42)"
   ],
   "metadata": {
    "collapsed": false,
    "ExecuteTime": {
     "end_time": "2023-10-17T09:47:50.235462500Z",
     "start_time": "2023-10-17T09:47:50.134279200Z"
    }
   },
   "id": "4bb068f03129e93c"
  },
  {
   "cell_type": "code",
   "execution_count": 24,
   "outputs": [
    {
     "name": "stdout",
     "output_type": "stream",
     "text": [
      "0.6\n",
      "0.2\n",
      "0.2\n"
     ]
    }
   ],
   "source": [
    "for data in [y_train, y_val, y_test]:\n",
    "  print(round(len(data) / len(labels), 2))"
   ],
   "metadata": {
    "collapsed": false,
    "ExecuteTime": {
     "end_time": "2023-10-17T09:47:50.237454300Z",
     "start_time": "2023-10-17T09:47:50.138258400Z"
    }
   },
   "id": "55ce477f950ccac2"
  },
  {
   "cell_type": "code",
   "execution_count": 25,
   "outputs": [],
   "source": [
    "# Save the data\n",
    "X_train.to_csv('../Data_ML/train_features.csv', index=False)\n",
    "X_val.to_csv('../Data_ML/val_features.csv', index=False)\n",
    "X_test.to_csv('../Data_ML/test_features.csv', index=False)\n",
    "\n",
    "y_train.to_csv('../Data_ML/train_labels.csv', index=False)\n",
    "y_val.to_csv('../Data_ML/val_labels.csv', index=False)\n",
    "y_test.to_csv('../Data_ML/test_labels.csv', index=False)"
   ],
   "metadata": {
    "collapsed": false,
    "ExecuteTime": {
     "end_time": "2023-10-17T09:47:50.257384Z",
     "start_time": "2023-10-17T09:47:50.142279Z"
    }
   },
   "id": "55b99fd4ee8b9fda"
  },
  {
   "cell_type": "markdown",
   "source": [
    "Cross Validation"
   ],
   "metadata": {
    "collapsed": false
   },
   "id": "cd9d9387af400ec7"
  },
  {
   "cell_type": "code",
   "execution_count": 26,
   "outputs": [],
   "source": [
    "train_features = pd.read_csv('../Data_ML/train_features.csv')\n",
    "train_labels = pd.read_csv('../Data_ML/train_labels.csv')\n",
    "\n",
    "val_features = pd.read_csv('../Data_ML/val_features.csv')\n",
    "val_labels = pd.read_csv('../Data_ML/val_labels.csv')\n",
    "\n",
    "test_features = pd.read_csv('../Data_ML/test_features.csv')\n",
    "test_labels = pd.read_csv('../Data_ML/test_labels.csv')"
   ],
   "metadata": {
    "collapsed": false,
    "ExecuteTime": {
     "end_time": "2023-10-17T09:47:50.289277400Z",
     "start_time": "2023-10-17T09:47:50.170786600Z"
    }
   },
   "id": "633342dd2ff83ff6"
  },
  {
   "cell_type": "code",
   "execution_count": 27,
   "outputs": [],
   "source": [
    "rf = RandomForestRegressor()\n",
    "\n",
    "scores = cross_val_score(rf, train_features, train_labels.values.ravel(), cv=5)"
   ],
   "metadata": {
    "collapsed": false,
    "ExecuteTime": {
     "end_time": "2023-10-17T09:47:56.082584800Z",
     "start_time": "2023-10-17T09:47:50.228481400Z"
    }
   },
   "id": "a507f23890d8ba4a"
  },
  {
   "cell_type": "code",
   "execution_count": 28,
   "outputs": [
    {
     "data": {
      "text/plain": "array([0.26667703, 0.18105263, 0.34879502, 0.41394938, 0.40041581])"
     },
     "execution_count": 28,
     "metadata": {},
     "output_type": "execute_result"
    }
   ],
   "source": [
    "scores"
   ],
   "metadata": {
    "collapsed": false,
    "ExecuteTime": {
     "end_time": "2023-10-17T09:47:56.090706300Z",
     "start_time": "2023-10-17T09:47:56.083578400Z"
    }
   },
   "id": "f2ef4f1607f81671"
  },
  {
   "cell_type": "markdown",
   "source": [
    "Hyperparameter Tuning"
   ],
   "metadata": {
    "collapsed": false
   },
   "id": "c39b7dc8b5a5e8bc"
  },
  {
   "cell_type": "code",
   "execution_count": 29,
   "outputs": [
    {
     "data": {
      "text/plain": "GridSearchCV(cv=5, estimator=RandomForestRegressor(),\n             param_grid={'max_depth': [2, 12, 24, None],\n                         'n_estimators': [5, 25, 50, 100]})",
      "text/html": "<style>#sk-container-id-2 {color: black;}#sk-container-id-2 pre{padding: 0;}#sk-container-id-2 div.sk-toggleable {background-color: white;}#sk-container-id-2 label.sk-toggleable__label {cursor: pointer;display: block;width: 100%;margin-bottom: 0;padding: 0.3em;box-sizing: border-box;text-align: center;}#sk-container-id-2 label.sk-toggleable__label-arrow:before {content: \"▸\";float: left;margin-right: 0.25em;color: #696969;}#sk-container-id-2 label.sk-toggleable__label-arrow:hover:before {color: black;}#sk-container-id-2 div.sk-estimator:hover label.sk-toggleable__label-arrow:before {color: black;}#sk-container-id-2 div.sk-toggleable__content {max-height: 0;max-width: 0;overflow: hidden;text-align: left;background-color: #f0f8ff;}#sk-container-id-2 div.sk-toggleable__content pre {margin: 0.2em;color: black;border-radius: 0.25em;background-color: #f0f8ff;}#sk-container-id-2 input.sk-toggleable__control:checked~div.sk-toggleable__content {max-height: 200px;max-width: 100%;overflow: auto;}#sk-container-id-2 input.sk-toggleable__control:checked~label.sk-toggleable__label-arrow:before {content: \"▾\";}#sk-container-id-2 div.sk-estimator input.sk-toggleable__control:checked~label.sk-toggleable__label {background-color: #d4ebff;}#sk-container-id-2 div.sk-label input.sk-toggleable__control:checked~label.sk-toggleable__label {background-color: #d4ebff;}#sk-container-id-2 input.sk-hidden--visually {border: 0;clip: rect(1px 1px 1px 1px);clip: rect(1px, 1px, 1px, 1px);height: 1px;margin: -1px;overflow: hidden;padding: 0;position: absolute;width: 1px;}#sk-container-id-2 div.sk-estimator {font-family: monospace;background-color: #f0f8ff;border: 1px dotted black;border-radius: 0.25em;box-sizing: border-box;margin-bottom: 0.5em;}#sk-container-id-2 div.sk-estimator:hover {background-color: #d4ebff;}#sk-container-id-2 div.sk-parallel-item::after {content: \"\";width: 100%;border-bottom: 1px solid gray;flex-grow: 1;}#sk-container-id-2 div.sk-label:hover label.sk-toggleable__label {background-color: #d4ebff;}#sk-container-id-2 div.sk-serial::before {content: \"\";position: absolute;border-left: 1px solid gray;box-sizing: border-box;top: 0;bottom: 0;left: 50%;z-index: 0;}#sk-container-id-2 div.sk-serial {display: flex;flex-direction: column;align-items: center;background-color: white;padding-right: 0.2em;padding-left: 0.2em;position: relative;}#sk-container-id-2 div.sk-item {position: relative;z-index: 1;}#sk-container-id-2 div.sk-parallel {display: flex;align-items: stretch;justify-content: center;background-color: white;position: relative;}#sk-container-id-2 div.sk-item::before, #sk-container-id-2 div.sk-parallel-item::before {content: \"\";position: absolute;border-left: 1px solid gray;box-sizing: border-box;top: 0;bottom: 0;left: 50%;z-index: -1;}#sk-container-id-2 div.sk-parallel-item {display: flex;flex-direction: column;z-index: 1;position: relative;background-color: white;}#sk-container-id-2 div.sk-parallel-item:first-child::after {align-self: flex-end;width: 50%;}#sk-container-id-2 div.sk-parallel-item:last-child::after {align-self: flex-start;width: 50%;}#sk-container-id-2 div.sk-parallel-item:only-child::after {width: 0;}#sk-container-id-2 div.sk-dashed-wrapped {border: 1px dashed gray;margin: 0 0.4em 0.5em 0.4em;box-sizing: border-box;padding-bottom: 0.4em;background-color: white;}#sk-container-id-2 div.sk-label label {font-family: monospace;font-weight: bold;display: inline-block;line-height: 1.2em;}#sk-container-id-2 div.sk-label-container {text-align: center;}#sk-container-id-2 div.sk-container {/* jupyter's `normalize.less` sets `[hidden] { display: none; }` but bootstrap.min.css set `[hidden] { display: none !important; }` so we also need the `!important` here to be able to override the default hidden behavior on the sphinx rendered scikit-learn.org. See: https://github.com/scikit-learn/scikit-learn/issues/21755 */display: inline-block !important;position: relative;}#sk-container-id-2 div.sk-text-repr-fallback {display: none;}</style><div id=\"sk-container-id-2\" class=\"sk-top-container\"><div class=\"sk-text-repr-fallback\"><pre>GridSearchCV(cv=5, estimator=RandomForestRegressor(),\n             param_grid={&#x27;max_depth&#x27;: [2, 12, 24, None],\n                         &#x27;n_estimators&#x27;: [5, 25, 50, 100]})</pre><b>In a Jupyter environment, please rerun this cell to show the HTML representation or trust the notebook. <br />On GitHub, the HTML representation is unable to render, please try loading this page with nbviewer.org.</b></div><div class=\"sk-container\" hidden><div class=\"sk-item sk-dashed-wrapped\"><div class=\"sk-label-container\"><div class=\"sk-label sk-toggleable\"><input class=\"sk-toggleable__control sk-hidden--visually\" id=\"sk-estimator-id-4\" type=\"checkbox\" ><label for=\"sk-estimator-id-4\" class=\"sk-toggleable__label sk-toggleable__label-arrow\">GridSearchCV</label><div class=\"sk-toggleable__content\"><pre>GridSearchCV(cv=5, estimator=RandomForestRegressor(),\n             param_grid={&#x27;max_depth&#x27;: [2, 12, 24, None],\n                         &#x27;n_estimators&#x27;: [5, 25, 50, 100]})</pre></div></div></div><div class=\"sk-parallel\"><div class=\"sk-parallel-item\"><div class=\"sk-item\"><div class=\"sk-label-container\"><div class=\"sk-label sk-toggleable\"><input class=\"sk-toggleable__control sk-hidden--visually\" id=\"sk-estimator-id-5\" type=\"checkbox\" ><label for=\"sk-estimator-id-5\" class=\"sk-toggleable__label sk-toggleable__label-arrow\">estimator: RandomForestRegressor</label><div class=\"sk-toggleable__content\"><pre>RandomForestRegressor()</pre></div></div></div><div class=\"sk-serial\"><div class=\"sk-item\"><div class=\"sk-estimator sk-toggleable\"><input class=\"sk-toggleable__control sk-hidden--visually\" id=\"sk-estimator-id-6\" type=\"checkbox\" ><label for=\"sk-estimator-id-6\" class=\"sk-toggleable__label sk-toggleable__label-arrow\">RandomForestRegressor</label><div class=\"sk-toggleable__content\"><pre>RandomForestRegressor()</pre></div></div></div></div></div></div></div></div></div></div>"
     },
     "execution_count": 29,
     "metadata": {},
     "output_type": "execute_result"
    }
   ],
   "source": [
    "rf = RandomForestRegressor()\n",
    "\n",
    "hyperparams = {\n",
    "    'n_estimators': [5, 25, 50, 100],\n",
    "    'max_depth': [2, 12, 24, None]\n",
    "}\n",
    "\n",
    "cross_val = GridSearchCV(rf, hyperparams, cv=5)\n",
    "cross_val.fit(train_features, train_labels.values.ravel())"
   ],
   "metadata": {
    "collapsed": false,
    "ExecuteTime": {
     "end_time": "2023-10-17T09:48:27.168780900Z",
     "start_time": "2023-10-17T09:47:56.087707Z"
    }
   },
   "id": "6317f12a207c19ad"
  },
  {
   "cell_type": "code",
   "execution_count": 30,
   "outputs": [],
   "source": [
    "def results(results):\n",
    "  print('Optimal Hyperparams: {}\\n'.format(results.best_params_))\n",
    "  means = results.cv_results_['mean_test_score']\n",
    "  stds = results.cv_results_['std_test_score']\n",
    "\n",
    "  for mean, std, params in zip(means, stds, results.cv_results_['params']):\n",
    "    print('Mean {} Standard Deviation {} Hyperparameters {}'.format(round(mean,3), round(std * 2, 3), params))"
   ],
   "metadata": {
    "collapsed": false,
    "ExecuteTime": {
     "end_time": "2023-10-17T09:48:27.174345200Z",
     "start_time": "2023-10-17T09:48:27.169791900Z"
    }
   },
   "id": "6c65fdf664a41477"
  },
  {
   "cell_type": "code",
   "execution_count": 31,
   "outputs": [
    {
     "name": "stdout",
     "output_type": "stream",
     "text": [
      "Optimal Hyperparams: {'max_depth': 24, 'n_estimators': 100}\n",
      "\n",
      "Mean 0.109 Standard Deviation 0.123 Hyperparameters {'max_depth': 2, 'n_estimators': 5}\n",
      "Mean 0.121 Standard Deviation 0.073 Hyperparameters {'max_depth': 2, 'n_estimators': 25}\n",
      "Mean 0.129 Standard Deviation 0.085 Hyperparameters {'max_depth': 2, 'n_estimators': 50}\n",
      "Mean 0.121 Standard Deviation 0.086 Hyperparameters {'max_depth': 2, 'n_estimators': 100}\n",
      "Mean 0.081 Standard Deviation 0.295 Hyperparameters {'max_depth': 12, 'n_estimators': 5}\n",
      "Mean 0.276 Standard Deviation 0.248 Hyperparameters {'max_depth': 12, 'n_estimators': 25}\n",
      "Mean 0.289 Standard Deviation 0.191 Hyperparameters {'max_depth': 12, 'n_estimators': 50}\n",
      "Mean 0.312 Standard Deviation 0.172 Hyperparameters {'max_depth': 12, 'n_estimators': 100}\n",
      "Mean 0.178 Standard Deviation 0.271 Hyperparameters {'max_depth': 24, 'n_estimators': 5}\n",
      "Mean 0.294 Standard Deviation 0.223 Hyperparameters {'max_depth': 24, 'n_estimators': 25}\n",
      "Mean 0.289 Standard Deviation 0.161 Hyperparameters {'max_depth': 24, 'n_estimators': 50}\n",
      "Mean 0.321 Standard Deviation 0.176 Hyperparameters {'max_depth': 24, 'n_estimators': 100}\n",
      "Mean 0.176 Standard Deviation 0.271 Hyperparameters {'max_depth': None, 'n_estimators': 5}\n",
      "Mean 0.302 Standard Deviation 0.159 Hyperparameters {'max_depth': None, 'n_estimators': 25}\n",
      "Mean 0.3 Standard Deviation 0.206 Hyperparameters {'max_depth': None, 'n_estimators': 50}\n",
      "Mean 0.319 Standard Deviation 0.193 Hyperparameters {'max_depth': None, 'n_estimators': 100}\n"
     ]
    }
   ],
   "source": [
    "results(cross_val)"
   ],
   "metadata": {
    "collapsed": false,
    "ExecuteTime": {
     "end_time": "2023-10-17T09:48:27.179557Z",
     "start_time": "2023-10-17T09:48:27.173350Z"
    }
   },
   "id": "369898825f593548"
  },
  {
   "cell_type": "code",
   "execution_count": 32,
   "outputs": [
    {
     "data": {
      "text/plain": "RandomForestRegressor(n_estimators=50)",
      "text/html": "<style>#sk-container-id-3 {color: black;}#sk-container-id-3 pre{padding: 0;}#sk-container-id-3 div.sk-toggleable {background-color: white;}#sk-container-id-3 label.sk-toggleable__label {cursor: pointer;display: block;width: 100%;margin-bottom: 0;padding: 0.3em;box-sizing: border-box;text-align: center;}#sk-container-id-3 label.sk-toggleable__label-arrow:before {content: \"▸\";float: left;margin-right: 0.25em;color: #696969;}#sk-container-id-3 label.sk-toggleable__label-arrow:hover:before {color: black;}#sk-container-id-3 div.sk-estimator:hover label.sk-toggleable__label-arrow:before {color: black;}#sk-container-id-3 div.sk-toggleable__content {max-height: 0;max-width: 0;overflow: hidden;text-align: left;background-color: #f0f8ff;}#sk-container-id-3 div.sk-toggleable__content pre {margin: 0.2em;color: black;border-radius: 0.25em;background-color: #f0f8ff;}#sk-container-id-3 input.sk-toggleable__control:checked~div.sk-toggleable__content {max-height: 200px;max-width: 100%;overflow: auto;}#sk-container-id-3 input.sk-toggleable__control:checked~label.sk-toggleable__label-arrow:before {content: \"▾\";}#sk-container-id-3 div.sk-estimator input.sk-toggleable__control:checked~label.sk-toggleable__label {background-color: #d4ebff;}#sk-container-id-3 div.sk-label input.sk-toggleable__control:checked~label.sk-toggleable__label {background-color: #d4ebff;}#sk-container-id-3 input.sk-hidden--visually {border: 0;clip: rect(1px 1px 1px 1px);clip: rect(1px, 1px, 1px, 1px);height: 1px;margin: -1px;overflow: hidden;padding: 0;position: absolute;width: 1px;}#sk-container-id-3 div.sk-estimator {font-family: monospace;background-color: #f0f8ff;border: 1px dotted black;border-radius: 0.25em;box-sizing: border-box;margin-bottom: 0.5em;}#sk-container-id-3 div.sk-estimator:hover {background-color: #d4ebff;}#sk-container-id-3 div.sk-parallel-item::after {content: \"\";width: 100%;border-bottom: 1px solid gray;flex-grow: 1;}#sk-container-id-3 div.sk-label:hover label.sk-toggleable__label {background-color: #d4ebff;}#sk-container-id-3 div.sk-serial::before {content: \"\";position: absolute;border-left: 1px solid gray;box-sizing: border-box;top: 0;bottom: 0;left: 50%;z-index: 0;}#sk-container-id-3 div.sk-serial {display: flex;flex-direction: column;align-items: center;background-color: white;padding-right: 0.2em;padding-left: 0.2em;position: relative;}#sk-container-id-3 div.sk-item {position: relative;z-index: 1;}#sk-container-id-3 div.sk-parallel {display: flex;align-items: stretch;justify-content: center;background-color: white;position: relative;}#sk-container-id-3 div.sk-item::before, #sk-container-id-3 div.sk-parallel-item::before {content: \"\";position: absolute;border-left: 1px solid gray;box-sizing: border-box;top: 0;bottom: 0;left: 50%;z-index: -1;}#sk-container-id-3 div.sk-parallel-item {display: flex;flex-direction: column;z-index: 1;position: relative;background-color: white;}#sk-container-id-3 div.sk-parallel-item:first-child::after {align-self: flex-end;width: 50%;}#sk-container-id-3 div.sk-parallel-item:last-child::after {align-self: flex-start;width: 50%;}#sk-container-id-3 div.sk-parallel-item:only-child::after {width: 0;}#sk-container-id-3 div.sk-dashed-wrapped {border: 1px dashed gray;margin: 0 0.4em 0.5em 0.4em;box-sizing: border-box;padding-bottom: 0.4em;background-color: white;}#sk-container-id-3 div.sk-label label {font-family: monospace;font-weight: bold;display: inline-block;line-height: 1.2em;}#sk-container-id-3 div.sk-label-container {text-align: center;}#sk-container-id-3 div.sk-container {/* jupyter's `normalize.less` sets `[hidden] { display: none; }` but bootstrap.min.css set `[hidden] { display: none !important; }` so we also need the `!important` here to be able to override the default hidden behavior on the sphinx rendered scikit-learn.org. See: https://github.com/scikit-learn/scikit-learn/issues/21755 */display: inline-block !important;position: relative;}#sk-container-id-3 div.sk-text-repr-fallback {display: none;}</style><div id=\"sk-container-id-3\" class=\"sk-top-container\"><div class=\"sk-text-repr-fallback\"><pre>RandomForestRegressor(n_estimators=50)</pre><b>In a Jupyter environment, please rerun this cell to show the HTML representation or trust the notebook. <br />On GitHub, the HTML representation is unable to render, please try loading this page with nbviewer.org.</b></div><div class=\"sk-container\" hidden><div class=\"sk-item\"><div class=\"sk-estimator sk-toggleable\"><input class=\"sk-toggleable__control sk-hidden--visually\" id=\"sk-estimator-id-7\" type=\"checkbox\" checked><label for=\"sk-estimator-id-7\" class=\"sk-toggleable__label sk-toggleable__label-arrow\">RandomForestRegressor</label><div class=\"sk-toggleable__content\"><pre>RandomForestRegressor(n_estimators=50)</pre></div></div></div></div></div>"
     },
     "execution_count": 32,
     "metadata": {},
     "output_type": "execute_result"
    }
   ],
   "source": [
    "rf1 = RandomForestRegressor(n_estimators=100, max_depth=24)\n",
    "rf1.fit(train_features, train_labels.values.ravel())\n",
    "\n",
    "rf2 = RandomForestRegressor(n_estimators=100, max_depth=None)\n",
    "rf2.fit(train_features, train_labels.values.ravel())\n",
    "\n",
    "rf3 = RandomForestRegressor(n_estimators=50, max_depth=None)\n",
    "rf3.fit(train_features, train_labels.values.ravel())"
   ],
   "metadata": {
    "collapsed": false,
    "ExecuteTime": {
     "end_time": "2023-10-17T09:50:22.958450900Z",
     "start_time": "2023-10-17T09:50:19.466835200Z"
    }
   },
   "id": "5d98a9a2949829a0"
  },
  {
   "cell_type": "markdown",
   "source": [
    "Model Evaluation"
   ],
   "metadata": {
    "collapsed": false
   },
   "id": "90d7b50ede6a66a4"
  },
  {
   "cell_type": "code",
   "execution_count": 33,
   "outputs": [
    {
     "name": "stdout",
     "output_type": "stream",
     "text": [
      "Max Depth: 24 || Estimators: 100 || MSE: 1.0962 || R-squared: 0.5657 || MAE: 0.6593 || RMSE: 1.0470\n",
      "Max Depth: None || Estimators: 100 || MSE: 1.1105 || R-squared: 0.5600 || MAE: 0.6592 || RMSE: 1.0538\n",
      "Max Depth: None || Estimators: 50 || MSE: 1.1559 || R-squared: 0.5421 || MAE: 0.6670 || RMSE: 1.0751\n"
     ]
    }
   ],
   "source": [
    "for mdl in [rf1, rf2, rf3]:\n",
    "    y_pred = mdl.predict(val_features)\n",
    "    mse = mean_squared_error(val_labels, y_pred)\n",
    "    r2 = r2_score(val_labels, y_pred)\n",
    "    mae = mean_absolute_error(val_labels, y_pred)\n",
    "    rmse = np.sqrt(mse)  # RMSE is the square root of MSE\n",
    "    \n",
    "    print('Max Depth: {} || Estimators: {} || MSE: {:.4f} || R-squared: {:.4f} || MAE: {:.4f} || RMSE: {:.4f}'.format(\n",
    "        mdl.max_depth, mdl.n_estimators, mse, r2, mae, rmse))"
   ],
   "metadata": {
    "collapsed": false,
    "ExecuteTime": {
     "end_time": "2023-10-17T09:52:46.140880Z",
     "start_time": "2023-10-17T09:52:46.117181200Z"
    }
   },
   "id": "d9cb57c5c83c82fc"
  },
  {
   "cell_type": "code",
   "execution_count": 34,
   "outputs": [
    {
     "name": "stdout",
     "output_type": "stream",
     "text": [
      "Max Depth: 24 || Estimators: 100 || MSE: 3.2967 || R-squared: -0.5292 || MAE: 1.1653 || RMSE: 1.8157\n"
     ]
    }
   ],
   "source": [
    "y_pred = mdl.predict(val_features)\n",
    "mse = mean_squared_error(test_labels, y_pred)\n",
    "r2 = r2_score(test_labels, y_pred)\n",
    "mae = mean_absolute_error(test_labels, y_pred)\n",
    "rmse = np.sqrt(mse)  # RMSE is the square root of MSE\n",
    "    \n",
    "print('Max Depth: {} || Estimators: {} || MSE: {:.4f} || R-squared: {:.4f} || MAE: {:.4f} || RMSE: {:.4f}'.format(\n",
    "        rf1.max_depth, rf1.n_estimators, mse, r2, mae, rmse))"
   ],
   "metadata": {
    "collapsed": false,
    "ExecuteTime": {
     "end_time": "2023-10-17T09:54:50.831059Z",
     "start_time": "2023-10-17T09:54:50.819189500Z"
    }
   },
   "id": "a27628dec3da745e"
  },
  {
   "cell_type": "code",
   "execution_count": 35,
   "outputs": [
    {
     "data": {
      "text/plain": "                 X           IR         pot2           ph         temp  \\\ncount  1059.000000  1059.000000  1059.000000  1059.000000  1059.000000   \nmean      2.527929     1.206676     0.292785     4.537616    33.278942   \nstd       0.268633     0.179893     0.580628     1.218244     9.432100   \nmin       1.830000     0.700000    -1.358000     2.000000    15.000000   \n25%       2.280000     1.083000    -0.077600     4.000000    25.000000   \n50%       2.579000     1.224000     0.069200     4.000000    31.200000   \n75%       2.750000     1.320000     0.700000     4.500000    40.000000   \nmax       3.170000     1.710000     1.690000    10.000000    90.000000   \n\n              dstr        cryst       lgCmin       lgCmax     lgCconst  ...  \\\ncount  1059.000000  1059.000000  1059.000000  1059.000000  1059.000000  ...   \nmean      2.713881     6.036449    -1.250548     0.568012     0.485323  ...   \nstd       0.642174     1.604034     1.413556     1.204909     1.215957  ...   \nmin       1.000000     0.000000    -4.000000    -4.000000    -2.301030  ...   \n25%       3.000000     6.000000    -2.301030    -0.221849    -0.143004  ...   \n50%       3.000000     7.000000    -1.301030     0.204120     0.000000  ...   \n75%       3.000000     7.000000    -0.301030     1.397940     1.176091  ...   \nmax       3.000000     7.000000     2.944483     3.602060     3.875061  ...   \n\n       EState_VSA6_log  EState_VSA4_log  SMR_VSA7_log  Complexity1_log  \\\ncount      1059.000000      1059.000000   1059.000000      1059.000000   \nmean          0.597158         0.951568      0.963771         2.958695   \nstd           0.176733         1.238118      1.380037         2.688157   \nmin           0.500000         0.000000      0.000000         0.000000   \n25%           0.500000         0.000000      0.000000         0.000000   \n50%           0.500000         0.000000      0.000000         5.420535   \n75%           0.500000         2.562298      2.547795         5.420535   \nmax           0.991476         4.433535      5.175934         6.190315   \n\n          TPSA_log    TPSA1_log    TPSA2_log  MaxEStateIndex.1_log  \\\ncount  1059.000000  1059.000000  1059.000000           1059.000000   \nmean      2.406137     3.927422     3.836257              1.793631   \nstd       2.257320     0.475094     0.218885              0.252684   \nmin       0.000000     3.701302     3.701302              0.000000   \n25%       0.000000     3.701302     3.701302              1.790549   \n50%       3.011113     3.951244     3.701302              1.790549   \n75%       4.674883     3.951244     3.951244              1.791759   \nmax       7.051345     6.783325     6.783325              2.496743   \n\n       MaxEStateIndex.2_log      Vmaxlog  \ncount           1059.000000  1059.000000  \nmean               1.514950    -3.744783  \nstd                0.668308     1.400119  \nmin                0.000000    -7.468521  \n25%                1.790549    -4.494850  \n50%                1.790549    -3.973875  \n75%                1.791759    -3.384576  \nmax                2.521040     4.777318  \n\n[8 rows x 36 columns]",
      "text/html": "<div>\n<style scoped>\n    .dataframe tbody tr th:only-of-type {\n        vertical-align: middle;\n    }\n\n    .dataframe tbody tr th {\n        vertical-align: top;\n    }\n\n    .dataframe thead th {\n        text-align: right;\n    }\n</style>\n<table border=\"1\" class=\"dataframe\">\n  <thead>\n    <tr style=\"text-align: right;\">\n      <th></th>\n      <th>X</th>\n      <th>IR</th>\n      <th>pot2</th>\n      <th>ph</th>\n      <th>temp</th>\n      <th>dstr</th>\n      <th>cryst</th>\n      <th>lgCmin</th>\n      <th>lgCmax</th>\n      <th>lgCconst</th>\n      <th>...</th>\n      <th>EState_VSA6_log</th>\n      <th>EState_VSA4_log</th>\n      <th>SMR_VSA7_log</th>\n      <th>Complexity1_log</th>\n      <th>TPSA_log</th>\n      <th>TPSA1_log</th>\n      <th>TPSA2_log</th>\n      <th>MaxEStateIndex.1_log</th>\n      <th>MaxEStateIndex.2_log</th>\n      <th>Vmaxlog</th>\n    </tr>\n  </thead>\n  <tbody>\n    <tr>\n      <th>count</th>\n      <td>1059.000000</td>\n      <td>1059.000000</td>\n      <td>1059.000000</td>\n      <td>1059.000000</td>\n      <td>1059.000000</td>\n      <td>1059.000000</td>\n      <td>1059.000000</td>\n      <td>1059.000000</td>\n      <td>1059.000000</td>\n      <td>1059.000000</td>\n      <td>...</td>\n      <td>1059.000000</td>\n      <td>1059.000000</td>\n      <td>1059.000000</td>\n      <td>1059.000000</td>\n      <td>1059.000000</td>\n      <td>1059.000000</td>\n      <td>1059.000000</td>\n      <td>1059.000000</td>\n      <td>1059.000000</td>\n      <td>1059.000000</td>\n    </tr>\n    <tr>\n      <th>mean</th>\n      <td>2.527929</td>\n      <td>1.206676</td>\n      <td>0.292785</td>\n      <td>4.537616</td>\n      <td>33.278942</td>\n      <td>2.713881</td>\n      <td>6.036449</td>\n      <td>-1.250548</td>\n      <td>0.568012</td>\n      <td>0.485323</td>\n      <td>...</td>\n      <td>0.597158</td>\n      <td>0.951568</td>\n      <td>0.963771</td>\n      <td>2.958695</td>\n      <td>2.406137</td>\n      <td>3.927422</td>\n      <td>3.836257</td>\n      <td>1.793631</td>\n      <td>1.514950</td>\n      <td>-3.744783</td>\n    </tr>\n    <tr>\n      <th>std</th>\n      <td>0.268633</td>\n      <td>0.179893</td>\n      <td>0.580628</td>\n      <td>1.218244</td>\n      <td>9.432100</td>\n      <td>0.642174</td>\n      <td>1.604034</td>\n      <td>1.413556</td>\n      <td>1.204909</td>\n      <td>1.215957</td>\n      <td>...</td>\n      <td>0.176733</td>\n      <td>1.238118</td>\n      <td>1.380037</td>\n      <td>2.688157</td>\n      <td>2.257320</td>\n      <td>0.475094</td>\n      <td>0.218885</td>\n      <td>0.252684</td>\n      <td>0.668308</td>\n      <td>1.400119</td>\n    </tr>\n    <tr>\n      <th>min</th>\n      <td>1.830000</td>\n      <td>0.700000</td>\n      <td>-1.358000</td>\n      <td>2.000000</td>\n      <td>15.000000</td>\n      <td>1.000000</td>\n      <td>0.000000</td>\n      <td>-4.000000</td>\n      <td>-4.000000</td>\n      <td>-2.301030</td>\n      <td>...</td>\n      <td>0.500000</td>\n      <td>0.000000</td>\n      <td>0.000000</td>\n      <td>0.000000</td>\n      <td>0.000000</td>\n      <td>3.701302</td>\n      <td>3.701302</td>\n      <td>0.000000</td>\n      <td>0.000000</td>\n      <td>-7.468521</td>\n    </tr>\n    <tr>\n      <th>25%</th>\n      <td>2.280000</td>\n      <td>1.083000</td>\n      <td>-0.077600</td>\n      <td>4.000000</td>\n      <td>25.000000</td>\n      <td>3.000000</td>\n      <td>6.000000</td>\n      <td>-2.301030</td>\n      <td>-0.221849</td>\n      <td>-0.143004</td>\n      <td>...</td>\n      <td>0.500000</td>\n      <td>0.000000</td>\n      <td>0.000000</td>\n      <td>0.000000</td>\n      <td>0.000000</td>\n      <td>3.701302</td>\n      <td>3.701302</td>\n      <td>1.790549</td>\n      <td>1.790549</td>\n      <td>-4.494850</td>\n    </tr>\n    <tr>\n      <th>50%</th>\n      <td>2.579000</td>\n      <td>1.224000</td>\n      <td>0.069200</td>\n      <td>4.000000</td>\n      <td>31.200000</td>\n      <td>3.000000</td>\n      <td>7.000000</td>\n      <td>-1.301030</td>\n      <td>0.204120</td>\n      <td>0.000000</td>\n      <td>...</td>\n      <td>0.500000</td>\n      <td>0.000000</td>\n      <td>0.000000</td>\n      <td>5.420535</td>\n      <td>3.011113</td>\n      <td>3.951244</td>\n      <td>3.701302</td>\n      <td>1.790549</td>\n      <td>1.790549</td>\n      <td>-3.973875</td>\n    </tr>\n    <tr>\n      <th>75%</th>\n      <td>2.750000</td>\n      <td>1.320000</td>\n      <td>0.700000</td>\n      <td>4.500000</td>\n      <td>40.000000</td>\n      <td>3.000000</td>\n      <td>7.000000</td>\n      <td>-0.301030</td>\n      <td>1.397940</td>\n      <td>1.176091</td>\n      <td>...</td>\n      <td>0.500000</td>\n      <td>2.562298</td>\n      <td>2.547795</td>\n      <td>5.420535</td>\n      <td>4.674883</td>\n      <td>3.951244</td>\n      <td>3.951244</td>\n      <td>1.791759</td>\n      <td>1.791759</td>\n      <td>-3.384576</td>\n    </tr>\n    <tr>\n      <th>max</th>\n      <td>3.170000</td>\n      <td>1.710000</td>\n      <td>1.690000</td>\n      <td>10.000000</td>\n      <td>90.000000</td>\n      <td>3.000000</td>\n      <td>7.000000</td>\n      <td>2.944483</td>\n      <td>3.602060</td>\n      <td>3.875061</td>\n      <td>...</td>\n      <td>0.991476</td>\n      <td>4.433535</td>\n      <td>5.175934</td>\n      <td>6.190315</td>\n      <td>7.051345</td>\n      <td>6.783325</td>\n      <td>6.783325</td>\n      <td>2.496743</td>\n      <td>2.521040</td>\n      <td>4.777318</td>\n    </tr>\n  </tbody>\n</table>\n<p>8 rows × 36 columns</p>\n</div>"
     },
     "execution_count": 35,
     "metadata": {},
     "output_type": "execute_result"
    }
   ],
   "source": [
    "df.describe()"
   ],
   "metadata": {
    "collapsed": false,
    "ExecuteTime": {
     "end_time": "2023-10-17T09:57:21.484314200Z",
     "start_time": "2023-10-17T09:57:21.447581400Z"
    }
   },
   "id": "656c4228229a4ec4"
  },
  {
   "cell_type": "markdown",
   "source": [
    "Определила верхний и нижний порог для выбросов (например, с использованием межквартильного размаха)"
   ],
   "metadata": {
    "collapsed": false
   },
   "id": "1e1922796cab2b55"
  },
  {
   "cell_type": "code",
   "execution_count": 36,
   "outputs": [],
   "source": [
    "Q1 = df.quantile(0.25)\n",
    "Q3 = df.quantile(0.75)\n",
    "IQR = Q3 - Q1\n",
    "lower_bound = Q1 - 1.5 * IQR\n",
    "upper_bound = Q3 + 1.5 * IQR"
   ],
   "metadata": {
    "collapsed": false,
    "ExecuteTime": {
     "end_time": "2023-10-17T09:59:03.940863400Z",
     "start_time": "2023-10-17T09:59:03.930866300Z"
    }
   },
   "id": "71fb4179bdaaefe3"
  },
  {
   "cell_type": "markdown",
   "source": [
    "Подсчет выбросов для каждого столбца"
   ],
   "metadata": {
    "collapsed": false
   },
   "id": "a2e752562c93f4dd"
  },
  {
   "cell_type": "code",
   "execution_count": 37,
   "outputs": [],
   "source": [
    "outliers = ((df < lower_bound) | (df > upper_bound)).sum()\n",
    "outliers = outliers.sort_values(ascending=False)"
   ],
   "metadata": {
    "collapsed": false,
    "ExecuteTime": {
     "end_time": "2023-10-17T09:59:06.392491600Z",
     "start_time": "2023-10-17T09:59:06.385829600Z"
    }
   },
   "id": "47fdd7e704188ab8"
  }
 ],
 "metadata": {
  "kernelspec": {
   "display_name": "Python 3",
   "language": "python",
   "name": "python3"
  },
  "language_info": {
   "codemirror_mode": {
    "name": "ipython",
    "version": 2
   },
   "file_extension": ".py",
   "mimetype": "text/x-python",
   "name": "python",
   "nbconvert_exporter": "python",
   "pygments_lexer": "ipython2",
   "version": "2.7.6"
  }
 },
 "nbformat": 4,
 "nbformat_minor": 5
}
