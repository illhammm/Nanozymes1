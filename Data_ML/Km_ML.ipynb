{
 "cells": [
  {
   "cell_type": "code",
   "execution_count": 3,
   "id": "initial_id",
   "metadata": {
    "ExecuteTime": {
     "end_time": "2023-10-17T09:23:24.745392500Z",
     "start_time": "2023-10-17T09:23:23.919050300Z"
    }
   },
   "outputs": [],
   "source": [
    "import pandas as pd\n",
    "import numpy as np\n",
    "import seaborn as sns\n",
    "import matplotlib.pyplot as plt\n",
    "from scipy import stats\n",
    "from sklearn.impute import KNNImputer\n",
    "from sklearn.model_selection import train_test_split, cross_val_score, GridSearchCV\n",
    "from sklearn.ensemble import RandomForestRegressor\n",
    "from sklearn.metrics import mean_squared_error, r2_score, mean_absolute_error"
   ]
  },
  {
   "cell_type": "code",
   "execution_count": 4,
   "id": "e5e95ca0fa2deec0",
   "metadata": {
    "ExecuteTime": {
     "end_time": "2023-10-17T09:23:26.083385600Z",
     "start_time": "2023-10-17T09:23:26.059418200Z"
    }
   },
   "outputs": [],
   "source": [
    "df = pd.read_csv(\"../Data_Preprocessing/df_nnz_Km_clean.csv\")"
   ]
  },
  {
   "cell_type": "markdown",
   "id": "9f9eeeee",
   "metadata": {},
   "source": [
    "Разделяю данные на обучающую, тестовую и валидационную выборки. "
   ]
  },
  {
   "cell_type": "code",
   "execution_count": 5,
   "id": "1f09967b",
   "metadata": {},
   "outputs": [],
   "source": [
    "# Train Test Split\n",
    "features = df.drop('Km', axis=1)\n",
    "labels = df['Km']\n",
    "\n",
    "X_train, X_test, y_train, y_test = train_test_split(features, labels, test_size=0.4, random_state=42)\n",
    "X_test, X_val, y_test, y_val = train_test_split(X_test, y_test, test_size=0.5, random_state=42)"
   ]
  },
  {
   "cell_type": "markdown",
   "id": "4e38bdd2",
   "metadata": {},
   "source": [
    "Вывожу на экран доли данных в каждой выборке относительно исходных данных."
   ]
  },
  {
   "cell_type": "code",
   "execution_count": 7,
   "id": "a3e3c014",
   "metadata": {},
   "outputs": [
    {
     "name": "stdout",
     "output_type": "stream",
     "text": [
      "0.6\n",
      "0.2\n",
      "0.2\n"
     ]
    }
   ],
   "source": [
    "for data in [y_train, y_val, y_test]:\n",
    "  print(round(len(data) / len(labels), 2))"
   ]
  },
  {
   "cell_type": "markdown",
   "id": "4bc0a287",
   "metadata": {},
   "source": [
    "сохраняет данные в формате CSV. Он сохраняет обучающие, валидационные и тестовые данные, а также соответствующие им метки классов."
   ]
  },
  {
   "cell_type": "code",
   "execution_count": null,
   "id": "9245ad4c",
   "metadata": {},
   "outputs": [],
   "source": [
    "# Save the data\n",
    "X_train.to_csv('../Data_ML/train_features.csv', index=False)\n",
    "X_val.to_csv('../Data_ML/val_features.csv', index=False)\n",
    "X_test.to_csv('../Data_ML/test_features.csv', index=False)\n",
    "\n",
    "y_train.to_csv('../Data_ML/train_labels.csv', index=False)\n",
    "y_val.to_csv('../Data_ML/val_labels.csv', index=False)\n",
    "y_test.to_csv('../Data_ML/test_labels.csv', index=False)"
   ]
  },
  {
   "cell_type": "code",
   "execution_count": null,
   "id": "d2382e6b",
   "metadata": {},
   "outputs": [],
   "source": []
  },
  {
   "cell_type": "code",
   "execution_count": null,
   "id": "8b938bd5",
   "metadata": {},
   "outputs": [],
   "source": []
  },
  {
   "cell_type": "code",
   "execution_count": null,
   "id": "631b8da7",
   "metadata": {},
   "outputs": [],
   "source": []
  },
  {
   "cell_type": "code",
   "execution_count": null,
   "id": "469a2ac2",
   "metadata": {},
   "outputs": [],
   "source": []
  },
  {
   "cell_type": "code",
   "execution_count": null,
   "id": "0630a2e5",
   "metadata": {},
   "outputs": [],
   "source": []
  },
  {
   "cell_type": "code",
   "execution_count": null,
   "id": "dd7d81ad",
   "metadata": {},
   "outputs": [],
   "source": []
  },
  {
   "cell_type": "code",
   "execution_count": null,
   "id": "3a596f4f",
   "metadata": {},
   "outputs": [],
   "source": []
  },
  {
   "cell_type": "code",
   "execution_count": null,
   "id": "4d144f88",
   "metadata": {},
   "outputs": [],
   "source": []
  }
 ],
 "metadata": {
  "kernelspec": {
   "display_name": "Python 3 (ipykernel)",
   "language": "python",
   "name": "python3"
  },
  "language_info": {
   "codemirror_mode": {
    "name": "ipython",
    "version": 3
   },
   "file_extension": ".py",
   "mimetype": "text/x-python",
   "name": "python",
   "nbconvert_exporter": "python",
   "pygments_lexer": "ipython3",
   "version": "3.11.5"
  }
 },
 "nbformat": 4,
 "nbformat_minor": 5
}
