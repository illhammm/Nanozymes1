{
 "cells": [
  {
   "cell_type": "code",
   "execution_count": 3,
   "id": "initial_id",
   "metadata": {
    "ExecuteTime": {
     "end_time": "2023-10-17T09:23:24.745392500Z",
     "start_time": "2023-10-17T09:23:23.919050300Z"
    }
   },
   "outputs": [],
   "source": [
    "import pandas as pd\n",
    "import numpy as np\n",
    "import seaborn as sns\n",
    "import matplotlib.pyplot as plt\n",
    "from scipy import stats\n",
    "from sklearn.impute import KNNImputer\n",
    "from sklearn.model_selection import train_test_split, cross_val_score, GridSearchCV\n",
    "from sklearn.ensemble import RandomForestRegressor\n",
    "from sklearn.metrics import mean_squared_error, r2_score, mean_absolute_error"
   ]
  },
  {
   "cell_type": "code",
   "execution_count": 4,
   "id": "e5e95ca0fa2deec0",
   "metadata": {
    "ExecuteTime": {
     "end_time": "2023-10-17T09:23:26.083385600Z",
     "start_time": "2023-10-17T09:23:26.059418200Z"
    }
   },
   "outputs": [],
   "source": [
    "df = pd.read_csv(\"../Data_Preprocessing/df_nnz_Km_clean.csv\")"
   ]
  },
  {
   "cell_type": "markdown",
   "id": "1e28e3b9",
   "metadata": {},
   "source": [
    "Разделяю данные на обучающую, тестовую и валидационную выборки. "
   ]
  },
  {
   "cell_type": "code",
   "execution_count": 5,
   "id": "ffd926fa",
   "metadata": {},
   "outputs": [],
   "source": [
    "# Train Test Split\n",
    "features = df.drop('Km', axis=1)\n",
    "labels = df['Km']\n",
    "\n",
    "X_train, X_test, y_train, y_test = train_test_split(features, labels, test_size=0.4, random_state=42)\n",
    "X_test, X_val, y_test, y_val = train_test_split(X_test, y_test, test_size=0.5, random_state=42)"
   ]
  },
  {
   "cell_type": "markdown",
   "id": "2824bfce",
   "metadata": {},
   "source": [
    "Вывожу на экран доли данных в каждой выборке относительно исходных данных."
   ]
  },
  {
   "cell_type": "code",
   "execution_count": 7,
   "id": "a4f3900c",
   "metadata": {},
   "outputs": [
    {
     "name": "stdout",
     "output_type": "stream",
     "text": [
      "0.6\n",
      "0.2\n",
      "0.2\n"
     ]
    }
   ],
   "source": [
    "for data in [y_train, y_val, y_test]:\n",
    "  print(round(len(data) / len(labels), 2))"
   ]
  },
  {
   "cell_type": "markdown",
   "id": "b5cc6fbe",
   "metadata": {},
   "source": [
    "Сохраняю данные в формате CSV. Он сохраняет обучающие, валидационные и тестовые данные, а также соответствующие им метки классов."
   ]
  },
  {
   "cell_type": "code",
   "execution_count": 8,
   "id": "6fe771cb",
   "metadata": {},
   "outputs": [],
   "source": [
    "# Save the data\n",
    "X_train.to_csv('../Data_ML/train_features.csv', index=False)\n",
    "X_val.to_csv('../Data_ML/val_features.csv', index=False)\n",
    "X_test.to_csv('../Data_ML/test_features.csv', index=False)\n",
    "\n",
    "y_train.to_csv('../Data_ML/train_labels.csv', index=False)\n",
    "y_val.to_csv('../Data_ML/val_labels.csv', index=False)\n",
    "y_test.to_csv('../Data_ML/test_labels.csv', index=False)"
   ]
  },
  {
   "cell_type": "markdown",
   "id": "eebd1b7a",
   "metadata": {},
   "source": [
    "Cross Validation"
   ]
  },
  {
   "cell_type": "code",
   "execution_count": 9,
   "id": "d3121f40",
   "metadata": {},
   "outputs": [],
   "source": [
    "train_features = pd.read_csv('../Data_ML/train_features.csv')\n",
    "train_labels = pd.read_csv('../Data_ML/train_labels.csv')\n",
    "\n",
    "val_features = pd.read_csv('../Data_ML/val_features.csv')\n",
    "val_labels = pd.read_csv('../Data_ML/val_labels.csv')\n",
    "\n",
    "test_features = pd.read_csv('../Data_ML/test_features.csv')\n",
    "test_labels = pd.read_csv('../Data_ML/test_labels.csv')"
   ]
  },
  {
   "cell_type": "code",
   "execution_count": 10,
   "id": "e62ba515",
   "metadata": {},
   "outputs": [],
   "source": [
    "rf = RandomForestRegressor()\n",
    "\n",
    "scores = cross_val_score(rf, train_features, train_labels.values.ravel(), cv=5)"
   ]
  },
  {
   "cell_type": "code",
   "execution_count": 11,
   "id": "6dedd5a5",
   "metadata": {},
   "outputs": [
    {
     "data": {
      "text/plain": [
       "array([-3.1298972 ,  0.17676863,  0.41682584,  0.37852372,  0.37317881])"
      ]
     },
     "execution_count": 11,
     "metadata": {},
     "output_type": "execute_result"
    }
   ],
   "source": [
    "scores"
   ]
  },
  {
   "cell_type": "code",
   "execution_count": null,
   "id": "dad6dde0",
   "metadata": {},
   "outputs": [],
   "source": []
  },
  {
   "cell_type": "code",
   "execution_count": null,
   "id": "af37d70f",
   "metadata": {},
   "outputs": [],
   "source": []
  }
 ],
 "metadata": {
  "kernelspec": {
   "display_name": "Python 3 (ipykernel)",
   "language": "python",
   "name": "python3"
  },
  "language_info": {
   "codemirror_mode": {
    "name": "ipython",
    "version": 3
   },
   "file_extension": ".py",
   "mimetype": "text/x-python",
   "name": "python",
   "nbconvert_exporter": "python",
   "pygments_lexer": "ipython3",
   "version": "3.11.5"
  }
 },
 "nbformat": 4,
 "nbformat_minor": 5
}
